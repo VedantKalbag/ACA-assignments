{
 "cells": [
  {
   "cell_type": "code",
   "execution_count": 6,
   "source": [
    "import numpy as np\n",
    "import scipy \n",
    "import os\n",
    "from matplotlib import pyplot as plt "
   ],
   "outputs": [],
   "metadata": {}
  },
  {
   "cell_type": "code",
   "execution_count": 7,
   "source": [
    "#from scipy.io import wavfile\n",
    "#fs_wav, data_wav = wavfile.read(\"./data/filename.wav\")\n",
    "\n",
    "f1=441\n",
    "f2=882\n",
    "t=1\n",
    "fs=44100\n",
    "samples1=np.arange(t * 44100)\n",
    "samples2=np.arange(t * 44100)\n",
    "sig_a=np.sin(2*np.pi*f1*samples1/fs)\n",
    "sig_b=np.sin(2*np.pi*f2*samples2/fs)\n",
    "sig=np.append(sig_a,sig_b)\n",
    "samples=np.append(samples1,samples2)\n",
    "\n",
    "#plt.title(\"Matplotlib demo\") \n",
    "#plt.xlabel(\"x axis caption\") \n",
    "#plt.ylabel(\"y axis caption\") \n",
    "plt.plot(samples,sig)\n",
    "plt.show()"
   ],
   "outputs": [
    {
     "output_type": "display_data",
     "data": {
      "image/png": "[encoded data removed]",
      "text/plain": [
       "<Figure size 432x288 with 1 Axes>"
      ]
     },
     "metadata": {
      "needs_background": "light"
     }
    }
   ],
   "metadata": {}
  },
  {
   "cell_type": "code",
   "execution_count": null,
   "source": [
    "def block_audio(x,blockSize,hopSize,fs):\n",
    "    a=1\n",
    "    file_length=x.shape()\n",
    "    block_count=np.floor((file_length-blockSize)/hopSize + 1)\n",
    "    \n"
   ],
   "outputs": [],
   "metadata": {}
  },
  {
   "cell_type": "code",
   "execution_count": 11,
   "source": [
    "import pyACA\n",
    "a=pyACA.ToolBlockAudio(sig,1024,512)\n",
    "a.shape"
   ],
   "outputs": [
    {
     "output_type": "execute_result",
     "data": {
      "text/plain": [
       "(171, 1024)"
      ]
     },
     "metadata": {},
     "execution_count": 11
    }
   ],
   "metadata": {}
  },
  {
   "cell_type": "code",
   "execution_count": null,
   "source": [],
   "outputs": [],
   "metadata": {}
  }
 ],
 "metadata": {
  "orig_nbformat": 4,
  "language_info": {
   "name": "python",
   "version": "3.9.7",
   "mimetype": "text/x-python",
   "codemirror_mode": {
    "name": "ipython",
    "version": 3
   },
   "pygments_lexer": "ipython3",
   "nbconvert_exporter": "python",
   "file_extension": ".py"
  },
  "kernelspec": {
   "name": "python3",
   "display_name": "Python 3.9.7 64-bit"
  },
  "interpreter": {
   "hash": "aee8b7b246df8f9039afb4144a1f6fd8d2ca17a180786b69acc140d282b71a49"
  }
 },
 "nbformat": 4,
 "nbformat_minor": 2
}