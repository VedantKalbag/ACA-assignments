{
 "cells": [
  {
   "cell_type": "code",
   "execution_count": 2,
   "source": [
    "import numpy as np\n",
    "import scipy.signal\n",
    "import scipy.io.wavfile\n",
    "import os\n",
    "import math\n",
    "from matplotlib import pyplot as plt \n",
    "\n",
    "blockSize=1024\n",
    "hopSize=512\n",
    "fs=44100"
   ],
   "outputs": [],
   "metadata": {}
  },
  {
   "cell_type": "code",
   "execution_count": 3,
   "source": [
    "fs,x = scipy.io.wavfile.read('../assignment_1/trainData/01-D_AMairena.wav')\n",
    "x = x/max(x)\n",
    "x"
   ],
   "outputs": [
    {
     "output_type": "stream",
     "name": "stderr",
     "text": [
      "<ipython-input-3-88eef1bf7426>:1: WavFileWarning: Chunk (non-data) not understood, skipping it.\n",
      "  fs,x = scipy.io.wavfile.read('../assignment_1/trainData/01-D_AMairena.wav')\n"
     ]
    },
    {
     "output_type": "execute_result",
     "data": {
      "text/plain": [
       "array([-4.82963943e-03, -4.73040026e-03, -4.53192193e-03, ...,\n",
       "        6.61594443e-05,  3.30797221e-05,  0.00000000e+00])"
      ]
     },
     "metadata": {},
     "execution_count": 3
    }
   ],
   "metadata": {}
  },
  {
   "cell_type": "code",
   "execution_count": 4,
   "source": [
    "# BLOCK AUDIO\n",
    "def block_audio(x,blockSize,hopSize,fs):    \n",
    "    # allocate memory    \n",
    "    numBlocks = math.ceil(x.size / hopSize)    \n",
    "    xb = np.zeros([numBlocks, blockSize])    \n",
    "    # compute time stamps    \n",
    "    t = (np.arange(0, numBlocks) * hopSize) / fs   \n",
    "    x = np.concatenate((x, np.zeros(blockSize)),axis=0)    \n",
    "    for n in range(0, numBlocks):        \n",
    "        i_start = n * hopSize        \n",
    "        i_stop = np.min([x.size - 1, i_start + blockSize - 1])        \n",
    "        xb[n][np.arange(0,blockSize)] = x[np.arange(i_start, i_stop + 1)]    \n",
    "    return (xb,t)"
   ],
   "outputs": [],
   "metadata": {}
  },
  {
   "cell_type": "code",
   "execution_count": 5,
   "source": [
    "xb,t = block_audio(x, blockSize, hopSize, fs)"
   ],
   "outputs": [],
   "metadata": {}
  },
  {
   "cell_type": "code",
   "execution_count": 24,
   "source": [
    "test_aud = np.sin(2*np.pi*1000*np.arange(1 * fs)/fs)\n",
    "test_blocked,t = block_audio(test_aud,2048, 1024, fs)\n",
    "print(math.ceil(test_aud.size / 1024))"
   ],
   "outputs": [
    {
     "output_type": "stream",
     "name": "stdout",
     "text": [
      "44\n"
     ]
    }
   ],
   "metadata": {}
  },
  {
   "cell_type": "code",
   "execution_count": 86,
   "source": [
    "def calc_stft(xb,fs=44100):\n",
    "    stft = []\n",
    "    freqs=[]\n",
    "    window = np.hanning(xb[0].shape[0])\n",
    "    for block in xb:\n",
    "        # Apply Window to the block\n",
    "        windowed_block = window * block \n",
    "        # Pad zeros equal to length of the windowed block at the end\n",
    "        #windowed_block = np.append(windowed_block,np.zeros(block.shape[0]))\n",
    "        stft_blk = np.fft.fft(windowed_block)\n",
    "        #stft_blk = np.fft.rfft(windowed_block)\n",
    "        freq=np.fft.fftfreq(block.size,1/fs)\n",
    "        freqs.append(freq[:int(block.size/2)])\n",
    "        stft_blk = np.abs(stft_blk)\n",
    "        stft_block = stft_blk[int((stft_blk.shape[0])/2):]\n",
    "        #stft_db = 10*np.log10(stft_block) # IS THIS CORRECT??\n",
    "        stft.append(stft_block)\n",
    "    stft = np.array(stft)\n",
    "    freqs=np.array(freqs)\n",
    "    return stft,freqs"
   ],
   "outputs": [],
   "metadata": {}
  },
  {
   "cell_type": "code",
   "execution_count": 82,
   "source": [
    "plt.plot(calc_stft(test_blocked,44100)[0][0])"
   ],
   "outputs": [
    {
     "output_type": "execute_result",
     "data": {
      "text/plain": [
       "[<matplotlib.lines.Line2D at 0x13f73c160>]"
      ]
     },
     "metadata": {},
     "execution_count": 82
    },
    {
     "output_type": "display_data",
     "data": {
      "image/png": "[encoded data removed]",
      "text/plain": [
       "<Figure size 432x288 with 1 Axes>"
      ]
     },
     "metadata": {
      "needs_background": "light"
     }
    }
   ],
   "metadata": {}
  },
  {
   "cell_type": "code",
   "execution_count": 74,
   "source": [
    "stft,freqs = calc_stft(test_blocked,44100)\n"
   ],
   "outputs": [],
   "metadata": {}
  },
  {
   "cell_type": "code",
   "execution_count": 55,
   "source": [
    "#frequency resolution\n",
    "44100/2048"
   ],
   "outputs": [
    {
     "output_type": "execute_result",
     "data": {
      "text/plain": [
       "21.533203125"
      ]
     },
     "metadata": {},
     "execution_count": 55
    }
   ],
   "metadata": {}
  },
  {
   "cell_type": "code",
   "execution_count": 56,
   "source": [
    "978+21"
   ],
   "outputs": [
    {
     "output_type": "execute_result",
     "data": {
      "text/plain": [
       "999"
      ]
     },
     "metadata": {},
     "execution_count": 56
    }
   ],
   "metadata": {}
  },
  {
   "cell_type": "code",
   "execution_count": 77,
   "source": [
    "import plotly.express as px\n",
    "fig = px.line(calc_stft(test_blocked)[0][0])\n",
    "fig.show()"
   ],
   "outputs": [
    {
     "output_type": "display_data",
     "data": {
      "application/vnd.plotly.v1+json": {
       "config": {
        "plotlyServerURL": "https://plot.ly"
       },
       "data": [
        {
         "hovertemplate": "variable=0<br>index=%{x}<br>value=%{y}<extra></extra>",
         "legendgroup": "0",
         "line": {
          "color": "#636efa",
          "dash": "solid"
         },
         "mode": "lines",
         "name": "0",
         "showlegend": true,
         "type": "scattergl",
         "x": [
          0,
          1,
          2,
          3,
          4,
          5,
          6,
          7,
          8,
          9,
          10,
          11,
          12,
          13,
          14,
          15,
          16,
          17,
          18,
          19,
          20,
          21,
          22,
          23,
          24,
          25,
          26,
          27,
          28,
          29,
          30,
          31,
          32,
          33,
          34,
          35,
          36,
          37,
          38,
          39,
          40,
          41,
          42,
          43,
          44,
          45,
          46,
          47,
          48,
          49,
          50,
          51,
          52,
          53,
          54,
          55,
          56,
          57,
          58,
          59,
          60,
          61,
          62,
          63,
          64,
          65,
          66,
          67,
          68,
          69,
          70,
          71,
          72,
          73,
          74,
          75,
          76,
          77,
          78,
          79,
          80,
          81,
          82,
          83,
          84,
          85,
          86,
          87,
          88,
          89,
          90,
          91,
          92,
          93,
          94,
          95,
          96,
          97,
          98,
          99,
          100,
          101,
          102,
          103,
          104,
          105,
          106,
          107,
          108,
          109,
          110,
          111,
          112,
          113,
          114,
          115,
          116,
          117,
          118,
          119,
          120,
          121,
          122,
          123,
          124,
          125,
          126,
          127,
          128,
          129,
          130,
          131,
          132,
          133,
          134,
          135,
          136,
          137,
          138,
          139,
          140,
          141,
          142,
          143,
          144,
          145,
          146,
          147,
          148,
          149,
          150,
          151,
          152,
          153,
          154,
          155,
          156,
          157,
          158,
          159,
          160,
          161,
          162,
          163,
          164,
          165,
          166,
          167,
          168,
          169,
          170,
          171,
          172,
          173,
          174,
          175,
          176,
          177,
          178,
          179,
          180,
          181,
          182,
          183,
          184,
          185,
          186,
          187,
          188,
          189,
          190,
          191,
          192,
          193,
          194,
          195,
          196,
          197,
          198,
          199,
          200,
          201,
          202,
          203,
          204,
          205,
          206,
          207,
          208,
          209,
          210,
          211,
          212,
          213,
          214,
          215,
          216,
          217,
          218,
          219,
          220,
          221,
          222,
          223,
          224,
          225,
          226,
          227,
          228,
          229,
          230,
          231,
          232,
          233,
          234,
          235,
          236,
          237,
          238,
          239,
          240,
          241,
          242,
          243,
          244,
          245,
          246,
          247,
          248,
          249,
          250,
          251,
          252,
          253,
          254,
          255,
          256,
          257,
          258,
          259,
          260,
          261,
          262,
          263,
          264,
          265,
          266,
          267,
          268,
          269,
          270,
          271,
          272,
          273,
          274,
          275,
          276,
          277,
          278,
          279,
          280,
          281,
          282,
          283,
          284,
          285,
          286,
          287,
          288,
          289,
          290,
          291,
          292,
          293,
          294,
          295,
          296,
          297,
          298,
          299,
          300,
          301,
          302,
          303,
          304,
          305,
          306,
          307,
          308,
          309,
          310,
          311,
          312,
          313,
          314,
          315,
          316,
          317,
          318,
          319,
          320,
          321,
          322,
          323,
          324,
          325,
          326,
          327,
          328,
          329,
          330,
          331,
          332,
          333,
          334,
          335,
          336,
          337,
          338,
          339,
          340,
          341,
          342,
          343,
          344,
          345,
          346,
          347,
          348,
          349,
          350,
          351,
          352,
          353,
          354,
          355,
          356,
          357,
          358,
          359,
          360,
          361,
          362,
          363,
          364,
          365,
          366,
          367,
          368,
          369,
          370,
          371,
          372,
          373,
          374,
          375,
          376,
          377,
          378,
          379,
          380,
          381,
          382,
          383,
          384,
          385,
          386,
          387,
          388,
          389,
          390,
          391,
          392,
          393,
          394,
          395,
          396,
          397,
          398,
          399,
          400,
          401,
          402,
          403,
          404,
          405,
          406,
          407,
          408,
          409,
          410,
          411,
          412,
          413,
          414,
          415,
          416,
          417,
          418,
          419,
          420,
          421,
          422,
          423,
          424,
          425,
          426,
          427,
          428,
          429,
          430,
          431,
          432,
          433,
          434,
          435,
          436,
          437,
          438,
          439,
          440,
          441,
          442,
          443,
          444,
          445,
          446,
          447,
          448,
          449,
          450,
          451,
          452,
          453,
          454,
          455,
          456,
          457,
          458,
          459,
          460,
          461,
          462,
          463,
          464,
          465,
          466,
          467,
          468,
          469,
          470,
          471,
          472,
          473,
          474,
          475,
          476,
          477,
          478,
          479,
          480,
          481,
          482,
          483,
          484,
          485,
          486,
          487,
          488,
          489,
          490,
          491,
          492,
          493,
          494,
          495,
          496,
          497,
          498,
          499,
          500,
          501,
          502,
          503,
          504,
          505,
          506,
          507,
          508,
          509,
          510,
          511,
          512,
          513,
          514,
          515,
          516,
          517,
          518,
          519,
          520,
          521,
          522,
          523,
          524,
          525,
          526,
          527,
          528,
          529,
          530,
          531,
          532,
          533,
          534,
          535,
          536,
          537,
          538,
          539,
          540,
          541,
          542,
          543,
          544,
          545,
          546,
          547,
          548,
          549,
          550,
          551,
          552,
          553,
          554,
          555,
          556,
          557,
          558,
          559,
          560,
          561,
          562,
          563,
          564,
          565,
          566,
          567,
          568,
          569,
          570,
          571,
          572,
          573,
          574,
          575,
          576,
          577,
          578,
          579,
          580,
          581,
          582,
          583,
          584,
          585,
          586,
          587,
          588,
          589,
          590,
          591,
          592,
          593,
          594,
          595,
          596,
          597,
          598,
          599,
          600,
          601,
          602,
          603,
          604,
          605,
          606,
          607,
          608,
          609,
          610,
          611,
          612,
          613,
          614,
          615,
          616,
          617,
          618,
          619,
          620,
          621,
          622,
          623,
          624,
          625,
          626,
          627,
          628,
          629,
          630,
          631,
          632,
          633,
          634,
          635,
          636,
          637,
          638,
          639,
          640,
          641,
          642,
          643,
          644,
          645,
          646,
          647,
          648,
          649,
          650,
          651,
          652,
          653,
          654,
          655,
          656,
          657,
          658,
          659,
          660,
          661,
          662,
          663,
          664,
          665,
          666,
          667,
          668,
          669,
          670,
          671,
          672,
          673,
          674,
          675,
          676,
          677,
          678,
          679,
          680,
          681,
          682,
          683,
          684,
          685,
          686,
          687,
          688,
          689,
          690,
          691,
          692,
          693,
          694,
          695,
          696,
          697,
          698,
          699,
          700,
          701,
          702,
          703,
          704,
          705,
          706,
          707,
          708,
          709,
          710,
          711,
          712,
          713,
          714,
          715,
          716,
          717,
          718,
          719,
          720,
          721,
          722,
          723,
          724,
          725,
          726,
          727,
          728,
          729,
          730,
          731,
          732,
          733,
          734,
          735,
          736,
          737,
          738,
          739,
          740,
          741,
          742,
          743,
          744,
          745,
          746,
          747,
          748,
          749,
          750,
          751,
          752,
          753,
          754,
          755,
          756,
          757,
          758,
          759,
          760,
          761,
          762,
          763,
          764,
          765,
          766,
          767,
          768,
          769,
          770,
          771,
          772,
          773,
          774,
          775,
          776,
          777,
          778,
          779,
          780,
          781,
          782,
          783,
          784,
          785,
          786,
          787,
          788,
          789,
          790,
          791,
          792,
          793,
          794,
          795,
          796,
          797,
          798,
          799,
          800,
          801,
          802,
          803,
          804,
          805,
          806,
          807,
          808,
          809,
          810,
          811,
          812,
          813,
          814,
          815,
          816,
          817,
          818,
          819,
          820,
          821,
          822,
          823,
          824,
          825,
          826,
          827,
          828,
          829,
          830,
          831,
          832,
          833,
          834,
          835,
          836,
          837,
          838,
          839,
          840,
          841,
          842,
          843,
          844,
          845,
          846,
          847,
          848,
          849,
          850,
          851,
          852,
          853,
          854,
          855,
          856,
          857,
          858,
          859,
          860,
          861,
          862,
          863,
          864,
          865,
          866,
          867,
          868,
          869,
          870,
          871,
          872,
          873,
          874,
          875,
          876,
          877,
          878,
          879,
          880,
          881,
          882,
          883,
          884,
          885,
          886,
          887,
          888,
          889,
          890,
          891,
          892,
          893,
          894,
          895,
          896,
          897,
          898,
          899,
          900,
          901,
          902,
          903,
          904,
          905,
          906,
          907,
          908,
          909,
          910,
          911,
          912,
          913,
          914,
          915,
          916,
          917,
          918,
          919,
          920,
          921,
          922,
          923,
          924,
          925,
          926,
          927,
          928,
          929,
          930,
          931,
          932,
          933,
          934,
          935,
          936,
          937,
          938,
          939,
          940,
          941,
          942,
          943,
          944,
          945,
          946,
          947,
          948,
          949,
          950,
          951,
          952,
          953,
          954,
          955,
          956,
          957,
          958,
          959,
          960,
          961,
          962,
          963,
          964,
          965,
          966,
          967,
          968,
          969,
          970,
          971,
          972,
          973,
          974,
          975,
          976,
          977,
          978,
          979,
          980,
          981,
          982,
          983,
          984,
          985,
          986,
          987,
          988,
          989,
          990,
          991,
          992,
          993,
          994,
          995,
          996,
          997,
          998,
          999,
          1000,
          1001,
          1002,
          1003,
          1004,
          1005,
          1006,
          1007,
          1008,
          1009,
          1010,
          1011,
          1012,
          1013,
          1014,
          1015,
          1016,
          1017,
          1018,
          1019,
          1020,
          1021,
          1022,
          1023
         ],
         "xaxis": "x",
         "y": [
          5.583262151220847e-9,
          5.614061178128744e-9,
          5.704901168356421e-9,
          5.853610363525389e-9,
          6.05575688897742e-9,
          6.305948435704256e-9,
          6.599034683040556e-9,
          6.929601915545894e-9,
          7.292289406949076e-9,
          7.68287995936849e-9,
          8.097449981232108e-9,
          8.532022085203253e-9,
          8.98435984624332e-9,
          9.45165869865324e-9,
          9.931640789779645e-9,
          1.0423288028545221e-8,
          1.0924113301228236e-8,
          1.143386908454712e-8,
          1.1951061273928507e-8,
          1.2474428756225606e-8,
          1.3003658350400378e-8,
          1.3538663760093525e-8,
          1.407796192291016e-8,
          1.4621336927935273e-8,
          1.5168775527470894e-8,
          1.5719516724321056e-8,
          1.6273315683229e-8,
          1.683030655501172e-8,
          1.7389757202762748e-8,
          1.7951638402133992e-8,
          1.8516161591481354e-8,
          1.9082290897766033e-8,
          1.965103836274758e-8,
          2.0221451762121598e-8,
          2.079339884603932e-8,
          2.1367492439558484e-8,
          2.1943711773916125e-8,
          2.2520088069650372e-8,
          2.3098278209282405e-8,
          2.3679199486786057e-8,
          2.4260959147618104e-8,
          2.4843476619727516e-8,
          2.5427757744974874e-8,
          2.601360980266192e-8,
          2.66001220834042e-8,
          2.7188354411995448e-8,
          2.777778039407651e-8,
          2.836822727575706e-8,
          2.8959911350565662e-8,
          2.9553204446307767e-8,
          3.0146968552711645e-8,
          3.0742178355850256e-8,
          3.13391345304138e-8,
          3.1936492223951e-8,
          3.2534597656135756e-8,
          3.3135206608713635e-8,
          3.373695083666157e-8,
          3.4338249642692e-8,
          3.4941422909036875e-8,
          3.554653101018125e-8,
          3.6152044396604264e-8,
          3.675871812563458e-8,
          3.7367021395839655e-8,
          3.7976062841022436e-8,
          3.858643320292613e-8,
          3.919811597093761e-8,
          3.9810790404492945e-8,
          4.042471611645518e-8,
          4.104008382829185e-8,
          4.165617209947149e-8,
          4.2274133140019514e-8,
          4.289298063166423e-8,
          4.3512690816881494e-8,
          4.41345101959811e-8,
          4.475734820307347e-8,
          4.5380909812624333e-8,
          4.600620796606338e-8,
          4.663298188066282e-8,
          4.7260686825244277e-8,
          4.7890001390058227e-8,
          4.8520609807762415e-8,
          4.915251730603476e-8,
          4.9785821855345324e-8,
          5.0420652054652346e-8,
          5.105655279267659e-8,
          5.1694221808383946e-8,
          5.2333217291990034e-8,
          5.297354921791552e-8,
          5.3615436893060473e-8,
          5.4258976576952444e-8,
          5.490345063710154e-8,
          5.555014451612536e-8,
          5.619812319647973e-8,
          5.6847319667937305e-8,
          5.749836043747089e-8,
          5.815093100831799e-8,
          5.880511014839764e-8,
          5.9460825566736423e-8,
          6.01182204803337e-8,
          6.077719132927516e-8,
          6.143796760669252e-8,
          6.210027556222364e-8,
          6.276425469574157e-8,
          6.343009764405557e-8,
          6.409751055697826e-8,
          6.47666647839558e-8,
          6.543779308552899e-8,
          6.611044403637354e-8,
          6.678493130482873e-8,
          6.746138784984152e-8,
          6.813963914797257e-8,
          6.881961574760475e-8,
          6.950142538254877e-8,
          7.01853969705102e-8,
          7.087101219608077e-8,
          7.155865726030078e-8,
          7.224826461624489e-8,
          7.293976369868491e-8,
          7.363332660048441e-8,
          7.432885823063453e-8,
          7.502638588765305e-8,
          7.572594801694861e-8,
          7.642767095572669e-8,
          7.713135095455421e-8,
          7.783713317209026e-8,
          7.854525336926319e-8,
          7.925513953490527e-8,
          7.996751446300481e-8,
          8.068198750248043e-8,
          8.139858848550012e-8,
          8.211736802179713e-8,
          8.28385421012999e-8,
          8.356190620727039e-8,
          8.428752694378695e-8,
          8.501558500860276e-8,
          8.574582141402197e-8,
          8.647847444546461e-8,
          8.721338827976706e-8,
          8.795095492140449e-8,
          8.869065100869513e-8,
          8.943295438691746e-8,
          9.017759197637062e-8,
          9.092503068291021e-8,
          9.167459629057107e-8,
          9.242665413740993e-8,
          9.31816259167303e-8,
          9.39390332882846e-8,
          9.469886749932793e-8,
          9.54613903683725e-8,
          9.622673874877952e-8,
          9.699443709566656e-8,
          9.776515481661011e-8,
          9.853836959138222e-8,
          9.931434270904159e-8,
          1.0009311526860136e-7,
          1.0087473228617388e-7,
          1.0165900377286335e-7,
          1.0244622662031604e-7,
          1.0323629646138202e-7,
          1.0402924638589542e-7,
          1.0482504774972845e-7,
          1.0562380812258883e-7,
          1.0642551358816034e-7,
          1.0723023867274355e-7,
          1.080380663884762e-7,
          1.0884867434784232e-7,
          1.0966254607757881e-7,
          1.1047939532245465e-7,
          1.1129947927031881e-7,
          1.1212255104193038e-7,
          1.1294886853453353e-7,
          1.1377839677035779e-7,
          1.146110156285994e-7,
          1.1544742893322785e-7,
          1.1628593352838164e-7,
          1.1712896370051318e-7,
          1.1797472118832394e-7,
          1.1882385912306447e-7,
          1.196765789017003e-7,
          1.205324673270204e-7,
          1.2139203635781555e-7,
          1.2225479722846743e-7,
          1.2312138634569623e-7,
          1.2399121099128555e-7,
          1.2486473480417646e-7,
          1.2574188516036747e-7,
          1.26622411951495e-7,
          1.2750690839325073e-7,
          1.2839484246740982e-7,
          1.29286548561998e-7,
          1.301819628266693e-7,
          1.3108123219027187e-7,
          1.3198417139163504e-7,
          1.3289103158329397e-7,
          1.338017130233027e-7,
          1.3471631626566575e-7,
          1.3563467271443106e-7,
          1.365572557858427e-7,
          1.3748356588980247e-7,
          1.3841405948041743e-7,
          1.3934859629207705e-7,
          1.4028702754233916e-7,
          1.412297730872453e-7,
          1.4217660061790074e-7,
          1.4312760461559877e-7,
          1.4408277656366362e-7,
          1.4504228118897633e-7,
          1.4600594832114488e-7,
          1.4697410194176013e-7,
          1.4794649690652875e-7,
          1.489232092702516e-7,
          1.4990442728538507e-7,
          1.5089020288033817e-7,
          1.518802276836405e-7,
          1.528749778009397e-7,
          1.5387418538596001e-7,
          1.5487808843010503e-7,
          1.5588646107455282e-7,
          1.5689976250889977e-7,
          1.5791750822425363e-7,
          1.589400869727751e-7,
          1.5996759643720544e-7,
          1.6099974790405797e-7,
          1.6203684084601207e-7,
          1.630787162068225e-7,
          1.6412583373435655e-7,
          1.651775468965168e-7,
          1.6623457106957233e-7,
          1.6729648011356455e-7,
          1.6836360352142247e-7,
          1.6943561857076415e-7,
          1.705131643291824e-7,
          1.7159574914106589e-7,
          1.7268357917260794e-7,
          1.7377670622485027e-7,
          1.74875294044537e-7,
          1.759791453113199e-7,
          1.7708844046754372e-7,
          1.7820326202428313e-7,
          1.7932343441677992e-7,
          1.8044951295923486e-7,
          1.815808595686589e-7,
          1.827180019586128e-7,
          1.8386071993714835e-7,
          1.850094516391158e-7,
          1.861636839841404e-7,
          1.873237741561876e-7,
          1.884897162057436e-7,
          1.896619504948686e-7,
          1.9083947861003042e-7,
          1.9202373925480882e-7,
          1.9321355125696895e-7,
          1.9440978133922812e-7,
          1.9561186074050795e-7,
          1.9682037407109112e-7,
          1.9803519229092397e-7,
          1.992559041136243e-7,
          2.004837412191758e-7,
          2.0171679483835623e-7,
          2.0295837784811305e-7,
          2.0420344753893922e-7,
          2.0545782390942244e-7,
          2.0671738889664037e-7,
          2.0798417143348256e-7,
          2.092572464752721e-7,
          2.1053716958260547e-7,
          2.1182458456832708e-7,
          2.1311773607465416e-7,
          2.1441864667904193e-7,
          2.157264389026029e-7,
          2.1704096024354358e-7,
          2.183628707917769e-7,
          2.1969193865250529e-7,
          2.2102789305857322e-7,
          2.2237140702668783e-7,
          2.2372236518430944e-7,
          2.2508012822461028e-7,
          2.26446094442298e-7,
          2.2781896132230787e-7,
          2.2919983617085748e-7,
          2.305879375100709e-7,
          2.319839394889795e-7,
          2.3338768229237183e-7,
          2.3479914664571017e-7,
          2.3621863189813205e-7,
          2.3764591293399674e-7,
          2.3908117566497255e-7,
          2.405246892931612e-7,
          2.419760931534649e-7,
          2.434356865368476e-7,
          2.449037846850611e-7,
          2.4638006664114204e-7,
          2.4786462680416376e-7,
          2.493577613480944e-7,
          2.508595611812203e-7,
          2.523694464811933e-7,
          2.538887003346587e-7,
          2.554161707499771e-7,
          2.56952564635416e-7,
          2.584979847341209e-7,
          2.600521293262108e-7,
          2.616154144255239e-7,
          2.631879073454549e-7,
          2.6476925402965637e-7,
          2.663600638614502e-7,
          2.679602546381604e-7,
          2.695695205318002e-7,
          2.7118856742293353e-7,
          2.728171520661082e-7,
          2.7445515658394154e-7,
          2.761029712458514e-7,
          2.77760768338893e-7,
          2.794278134803263e-7,
          2.8110551084212055e-7,
          2.827926687345239e-7,
          2.844902908425315e-7,
          2.86197938583959e-7,
          2.879158021088739e-7,
          2.8964436409751953e-7,
          2.9138299701155816e-7,
          2.9313234809673833e-7,
          2.948921853479526e-7,
          2.9666290703067876e-7,
          2.9844402962641037e-7,
          3.0023644539250995e-7,
          3.0203966555819807e-7,
          3.038538333381529e-7,
          3.056794540022372e-7,
          3.0751610922272807e-7,
          3.0936402349298963e-7,
          3.11223646895639e-7,
          3.130943552584235e-7,
          3.149771112812953e-7,
          3.1687134548394445e-7,
          3.1877749040172375e-7,
          3.2069561179843705e-7,
          3.226255759691025e-7,
          3.245677942187704e-7,
          3.2652226387494855e-7,
          3.28488948123708e-7,
          3.304678793329623e-7,
          3.324599194193835e-7,
          3.3446383027915455e-7,
          3.3648105306495315e-7,
          3.385110823634286e-7,
          3.4055377703979896e-7,
          3.426096944736835e-7,
          3.4467906338513326e-7,
          3.4676097265446725e-7,
          3.4885717772137677e-7,
          3.509662487382222e-7,
          3.530889076177527e-7,
          3.552266357811e-7,
          3.5737628400620145e-7,
          3.5954084474133673e-7,
          3.617199706119357e-7,
          3.6391258897951896e-7,
          3.6611993686310845e-7,
          3.6834155027276477e-7,
          3.7057780279647773e-7,
          3.728289920643394e-7,
          3.7509463976907664e-7,
          3.7737578882453303e-7,
          3.7967140463833543e-7,
          3.8198292997239183e-7,
          3.843095680163516e-7,
          3.866511152872475e-7,
          3.8900938472557674e-7,
          3.913827914220115e-7,
          3.93772018463895e-7,
          3.961776055607711e-7,
          3.985992013310468e-7,
          4.010374441573004e-7,
          4.034917726068534e-7,
          4.0596279763350875e-7,
          4.084507953758179e-7,
          4.1095564456425465e-7,
          4.134773936695493e-7,
          4.160166534379443e-7,
          4.1857298710225017e-7,
          4.2114705161629935e-7,
          4.2373885667031836e-7,
          4.263481474908653e-7,
          4.289758092028936e-7,
          4.3162151203257856e-7,
          4.3428542003727206e-7,
          4.369679792386067e-7,
          4.3966927207607973e-7,
          4.42388911226721e-7,
          4.451280817690117e-7,
          4.478862984841672e-7,
          4.5066348933873027e-7,
          4.53460633538422e-7,
          4.562772146935795e-7,
          4.5911368717099824e-7,
          4.619703821213376e-7,
          4.648469908131734e-7,
          4.6774418673001023e-7,
          4.7066204272210755e-7,
          4.736005831643426e-7,
          4.765599695375262e-7,
          4.795408201858523e-7,
          4.825428739192064e-7,
          4.855664173072156e-7,
          4.886119999123183e-7,
          4.916790635178035e-7,
          4.947687387954935e-7,
          4.978803801325285e-7,
          5.010149007018894e-7,
          5.041720469259173e-7,
          5.073521714097489e-7,
          5.105555680681339e-7,
          5.137824439149797e-7,
          5.170329073450046e-7,
          5.203071416709398e-7,
          5.23605628249068e-7,
          5.269281851826128e-7,
          5.302755643987704e-7,
          5.336474546717745e-7,
          5.370444554881828e-7,
          5.404667763166745e-7,
          5.439145525730578e-7,
          5.473878519453149e-7,
          5.508874863816196e-7,
          5.544128555701655e-7,
          5.579651399961102e-7,
          5.615438389851039e-7,
          5.651495741150828e-7,
          5.687826692963736e-7,
          5.724430656011588e-7,
          5.761313604370113e-7,
          5.798476418455249e-7,
          5.835921416272933e-7,
          5.873651806780706e-7,
          5.911673092968571e-7,
          5.949982529324041e-7,
          5.988587455814702e-7,
          6.027489245697695e-7,
          6.066690848160036e-7,
          6.106193648056259e-7,
          6.146006804267232e-7,
          6.186120759786718e-7,
          6.226555098011243e-7,
          6.267296786721476e-7,
          6.308361650914575e-7,
          6.349745285631465e-7,
          6.391451363836437e-7,
          6.433488840884127e-7,
          6.475853553065405e-7,
          6.518554384240664e-7,
          6.561590519844237e-7,
          6.604970223213092e-7,
          6.648688851660095e-7,
          6.692761511627685e-7,
          6.737179967447995e-7,
          6.781954045587229e-7,
          6.827087969601185e-7,
          6.872582646248047e-7,
          6.918443023149048e-7,
          6.964667380330695e-7,
          7.011275675677428e-7,
          7.058248336417316e-7,
          7.10561046042956e-7,
          7.153350224002567e-7,
          7.201483457657602e-7,
          7.250006142262433e-7,
          7.298924933594019e-7,
          7.348245553129713e-7,
          7.397968449208478e-7,
          7.448102558327389e-7,
          7.49864698175297e-7,
          7.5496105908483e-7,
          7.60099359644289e-7,
          7.652803740209218e-7,
          7.705045021886907e-7,
          7.757718539477515e-7,
          7.810832967291136e-7,
          7.864391429289301e-7,
          7.918397072019549e-7,
          7.972858920246134e-7,
          8.027775078209897e-7,
          8.083156834308513e-7,
          8.139005430864113e-7,
          8.195327275746965e-7,
          8.25212577487479e-7,
          8.309409286058542e-7,
          8.367178551111037e-7,
          8.425441854581192e-7,
          8.484205584192297e-7,
          8.543471077558719e-7,
          8.603245683111145e-7,
          8.663536326002344e-7,
          8.724348115447654e-7,
          8.785683888232786e-7,
          8.847552571053749e-7,
          8.90995907963174e-7,
          8.972908821681272e-7,
          9.036406391687398e-7,
          9.100461957349469e-7,
          9.165076363037357e-7,
          9.23025994418046e-7,
          9.296017692870647e-7,
          9.362354094445737e-7,
          9.429278538835547e-7,
          9.496795529373624e-7,
          9.564911943762346e-7,
          9.633635179766587e-7,
          9.702971436184388e-7,
          9.77292716354064e-7,
          9.843510355044136e-7,
          9.914728334614877e-7,
          9.98658510998339e-7,
          0.0000010059093019412373,
          0.0000010132254250544878,
          0.0000010206078884773133,
          0.0000010280576583694617,
          0.0000010355748632899195,
          0.000001043160948787784,
          0.0000010508162811892797,
          0.0000010585418773805182,
          0.0000010663383489827196,
          0.000001074206689617054,
          0.0000010821476280798538,
          0.0000010901619380320225,
          0.0000010982507770951923,
          0.0000011064145921909963,
          0.0000011146544177753528,
          0.0000011229712611546832,
          0.0000011313660531805534,
          0.000001139839398889915,
          0.0000011483924231642317,
          0.0000011570261093871454,
          0.000001165741330282717,
          0.0000011745390199109595,
          0.0000011834202664911074,
          0.000001192385863989887,
          0.0000012014371329721379,
          0.0000012105748082729388,
          0.0000012197997765455284,
          0.0000012291137588011288,
          0.0000012385171344251171,
          0.0000012480111016949423,
          0.0000012575972977145732,
          0.0000012672758789681744,
          0.0000012770491164004275,
          0.0000012869168522011617,
          0.0000012968815882512566,
          0.0000013069433650848932,
          0.0000013171041253693312,
          0.000001327364662934697,
          0.0000013377264451286052,
          0.0000013481906096353562,
          0.0000013587583031653384,
          0.0000013694310920191382,
          0.0000013802100238692351,
          0.0000013910966238540096,
          0.0000014020918949139275,
          0.000001413197722466402,
          0.000001424414923632379,
          0.0000014357453259481681,
          0.0000014471900849890411,
          0.0000014587509256912378,
          0.0000014704288222409217,
          0.0000014822258926434806,
          0.0000014941430810955092,
          0.0000015061823369232186,
          0.0000015183448968940898,
          0.00000153063253331536,
          0.0000015430469642635462,
          0.0000015555893462517743,
          0.0000015682618308229254,
          0.0000015810658466924697,
          0.0000015940032709359199,
          0.00000160707538224247,
          0.000001620284764051942,
          0.000001633632564706297,
          0.0000016471202726923422,
          0.0000016607504987604196,
          0.000001674525196352431,
          0.0000016884454420625541,
          0.0000017025135026837528,
          0.0000017167317706086887,
          0.0000017311018737047447,
          0.0000017456255015186513,
          0.0000017603054349710194,
          0.0000017751432296748406,
          0.0000017901411375409987,
          0.0000018053015323038444,
          0.0000018206261381680636,
          0.0000018361175639546366,
          0.000001851778086809243,
          0.0000018676096907923745,
          0.0000018836149150399182,
          0.0000018997961890059458,
          0.000001916155801960182,
          0.000001932696226563062,
          0.0000019494199378263346,
          0.0000019663296655367432,
          0.000001983427489298827,
          0.0000020007166053589172,
          0.000002018199273278474,
          0.0000020358785581345035,
          0.000002053756618260885,
          0.000002071836894664567,
          0.000002090121883377892,
          0.000002108614464930249,
          0.0000021273176943116505,
          0.00000214623440270271,
          0.0000021653679353868877,
          0.0000021847209585337117,
          0.0000022042969543324807,
          0.00000222409892090696,
          0.000002244130302741782,
          0.000002264393990692839,
          0.0000022848940463136293,
          0.000002305633185190403,
          0.000002326615206755047,
          0.00000234784355593551,
          0.0000023693222605369373,
          0.0000023910541193204444,
          0.0000024130436060669736,
          0.000002435294328245574,
          0.00000245780996963159,
          0.00000248059469726654,
          0.0000025036522030346,
          0.00000252698676673268,
          0.0000025506027152259532,
          0.000002574503858069834,
          0.000002598694603728949,
          0.00000262317951660827,
          0.0000026479629425780622,
          0.000002673049205250954,
          0.000002698443195688604,
          0.000002724149598897722,
          0.0000027501727789557196,
          0.000002776518208436202,
          0.000002803190443106377,
          0.0000028301946035045894,
          0.000002857535746078482,
          0.0000028852194044198107,
          0.000002913250513506808,
          0.000002941634770690368,
          0.000002970377666030052,
          0.0000029994845650879996,
          0.0000030289618115272655,
          0.0000030588145824644633,
          0.0000030890490887418236,
          0.0000031196716472227346,
          0.0000031506880633323454,
          0.000003182104746272442,
          0.0000032139283810644077,
          0.000003246165108107363,
          0.0000032788217913084668,
          0.0000033119052650886496,
          0.0000033454226065156557,
          0.000003379380272030249,
          0.000003413786330862468,
          0.000003448647351118561,
          0.0000034839712196573017,
          0.000003519765779720506,
          0.0000035560379109037045,
          0.000003592796468332666,
          0.0000036300496670452072,
          0.000003667804959849198,
          0.0000037060707441929077,
          0.00000374485656250531,
          0.0000037841703614807247,
          0.000003824021406705309,
          0.000003864419008389377,
          0.000003905371784994753,
          0.000003946889344399991,
          0.000003988982348060811,
          0.000004031659708926656,
          0.000004074931649862818,
          0.000004118808664049214,
          0.000004163301234375893,
          0.000004208419988342959,
          0.000004254175854732836,
          0.0000043005802438604605,
          0.0000043476441195884695,
          0.000004395379544067812,
          0.000004443798084385446,
          0.000004492912124603526,
          0.000004542734129530065,
          0.000004593276304175201,
          0.000004644551966971507,
          0.000004696574326556935,
          0.000004749356769826156,
          0.000004802912897310989,
          0.000004857257137598564,
          0.000004912403866285587,
          0.000004968367281707116,
          0.0000050251629720682045,
          0.000005082805954356259,
          0.000005141312187520469,
          0.00000520069738100654,
          0.000005260978083410952,
          0.00000532217120462844,
          0.000005384293577633942,
          0.0000054473627157997356,
          0.00000551139705502793,
          0.00000557641407588811,
          0.000005642433168099951,
          0.000005709473080287722,
          0.0000057775535650395806,
          0.000005846694795352275,
          0.00000591691669239553,
          0.000005988241152773047,
          0.0000060606886835902,
          0.000006134281830412725,
          0.0000062090426321306,
          0.000006284994505193536,
          0.000006362160635874771,
          0.0000064405650602876224,
          0.000006520232846971501,
          0.000006601188690779537,
          0.00000668345876248205,
          0.000006767069380246987,
          0.000006852047572828368,
          0.000006938421256643534,
          0.000007026218695397542,
          0.000007115468861755905,
          0.0000072062017211156026,
          0.000007298447858375129,
          0.000007392238385873158,
          0.000007487605211239763,
          0.0000075845818639419796,
          0.000007683200871874431,
          0.000007783497792315453,
          0.000007885507421732431,
          0.000007989266081917698,
          0.000008094810996815462,
          0.000008202180262317426,
          0.000008311412869352319,
          0.000008422548927652241,
          0.000008535629658277118,
          0.000008650696787830327,
          0.000008767794169446193,
          0.000008886965719766592,
          0.000009008256989955328,
          0.000009131714836338324,
          0.000009257387270887115,
          0.00000938532290407775,
          0.00000951557322716332,
          0.000009648189094803268,
          0.000009783224379999508,
          0.000009920733347532553,
          0.000010060772463192105,
          0.000010203399054411435,
          0.00001034867257705789,
          0.000010496653804343802,
          0.000010647404838098566,
          0.000010800990784125579,
          0.000010957476523032083,
          0.000011116930353087763,
          0.000011279422450272094,
          0.000011445024225103661,
          0.000011613808436945555,
          0.00001178585185609912,
          0.000011961232423930863,
          0.000012140029618540987,
          0.000012322326062029737,
          0.000012508207207445358,
          0.000012697759046757296,
          0.000012891072359670617,
          0.000013088239210678308,
          0.000013289354518329548,
          0.00001349451638325263,
          0.000013703825437719286,
          0.00001391738569617784,
          0.000014135303585833609,
          0.000014357689596799645,
          0.000014584657028295229,
          0.000014816322483900459,
          0.000015052806272757383,
          0.000015294232973097322,
          0.000015540729958347193,
          0.00001579242911448591,
          0.000016049466198003973,
          0.000016311981870039064,
          0.000016580119797504226,
          0.000016854029790261456,
          0.000017133865034021444,
          0.00001741978450757375,
          0.000017711952025066783,
          0.000018010535848452224,
          0.00001831571141100108,
          0.000018627657927393484,
          0.00001894656169217832,
          0.00001927261476897176,
          0.00001960601544027036,
          0.000019946968583043846,
          0.00002029568577720267,
          0.000020652386309135317,
          0.00002101729590067024,
          0.000021390648471471657,
          0.000021772685981404406,
          0.000022163658047034795,
          0.00002256382394881948,
          0.000022973450371502524,
          0.000023392814984567553,
          0.000023822203735064243,
          0.000024261913501706906,
          0.000024712251061587718,
          0.000025173534622684523,
          0.000025646093523850954,
          0.000026130268329358453,
          0.000026626413382812175,
          0.000027134894223806183,
          0.000027656090945698185,
          0.000028190396975115316,
          0.000028738220602433868,
          0.000029299985201436035,
          0.000029876129925481482,
          0.000030467110389274176,
          0.000031073399804865144,
          0.00003169548892062756,
          0.00003233388792270396,
          0.00003298912546990416,
          0.00003366175261449572,
          0.00003435233987101128,
          0.000035061481750514245,
          0.00003578979531656867,
          0.000036537922419977334,
          0.00003730653098107389,
          0.00003809631512424238,
          0.000038907997789224825,
          0.00003974233087031659,
          0.000040600097422073905,
          0.00004148211297115047,
          0.000042389226612239875,
          0.0000433223233528724,
          0.0000442823253202588,
          0.00004527019362071045,
          0.00004628693156842632,
          0.000047333583285050585,
          0.000048411241062337146,
          0.00004952104232187827,
          0.000050664176357913815,
          0.00005184188370755594,
          0.00005305546109059131,
          0.00005430626304681028,
          0.000055595705263106107,
          0.00005692526846063791,
          0.00005829650043485231,
          0.000059711021367734606,
          0.00006117052618283046,
          0.00006267678985551848,
          0.00006423167086318266,
          0.00006583711660947452,
          0.00006749516712862011,
          0.0000692079626591324,
          0.0000709777457899171,
          0.00007280687129671243,
          0.00007469780839167429,
          0.00007665315210867881,
          0.00007867562583755931,
          0.00008076809193301567,
          0.00008293356000136165,
          0.00008517519326280363,
          0.00008749632081582875,
          0.00008990044565927862,
          0.00009239125654267097,
          0.00009497263825403281,
          0.00009764868560307289,
          0.00010042371519937192,
          0.00010330227978842342,
          0.00010628918434520156,
          0.00010938950129219752,
          0.00011260858820828522,
          0.0001159521082365839,
          0.00011942604648670369,
          0.00012303673736684595,
          0.00012679088253751922,
          0.0001306955804442683,
          0.00013475835106133334,
          0.00013898716657772636,
          0.00014339048365833763,
          0.00014797727586062973,
          0.00015275707418268642,
          0.00015774000427170286,
          0.00016293683204123412,
          0.00016835901132391455,
          0.00017401873377219905,
          0.00017992898702538557,
          0.0001861036141652374,
          0.00019255737969668096,
          0.0001993060446906447,
          0.00020636644055233757,
          0.0002137565608660429,
          0.00022149564933893654,
          0.00022960430885775925,
          0.00023810460672671785,
          0.0002470202060603761,
          0.0002563764929183721,
          0.0002662007308555518,
          0.00027652222041496104,
          0.00028737248103565894,
          0.0002987854473118307,
          0.0003107976874111394,
          0.0003234486464015209,
          0.0003367809091455709,
          0.0003508404992216616,
          0.00036567720374481807,
          0.00038134493801368294,
          0.0003979021495009089,
          0.0004154122689170661,
          0.00043394420723863344,
          0.0004535729237082514,
          0.00047438004501372056,
          0.0004964545717277858,
          0.0005198936631685771,
          0.000544803524755863,
          0.0005713004022937904,
          0.0005995117072404031,
          0.0006295772862227468,
          0.0006616508579819918,
          0.0006959016450951518,
          0.0007325162261192285,
          0.0007717006473105907,
          0.0008136828316112598,
          0.0008587153345714441,
          0.0009070785039800375,
          0.0009590841144038624,
          0.0010150795464209598,
          0.0010754526273144638,
          0.0011406372210834598,
          0.001211119738762596,
          0.0012874467017360254,
          0.001370233593300421,
          0.001460175220809046,
          0.001558057898781069,
          0.0016647738199873487,
          0.001781338064156532,
          0.0019089088008814653,
          0.0020488113812480594,
          0.002202567181120894,
          0.0023719282703229096,
          0.0025589192759292822,
          0.0027658881575108197,
          0.0029955680867866864,
          0.003251153243669128,
          0.0035363921576603047,
          0.003855703271810049,
          0.004214318922240125,
          0.004618465763760314,
          0.0050755924411582136,
          0.005594658835432825,
          0.006186506311350496,
          0.006864335397930855,
          0.0076443273033996425,
          0.008546459890357563,
          0.00959558935543437,
          0.010822899092319068,
          0.012267862170412343,
          0.013980931798986154,
          0.016027278360276953,
          0.018492054453689614,
          0.02148792874859574,
          0.025166051235152996,
          0.029732314344559113,
          0.03547197258507578,
          0.04278778627758675,
          0.05226066407846112,
          0.06474892314196237,
          0.08155622776930373,
          0.10472673023299238,
          0.13758714736167055,
          0.18579536622429296,
          0.25949851346134933,
          0.3781224423703958,
          0.5820516879260264,
          0.9647983065189529,
          1.777453919000715,
          3.8595379091481283,
          11.279395095282174,
          71.71137387264432,
          416.3332931397164,
          451.04548473854135,
          103.72876328102106,
          13.251996339228201,
          4.296140181277738,
          1.9263593115466826,
          1.0287390706717823,
          0.6138130950032996,
          0.3955871450825137,
          0.2698606766381217,
          0.1923252325951346,
          0.14191405026270873,
          0.10772267759480662,
          0.08371553200160216,
          0.06636536206849435,
          0.05351590062038485,
          0.04379802828359747,
          0.03631378215805773,
          0.030457470909812157,
          0.025810414935717497,
          0.0220768902032909,
          0.01904397746475108,
          0.016555728080585117,
          0.014496148723316291,
          0.012777757048489692,
          0.011333737217618264,
          0.010112469739487396,
          0.009073656815209628,
          0.00818553822615,
          0.007422864359329612,
          0.006765402522429374,
          0.006196823901024561,
          0.005703865577984221,
          0.005275693627310075,
          0.0049034147742025485,
          0.0045796989430826746,
          0.004298485368466044,
          0.004054752265652092,
          0.003844335246460221,
          0.0036637835157799104,
          0.0035102455536993355,
          0.003381378099628937,
          0.0032752737474118394,
          0.0031904035901349384,
          0.0031255722883648915,
          0.003079883556410232,
          0.0030527146303254795
         ],
         "yaxis": "y"
        }
       ],
       "layout": {
        "legend": {
         "title": {
          "text": "variable"
         },
         "tracegroupgap": 0
        },
        "margin": {
         "t": 60
        },
        "template": {
         "data": {
          "bar": [
           {
            "error_x": {
             "color": "#2a3f5f"
            },
            "error_y": {
             "color": "#2a3f5f"
            },
            "marker": {
             "line": {
              "color": "#E5ECF6",
              "width": 0.5
             }
            },
            "type": "bar"
           }
          ],
          "barpolar": [
           {
            "marker": {
             "line": {
              "color": "#E5ECF6",
              "width": 0.5
             }
            },
            "type": "barpolar"
           }
          ],
          "carpet": [
           {
            "aaxis": {
             "endlinecolor": "#2a3f5f",
             "gridcolor": "white",
             "linecolor": "white",
             "minorgridcolor": "white",
             "startlinecolor": "#2a3f5f"
            },
            "baxis": {
             "endlinecolor": "#2a3f5f",
             "gridcolor": "white",
             "linecolor": "white",
             "minorgridcolor": "white",
             "startlinecolor": "#2a3f5f"
            },
            "type": "carpet"
           }
          ],
          "choropleth": [
           {
            "colorbar": {
             "outlinewidth": 0,
             "ticks": ""
            },
            "type": "choropleth"
           }
          ],
          "contour": [
           {
            "colorbar": {
             "outlinewidth": 0,
             "ticks": ""
            },
            "colorscale": [
             [
              0,
              "#0d0887"
             ],
             [
              0.1111111111111111,
              "#46039f"
             ],
             [
              0.2222222222222222,
              "#7201a8"
             ],
             [
              0.3333333333333333,
              "#9c179e"
             ],
             [
              0.4444444444444444,
              "#bd3786"
             ],
             [
              0.5555555555555556,
              "#d8576b"
             ],
             [
              0.6666666666666666,
              "#ed7953"
             ],
             [
              0.7777777777777778,
              "#fb9f3a"
             ],
             [
              0.8888888888888888,
              "#fdca26"
             ],
             [
              1,
              "#f0f921"
             ]
            ],
            "type": "contour"
           }
          ],
          "contourcarpet": [
           {
            "colorbar": {
             "outlinewidth": 0,
             "ticks": ""
            },
            "type": "contourcarpet"
           }
          ],
          "heatmap": [
           {
            "colorbar": {
             "outlinewidth": 0,
             "ticks": ""
            },
            "colorscale": [
             [
              0,
              "#0d0887"
             ],
             [
              0.1111111111111111,
              "#46039f"
             ],
             [
              0.2222222222222222,
              "#7201a8"
             ],
             [
              0.3333333333333333,
              "#9c179e"
             ],
             [
              0.4444444444444444,
              "#bd3786"
             ],
             [
              0.5555555555555556,
              "#d8576b"
             ],
             [
              0.6666666666666666,
              "#ed7953"
             ],
             [
              0.7777777777777778,
              "#fb9f3a"
             ],
             [
              0.8888888888888888,
              "#fdca26"
             ],
             [
              1,
              "#f0f921"
             ]
            ],
            "type": "heatmap"
           }
          ],
          "heatmapgl": [
           {
            "colorbar": {
             "outlinewidth": 0,
             "ticks": ""
            },
            "colorscale": [
             [
              0,
              "#0d0887"
             ],
             [
              0.1111111111111111,
              "#46039f"
             ],
             [
              0.2222222222222222,
              "#7201a8"
             ],
             [
              0.3333333333333333,
              "#9c179e"
             ],
             [
              0.4444444444444444,
              "#bd3786"
             ],
             [
              0.5555555555555556,
              "#d8576b"
             ],
             [
              0.6666666666666666,
              "#ed7953"
             ],
             [
              0.7777777777777778,
              "#fb9f3a"
             ],
             [
              0.8888888888888888,
              "#fdca26"
             ],
             [
              1,
              "#f0f921"
             ]
            ],
            "type": "heatmapgl"
           }
          ],
          "histogram": [
           {
            "marker": {
             "colorbar": {
              "outlinewidth": 0,
              "ticks": ""
             }
            },
            "type": "histogram"
           }
          ],
          "histogram2d": [
           {
            "colorbar": {
             "outlinewidth": 0,
             "ticks": ""
            },
            "colorscale": [
             [
              0,
              "#0d0887"
             ],
             [
              0.1111111111111111,
              "#46039f"
             ],
             [
              0.2222222222222222,
              "#7201a8"
             ],
             [
              0.3333333333333333,
              "#9c179e"
             ],
             [
              0.4444444444444444,
              "#bd3786"
             ],
             [
              0.5555555555555556,
              "#d8576b"
             ],
             [
              0.6666666666666666,
              "#ed7953"
             ],
             [
              0.7777777777777778,
              "#fb9f3a"
             ],
             [
              0.8888888888888888,
              "#fdca26"
             ],
             [
              1,
              "#f0f921"
             ]
            ],
            "type": "histogram2d"
           }
          ],
          "histogram2dcontour": [
           {
            "colorbar": {
             "outlinewidth": 0,
             "ticks": ""
            },
            "colorscale": [
             [
              0,
              "#0d0887"
             ],
             [
              0.1111111111111111,
              "#46039f"
             ],
             [
              0.2222222222222222,
              "#7201a8"
             ],
             [
              0.3333333333333333,
              "#9c179e"
             ],
             [
              0.4444444444444444,
              "#bd3786"
             ],
             [
              0.5555555555555556,
              "#d8576b"
             ],
             [
              0.6666666666666666,
              "#ed7953"
             ],
             [
              0.7777777777777778,
              "#fb9f3a"
             ],
             [
              0.8888888888888888,
              "#fdca26"
             ],
             [
              1,
              "#f0f921"
             ]
            ],
            "type": "histogram2dcontour"
           }
          ],
          "mesh3d": [
           {
            "colorbar": {
             "outlinewidth": 0,
             "ticks": ""
            },
            "type": "mesh3d"
           }
          ],
          "parcoords": [
           {
            "line": {
             "colorbar": {
              "outlinewidth": 0,
              "ticks": ""
             }
            },
            "type": "parcoords"
           }
          ],
          "pie": [
           {
            "automargin": true,
            "type": "pie"
           }
          ],
          "scatter": [
           {
            "marker": {
             "colorbar": {
              "outlinewidth": 0,
              "ticks": ""
             }
            },
            "type": "scatter"
           }
          ],
          "scatter3d": [
           {
            "line": {
             "colorbar": {
              "outlinewidth": 0,
              "ticks": ""
             }
            },
            "marker": {
             "colorbar": {
              "outlinewidth": 0,
              "ticks": ""
             }
            },
            "type": "scatter3d"
           }
          ],
          "scattercarpet": [
           {
            "marker": {
             "colorbar": {
              "outlinewidth": 0,
              "ticks": ""
             }
            },
            "type": "scattercarpet"
           }
          ],
          "scattergeo": [
           {
            "marker": {
             "colorbar": {
              "outlinewidth": 0,
              "ticks": ""
             }
            },
            "type": "scattergeo"
           }
          ],
          "scattergl": [
           {
            "marker": {
             "colorbar": {
              "outlinewidth": 0,
              "ticks": ""
             }
            },
            "type": "scattergl"
           }
          ],
          "scattermapbox": [
           {
            "marker": {
             "colorbar": {
              "outlinewidth": 0,
              "ticks": ""
             }
            },
            "type": "scattermapbox"
           }
          ],
          "scatterpolar": [
           {
            "marker": {
             "colorbar": {
              "outlinewidth": 0,
              "ticks": ""
             }
            },
            "type": "scatterpolar"
           }
          ],
          "scatterpolargl": [
           {
            "marker": {
             "colorbar": {
              "outlinewidth": 0,
              "ticks": ""
             }
            },
            "type": "scatterpolargl"
           }
          ],
          "scatterternary": [
           {
            "marker": {
             "colorbar": {
              "outlinewidth": 0,
              "ticks": ""
             }
            },
            "type": "scatterternary"
           }
          ],
          "surface": [
           {
            "colorbar": {
             "outlinewidth": 0,
             "ticks": ""
            },
            "colorscale": [
             [
              0,
              "#0d0887"
             ],
             [
              0.1111111111111111,
              "#46039f"
             ],
             [
              0.2222222222222222,
              "#7201a8"
             ],
             [
              0.3333333333333333,
              "#9c179e"
             ],
             [
              0.4444444444444444,
              "#bd3786"
             ],
             [
              0.5555555555555556,
              "#d8576b"
             ],
             [
              0.6666666666666666,
              "#ed7953"
             ],
             [
              0.7777777777777778,
              "#fb9f3a"
             ],
             [
              0.8888888888888888,
              "#fdca26"
             ],
             [
              1,
              "#f0f921"
             ]
            ],
            "type": "surface"
           }
          ],
          "table": [
           {
            "cells": {
             "fill": {
              "color": "#EBF0F8"
             },
             "line": {
              "color": "white"
             }
            },
            "header": {
             "fill": {
              "color": "#C8D4E3"
             },
             "line": {
              "color": "white"
             }
            },
            "type": "table"
           }
          ]
         },
         "layout": {
          "annotationdefaults": {
           "arrowcolor": "#2a3f5f",
           "arrowhead": 0,
           "arrowwidth": 1
          },
          "autotypenumbers": "strict",
          "coloraxis": {
           "colorbar": {
            "outlinewidth": 0,
            "ticks": ""
           }
          },
          "colorscale": {
           "diverging": [
            [
             0,
             "#8e0152"
            ],
            [
             0.1,
             "#c51b7d"
            ],
            [
             0.2,
             "#de77ae"
            ],
            [
             0.3,
             "#f1b6da"
            ],
            [
             0.4,
             "#fde0ef"
            ],
            [
             0.5,
             "#f7f7f7"
            ],
            [
             0.6,
             "#e6f5d0"
            ],
            [
             0.7,
             "#b8e186"
            ],
            [
             0.8,
             "#7fbc41"
            ],
            [
             0.9,
             "#4d9221"
            ],
            [
             1,
             "#276419"
            ]
           ],
           "sequential": [
            [
             0,
             "#0d0887"
            ],
            [
             0.1111111111111111,
             "#46039f"
            ],
            [
             0.2222222222222222,
             "#7201a8"
            ],
            [
             0.3333333333333333,
             "#9c179e"
            ],
            [
             0.4444444444444444,
             "#bd3786"
            ],
            [
             0.5555555555555556,
             "#d8576b"
            ],
            [
             0.6666666666666666,
             "#ed7953"
            ],
            [
             0.7777777777777778,
             "#fb9f3a"
            ],
            [
             0.8888888888888888,
             "#fdca26"
            ],
            [
             1,
             "#f0f921"
            ]
           ],
           "sequentialminus": [
            [
             0,
             "#0d0887"
            ],
            [
             0.1111111111111111,
             "#46039f"
            ],
            [
             0.2222222222222222,
             "#7201a8"
            ],
            [
             0.3333333333333333,
             "#9c179e"
            ],
            [
             0.4444444444444444,
             "#bd3786"
            ],
            [
             0.5555555555555556,
             "#d8576b"
            ],
            [
             0.6666666666666666,
             "#ed7953"
            ],
            [
             0.7777777777777778,
             "#fb9f3a"
            ],
            [
             0.8888888888888888,
             "#fdca26"
            ],
            [
             1,
             "#f0f921"
            ]
           ]
          },
          "colorway": [
           "#636efa",
           "#EF553B",
           "#00cc96",
           "#ab63fa",
           "#FFA15A",
           "#19d3f3",
           "#FF6692",
           "#B6E880",
           "#FF97FF",
           "#FECB52"
          ],
          "font": {
           "color": "#2a3f5f"
          },
          "geo": {
           "bgcolor": "white",
           "lakecolor": "white",
           "landcolor": "#E5ECF6",
           "showlakes": true,
           "showland": true,
           "subunitcolor": "white"
          },
          "hoverlabel": {
           "align": "left"
          },
          "hovermode": "closest",
          "mapbox": {
           "style": "light"
          },
          "paper_bgcolor": "white",
          "plot_bgcolor": "#E5ECF6",
          "polar": {
           "angularaxis": {
            "gridcolor": "white",
            "linecolor": "white",
            "ticks": ""
           },
           "bgcolor": "#E5ECF6",
           "radialaxis": {
            "gridcolor": "white",
            "linecolor": "white",
            "ticks": ""
           }
          },
          "scene": {
           "xaxis": {
            "backgroundcolor": "#E5ECF6",
            "gridcolor": "white",
            "gridwidth": 2,
            "linecolor": "white",
            "showbackground": true,
            "ticks": "",
            "zerolinecolor": "white"
           },
           "yaxis": {
            "backgroundcolor": "#E5ECF6",
            "gridcolor": "white",
            "gridwidth": 2,
            "linecolor": "white",
            "showbackground": true,
            "ticks": "",
            "zerolinecolor": "white"
           },
           "zaxis": {
            "backgroundcolor": "#E5ECF6",
            "gridcolor": "white",
            "gridwidth": 2,
            "linecolor": "white",
            "showbackground": true,
            "ticks": "",
            "zerolinecolor": "white"
           }
          },
          "shapedefaults": {
           "line": {
            "color": "#2a3f5f"
           }
          },
          "ternary": {
           "aaxis": {
            "gridcolor": "white",
            "linecolor": "white",
            "ticks": ""
           },
           "baxis": {
            "gridcolor": "white",
            "linecolor": "white",
            "ticks": ""
           },
           "bgcolor": "#E5ECF6",
           "caxis": {
            "gridcolor": "white",
            "linecolor": "white",
            "ticks": ""
           }
          },
          "title": {
           "x": 0.05
          },
          "xaxis": {
           "automargin": true,
           "gridcolor": "white",
           "linecolor": "white",
           "ticks": "",
           "title": {
            "standoff": 15
           },
           "zerolinecolor": "white",
           "zerolinewidth": 2
          },
          "yaxis": {
           "automargin": true,
           "gridcolor": "white",
           "linecolor": "white",
           "ticks": "",
           "title": {
            "standoff": 15
           },
           "zerolinecolor": "white",
           "zerolinewidth": 2
          }
         }
        },
        "xaxis": {
         "anchor": "y",
         "domain": [
          0,
          1
         ],
         "title": {
          "text": "index"
         }
        },
        "yaxis": {
         "anchor": "x",
         "domain": [
          0,
          1
         ],
         "title": {
          "text": "value"
         }
        }
       }
      }
     },
     "metadata": {}
    }
   ],
   "metadata": {}
  },
  {
   "cell_type": "code",
   "execution_count": 83,
   "source": [
    "spectrogram,freqs = calc_stft(xb)"
   ],
   "outputs": [],
   "metadata": {}
  },
  {
   "cell_type": "code",
   "execution_count": 86,
   "source": [
    "plt.plot(test_aud[0:100])"
   ],
   "outputs": [
    {
     "output_type": "execute_result",
     "data": {
      "text/plain": [
       "[<matplotlib.lines.Line2D at 0x13a5d5310>]"
      ]
     },
     "metadata": {},
     "execution_count": 86
    },
    {
     "output_type": "display_data",
     "data": {
      "image/png": "[encoded data removed]",
      "text/plain": [
       "<Figure size 432x288 with 1 Axes>"
      ]
     },
     "metadata": {
      "needs_background": "light"
     }
    }
   ],
   "metadata": {}
  },
  {
   "cell_type": "markdown",
   "source": [
    "# Section A\n",
    "\n",
    "## Q1: \n",
    "### Implement functions for 5 audio features: extract_spectral_centroid(xb, fs), extract_rms(xb), extract_zerocrossingrate(xb), extract_spectral_crest(xb), extract_spectral_flux(xb). xb is a matrix of blocked audio data (dimension NumOfBlocks X blockSize, see assignment 1), fs is the sample rate. Implement each of these functions in the default formulation from the text book/slides. Note that for the spectral features, you have to apply a window function to each block. Use the hann window from a previous in-class exercise for this purpose. To avoid feature definition ambiguities:\n",
    "    1. Spectral Centroid in Hz, compute from the magnitude spectrum (not power spectrum)\n",
    "    2. RMS in dB, truncated at -100dB\n",
    "    3. all others as defined in the book"
   ],
   "metadata": {}
  },
  {
   "cell_type": "markdown",
   "source": [
    "## Spectral Centroid"
   ],
   "metadata": {}
  },
  {
   "cell_type": "code",
   "execution_count": 87,
   "source": [
    "def extract_spectral_centroid(xb, fs):\n",
    "    centroids = []\n",
    "    stft,freqs = calc_stft(xb,fs)\n",
    "    #np.sum(magnitudes*freqs) / np.sum(magnitudes)\n",
    "    for i in range(freqs.shape[0]):\n",
    "        centroid = np.sum(stft[i]*k[i]) / np.sum(stft[i])\n",
    "        centroids.append(centroid)\n",
    "    centroids=np.array(centroid)\n",
    "    return centroids"
   ],
   "outputs": [],
   "metadata": {}
  },
  {
   "cell_type": "markdown",
   "source": [
    "## RMS"
   ],
   "metadata": {}
  },
  {
   "cell_type": "code",
   "execution_count": 50,
   "source": [
    "def extract_rms(xb):\n",
    "    rms=[]\n",
    "    for block in xb:\n",
    "        r = np.sqrt(np.sum(block**2)/xb.shape[0])\n",
    "        if r <= 0.00001: # Done to handle case when rms is 0 (for a block of all zeros\n",
    "            r = 0.00001\n",
    "        rms.append(r)\n",
    "    rms=np.array(rms)\n",
    "    return 20*np.log10(rms)#rms,20*np.log10(rms) # What is reference value to convert to dB? Is it 1?"
   ],
   "outputs": [],
   "metadata": {}
  },
  {
   "cell_type": "markdown",
   "source": [
    "### Testing rms"
   ],
   "metadata": {}
  },
  {
   "cell_type": "code",
   "execution_count": 76,
   "source": [
    "def extract_rms_raw(xb):\n",
    "    rms=[]\n",
    "    for block in xb:\n",
    "        r = np.sqrt(np.sum(block**2)/xb.shape[0])\n",
    "        if r <= 0.00001: # Done to handle case when rms is 0 (for a block of all zeros\n",
    "            r = 0.00001\n",
    "        \n",
    "        rms.append(r)\n",
    "    rms=np.array(rms)\n",
    "    return rms#rms,20*np.log10(rms) # What is reference value to convert to dB? Is it 1?\n",
    "rms = extract_rms_raw(xb)\n",
    "print(rms.min())\n",
    "t_rms = np.arange(0,xb.shape[0])*hopSize\n",
    "plt.plot(x)\n",
    "plt.plot(t_rms,rms)\n",
    "\n",
    "plt.xlabel('Sample Number')\n",
    "plt.ylabel('Amplitude')\n",
    "plt.legend(['Signal','RMS'])\n",
    "plt.title('Signal vs RMS')"
   ],
   "outputs": [
    {
     "output_type": "stream",
     "name": "stdout",
     "text": [
      "0.0008019605811365145\n"
     ]
    },
    {
     "output_type": "execute_result",
     "data": {
      "text/plain": [
       "Text(0.5, 1.0, 'Signal vs RMS')"
      ]
     },
     "metadata": {},
     "execution_count": 76
    },
    {
     "output_type": "display_data",
     "data": {
      "image/png": "[encoded data removed]",
      "text/plain": [
       "<Figure size 432x288 with 1 Axes>"
      ]
     },
     "metadata": {
      "needs_background": "light"
     }
    }
   ],
   "metadata": {}
  },
  {
   "cell_type": "markdown",
   "source": [
    "## ZCR"
   ],
   "metadata": {}
  },
  {
   "cell_type": "code",
   "execution_count": 128,
   "source": [
    "def extract_zerocrossingrate(xb):\n",
    "    zcr=[]\n",
    "    for block in xb:\n",
    "        zero_crossings = np.sum(np.abs(np.diff(np.sign(block)))) / block.shape[0] #np.nonzero(np.diff(block > 0))[0].size\n",
    "        zcr.append(zero_crossings)\n",
    "    zcr = np.array(zcr)\n",
    "    return zcr"
   ],
   "outputs": [],
   "metadata": {}
  },
  {
   "cell_type": "markdown",
   "source": [
    "### Testing ZCR"
   ],
   "metadata": {}
  },
  {
   "cell_type": "code",
   "execution_count": 129,
   "source": [
    "def extract_zerocrossingrate_test(xb):\n",
    "    zcr1=[]\n",
    "    zcr2=[]\n",
    "    for block in xb:\n",
    "        zero_crossings = np.sum(np.abs(np.diff(np.sign(block)))) / block.shape[0] #np.nonzero(np.diff(block > 0))[0].size\n",
    "        zcr1.append(zero_crossings)\n",
    "        zcr2.append(0.5 * np.mean(np.abs(np.diff(np.sign(block)))))\n",
    "    zcr1 = np.array(zcr1)\n",
    "    zcr2=np.array(zcr2)\n",
    "    return zcr1,zcr2\n",
    "\n",
    "zcr1,zcr2 = extract_zerocrossingrate_test(xb)\n",
    "zcr_plt = zcr1/max(zcr1)\n",
    "t_zcr = np.arange(0,xb.shape[0])*hopSize\n",
    "plt.plot(x)\n",
    "plt.plot(t_zcr,zcr_plt)\n",
    "\n",
    "plt.xlabel('Sample Number')\n",
    "plt.ylabel('Amplitude')\n",
    "plt.legend(['Signal','Normalized ZCR'])\n",
    "plt.title('Signal vs Normalized ZCR')"
   ],
   "outputs": [
    {
     "output_type": "execute_result",
     "data": {
      "text/plain": [
       "Text(0.5, 1.0, 'Signal vs Normalized ZCR')"
      ]
     },
     "metadata": {},
     "execution_count": 129
    },
    {
     "output_type": "display_data",
     "data": {
      "image/png": "[encoded data removed]",
      "text/plain": [
       "<Figure size 432x288 with 1 Axes>"
      ]
     },
     "metadata": {
      "needs_background": "light"
     }
    }
   ],
   "metadata": {}
  },
  {
   "cell_type": "code",
   "execution_count": 20,
   "source": [
    "def extract_zerocrossingrate_test(xb):\n",
    "    zcr1=[]\n",
    "    zcr2=[]\n",
    "    for block in xb:\n",
    "        zero_crossings = np.sum(np.abs(np.diff(np.sign(block)))) / block.shape[0] #np.nonzero(np.diff(block > 0))[0].size\n",
    "        zcr1.append(zero_crossings)\n",
    "        zcr2.append(0.5 * np.mean(np.abs(np.diff(np.sign(block)))))\n",
    "    zcr1 = np.array(zcr1)\n",
    "    zcr2=np.array(zcr2)\n",
    "    return zcr1,zcr2\n",
    "\n",
    "zcr1,zcr2 = extract_zerocrossingrate_test(test_blocked)\n",
    "zcr_plt = zcr1/max(zcr1)\n",
    "t_zcr = np.arange(0,test_blocked.shape[0])*hopSize\n",
    "plt.plot(test_aud)\n",
    "plt.plot(t_zcr,zcr_plt)\n",
    "\n",
    "plt.xlabel('Sample Number')\n",
    "plt.ylabel('Amplitude')\n",
    "plt.legend(['Signal','Normalized ZCR'])\n",
    "plt.title('Signal vs Normalized ZCR')"
   ],
   "outputs": [
    {
     "output_type": "execute_result",
     "data": {
      "text/plain": [
       "Text(0.5, 1.0, 'Signal vs Normalized ZCR')"
      ]
     },
     "metadata": {},
     "execution_count": 20
    },
    {
     "output_type": "display_data",
     "data": {
      "image/png": "[encoded data removed]",
      "text/plain": [
       "<Figure size 432x288 with 1 Axes>"
      ]
     },
     "metadata": {
      "needs_background": "light"
     }
    }
   ],
   "metadata": {}
  },
  {
   "cell_type": "markdown",
   "source": [
    "## Spectral Crest"
   ],
   "metadata": {}
  },
  {
   "cell_type": "code",
   "execution_count": null,
   "source": [
    "def extract_spectral_crest(xb):\n",
    "    crest = []\n",
    "\n",
    "\n",
    "    crest = np.array(crest)\n",
    "    return crest"
   ],
   "outputs": [],
   "metadata": {}
  },
  {
   "cell_type": "markdown",
   "source": [
    "## Spectral Flux"
   ],
   "metadata": {}
  },
  {
   "cell_type": "code",
   "execution_count": null,
   "source": [
    "def extract_spectral_flux(xb):\n",
    "    flux = []\n",
    "\n",
    "\n",
    "    flux = np.array(flux)\n",
    "    return(flux)"
   ],
   "outputs": [],
   "metadata": {}
  },
  {
   "cell_type": "markdown",
   "source": [
    "## Q2:\n",
    "### Implement a function: [features] = extract_features(x, blockSize, hopSize, fs) This function serves as a wrapper for feature extraction. It will take a single-channel audio vector x as input, blocks the audio with the given block size and hop size using block_audio(), calls each of the feature extractor functions implemented above and returns a 5 X NumOfBlocks dimensional feature matrix."
   ],
   "metadata": {}
  },
  {
   "cell_type": "code",
   "execution_count": null,
   "source": [
    "def extract_features(x, blockSize, hopSize, fs):\n",
    "    features=[]\n",
    "\n",
    "\n",
    "    features = np.array(features)\n",
    "    return features"
   ],
   "outputs": [],
   "metadata": {}
  },
  {
   "cell_type": "markdown",
   "source": [
    "## Q3:\n",
    "### Implement a function: [aggFeatures] = aggregate_feature_per_file(features). This function aggregates the feature matrix returned by extract_features(), aggregates the features across blocks using mean and standard deviation and returns a  10x1 aggregated feature matrix"
   ],
   "metadata": {}
  },
  {
   "cell_type": "code",
   "execution_count": null,
   "source": [
    "def aggregate_feature_per_file(features):\n",
    "    agg_features = []\n",
    "\n",
    "\n",
    "    agg_features=np.array(agg_features)\n",
    "    return agg_features"
   ],
   "outputs": [],
   "metadata": {}
  },
  {
   "cell_type": "markdown",
   "source": [
    "## Q4:\n",
    "### Implement a  function: [featureData] = get_feature_data(path, blockSize, hopSize) This function loops over all files contained within a folder that is pointed to by the path argument. The function will then successively call the extract_features() and aggregate_feature_per_file() functions and return a 10xN feature matrix of which contains the aggregated features for N audio files contained in the directory."
   ],
   "metadata": {}
  },
  {
   "cell_type": "code",
   "execution_count": null,
   "source": [
    "def get_feature_data(path, blockSize, hopSize):\n",
    "\n",
    "    return ''\n"
   ],
   "outputs": [],
   "metadata": {}
  },
  {
   "cell_type": "markdown",
   "source": [
    "# Section B:\n",
    "## Q1: \n",
    "### Implement a  function: [normFeatureMatrix] = normalize_zscore(featureData) This function applies the z-score normalization scheme to the input feature matrix. The z-score normalization normalizes each feature to a zero mean and unit standard deviation across the entire dataset. Be careful with the dimensions."
   ],
   "metadata": {}
  },
  {
   "cell_type": "code",
   "execution_count": null,
   "source": [
    "def normalize_zscore(featureData):\n",
    "    normalized_matrix=[]\n",
    "\n",
    "    normalized_matrix = np.array(normalized_matrix)\n",
    "    return normalized_matrix"
   ],
   "outputs": [],
   "metadata": {}
  }
 ],
 "metadata": {
  "orig_nbformat": 4,
  "language_info": {
   "name": "python",
   "version": "3.9.7",
   "mimetype": "text/x-python",
   "codemirror_mode": {
    "name": "ipython",
    "version": 3
   },
   "pygments_lexer": "ipython3",
   "nbconvert_exporter": "python",
   "file_extension": ".py"
  },
  "kernelspec": {
   "name": "python3",
   "display_name": "Python 3.9.7 64-bit"
  },
  "interpreter": {
   "hash": "aee8b7b246df8f9039afb4144a1f6fd8d2ca17a180786b69acc140d282b71a49"
  }
 },
 "nbformat": 4,
 "nbformat_minor": 2
}