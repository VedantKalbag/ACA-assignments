{
 "cells": [
  {
   "cell_type": "code",
   "execution_count": 141,
   "metadata": {},
   "outputs": [],
   "source": [
    "import numpy as np\n",
    "import scipy.signal\n",
    "import scipy.io.wavfile\n",
    "import os\n",
    "import math\n",
    "from matplotlib import pyplot as plt \n",
    "\n",
    "blockSize=1024\n",
    "hopSize=512\n",
    "fs=44100"
   ]
  },
  {
   "cell_type": "code",
   "execution_count": 142,
   "metadata": {},
   "outputs": [],
   "source": [
    "from scipy.io.wavfile import read as wavread\n",
    "def ToolReadAudio(cAudioFilePath):    \n",
    "    [samplerate, x] = wavread(cAudioFilePath)    \n",
    "    if x.dtype == 'float32':        \n",
    "        audio = x    \n",
    "    else:        \n",
    "        # change range to [-1,1)        \n",
    "        if x.dtype == 'uint8':            \n",
    "            nbits = 8        \n",
    "        elif x.dtype == 'int16':            \n",
    "            nbits = 16        \n",
    "        elif x.dtype == 'int32':            \n",
    "            nbits = 32        \n",
    "        audio = x / float(2**(nbits - 1))    \n",
    "        # special case of unsigned format    \n",
    "    if x.dtype == 'uint8':        \n",
    "        audio = audio - 1.    \n",
    "    return (samplerate, audio)"
   ]
  },
  {
   "cell_type": "code",
   "execution_count": 143,
   "metadata": {},
   "outputs": [
    {
     "name": "stderr",
     "output_type": "stream",
     "text": [
      "<ipython-input-142-70eaf167f057>:3: WavFileWarning:\n",
      "\n",
      "Chunk (non-data) not understood, skipping it.\n",
      "\n"
     ]
    }
   ],
   "source": [
    "fs,x = ToolReadAudio('../assignment_1/trainData/01-D_AMairena.wav')"
   ]
  },
  {
   "cell_type": "code",
   "execution_count": 144,
   "metadata": {},
   "outputs": [],
   "source": [
    "# BLOCK AUDIO\n",
    "def block_audio(x,blockSize,hopSize,fs):    \n",
    "    # allocate memory    \n",
    "    numBlocks = math.ceil(x.size / hopSize)    \n",
    "    xb = np.zeros([numBlocks, blockSize])    \n",
    "    # compute time stamps    \n",
    "    t = (np.arange(0, numBlocks) * hopSize) / fs   \n",
    "    x = np.concatenate((x, np.zeros(blockSize)),axis=0)    \n",
    "    for n in range(0, numBlocks):        \n",
    "        i_start = n * hopSize        \n",
    "        i_stop = np.min([x.size - 1, i_start + blockSize - 1])        \n",
    "        xb[n][np.arange(0,blockSize)] = x[np.arange(i_start, i_stop + 1)]    \n",
    "    return (xb,t)"
   ]
  },
  {
   "cell_type": "code",
   "execution_count": 145,
   "metadata": {},
   "outputs": [],
   "source": [
    "xb,t = block_audio(x, blockSize, hopSize, fs)"
   ]
  },
  {
   "cell_type": "markdown",
   "metadata": {},
   "source": [
    "## Test signals"
   ]
  },
  {
   "cell_type": "code",
   "execution_count": 7,
   "metadata": {},
   "outputs": [
    {
     "name": "stdout",
     "output_type": "stream",
     "text": [
      "44\n"
     ]
    }
   ],
   "source": [
    "test_aud = np.sin(2*np.pi*1000*np.arange(1 * fs)/fs)\n",
    "test_blocked,t = block_audio(test_aud,2048, 1024, fs)\n",
    "print(math.ceil(test_aud.size / 1024))"
   ]
  },
  {
   "cell_type": "code",
   "execution_count": 86,
   "metadata": {},
   "outputs": [
    {
     "data": {
      "text/plain": [
       "[<matplotlib.lines.Line2D at 0x13a5d5310>]"
      ]
     },
     "execution_count": 86,
     "metadata": {},
     "output_type": "execute_result"
    },
    {
     "data": {
      "image/png": "[encoded data removed]",
      "text/plain": [
       "<Figure size 432x288 with 1 Axes>"
      ]
     },
     "metadata": {
      "needs_background": "light"
     },
     "output_type": "display_data"
    }
   ],
   "source": [
    "plt.plot(test_aud[0:100])"
   ]
  },
  {
   "cell_type": "markdown",
   "metadata": {},
   "source": [
    "## Calculate STFT from blocked audio"
   ]
  },
  {
   "cell_type": "code",
   "execution_count": 53,
   "metadata": {},
   "outputs": [
    {
     "data": {
      "text/plain": [
       "(2224, 1024)"
      ]
     },
     "execution_count": 53,
     "metadata": {},
     "output_type": "execute_result"
    }
   ],
   "source": [
    "xb.shape"
   ]
  },
  {
   "cell_type": "code",
   "execution_count": 62,
   "metadata": {},
   "outputs": [
    {
     "data": {
      "text/plain": [
       "(512,)"
      ]
     },
     "execution_count": 62,
     "metadata": {},
     "output_type": "execute_result"
    }
   ],
   "source": [
    "block = xb[0]\n",
    "freq=np.fft.fftfreq(block.size,1/fs)\n",
    "freq[:int(block.size/2)].shape"
   ]
  },
  {
   "cell_type": "code",
   "execution_count": 376,
   "metadata": {},
   "outputs": [],
   "source": [
    "def calc_stft(xb,fs=44100):\n",
    "    stft = np.zeros((xb.shape[0],(int(xb[0].shape[0]/2)+1)))\n",
    "    freqs = np.zeros((xb.shape[0],(int(xb[0].shape[0]/2)+1)))\n",
    "    window = np.hanning(xb[0].shape[0])\n",
    "    for i in range(xb.shape[0]):\n",
    "        block= xb[i]\n",
    "        # Apply Window to the block\n",
    "        windowed_block = window * block \n",
    "        stft_blk = np.fft.fft(windowed_block)\n",
    "        #stft_blk = np.fft.rfft(windowed_block)\n",
    "        freq=np.fft.fftfreq(block.size,1/fs)\n",
    "        freqs[i]=freq[:int(block.size/2)+1]\n",
    "        stft_blk = np.abs(stft_blk)\n",
    "        #stft_block = stft_blk[int((stft_blk.shape[0])/2):]\n",
    "        stft_block = stft_blk[:int(((stft_blk.shape[0])/2)+1)]\n",
    "        stft_db = 10*np.log10(stft_block) # IS THIS CORRECT??\n",
    "        stft[i]=stft_block#stft_db\n",
    "    stft = np.array(stft)\n",
    "    freqs=np.array(freqs)\n",
    "    return stft,freqs"
   ]
  },
  {
   "cell_type": "code",
   "execution_count": 377,
   "metadata": {},
   "outputs": [],
   "source": [
    "stft,freqs = calc_stft(xb,44100)\n"
   ]
  },
  {
   "cell_type": "code",
   "execution_count": 330,
   "metadata": {},
   "outputs": [
    {
     "data": {
      "text/plain": [
       "(2224, 513)"
      ]
     },
     "execution_count": 330,
     "metadata": {},
     "output_type": "execute_result"
    }
   ],
   "source": [
    "stft.shape"
   ]
  },
  {
   "cell_type": "code",
   "execution_count": 43,
   "metadata": {},
   "outputs": [
    {
     "data": {
      "application/vnd.plotly.v1+json": {
       "config": {
        "plotlyServerURL": "https://plot.ly"
       },
       "data": [
        {
         "hovertemplate": "variable=0<br>index=%{x}<br>value=%{y}<extra></extra>",
         "legendgroup": "0",
         "line": {
          "color": "#636efa",
          "dash": "solid"
         },
         "mode": "lines",
         "name": "0",
         "showlegend": true,
         "type": "scattergl",
         "x": [
          0,
          1,
          2,
          3,
          4,
          5,
          6,
          7,
          8,
          9,
          10,
          11,
          12,
          13,
          14,
          15,
          16,
          17,
          18,
          19,
          20,
          21,
          22,
          23,
          24,
          25,
          26,
          27,
          28,
          29,
          30,
          31,
          32,
          33,
          34,
          35,
          36,
          37,
          38,
          39,
          40,
          41,
          42,
          43,
          44,
          45,
          46,
          47,
          48,
          49,
          50,
          51,
          52,
          53,
          54,
          55,
          56,
          57,
          58,
          59,
          60,
          61,
          62,
          63,
          64,
          65,
          66,
          67,
          68,
          69,
          70,
          71,
          72,
          73,
          74,
          75,
          76,
          77,
          78,
          79,
          80,
          81,
          82,
          83,
          84,
          85,
          86,
          87,
          88,
          89,
          90,
          91,
          92,
          93,
          94,
          95,
          96,
          97,
          98,
          99,
          100,
          101,
          102,
          103,
          104,
          105,
          106,
          107,
          108,
          109,
          110,
          111,
          112,
          113,
          114,
          115,
          116,
          117,
          118,
          119,
          120,
          121,
          122,
          123,
          124,
          125,
          126,
          127,
          128,
          129,
          130,
          131,
          132,
          133,
          134,
          135,
          136,
          137,
          138,
          139,
          140,
          141,
          142,
          143,
          144,
          145,
          146,
          147,
          148,
          149,
          150,
          151,
          152,
          153,
          154,
          155,
          156,
          157,
          158,
          159,
          160,
          161,
          162,
          163,
          164,
          165,
          166,
          167,
          168,
          169,
          170,
          171,
          172,
          173,
          174,
          175,
          176,
          177,
          178,
          179,
          180,
          181,
          182,
          183,
          184,
          185,
          186,
          187,
          188,
          189,
          190,
          191,
          192,
          193,
          194,
          195,
          196,
          197,
          198,
          199,
          200,
          201,
          202,
          203,
          204,
          205,
          206,
          207,
          208,
          209,
          210,
          211,
          212,
          213,
          214,
          215,
          216,
          217,
          218,
          219,
          220,
          221,
          222,
          223,
          224,
          225,
          226,
          227,
          228,
          229,
          230,
          231,
          232,
          233,
          234,
          235,
          236,
          237,
          238,
          239,
          240,
          241,
          242,
          243,
          244,
          245,
          246,
          247,
          248,
          249,
          250,
          251,
          252,
          253,
          254,
          255,
          256,
          257,
          258,
          259,
          260,
          261,
          262,
          263,
          264,
          265,
          266,
          267,
          268,
          269,
          270,
          271,
          272,
          273,
          274,
          275,
          276,
          277,
          278,
          279,
          280,
          281,
          282,
          283,
          284,
          285,
          286,
          287,
          288,
          289,
          290,
          291,
          292,
          293,
          294,
          295,
          296,
          297,
          298,
          299,
          300,
          301,
          302,
          303,
          304,
          305,
          306,
          307,
          308,
          309,
          310,
          311,
          312,
          313,
          314,
          315,
          316,
          317,
          318,
          319,
          320,
          321,
          322,
          323,
          324,
          325,
          326,
          327,
          328,
          329,
          330,
          331,
          332,
          333,
          334,
          335,
          336,
          337,
          338,
          339,
          340,
          341,
          342,
          343,
          344,
          345,
          346,
          347,
          348,
          349,
          350,
          351,
          352,
          353,
          354,
          355,
          356,
          357,
          358,
          359,
          360,
          361,
          362,
          363,
          364,
          365,
          366,
          367,
          368,
          369,
          370,
          371,
          372,
          373,
          374,
          375,
          376,
          377,
          378,
          379,
          380,
          381,
          382,
          383,
          384,
          385,
          386,
          387,
          388,
          389,
          390,
          391,
          392,
          393,
          394,
          395,
          396,
          397,
          398,
          399,
          400,
          401,
          402,
          403,
          404,
          405,
          406,
          407,
          408,
          409,
          410,
          411,
          412,
          413,
          414,
          415,
          416,
          417,
          418,
          419,
          420,
          421,
          422,
          423,
          424,
          425,
          426,
          427,
          428,
          429,
          430,
          431,
          432,
          433,
          434,
          435,
          436,
          437,
          438,
          439,
          440,
          441,
          442,
          443,
          444,
          445,
          446,
          447,
          448,
          449,
          450,
          451,
          452,
          453,
          454,
          455,
          456,
          457,
          458,
          459,
          460,
          461,
          462,
          463,
          464,
          465,
          466,
          467,
          468,
          469,
          470,
          471,
          472,
          473,
          474,
          475,
          476,
          477,
          478,
          479,
          480,
          481,
          482,
          483,
          484,
          485,
          486,
          487,
          488,
          489,
          490,
          491,
          492,
          493,
          494,
          495,
          496,
          497,
          498,
          499,
          500,
          501,
          502,
          503,
          504,
          505,
          506,
          507,
          508,
          509,
          510,
          511,
          512,
          513,
          514,
          515,
          516,
          517,
          518,
          519,
          520,
          521,
          522,
          523,
          524,
          525,
          526,
          527,
          528,
          529,
          530,
          531,
          532,
          533,
          534,
          535,
          536,
          537,
          538,
          539,
          540,
          541,
          542,
          543,
          544,
          545,
          546,
          547,
          548,
          549,
          550,
          551,
          552,
          553,
          554,
          555,
          556,
          557,
          558,
          559,
          560,
          561,
          562,
          563,
          564,
          565,
          566,
          567,
          568,
          569,
          570,
          571,
          572,
          573,
          574,
          575,
          576,
          577,
          578,
          579,
          580,
          581,
          582,
          583,
          584,
          585,
          586,
          587,
          588,
          589,
          590,
          591,
          592,
          593,
          594,
          595,
          596,
          597,
          598,
          599,
          600,
          601,
          602,
          603,
          604,
          605,
          606,
          607,
          608,
          609,
          610,
          611,
          612,
          613,
          614,
          615,
          616,
          617,
          618,
          619,
          620,
          621,
          622,
          623,
          624,
          625,
          626,
          627,
          628,
          629,
          630,
          631,
          632,
          633,
          634,
          635,
          636,
          637,
          638,
          639,
          640,
          641,
          642,
          643,
          644,
          645,
          646,
          647,
          648,
          649,
          650,
          651,
          652,
          653,
          654,
          655,
          656,
          657,
          658,
          659,
          660,
          661,
          662,
          663,
          664,
          665,
          666,
          667,
          668,
          669,
          670,
          671,
          672,
          673,
          674,
          675,
          676,
          677,
          678,
          679,
          680,
          681,
          682,
          683,
          684,
          685,
          686,
          687,
          688,
          689,
          690,
          691,
          692,
          693,
          694,
          695,
          696,
          697,
          698,
          699,
          700,
          701,
          702,
          703,
          704,
          705,
          706,
          707,
          708,
          709,
          710,
          711,
          712,
          713,
          714,
          715,
          716,
          717,
          718,
          719,
          720,
          721,
          722,
          723,
          724,
          725,
          726,
          727,
          728,
          729,
          730,
          731,
          732,
          733,
          734,
          735,
          736,
          737,
          738,
          739,
          740,
          741,
          742,
          743,
          744,
          745,
          746,
          747,
          748,
          749,
          750,
          751,
          752,
          753,
          754,
          755,
          756,
          757,
          758,
          759,
          760,
          761,
          762,
          763,
          764,
          765,
          766,
          767,
          768,
          769,
          770,
          771,
          772,
          773,
          774,
          775,
          776,
          777,
          778,
          779,
          780,
          781,
          782,
          783,
          784,
          785,
          786,
          787,
          788,
          789,
          790,
          791,
          792,
          793,
          794,
          795,
          796,
          797,
          798,
          799,
          800,
          801,
          802,
          803,
          804,
          805,
          806,
          807,
          808,
          809,
          810,
          811,
          812,
          813,
          814,
          815,
          816,
          817,
          818,
          819,
          820,
          821,
          822,
          823,
          824,
          825,
          826,
          827,
          828,
          829,
          830,
          831,
          832,
          833,
          834,
          835,
          836,
          837,
          838,
          839,
          840,
          841,
          842,
          843,
          844,
          845,
          846,
          847,
          848,
          849,
          850,
          851,
          852,
          853,
          854,
          855,
          856,
          857,
          858,
          859,
          860,
          861,
          862,
          863,
          864,
          865,
          866,
          867,
          868,
          869,
          870,
          871,
          872,
          873,
          874,
          875,
          876,
          877,
          878,
          879,
          880,
          881,
          882,
          883,
          884,
          885,
          886,
          887,
          888,
          889,
          890,
          891,
          892,
          893,
          894,
          895,
          896,
          897,
          898,
          899,
          900,
          901,
          902,
          903,
          904,
          905,
          906,
          907,
          908,
          909,
          910,
          911,
          912,
          913,
          914,
          915,
          916,
          917,
          918,
          919,
          920,
          921,
          922,
          923,
          924,
          925,
          926,
          927,
          928,
          929,
          930,
          931,
          932,
          933,
          934,
          935,
          936,
          937,
          938,
          939,
          940,
          941,
          942,
          943,
          944,
          945,
          946,
          947,
          948,
          949,
          950,
          951,
          952,
          953,
          954,
          955,
          956,
          957,
          958,
          959,
          960,
          961,
          962,
          963,
          964,
          965,
          966,
          967,
          968,
          969,
          970,
          971,
          972,
          973,
          974,
          975,
          976,
          977,
          978,
          979,
          980,
          981,
          982,
          983,
          984,
          985,
          986,
          987,
          988,
          989,
          990,
          991,
          992,
          993,
          994,
          995,
          996,
          997,
          998,
          999,
          1000,
          1001,
          1002,
          1003,
          1004,
          1005,
          1006,
          1007,
          1008,
          1009,
          1010,
          1011,
          1012,
          1013,
          1014,
          1015,
          1016,
          1017,
          1018,
          1019,
          1020,
          1021,
          1022,
          1023
         ],
         "xaxis": "x",
         "y": [
          0,
          0.00000943076911874563,
          0.00003772272071722593,
          0.00008487478753615996,
          0.00015088519085437735,
          0.00023575144055643094,
          0.00033947033522635506,
          0.0004620379622682358,
          0.0006034496980542037,
          0.0007637002080985167,
          0.0009427834472588992,
          0.0011406926599646372,
          0.0013574203804713747,
          0.0015929584331427216,
          0.0018472979327587291,
          0.0021204292848509554,
          0.0024123421860645644,
          0.0027230256245468487,
          0.003052467880362675,
          0.003400656525936685,
          0.003767578426521867,
          0.004153219740695435,
          0.00455756592088058,
          0.004980601713895361,
          0.005422311161528193,
          0.005882677601139863,
          0.006361683666291973,
          0.006859311287402081,
          0.007375541692425325,
          0.007910355407562741,
          0.008463732257995571,
          0.009035651368646647,
          0.009626091164967543,
          0.010235029373752758,
          0.010862443023979595,
          0.011508308447674975,
          0.012172601280808104,
          0.012855296464209687,
          0.013556368244517059,
          0.014275790175145853,
          0.01501353511728759,
          0.015769575240933364,
          0.01654388202592383,
          0.01733642626302484,
          0.018147178055029578,
          0.018976106817886196,
          0.01982318128185151,
          0.020688369492670833,
          0.021571638812783067,
          0.022472955922552107,
          0.023392286821523722,
          0.02432959682970809,
          0.025284850588888075,
          0.026258012063953118,
          0.02724904454425836,
          0.028257910645009876,
          0.02928457230867454,
          0.030328990806415934,
          0.03139112673955513,
          0.03247094004105716,
          0.0335683899770422,
          0.034683435148322506,
          0.03581603349196372,
          0.03696614228287187,
          0.038133718135405226,
          0.03931871700501044,
          0.0405210941898847,
          0.04174080433266136,
          0.04297780142212154,
          0.044232038794929374,
          0.04550346913739256,
          0.046792044487247,
          0.048097716235466326,
          0.04942043512809524,
          0.050760151268107845,
          0.05211681411728969,
          0.05349037249814442,
          0.05488077459582419,
          0.05628796796008434,
          0.05771189950726191,
          0.05915251552227829,
          0.060609761660665395,
          0.06208358295061572,
          0.063573923795056,
          0.06508072797374453,
          0.06660393864539216,
          0.06814349834980615,
          0.06969934901005809,
          0.0712714319346745,
          0.07285968781985097,
          0.07446405675168938,
          0.0760844782084577,
          0.07772089106287344,
          0.0793732335844094,
          0.08104144344162223,
          0.0827254577045039,
          0.08442521284685561,
          0.08614064474868416,
          0.08787168869862061,
          0.08961827939636186,
          0.09138035095513325,
          0.09315783690417473,
          0.09495067019124787,
          0.09675878318516545,
          0.0985821076783428,
          0.10042057488937056,
          0.1022741154656096,
          0.10414265948580692,
          0.10602613646273357,
          0.1079244753458436,
          0.10983760452395408,
          0.11176545182794673,
          0.1137079445334902,
          0.11566500936378377,
          0.11763657249232101,
          0.11962255954567536,
          0.12162289560630524,
          0.12363750521538053,
          0.12566631237562886,
          0.12770924055420252,
          0.1297662126855657,
          0.13183715117440137,
          0.13392197789853844,
          0.13602061421189893,
          0.1381329809474649,
          0.14025899842026435,
          0.1423985864303775,
          0.14455166426596217,
          0.14671815070629868,
          0.14889796402485322,
          0.1510910219923614,
          0.15329724187992977,
          0.15551654046215668,
          0.15774883402027212,
          0.1599940383452954,
          0.16225206874121206,
          0.16452284002816886,
          0.16680626654568687,
          0.1691022621558929,
          0.171410740246769,
          0.17373161373541962,
          0.17606479507135658,
          0.17841019623980203,
          0.18076772876500824,
          0.1831373037135955,
          0.18551883169790678,
          0.1879122228793798,
          0.19031738697193612,
          0.19273423324538658,
          0.19516267052885444,
          0.1976026072142143,
          0.200053951259548,
          0.20251661019261674,
          0.20499049111434925,
          0.20747550070234616,
          0.20997154521440087,
          0.21247853049203536,
          0.21499636196405225,
          0.21752494465010247,
          0.22006418316426785,
          0.2226139817186597,
          0.2251742441270323,
          0.22774487380841096,
          0.2303257737907356,
          0.2329168467145189,
          0.2355179948365187,
          0.23812912003342562,
          0.24075012380556393,
          0.24338090728060802,
          0.2460213712173117,
          0.2486714160092519,
          0.25133094168858644,
          0.25399984792982444,
          0.25667803405361184,
          0.25936539903052874,
          0.2620618414849004,
          0.2647672596986222,
          0.2674815516149957,
          0.2702046148425794,
          0.272936346659051,
          0.2756766440150822,
          0.2784254035382263,
          0.28118252153681766,
          0.2839478940038831,
          0.28672141662106565,
          0.2895029847625594,
          0.29229249349905667,
          0.29508983760170626,
          0.29789491154608233,
          0.30070760951616615,
          0.303527825408337,
          0.30635545283537513,
          0.309190385130475,
          0.31203251535126864,
          0.3148817362838605,
          0.3177379404468714,
          0.3206010200954933,
          0.32347086722555374,
          0.32634737357758986,
          0.3292304306409326,
          0.3321199296577997,
          0.335015761627399,
          0.3379178173100396,
          0.340825987231253,
          0.3437401616859229,
          0.34666023074242347,
          0.3495860842467663,
          0.3525176118267561,
          0.3554547028961537,
          0.35839724665884803,
          0.3613451321130356,
          0.36429824805540806,
          0.367256483085347,
          0.37021972560912597,
          0.3731878638441208,
          0.3761607858230257,
          0.37913837939807754,
          0.38212053224528636,
          0.385107131868672,
          0.38809806560450877,
          0.3910932206255743,
          0.3940924839454067,
          0.3970957424225666,
          0.40010288276490463,
          0.40311379153383575,
          0.4061283551486183,
          0.40914645989063825,
          0.4121679919076999,
          0.4151928372183196,
          0.4182208817160266,
          0.42125201117366684,
          0.42428611124771165,
          0.42732306748257215,
          0.43036276531491585,
          0.4334050900779891,
          0.43644992700594226,
          0.43949716123815885,
          0.44254667782358914,
          0.4455983617250855,
          0.4486520978237429,
          0.45170777092324094,
          0.45476526575418963,
          0.4578244669784776,
          0.460885259193623,
          0.46394752693712715,
          0.4670111546908299,
          0.47007602688526684,
          0.4731420279040302,
          0.4762090420881288,
          0.4792769537403521,
          0.48234564712963435,
          0.4854150064954201,
          0.48848491605203115,
          0.49155525999303445,
          0.4946259224956109,
          0.4976967877249241,
          0.50076773983849,
          0.5038386629905474,
          0.5069094413364271,
          0.5099799590369228,
          0.5130501002626607,
          0.5161197491984684,
          0.5191887900477443,
          0.5222571070368258,
          0.5253245844193564,
          0.5283911064806522,
          0.531456557542067,
          0.534520821965356,
          0.5375837841570382,
          0.5406453285727563,
          0.5437053397216364,
          0.5467637021706436,
          0.5498203005489378,
          0.5528750195522244,
          0.5559277439471046,
          0.558978358575423,
          0.5620267483586104,
          0.565072798302026,
          0.5681163934992949,
          0.5711574191366425,
          0.5741957604972264,
          0.5772313029654628,
          0.5802639320313512,
          0.5832935332947936,
          0.5863199924699095,
          0.5893431953893482,
          0.5923630280085946,
          0.595379376410272,
          0.5983921268084391,
          0.6014011655528819,
          0.6044063791334021,
          0.6074076541840977,
          0.6104048774876404,
          0.6133979359795466,
          0.6163867167524418,
          0.6193711070603203,
          0.6223509943227981,
          0.6253262661293602,
          0.6282968102436011,
          0.6312625146074574,
          0.6342232673454371,
          0.6371789567688378,
          0.6401294713799617,
          0.6430746998763204,
          0.646014531154834,
          0.6489488543160223,
          0.6518775586681886,
          0.6548005337315943,
          0.6577176692426278,
          0.6606288551579629,
          0.6635339816587107,
          0.6664329391545624,
          0.6693256182879223,
          0.6722119099380344,
          0.675091705225098,
          0.6779648955143753,
          0.6808313724202893,
          0.6836910278105124,
          0.6865437538100456,
          0.689389442805288,
          0.6922279874480959,
          0.6950592806598326,
          0.6978832156354079,
          0.7006996858473067,
          0.7035085850496078,
          0.7063098072819918,
          0.709103246873738,
          0.7118887984477116,
          0.7146663569243369,
          0.7174358175255634,
          0.720197075778817,
          0.7229500275209416,
          0.725694568902128,
          0.7284305963898314,
          0.7311580067726783,
          0.7338766971643578,
          0.7365865650075044,
          0.7392875080775664,
          0.7419794244866618,
          0.7446622126874216,
          0.7473357714768221,
          0.7499999999999999,
          0.7526547977540592,
          0.7553000645918609,
          0.7579357007258021,
          0.7605616067315792,
          0.7631776835519389,
          0.7657838325004158,
          0.7683799552650534,
          0.7709659539121142,
          0.7735417308897734,
          0.7761071890317994,
          0.7786622315612182,
          0.781206762093965,
          0.7837406846425203,
          0.7862639036195297,
          0.7887763238414108,
          0.7912778505319435,
          0.7937683893258454,
          0.7962478462723304,
          0.7987161278386553,
          0.8011731409136453,
          0.8036187928112085,
          0.8060529912738315,
          0.808475644476059,
          0.8108866610279595,
          0.8132859499785707,
          0.8156734208193327,
          0.8180489834874998,
          0.8204125483695401,
          0.8227640263045148,
          0.8251033285874421,
          0.8274303669726424,
          0.8297450536770694,
          0.8320473013836196,
          0.834337023244426,
          0.8366141328841364,
          0.8388785444031694,
          0.8411301723809563,
          0.8433689318791624,
          0.8455947384448923,
          0.8478075081138745,
          0.8500071574136294,
          0.8521936033666186,
          0.8543667634933741,
          0.8565265558156103,
          0.8586728988593157,
          0.8608057116578284,
          0.8629249137548873,
          0.8650304252076702,
          0.8671221665898072,
          0.8692000589943786,
          0.8712640240368896,
          0.8733139838582298,
          0.8753498611276077,
          0.8773715790454695,
          0.8793790613463954,
          0.8813722323019773,
          0.8833510167236747,
          0.8853153399656513,
          0.8872651279275916,
          0.8892003070574949,
          0.8911208043544511,
          0.8930265473713936,
          0.8949174642178332,
          0.8967934835625686,
          0.898654534636379,
          0.9005005472346923,
          0.902331451720234,
          0.9041471790256541,
          0.9059476606561327,
          0.9077328286919638,
          0.9095026157911165,
          0.9112569551917773,
          0.9129957807148665,
          0.9147190267665359,
          0.9164266283406433,
          0.9181185210212033,
          0.9197946409848194,
          0.9214549250030899,
          0.9230993104449938,
          0.9247277352792532,
          0.9263401380766737,
          0.9279364580124613,
          0.9295166348685169,
          0.931080609035708,
          0.9326283215161177,
          0.9341597139252698,
          0.935674728494331,
          0.937173308072291,
          0.9386553961281179,
          0.9401209367528907,
          0.9415698746619078,
          0.9430021551967743,
          0.9444177243274616,
          0.9458165286543475,
          0.9471985154102291,
          0.9485636324623146,
          0.9499118283141887,
          0.9512430521077563,
          0.9525572536251606,
          0.9538543832906772,
          0.9551343921725842,
          0.9563972319850091,
          0.957642855089749,
          0.958871214498068,
          0.9600822638724704,
          0.9612759575284481,
          0.9624522504362039,
          0.9636110982223505,
          0.9647524571715842,
          0.9658762842283343,
          0.9669825369983864,
          0.968071173750483,
          0.9691421534178966,
          0.970195435599979,
          0.9712309805636863,
          0.9722487492450764,
          0.9732487032507835,
          0.9742308048594664,
          0.9751950170232309,
          0.9761413033690276,
          0.9770696282000244,
          0.9779799564969529,
          0.978872253919429,
          0.9797464868072486,
          0.9806026221816581,
          0.9814406277465968,
          0.982260471889917,
          0.9830621236845754,
          0.9838455528897998,
          0.9846107299522304,
          0.9853576260070347,
          0.9860862128789953,
          0.9867964630835742,
          0.9874883498279483,
          0.9881618470120215,
          0.9888169292294076,
          0.9894535717683901,
          0.990071750612854,
          0.9906714424431913,
          0.9912526246371813,
          0.9918152752708437,
          0.9923593731192655,
          0.9928848976574018,
          0.9933918290608507,
          0.9938801482065998,
          0.9943498366737487,
          0.9948008767442034,
          0.9952332514033447,
          0.9956469443406706,
          0.9960419399504106,
          0.9964182233321149,
          0.9967757802912172,
          0.9971145973395684,
          0.9974346616959475,
          0.9977359612865423,
          0.9980184847454051,
          0.998282221414882,
          0.9985271613460143,
          0.9987532952989144,
          0.9989606147431138,
          0.9991491118578855,
          0.999318779532538,
          0.999469611366685,
          0.9996016016704854,
          0.999714745464859,
          0.9998090384816739,
          0.9998844771639073,
          0.99994105866578,
          0.9999787808528637,
          0.9999976423021616,
          0.9999976423021616,
          0.9999787808528637,
          0.99994105866578,
          0.9998844771639073,
          0.9998090384816739,
          0.999714745464859,
          0.9996016016704854,
          0.999469611366685,
          0.999318779532538,
          0.9991491118578855,
          0.9989606147431139,
          0.9987532952989144,
          0.9985271613460144,
          0.998282221414882,
          0.9980184847454051,
          0.9977359612865423,
          0.9974346616959475,
          0.9971145973395684,
          0.996775780291217,
          0.9964182233321149,
          0.9960419399504106,
          0.9956469443406706,
          0.9952332514033448,
          0.9948008767442034,
          0.9943498366737487,
          0.9938801482065998,
          0.9933918290608508,
          0.9928848976574018,
          0.9923593731192655,
          0.9918152752708437,
          0.9912526246371813,
          0.9906714424431913,
          0.990071750612854,
          0.9894535717683901,
          0.9888169292294076,
          0.9881618470120215,
          0.9874883498279484,
          0.9867964630835742,
          0.9860862128789953,
          0.9853576260070347,
          0.9846107299522304,
          0.9838455528897998,
          0.9830621236845754,
          0.982260471889917,
          0.9814406277465968,
          0.9806026221816581,
          0.9797464868072487,
          0.978872253919429,
          0.9779799564969529,
          0.9770696282000244,
          0.9761413033690276,
          0.9751950170232309,
          0.9742308048594666,
          0.9732487032507837,
          0.9722487492450764,
          0.9712309805636864,
          0.9701954355999791,
          0.9691421534178966,
          0.968071173750483,
          0.9669825369983864,
          0.9658762842283342,
          0.9647524571715842,
          0.9636110982223505,
          0.962452250436204,
          0.9612759575284482,
          0.9600822638724705,
          0.9588712144980681,
          0.9576428550897489,
          0.9563972319850091,
          0.9551343921725843,
          0.9538543832906772,
          0.9525572536251605,
          0.9512430521077564,
          0.9499118283141887,
          0.9485636324623146,
          0.9471985154102293,
          0.9458165286543476,
          0.9444177243274617,
          0.9430021551967742,
          0.9415698746619079,
          0.9401209367528907,
          0.938655396128118,
          0.937173308072291,
          0.9356747284943311,
          0.9341597139252698,
          0.932628321516118,
          0.9310806090357082,
          0.9295166348685169,
          0.9279364580124614,
          0.9263401380766738,
          0.9247277352792533,
          0.9230993104449937,
          0.92145492500309,
          0.9197946409848194,
          0.9181185210212034,
          0.9164266283406433,
          0.9147190267665362,
          0.9129957807148665,
          0.9112569551917774,
          0.9095026157911167,
          0.9077328286919637,
          0.9059476606561327,
          0.9041471790256541,
          0.9023314517202341,
          0.9005005472346923,
          0.8986545346363792,
          0.8967934835625688,
          0.8949174642178331,
          0.8930265473713939,
          0.8911208043544512,
          0.889200307057495,
          0.8872651279275915,
          0.8853153399656514,
          0.8833510167236746,
          0.8813722323019773,
          0.8793790613463955,
          0.8773715790454696,
          0.8753498611276078,
          0.8733139838582299,
          0.8712640240368899,
          0.8692000589943785,
          0.8671221665898073,
          0.8650304252076703,
          0.8629249137548874,
          0.8608057116578283,
          0.858672898859316,
          0.8565265558156102,
          0.8543667634933743,
          0.8521936033666189,
          0.8500071574136296,
          0.8478075081138745,
          0.8455947384448925,
          0.8433689318791626,
          0.8411301723809563,
          0.8388785444031696,
          0.8366141328841366,
          0.8343370232444263,
          0.8320473013836196,
          0.8297450536770699,
          0.8274303669726426,
          0.8251033285874423,
          0.822764026304515,
          0.8204125483695403,
          0.8180489834875,
          0.8156734208193328,
          0.8132859499785706,
          0.8108866610279597,
          0.8084756444760592,
          0.8060529912738317,
          0.8036187928112086,
          0.8011731409136456,
          0.7987161278386554,
          0.7962478462723304,
          0.7937683893258455,
          0.7912778505319438,
          0.7887763238414112,
          0.7862639036195296,
          0.7837406846425203,
          0.7812067620939651,
          0.7786622315612183,
          0.7761071890317996,
          0.7735417308897737,
          0.7709659539121145,
          0.7683799552650534,
          0.7657838325004158,
          0.763177683551939,
          0.7605616067315796,
          0.7579357007258022,
          0.755300064591861,
          0.7526547977540594,
          0.7500000000000002,
          0.747335771476822,
          0.7446622126874217,
          0.7419794244866621,
          0.7392875080775665,
          0.7365865650075045,
          0.7338766971643579,
          0.7311580067726784,
          0.7284305963898313,
          0.7256945689021281,
          0.722950027520942,
          0.7201970757788175,
          0.7174358175255635,
          0.714666356924337,
          0.7118887984477117,
          0.7091032468737379,
          0.706309807281992,
          0.7035085850496081,
          0.700699685847307,
          0.6978832156354079,
          0.6950592806598326,
          0.6922279874480959,
          0.6893894428052881,
          0.6865437538100458,
          0.6836910278105126,
          0.6808313724202896,
          0.6779648955143752,
          0.675091705225098,
          0.6722119099380344,
          0.6693256182879228,
          0.6664329391545625,
          0.6635339816587109,
          0.6606288551579631,
          0.6577176692426275,
          0.6548005337315942,
          0.6518775586681885,
          0.6489488543160228,
          0.646014531154834,
          0.6430746998763205,
          0.6401294713799619,
          0.6371789567688381,
          0.6342232673454369,
          0.6312625146074577,
          0.6282968102436013,
          0.6253262661293602,
          0.6223509943227981,
          0.6193711070603203,
          0.6163867167524419,
          0.6133979359795464,
          0.6104048774876407,
          0.607407654184098,
          0.6044063791334024,
          0.601401165552882,
          0.5983921268084391,
          0.5953793764102722,
          0.5923630280085943,
          0.5893431953893483,
          0.5863199924699097,
          0.5832935332947938,
          0.5802639320313512,
          0.5772313029654628,
          0.5741957604972264,
          0.5711574191366431,
          0.568116393499295,
          0.5650727983020263,
          0.5620267483586107,
          0.5589783585754229,
          0.5559277439471045,
          0.5528750195522243,
          0.5498203005489383,
          0.5467637021706437,
          0.5437053397216365,
          0.5406453285727565,
          0.5375837841570384,
          0.5345208219653559,
          0.5314565575420669,
          0.5283911064806526,
          0.5253245844193564,
          0.5222571070368258,
          0.5191887900477444,
          0.5161197491984686,
          0.5130501002626605,
          0.5099799590369232,
          0.5069094413364275,
          0.5038386629905477,
          0.50076773983849,
          0.4976967877249241,
          0.494625922495611,
          0.4915552599930341,
          0.48848491605203126,
          0.4854150064954203,
          0.4823456471296347,
          0.4792769537403521,
          0.4762090420881288,
          0.4731420279040302,
          0.4700760268852674,
          0.46701115469083,
          0.4639475269371274,
          0.4608852591936232,
          0.4578244669784774,
          0.4547652657541895,
          0.451707770923241,
          0.44865209782374343,
          0.4455983617250856,
          0.44254667782358925,
          0.43949716123815913,
          0.43644992700594254,
          0.433405090077989,
          0.4303627653149158,
          0.42732306748257254,
          0.42428611124771165,
          0.4212520111736669,
          0.41822088171602684,
          0.4151928372183199,
          0.4121679919076997,
          0.4091464598906386,
          0.4061283551486186,
          0.4031137915338362,
          0.4001028827649047,
          0.3970957424225666,
          0.3940924839454068,
          0.39109322062557395,
          0.3880980656045089,
          0.38510713186867235,
          0.3821205322452867,
          0.37913837939807754,
          0.3761607858230257,
          0.3731878638441208,
          0.37021972560912647,
          0.3672564830853471,
          0.3642982480554082,
          0.36134513211303576,
          0.35839724665884787,
          0.35545470289615366,
          0.3525176118267561,
          0.34958608424676685,
          0.3466602307424236,
          0.34374016168592303,
          0.3408259872312532,
          0.33791781731003984,
          0.3350157616273989,
          0.3321199296577996,
          0.32923043064093294,
          0.32634737357758986,
          0.32347086722555385,
          0.3206010200954935,
          0.31773794044687165,
          0.31488173628386035,
          0.3120325153512689,
          0.30919038513047525,
          0.30635545283537513,
          0.303527825408337,
          0.30070760951616615,
          0.2978949115460824,
          0.295089837601706,
          0.29229249349905695,
          0.28950298476255976,
          0.286721416621066,
          0.2839478940038831,
          0.28118252153681766,
          0.27842540353822637,
          0.2756766440150823,
          0.2729363466590511,
          0.27020461484257957,
          0.26748155161499587,
          0.2647672596986221,
          0.2620618414849004,
          0.2593653990305288,
          0.2566780340536124,
          0.2539998479298246,
          0.2513309416885866,
          0.2486714160092522,
          0.2460213712173116,
          0.24338090728060796,
          0.24075012380556388,
          0.23812912003342596,
          0.2355179948365188,
          0.23291684671451907,
          0.23032577379073582,
          0.22774487380841119,
          0.22517424412703224,
          0.22261398171866004,
          0.22006418316426812,
          0.21752494465010247,
          0.21499636196405236,
          0.21247853049203547,
          0.20997154521440103,
          0.207475500702346,
          0.20499049111434947,
          0.20251661019261707,
          0.2000539512595484,
          0.1976026072142143,
          0.1951626705288545,
          0.19273423324538663,
          0.1903173869719359,
          0.18791222287938003,
          0.185518831697907,
          0.1831373037135957,
          0.18076772876500818,
          0.17841019623980203,
          0.17606479507135664,
          0.17373161373542007,
          0.17141074024676917,
          0.16910226215589308,
          0.1668062665456871,
          0.1645228400281688,
          0.16225206874121206,
          0.1599940383452954,
          0.15774883402027245,
          0.1555165404621568,
          0.15329724187992988,
          0.15109102199236157,
          0.14889796402485345,
          0.14671815070629857,
          0.1445516642659624,
          0.14239858643037773,
          0.14025899842026435,
          0.13813298094746496,
          0.13602061421189904,
          0.1339219778985385,
          0.1318371511744012,
          0.12976621268556587,
          0.12770924055420274,
          0.12566631237562909,
          0.12363750521538053,
          0.12162289560630524,
          0.11962255954567541,
          0.11763657249232085,
          0.11566500936378388,
          0.11370794453349042,
          0.11176545182794695,
          0.10983760452395408,
          0.1079244753458436,
          0.10602613646273362,
          0.10414265948580725,
          0.10227411546560966,
          0.10042057488937067,
          0.09858210767834297,
          0.0967587831851654,
          0.09495067019124781,
          0.09315783690417467,
          0.09138035095513353,
          0.08961827939636186,
          0.08787168869862072,
          0.08614064474868421,
          0.08442521284685578,
          0.08272545770450379,
          0.08104144344162245,
          0.07937323358440962,
          0.07772089106287344,
          0.0760844782084577,
          0.07446405675168943,
          0.07285968781985108,
          0.07127143193467433,
          0.06969934901005825,
          0.06814349834980632,
          0.06660393864539238,
          0.06508072797374453,
          0.063573923795056,
          0.06208358295061578,
          0.060609761660665284,
          0.059152515522278404,
          0.05771189950726202,
          0.05628796796008445,
          0.05488077459582419,
          0.05349037249814442,
          0.052116814117289745,
          0.05076015126810807,
          0.0494204351280953,
          0.04809771623546638,
          0.04679204448724711,
          0.045503469137392505,
          0.04423203879492932,
          0.04297780142212154,
          0.041740804332661585,
          0.0405210941898847,
          0.039318717005010495,
          0.03813371813540528,
          0.03696614228287198,
          0.03581603349196366,
          0.03468343514832262,
          0.03356838997704237,
          0.03247094004105716,
          0.03139112673955513,
          0.030328990806415934,
          0.029284572308674595,
          0.02825791064500982,
          0.02724904454425847,
          0.02625801206395323,
          0.025284850588888075,
          0.02432959682970809,
          0.023392286821523778,
          0.022472955922552162,
          0.02157163881278301,
          0.02068836949267089,
          0.019823181281851565,
          0.01897610681788625,
          0.018147178055029523,
          0.01733642626302484,
          0.01654388202592383,
          0.01576957524093342,
          0.015013535117287646,
          0.014275790175145908,
          0.013556368244517114,
          0.012855296464209631,
          0.012172601280808104,
          0.011508308447674975,
          0.010862443023979707,
          0.010235029373752758,
          0.009626091164967598,
          0.009035651368646702,
          0.008463732257995571,
          0.007910355407562741,
          0.007375541692425325,
          0.006859311287402137,
          0.006361683666291973,
          0.0058826776011399184,
          0.005422311161528248,
          0.004980601713895361,
          0.004557565920880524,
          0.004153219740695491,
          0.0037675784265219225,
          0.003400656525936685,
          0.003052467880362675,
          0.0027230256245468487,
          0.0024123421860645644,
          0.0021204292848509554,
          0.0018472979327587291,
          0.0015929584331427216,
          0.0013574203804713747,
          0.0011406926599646372,
          0.0009427834472588992,
          0.0007637002080985167,
          0.0006034496980542037,
          0.0004620379622682358,
          0.00033947033522635506,
          0.00023575144055643094,
          0.00015088519085437735,
          0.00008487478753615996,
          0.00003772272071722593,
          0.00000943076911874563,
          0
         ],
         "yaxis": "y"
        }
       ],
       "layout": {
        "legend": {
         "title": {
          "text": "variable"
         },
         "tracegroupgap": 0
        },
        "margin": {
         "t": 60
        },
        "template": {
         "data": {
          "bar": [
           {
            "error_x": {
             "color": "#2a3f5f"
            },
            "error_y": {
             "color": "#2a3f5f"
            },
            "marker": {
             "line": {
              "color": "#E5ECF6",
              "width": 0.5
             }
            },
            "type": "bar"
           }
          ],
          "barpolar": [
           {
            "marker": {
             "line": {
              "color": "#E5ECF6",
              "width": 0.5
             }
            },
            "type": "barpolar"
           }
          ],
          "carpet": [
           {
            "aaxis": {
             "endlinecolor": "#2a3f5f",
             "gridcolor": "white",
             "linecolor": "white",
             "minorgridcolor": "white",
             "startlinecolor": "#2a3f5f"
            },
            "baxis": {
             "endlinecolor": "#2a3f5f",
             "gridcolor": "white",
             "linecolor": "white",
             "minorgridcolor": "white",
             "startlinecolor": "#2a3f5f"
            },
            "type": "carpet"
           }
          ],
          "choropleth": [
           {
            "colorbar": {
             "outlinewidth": 0,
             "ticks": ""
            },
            "type": "choropleth"
           }
          ],
          "contour": [
           {
            "colorbar": {
             "outlinewidth": 0,
             "ticks": ""
            },
            "colorscale": [
             [
              0,
              "#0d0887"
             ],
             [
              0.1111111111111111,
              "#46039f"
             ],
             [
              0.2222222222222222,
              "#7201a8"
             ],
             [
              0.3333333333333333,
              "#9c179e"
             ],
             [
              0.4444444444444444,
              "#bd3786"
             ],
             [
              0.5555555555555556,
              "#d8576b"
             ],
             [
              0.6666666666666666,
              "#ed7953"
             ],
             [
              0.7777777777777778,
              "#fb9f3a"
             ],
             [
              0.8888888888888888,
              "#fdca26"
             ],
             [
              1,
              "#f0f921"
             ]
            ],
            "type": "contour"
           }
          ],
          "contourcarpet": [
           {
            "colorbar": {
             "outlinewidth": 0,
             "ticks": ""
            },
            "type": "contourcarpet"
           }
          ],
          "heatmap": [
           {
            "colorbar": {
             "outlinewidth": 0,
             "ticks": ""
            },
            "colorscale": [
             [
              0,
              "#0d0887"
             ],
             [
              0.1111111111111111,
              "#46039f"
             ],
             [
              0.2222222222222222,
              "#7201a8"
             ],
             [
              0.3333333333333333,
              "#9c179e"
             ],
             [
              0.4444444444444444,
              "#bd3786"
             ],
             [
              0.5555555555555556,
              "#d8576b"
             ],
             [
              0.6666666666666666,
              "#ed7953"
             ],
             [
              0.7777777777777778,
              "#fb9f3a"
             ],
             [
              0.8888888888888888,
              "#fdca26"
             ],
             [
              1,
              "#f0f921"
             ]
            ],
            "type": "heatmap"
           }
          ],
          "heatmapgl": [
           {
            "colorbar": {
             "outlinewidth": 0,
             "ticks": ""
            },
            "colorscale": [
             [
              0,
              "#0d0887"
             ],
             [
              0.1111111111111111,
              "#46039f"
             ],
             [
              0.2222222222222222,
              "#7201a8"
             ],
             [
              0.3333333333333333,
              "#9c179e"
             ],
             [
              0.4444444444444444,
              "#bd3786"
             ],
             [
              0.5555555555555556,
              "#d8576b"
             ],
             [
              0.6666666666666666,
              "#ed7953"
             ],
             [
              0.7777777777777778,
              "#fb9f3a"
             ],
             [
              0.8888888888888888,
              "#fdca26"
             ],
             [
              1,
              "#f0f921"
             ]
            ],
            "type": "heatmapgl"
           }
          ],
          "histogram": [
           {
            "marker": {
             "colorbar": {
              "outlinewidth": 0,
              "ticks": ""
             }
            },
            "type": "histogram"
           }
          ],
          "histogram2d": [
           {
            "colorbar": {
             "outlinewidth": 0,
             "ticks": ""
            },
            "colorscale": [
             [
              0,
              "#0d0887"
             ],
             [
              0.1111111111111111,
              "#46039f"
             ],
             [
              0.2222222222222222,
              "#7201a8"
             ],
             [
              0.3333333333333333,
              "#9c179e"
             ],
             [
              0.4444444444444444,
              "#bd3786"
             ],
             [
              0.5555555555555556,
              "#d8576b"
             ],
             [
              0.6666666666666666,
              "#ed7953"
             ],
             [
              0.7777777777777778,
              "#fb9f3a"
             ],
             [
              0.8888888888888888,
              "#fdca26"
             ],
             [
              1,
              "#f0f921"
             ]
            ],
            "type": "histogram2d"
           }
          ],
          "histogram2dcontour": [
           {
            "colorbar": {
             "outlinewidth": 0,
             "ticks": ""
            },
            "colorscale": [
             [
              0,
              "#0d0887"
             ],
             [
              0.1111111111111111,
              "#46039f"
             ],
             [
              0.2222222222222222,
              "#7201a8"
             ],
             [
              0.3333333333333333,
              "#9c179e"
             ],
             [
              0.4444444444444444,
              "#bd3786"
             ],
             [
              0.5555555555555556,
              "#d8576b"
             ],
             [
              0.6666666666666666,
              "#ed7953"
             ],
             [
              0.7777777777777778,
              "#fb9f3a"
             ],
             [
              0.8888888888888888,
              "#fdca26"
             ],
             [
              1,
              "#f0f921"
             ]
            ],
            "type": "histogram2dcontour"
           }
          ],
          "mesh3d": [
           {
            "colorbar": {
             "outlinewidth": 0,
             "ticks": ""
            },
            "type": "mesh3d"
           }
          ],
          "parcoords": [
           {
            "line": {
             "colorbar": {
              "outlinewidth": 0,
              "ticks": ""
             }
            },
            "type": "parcoords"
           }
          ],
          "pie": [
           {
            "automargin": true,
            "type": "pie"
           }
          ],
          "scatter": [
           {
            "marker": {
             "colorbar": {
              "outlinewidth": 0,
              "ticks": ""
             }
            },
            "type": "scatter"
           }
          ],
          "scatter3d": [
           {
            "line": {
             "colorbar": {
              "outlinewidth": 0,
              "ticks": ""
             }
            },
            "marker": {
             "colorbar": {
              "outlinewidth": 0,
              "ticks": ""
             }
            },
            "type": "scatter3d"
           }
          ],
          "scattercarpet": [
           {
            "marker": {
             "colorbar": {
              "outlinewidth": 0,
              "ticks": ""
             }
            },
            "type": "scattercarpet"
           }
          ],
          "scattergeo": [
           {
            "marker": {
             "colorbar": {
              "outlinewidth": 0,
              "ticks": ""
             }
            },
            "type": "scattergeo"
           }
          ],
          "scattergl": [
           {
            "marker": {
             "colorbar": {
              "outlinewidth": 0,
              "ticks": ""
             }
            },
            "type": "scattergl"
           }
          ],
          "scattermapbox": [
           {
            "marker": {
             "colorbar": {
              "outlinewidth": 0,
              "ticks": ""
             }
            },
            "type": "scattermapbox"
           }
          ],
          "scatterpolar": [
           {
            "marker": {
             "colorbar": {
              "outlinewidth": 0,
              "ticks": ""
             }
            },
            "type": "scatterpolar"
           }
          ],
          "scatterpolargl": [
           {
            "marker": {
             "colorbar": {
              "outlinewidth": 0,
              "ticks": ""
             }
            },
            "type": "scatterpolargl"
           }
          ],
          "scatterternary": [
           {
            "marker": {
             "colorbar": {
              "outlinewidth": 0,
              "ticks": ""
             }
            },
            "type": "scatterternary"
           }
          ],
          "surface": [
           {
            "colorbar": {
             "outlinewidth": 0,
             "ticks": ""
            },
            "colorscale": [
             [
              0,
              "#0d0887"
             ],
             [
              0.1111111111111111,
              "#46039f"
             ],
             [
              0.2222222222222222,
              "#7201a8"
             ],
             [
              0.3333333333333333,
              "#9c179e"
             ],
             [
              0.4444444444444444,
              "#bd3786"
             ],
             [
              0.5555555555555556,
              "#d8576b"
             ],
             [
              0.6666666666666666,
              "#ed7953"
             ],
             [
              0.7777777777777778,
              "#fb9f3a"
             ],
             [
              0.8888888888888888,
              "#fdca26"
             ],
             [
              1,
              "#f0f921"
             ]
            ],
            "type": "surface"
           }
          ],
          "table": [
           {
            "cells": {
             "fill": {
              "color": "#EBF0F8"
             },
             "line": {
              "color": "white"
             }
            },
            "header": {
             "fill": {
              "color": "#C8D4E3"
             },
             "line": {
              "color": "white"
             }
            },
            "type": "table"
           }
          ]
         },
         "layout": {
          "annotationdefaults": {
           "arrowcolor": "#2a3f5f",
           "arrowhead": 0,
           "arrowwidth": 1
          },
          "autotypenumbers": "strict",
          "coloraxis": {
           "colorbar": {
            "outlinewidth": 0,
            "ticks": ""
           }
          },
          "colorscale": {
           "diverging": [
            [
             0,
             "#8e0152"
            ],
            [
             0.1,
             "#c51b7d"
            ],
            [
             0.2,
             "#de77ae"
            ],
            [
             0.3,
             "#f1b6da"
            ],
            [
             0.4,
             "#fde0ef"
            ],
            [
             0.5,
             "#f7f7f7"
            ],
            [
             0.6,
             "#e6f5d0"
            ],
            [
             0.7,
             "#b8e186"
            ],
            [
             0.8,
             "#7fbc41"
            ],
            [
             0.9,
             "#4d9221"
            ],
            [
             1,
             "#276419"
            ]
           ],
           "sequential": [
            [
             0,
             "#0d0887"
            ],
            [
             0.1111111111111111,
             "#46039f"
            ],
            [
             0.2222222222222222,
             "#7201a8"
            ],
            [
             0.3333333333333333,
             "#9c179e"
            ],
            [
             0.4444444444444444,
             "#bd3786"
            ],
            [
             0.5555555555555556,
             "#d8576b"
            ],
            [
             0.6666666666666666,
             "#ed7953"
            ],
            [
             0.7777777777777778,
             "#fb9f3a"
            ],
            [
             0.8888888888888888,
             "#fdca26"
            ],
            [
             1,
             "#f0f921"
            ]
           ],
           "sequentialminus": [
            [
             0,
             "#0d0887"
            ],
            [
             0.1111111111111111,
             "#46039f"
            ],
            [
             0.2222222222222222,
             "#7201a8"
            ],
            [
             0.3333333333333333,
             "#9c179e"
            ],
            [
             0.4444444444444444,
             "#bd3786"
            ],
            [
             0.5555555555555556,
             "#d8576b"
            ],
            [
             0.6666666666666666,
             "#ed7953"
            ],
            [
             0.7777777777777778,
             "#fb9f3a"
            ],
            [
             0.8888888888888888,
             "#fdca26"
            ],
            [
             1,
             "#f0f921"
            ]
           ]
          },
          "colorway": [
           "#636efa",
           "#EF553B",
           "#00cc96",
           "#ab63fa",
           "#FFA15A",
           "#19d3f3",
           "#FF6692",
           "#B6E880",
           "#FF97FF",
           "#FECB52"
          ],
          "font": {
           "color": "#2a3f5f"
          },
          "geo": {
           "bgcolor": "white",
           "lakecolor": "white",
           "landcolor": "#E5ECF6",
           "showlakes": true,
           "showland": true,
           "subunitcolor": "white"
          },
          "hoverlabel": {
           "align": "left"
          },
          "hovermode": "closest",
          "mapbox": {
           "style": "light"
          },
          "paper_bgcolor": "white",
          "plot_bgcolor": "#E5ECF6",
          "polar": {
           "angularaxis": {
            "gridcolor": "white",
            "linecolor": "white",
            "ticks": ""
           },
           "bgcolor": "#E5ECF6",
           "radialaxis": {
            "gridcolor": "white",
            "linecolor": "white",
            "ticks": ""
           }
          },
          "scene": {
           "xaxis": {
            "backgroundcolor": "#E5ECF6",
            "gridcolor": "white",
            "gridwidth": 2,
            "linecolor": "white",
            "showbackground": true,
            "ticks": "",
            "zerolinecolor": "white"
           },
           "yaxis": {
            "backgroundcolor": "#E5ECF6",
            "gridcolor": "white",
            "gridwidth": 2,
            "linecolor": "white",
            "showbackground": true,
            "ticks": "",
            "zerolinecolor": "white"
           },
           "zaxis": {
            "backgroundcolor": "#E5ECF6",
            "gridcolor": "white",
            "gridwidth": 2,
            "linecolor": "white",
            "showbackground": true,
            "ticks": "",
            "zerolinecolor": "white"
           }
          },
          "shapedefaults": {
           "line": {
            "color": "#2a3f5f"
           }
          },
          "ternary": {
           "aaxis": {
            "gridcolor": "white",
            "linecolor": "white",
            "ticks": ""
           },
           "baxis": {
            "gridcolor": "white",
            "linecolor": "white",
            "ticks": ""
           },
           "bgcolor": "#E5ECF6",
           "caxis": {
            "gridcolor": "white",
            "linecolor": "white",
            "ticks": ""
           }
          },
          "title": {
           "x": 0.05
          },
          "xaxis": {
           "automargin": true,
           "gridcolor": "white",
           "linecolor": "white",
           "ticks": "",
           "title": {
            "standoff": 15
           },
           "zerolinecolor": "white",
           "zerolinewidth": 2
          },
          "yaxis": {
           "automargin": true,
           "gridcolor": "white",
           "linecolor": "white",
           "ticks": "",
           "title": {
            "standoff": 15
           },
           "zerolinecolor": "white",
           "zerolinewidth": 2
          }
         }
        },
        "xaxis": {
         "anchor": "y",
         "domain": [
          0,
          1
         ],
         "title": {
          "text": "index"
         }
        },
        "yaxis": {
         "anchor": "x",
         "domain": [
          0,
          1
         ],
         "title": {
          "text": "value"
         }
        }
       }
      }
     },
     "metadata": {},
     "output_type": "display_data"
    }
   ],
   "source": [
    "window = np.hanning(xb[0].shape[0])\n",
    "import plotly.express as px\n",
    "px.line(window)"
   ]
  },
  {
   "cell_type": "code",
   "execution_count": 374,
   "metadata": {},
   "outputs": [],
   "source": [
    "def plot_spectrogram(spectrogram, fs, hopSize):\n",
    "    t = hopSize*np.arange(spectrogram.shape[0])/fs\n",
    "    f = np.arange(0,fs/2, fs/2/spectrogram.shape[1])\n",
    "\n",
    "    plt.figure(figsize = (15, 7))\n",
    "    plt.xlabel('Time (s)')\n",
    "    plt.ylabel('Freq (Hz)')\n",
    "    plt.pcolormesh(t, f, spectrogram.T)\n",
    "    plt.show()"
   ]
  },
  {
   "cell_type": "code",
   "execution_count": 378,
   "metadata": {},
   "outputs": [
    {
     "name": "stderr",
     "output_type": "stream",
     "text": [
      "<ipython-input-374-f35a1e257f57>:8: MatplotlibDeprecationWarning:\n",
      "\n",
      "shading='flat' when X and Y have the same dimensions as C is deprecated since 3.3.  Either specify the corners of the quadrilaterals with X and Y, or pass shading='auto', 'nearest' or 'gouraud', or set rcParams['pcolor.shading'].  This will become an error two minor releases later.\n",
      "\n"
     ]
    },
    {
     "data": {
      "image/png": "[encoded data removed]",
      "text/plain": [
       "<Figure size 1080x504 with 1 Axes>"
      ]
     },
     "metadata": {
      "needs_background": "light"
     },
     "output_type": "display_data"
    }
   ],
   "source": [
    "plot_spectrogram(stft,44100,512)"
   ]
  },
  {
   "cell_type": "code",
   "execution_count": 333,
   "metadata": {},
   "outputs": [
    {
     "data": {
      "text/plain": [
       "array([     0.        ,     43.06640625,     86.1328125 ,    129.19921875,\n",
       "          172.265625  ,    215.33203125,    258.3984375 ,    301.46484375,\n",
       "          344.53125   ,    387.59765625,    430.6640625 ,    473.73046875,\n",
       "          516.796875  ,    559.86328125,    602.9296875 ,    645.99609375,\n",
       "          689.0625    ,    732.12890625,    775.1953125 ,    818.26171875,\n",
       "          861.328125  ,    904.39453125,    947.4609375 ,    990.52734375,\n",
       "         1033.59375   ,   1076.66015625,   1119.7265625 ,   1162.79296875,\n",
       "         1205.859375  ,   1248.92578125,   1291.9921875 ,   1335.05859375,\n",
       "         1378.125     ,   1421.19140625,   1464.2578125 ,   1507.32421875,\n",
       "         1550.390625  ,   1593.45703125,   1636.5234375 ,   1679.58984375,\n",
       "         1722.65625   ,   1765.72265625,   1808.7890625 ,   1851.85546875,\n",
       "         1894.921875  ,   1937.98828125,   1981.0546875 ,   2024.12109375,\n",
       "         2067.1875    ,   2110.25390625,   2153.3203125 ,   2196.38671875,\n",
       "         2239.453125  ,   2282.51953125,   2325.5859375 ,   2368.65234375,\n",
       "         2411.71875   ,   2454.78515625,   2497.8515625 ,   2540.91796875,\n",
       "         2583.984375  ,   2627.05078125,   2670.1171875 ,   2713.18359375,\n",
       "         2756.25      ,   2799.31640625,   2842.3828125 ,   2885.44921875,\n",
       "         2928.515625  ,   2971.58203125,   3014.6484375 ,   3057.71484375,\n",
       "         3100.78125   ,   3143.84765625,   3186.9140625 ,   3229.98046875,\n",
       "         3273.046875  ,   3316.11328125,   3359.1796875 ,   3402.24609375,\n",
       "         3445.3125    ,   3488.37890625,   3531.4453125 ,   3574.51171875,\n",
       "         3617.578125  ,   3660.64453125,   3703.7109375 ,   3746.77734375,\n",
       "         3789.84375   ,   3832.91015625,   3875.9765625 ,   3919.04296875,\n",
       "         3962.109375  ,   4005.17578125,   4048.2421875 ,   4091.30859375,\n",
       "         4134.375     ,   4177.44140625,   4220.5078125 ,   4263.57421875,\n",
       "         4306.640625  ,   4349.70703125,   4392.7734375 ,   4435.83984375,\n",
       "         4478.90625   ,   4521.97265625,   4565.0390625 ,   4608.10546875,\n",
       "         4651.171875  ,   4694.23828125,   4737.3046875 ,   4780.37109375,\n",
       "         4823.4375    ,   4866.50390625,   4909.5703125 ,   4952.63671875,\n",
       "         4995.703125  ,   5038.76953125,   5081.8359375 ,   5124.90234375,\n",
       "         5167.96875   ,   5211.03515625,   5254.1015625 ,   5297.16796875,\n",
       "         5340.234375  ,   5383.30078125,   5426.3671875 ,   5469.43359375,\n",
       "         5512.5       ,   5555.56640625,   5598.6328125 ,   5641.69921875,\n",
       "         5684.765625  ,   5727.83203125,   5770.8984375 ,   5813.96484375,\n",
       "         5857.03125   ,   5900.09765625,   5943.1640625 ,   5986.23046875,\n",
       "         6029.296875  ,   6072.36328125,   6115.4296875 ,   6158.49609375,\n",
       "         6201.5625    ,   6244.62890625,   6287.6953125 ,   6330.76171875,\n",
       "         6373.828125  ,   6416.89453125,   6459.9609375 ,   6503.02734375,\n",
       "         6546.09375   ,   6589.16015625,   6632.2265625 ,   6675.29296875,\n",
       "         6718.359375  ,   6761.42578125,   6804.4921875 ,   6847.55859375,\n",
       "         6890.625     ,   6933.69140625,   6976.7578125 ,   7019.82421875,\n",
       "         7062.890625  ,   7105.95703125,   7149.0234375 ,   7192.08984375,\n",
       "         7235.15625   ,   7278.22265625,   7321.2890625 ,   7364.35546875,\n",
       "         7407.421875  ,   7450.48828125,   7493.5546875 ,   7536.62109375,\n",
       "         7579.6875    ,   7622.75390625,   7665.8203125 ,   7708.88671875,\n",
       "         7751.953125  ,   7795.01953125,   7838.0859375 ,   7881.15234375,\n",
       "         7924.21875   ,   7967.28515625,   8010.3515625 ,   8053.41796875,\n",
       "         8096.484375  ,   8139.55078125,   8182.6171875 ,   8225.68359375,\n",
       "         8268.75      ,   8311.81640625,   8354.8828125 ,   8397.94921875,\n",
       "         8441.015625  ,   8484.08203125,   8527.1484375 ,   8570.21484375,\n",
       "         8613.28125   ,   8656.34765625,   8699.4140625 ,   8742.48046875,\n",
       "         8785.546875  ,   8828.61328125,   8871.6796875 ,   8914.74609375,\n",
       "         8957.8125    ,   9000.87890625,   9043.9453125 ,   9087.01171875,\n",
       "         9130.078125  ,   9173.14453125,   9216.2109375 ,   9259.27734375,\n",
       "         9302.34375   ,   9345.41015625,   9388.4765625 ,   9431.54296875,\n",
       "         9474.609375  ,   9517.67578125,   9560.7421875 ,   9603.80859375,\n",
       "         9646.875     ,   9689.94140625,   9733.0078125 ,   9776.07421875,\n",
       "         9819.140625  ,   9862.20703125,   9905.2734375 ,   9948.33984375,\n",
       "         9991.40625   ,  10034.47265625,  10077.5390625 ,  10120.60546875,\n",
       "        10163.671875  ,  10206.73828125,  10249.8046875 ,  10292.87109375,\n",
       "        10335.9375    ,  10379.00390625,  10422.0703125 ,  10465.13671875,\n",
       "        10508.203125  ,  10551.26953125,  10594.3359375 ,  10637.40234375,\n",
       "        10680.46875   ,  10723.53515625,  10766.6015625 ,  10809.66796875,\n",
       "        10852.734375  ,  10895.80078125,  10938.8671875 ,  10981.93359375,\n",
       "        11025.        ,  11068.06640625,  11111.1328125 ,  11154.19921875,\n",
       "        11197.265625  ,  11240.33203125,  11283.3984375 ,  11326.46484375,\n",
       "        11369.53125   ,  11412.59765625,  11455.6640625 ,  11498.73046875,\n",
       "        11541.796875  ,  11584.86328125,  11627.9296875 ,  11670.99609375,\n",
       "        11714.0625    ,  11757.12890625,  11800.1953125 ,  11843.26171875,\n",
       "        11886.328125  ,  11929.39453125,  11972.4609375 ,  12015.52734375,\n",
       "        12058.59375   ,  12101.66015625,  12144.7265625 ,  12187.79296875,\n",
       "        12230.859375  ,  12273.92578125,  12316.9921875 ,  12360.05859375,\n",
       "        12403.125     ,  12446.19140625,  12489.2578125 ,  12532.32421875,\n",
       "        12575.390625  ,  12618.45703125,  12661.5234375 ,  12704.58984375,\n",
       "        12747.65625   ,  12790.72265625,  12833.7890625 ,  12876.85546875,\n",
       "        12919.921875  ,  12962.98828125,  13006.0546875 ,  13049.12109375,\n",
       "        13092.1875    ,  13135.25390625,  13178.3203125 ,  13221.38671875,\n",
       "        13264.453125  ,  13307.51953125,  13350.5859375 ,  13393.65234375,\n",
       "        13436.71875   ,  13479.78515625,  13522.8515625 ,  13565.91796875,\n",
       "        13608.984375  ,  13652.05078125,  13695.1171875 ,  13738.18359375,\n",
       "        13781.25      ,  13824.31640625,  13867.3828125 ,  13910.44921875,\n",
       "        13953.515625  ,  13996.58203125,  14039.6484375 ,  14082.71484375,\n",
       "        14125.78125   ,  14168.84765625,  14211.9140625 ,  14254.98046875,\n",
       "        14298.046875  ,  14341.11328125,  14384.1796875 ,  14427.24609375,\n",
       "        14470.3125    ,  14513.37890625,  14556.4453125 ,  14599.51171875,\n",
       "        14642.578125  ,  14685.64453125,  14728.7109375 ,  14771.77734375,\n",
       "        14814.84375   ,  14857.91015625,  14900.9765625 ,  14944.04296875,\n",
       "        14987.109375  ,  15030.17578125,  15073.2421875 ,  15116.30859375,\n",
       "        15159.375     ,  15202.44140625,  15245.5078125 ,  15288.57421875,\n",
       "        15331.640625  ,  15374.70703125,  15417.7734375 ,  15460.83984375,\n",
       "        15503.90625   ,  15546.97265625,  15590.0390625 ,  15633.10546875,\n",
       "        15676.171875  ,  15719.23828125,  15762.3046875 ,  15805.37109375,\n",
       "        15848.4375    ,  15891.50390625,  15934.5703125 ,  15977.63671875,\n",
       "        16020.703125  ,  16063.76953125,  16106.8359375 ,  16149.90234375,\n",
       "        16192.96875   ,  16236.03515625,  16279.1015625 ,  16322.16796875,\n",
       "        16365.234375  ,  16408.30078125,  16451.3671875 ,  16494.43359375,\n",
       "        16537.5       ,  16580.56640625,  16623.6328125 ,  16666.69921875,\n",
       "        16709.765625  ,  16752.83203125,  16795.8984375 ,  16838.96484375,\n",
       "        16882.03125   ,  16925.09765625,  16968.1640625 ,  17011.23046875,\n",
       "        17054.296875  ,  17097.36328125,  17140.4296875 ,  17183.49609375,\n",
       "        17226.5625    ,  17269.62890625,  17312.6953125 ,  17355.76171875,\n",
       "        17398.828125  ,  17441.89453125,  17484.9609375 ,  17528.02734375,\n",
       "        17571.09375   ,  17614.16015625,  17657.2265625 ,  17700.29296875,\n",
       "        17743.359375  ,  17786.42578125,  17829.4921875 ,  17872.55859375,\n",
       "        17915.625     ,  17958.69140625,  18001.7578125 ,  18044.82421875,\n",
       "        18087.890625  ,  18130.95703125,  18174.0234375 ,  18217.08984375,\n",
       "        18260.15625   ,  18303.22265625,  18346.2890625 ,  18389.35546875,\n",
       "        18432.421875  ,  18475.48828125,  18518.5546875 ,  18561.62109375,\n",
       "        18604.6875    ,  18647.75390625,  18690.8203125 ,  18733.88671875,\n",
       "        18776.953125  ,  18820.01953125,  18863.0859375 ,  18906.15234375,\n",
       "        18949.21875   ,  18992.28515625,  19035.3515625 ,  19078.41796875,\n",
       "        19121.484375  ,  19164.55078125,  19207.6171875 ,  19250.68359375,\n",
       "        19293.75      ,  19336.81640625,  19379.8828125 ,  19422.94921875,\n",
       "        19466.015625  ,  19509.08203125,  19552.1484375 ,  19595.21484375,\n",
       "        19638.28125   ,  19681.34765625,  19724.4140625 ,  19767.48046875,\n",
       "        19810.546875  ,  19853.61328125,  19896.6796875 ,  19939.74609375,\n",
       "        19982.8125    ,  20025.87890625,  20068.9453125 ,  20112.01171875,\n",
       "        20155.078125  ,  20198.14453125,  20241.2109375 ,  20284.27734375,\n",
       "        20327.34375   ,  20370.41015625,  20413.4765625 ,  20456.54296875,\n",
       "        20499.609375  ,  20542.67578125,  20585.7421875 ,  20628.80859375,\n",
       "        20671.875     ,  20714.94140625,  20758.0078125 ,  20801.07421875,\n",
       "        20844.140625  ,  20887.20703125,  20930.2734375 ,  20973.33984375,\n",
       "        21016.40625   ,  21059.47265625,  21102.5390625 ,  21145.60546875,\n",
       "        21188.671875  ,  21231.73828125,  21274.8046875 ,  21317.87109375,\n",
       "        21360.9375    ,  21404.00390625,  21447.0703125 ,  21490.13671875,\n",
       "        21533.203125  ,  21576.26953125,  21619.3359375 ,  21662.40234375,\n",
       "        21705.46875   ,  21748.53515625,  21791.6015625 ,  21834.66796875,\n",
       "        21877.734375  ,  21920.80078125,  21963.8671875 ,  22006.93359375,\n",
       "       -22050.        ])"
      ]
     },
     "execution_count": 333,
     "metadata": {},
     "output_type": "execute_result"
    }
   ],
   "source": [
    "freqs[1]"
   ]
  },
  {
   "cell_type": "code",
   "execution_count": 327,
   "metadata": {},
   "outputs": [
    {
     "data": {
      "application/vnd.plotly.v1+json": {
       "config": {
        "plotlyServerURL": "https://plot.ly"
       },
       "data": [
        {
         "hovertemplate": "x=%{x}<br>y=%{y}<extra></extra>",
         "legendgroup": "",
         "line": {
          "color": "#636efa",
          "dash": "solid"
         },
         "mode": "lines",
         "name": "",
         "orientation": "v",
         "showlegend": false,
         "type": "scatter",
         "x": [
          0,
          43.06640625,
          86.1328125,
          129.19921875,
          172.265625,
          215.33203125,
          258.3984375,
          301.46484375,
          344.53125,
          387.59765625,
          430.6640625,
          473.73046875,
          516.796875,
          559.86328125,
          602.9296875,
          645.99609375,
          689.0625,
          732.12890625,
          775.1953125,
          818.26171875,
          861.328125,
          904.39453125,
          947.4609375,
          990.52734375,
          1033.59375,
          1076.66015625,
          1119.7265625,
          1162.79296875,
          1205.859375,
          1248.92578125,
          1291.9921875,
          1335.05859375,
          1378.125,
          1421.19140625,
          1464.2578125,
          1507.32421875,
          1550.390625,
          1593.45703125,
          1636.5234375,
          1679.58984375,
          1722.65625,
          1765.72265625,
          1808.7890625,
          1851.85546875,
          1894.921875,
          1937.98828125,
          1981.0546875,
          2024.12109375,
          2067.1875,
          2110.25390625,
          2153.3203125,
          2196.38671875,
          2239.453125,
          2282.51953125,
          2325.5859375,
          2368.65234375,
          2411.71875,
          2454.78515625,
          2497.8515625,
          2540.91796875,
          2583.984375,
          2627.05078125,
          2670.1171875,
          2713.18359375,
          2756.25,
          2799.31640625,
          2842.3828125,
          2885.44921875,
          2928.515625,
          2971.58203125,
          3014.6484375,
          3057.71484375,
          3100.78125,
          3143.84765625,
          3186.9140625,
          3229.98046875,
          3273.046875,
          3316.11328125,
          3359.1796875,
          3402.24609375,
          3445.3125,
          3488.37890625,
          3531.4453125,
          3574.51171875,
          3617.578125,
          3660.64453125,
          3703.7109375,
          3746.77734375,
          3789.84375,
          3832.91015625,
          3875.9765625,
          3919.04296875,
          3962.109375,
          4005.17578125,
          4048.2421875,
          4091.30859375,
          4134.375,
          4177.44140625,
          4220.5078125,
          4263.57421875,
          4306.640625,
          4349.70703125,
          4392.7734375,
          4435.83984375,
          4478.90625,
          4521.97265625,
          4565.0390625,
          4608.10546875,
          4651.171875,
          4694.23828125,
          4737.3046875,
          4780.37109375,
          4823.4375,
          4866.50390625,
          4909.5703125,
          4952.63671875,
          4995.703125,
          5038.76953125,
          5081.8359375,
          5124.90234375,
          5167.96875,
          5211.03515625,
          5254.1015625,
          5297.16796875,
          5340.234375,
          5383.30078125,
          5426.3671875,
          5469.43359375,
          5512.5,
          5555.56640625,
          5598.6328125,
          5641.69921875,
          5684.765625,
          5727.83203125,
          5770.8984375,
          5813.96484375,
          5857.03125,
          5900.09765625,
          5943.1640625,
          5986.23046875,
          6029.296875,
          6072.36328125,
          6115.4296875,
          6158.49609375,
          6201.5625,
          6244.62890625,
          6287.6953125,
          6330.76171875,
          6373.828125,
          6416.89453125,
          6459.9609375,
          6503.02734375,
          6546.09375,
          6589.16015625,
          6632.2265625,
          6675.29296875,
          6718.359375,
          6761.42578125,
          6804.4921875,
          6847.55859375,
          6890.625,
          6933.69140625,
          6976.7578125,
          7019.82421875,
          7062.890625,
          7105.95703125,
          7149.0234375,
          7192.08984375,
          7235.15625,
          7278.22265625,
          7321.2890625,
          7364.35546875,
          7407.421875,
          7450.48828125,
          7493.5546875,
          7536.62109375,
          7579.6875,
          7622.75390625,
          7665.8203125,
          7708.88671875,
          7751.953125,
          7795.01953125,
          7838.0859375,
          7881.15234375,
          7924.21875,
          7967.28515625,
          8010.3515625,
          8053.41796875,
          8096.484375,
          8139.55078125,
          8182.6171875,
          8225.68359375,
          8268.75,
          8311.81640625,
          8354.8828125,
          8397.94921875,
          8441.015625,
          8484.08203125,
          8527.1484375,
          8570.21484375,
          8613.28125,
          8656.34765625,
          8699.4140625,
          8742.48046875,
          8785.546875,
          8828.61328125,
          8871.6796875,
          8914.74609375,
          8957.8125,
          9000.87890625,
          9043.9453125,
          9087.01171875,
          9130.078125,
          9173.14453125,
          9216.2109375,
          9259.27734375,
          9302.34375,
          9345.41015625,
          9388.4765625,
          9431.54296875,
          9474.609375,
          9517.67578125,
          9560.7421875,
          9603.80859375,
          9646.875,
          9689.94140625,
          9733.0078125,
          9776.07421875,
          9819.140625,
          9862.20703125,
          9905.2734375,
          9948.33984375,
          9991.40625,
          10034.47265625,
          10077.5390625,
          10120.60546875,
          10163.671875,
          10206.73828125,
          10249.8046875,
          10292.87109375,
          10335.9375,
          10379.00390625,
          10422.0703125,
          10465.13671875,
          10508.203125,
          10551.26953125,
          10594.3359375,
          10637.40234375,
          10680.46875,
          10723.53515625,
          10766.6015625,
          10809.66796875,
          10852.734375,
          10895.80078125,
          10938.8671875,
          10981.93359375,
          11025,
          11068.06640625,
          11111.1328125,
          11154.19921875,
          11197.265625,
          11240.33203125,
          11283.3984375,
          11326.46484375,
          11369.53125,
          11412.59765625,
          11455.6640625,
          11498.73046875,
          11541.796875,
          11584.86328125,
          11627.9296875,
          11670.99609375,
          11714.0625,
          11757.12890625,
          11800.1953125,
          11843.26171875,
          11886.328125,
          11929.39453125,
          11972.4609375,
          12015.52734375,
          12058.59375,
          12101.66015625,
          12144.7265625,
          12187.79296875,
          12230.859375,
          12273.92578125,
          12316.9921875,
          12360.05859375,
          12403.125,
          12446.19140625,
          12489.2578125,
          12532.32421875,
          12575.390625,
          12618.45703125,
          12661.5234375,
          12704.58984375,
          12747.65625,
          12790.72265625,
          12833.7890625,
          12876.85546875,
          12919.921875,
          12962.98828125,
          13006.0546875,
          13049.12109375,
          13092.1875,
          13135.25390625,
          13178.3203125,
          13221.38671875,
          13264.453125,
          13307.51953125,
          13350.5859375,
          13393.65234375,
          13436.71875,
          13479.78515625,
          13522.8515625,
          13565.91796875,
          13608.984375,
          13652.05078125,
          13695.1171875,
          13738.18359375,
          13781.25,
          13824.31640625,
          13867.3828125,
          13910.44921875,
          13953.515625,
          13996.58203125,
          14039.6484375,
          14082.71484375,
          14125.78125,
          14168.84765625,
          14211.9140625,
          14254.98046875,
          14298.046875,
          14341.11328125,
          14384.1796875,
          14427.24609375,
          14470.3125,
          14513.37890625,
          14556.4453125,
          14599.51171875,
          14642.578125,
          14685.64453125,
          14728.7109375,
          14771.77734375,
          14814.84375,
          14857.91015625,
          14900.9765625,
          14944.04296875,
          14987.109375,
          15030.17578125,
          15073.2421875,
          15116.30859375,
          15159.375,
          15202.44140625,
          15245.5078125,
          15288.57421875,
          15331.640625,
          15374.70703125,
          15417.7734375,
          15460.83984375,
          15503.90625,
          15546.97265625,
          15590.0390625,
          15633.10546875,
          15676.171875,
          15719.23828125,
          15762.3046875,
          15805.37109375,
          15848.4375,
          15891.50390625,
          15934.5703125,
          15977.63671875,
          16020.703125,
          16063.76953125,
          16106.8359375,
          16149.90234375,
          16192.96875,
          16236.03515625,
          16279.1015625,
          16322.16796875,
          16365.234375,
          16408.30078125,
          16451.3671875,
          16494.43359375,
          16537.5,
          16580.56640625,
          16623.6328125,
          16666.69921875,
          16709.765625,
          16752.83203125,
          16795.8984375,
          16838.96484375,
          16882.03125,
          16925.09765625,
          16968.1640625,
          17011.23046875,
          17054.296875,
          17097.36328125,
          17140.4296875,
          17183.49609375,
          17226.5625,
          17269.62890625,
          17312.6953125,
          17355.76171875,
          17398.828125,
          17441.89453125,
          17484.9609375,
          17528.02734375,
          17571.09375,
          17614.16015625,
          17657.2265625,
          17700.29296875,
          17743.359375,
          17786.42578125,
          17829.4921875,
          17872.55859375,
          17915.625,
          17958.69140625,
          18001.7578125,
          18044.82421875,
          18087.890625,
          18130.95703125,
          18174.0234375,
          18217.08984375,
          18260.15625,
          18303.22265625,
          18346.2890625,
          18389.35546875,
          18432.421875,
          18475.48828125,
          18518.5546875,
          18561.62109375,
          18604.6875,
          18647.75390625,
          18690.8203125,
          18733.88671875,
          18776.953125,
          18820.01953125,
          18863.0859375,
          18906.15234375,
          18949.21875,
          18992.28515625,
          19035.3515625,
          19078.41796875,
          19121.484375,
          19164.55078125,
          19207.6171875,
          19250.68359375,
          19293.75,
          19336.81640625,
          19379.8828125,
          19422.94921875,
          19466.015625,
          19509.08203125,
          19552.1484375,
          19595.21484375,
          19638.28125,
          19681.34765625,
          19724.4140625,
          19767.48046875,
          19810.546875,
          19853.61328125,
          19896.6796875,
          19939.74609375,
          19982.8125,
          20025.87890625,
          20068.9453125,
          20112.01171875,
          20155.078125,
          20198.14453125,
          20241.2109375,
          20284.27734375,
          20327.34375,
          20370.41015625,
          20413.4765625,
          20456.54296875,
          20499.609375,
          20542.67578125,
          20585.7421875,
          20628.80859375,
          20671.875,
          20714.94140625,
          20758.0078125,
          20801.07421875,
          20844.140625,
          20887.20703125,
          20930.2734375,
          20973.33984375,
          21016.40625,
          21059.47265625,
          21102.5390625,
          21145.60546875,
          21188.671875,
          21231.73828125,
          21274.8046875,
          21317.87109375,
          21360.9375,
          21404.00390625,
          21447.0703125,
          21490.13671875,
          21533.203125,
          21576.26953125,
          21619.3359375,
          21662.40234375,
          21705.46875,
          21748.53515625,
          21791.6015625,
          21834.66796875,
          21877.734375,
          21920.80078125,
          21963.8671875,
          22006.93359375,
          -22050
         ],
         "xaxis": "x",
         "y": [
          0.6764996539636163,
          1.0322558269570472,
          0.17846115984691657,
          0.21503250988012512,
          0.05892099181348658,
          0.015226280199570216,
          0.035339298096575426,
          0.0071501880233436335,
          0.009148568017465037,
          0.005239542027146417,
          0.00845157561812077,
          0.01207867848726208,
          0.006010531738747583,
          0.007920609181655065,
          0.01326452084685556,
          0.01679872758106664,
          0.012374592535105844,
          0.0022137256148598823,
          0.004443995075262645,
          0.015375456283777076,
          0.0038862186985104403,
          0.01751315560990484,
          0.013285471718375649,
          0.008541128873487812,
          0.010703955825048737,
          0.00931852345755772,
          0.013439430407934409,
          0.021137407639321353,
          0.026061961571009016,
          0.0191859984205864,
          0.01272554916657093,
          0.020878601056491447,
          0.018181773977942507,
          0.018045758301610187,
          0.00456722296946184,
          0.010616467419872433,
          0.017109315559611215,
          0.01279630061557127,
          0.017182001304518302,
          0.047016651083145095,
          0.024590167283555436,
          0.018268472085308574,
          0.011982191053131327,
          0.02192051773846135,
          0.008559389841128064,
          0.0037292441392643336,
          0.010918897665834976,
          0.020119213830975615,
          0.030180678752215535,
          0.027645392633177522,
          0.016545636946394812,
          0.009484846282212411,
          0.008094716577726927,
          0.012524325742042746,
          0.01026995917899377,
          0.013830583023878124,
          0.0077413022460258414,
          0.011523949607117981,
          0.00840090803630817,
          0.0024693885462193556,
          0.0048758178255940065,
          0.005161859731143561,
          0.005741831269434603,
          0.0072906618525742225,
          0.004000473554793527,
          0.003060382837596805,
          0.002064853206986243,
          0.006450102170398746,
          0.0007276697074144204,
          0.00819555533624471,
          0.004541659824759012,
          0.00796487120797858,
          0.012718992127520187,
          0.004717745438946281,
          0.0020948676093817922,
          0.003761116236770158,
          0.002243096352190826,
          0.0064138629052728,
          0.006596125366331273,
          0.006355821964741086,
          0.006123194847815452,
          0.0036488020903683977,
          0.004454733072374698,
          0.0066069904022084455,
          0.006695206709815903,
          0.00539032467213461,
          0.002122917071973264,
          0.005519532702693829,
          0.0034923644690706256,
          0.004706980694411909,
          0.004980024249226223,
          0.0024258541847775776,
          0.0015272594197793174,
          0.001574489540914833,
          0.004999181734887837,
          0.01006645801759485,
          0.010873099876213536,
          0.008490569567359814,
          0.007680301966483293,
          0.010451710901484513,
          0.0020482766791839998,
          0.010237106067790117,
          0.009939283404352704,
          0.004237076083247105,
          0.0033069746428617546,
          0.0032662204487596772,
          0.003400696773766187,
          0.0018445812633724533,
          0.004046518874819559,
          0.008151517888555802,
          0.004063860662078214,
          0.00781819908258677,
          0.0068924431583600515,
          0.005334899296195304,
          0.00843337557157782,
          0.0021373958110514815,
          0.004058915304385355,
          0.0056407176807532055,
          0.002047918697762638,
          0.007385645671697116,
          0.009791934201540162,
          0.01211539129934352,
          0.01452434890152347,
          0.00779599674254569,
          0.004395134825412901,
          0.008297914489036119,
          0.012643262180939318,
          0.008333489953288819,
          0.006890422211187611,
          0.008841163315738724,
          0.006464206659055429,
          0.0048344642762065924,
          0.006862489783244082,
          0.005194892152493262,
          0.003537448114012644,
          0.0031890185395505493,
          0.0042505351306674505,
          0.006154706627128281,
          0.005811690829056926,
          0.006250581486130536,
          0.003808791928616191,
          0.002962632637222692,
          0.0022644656226291026,
          0.0037155238162189345,
          0.004758193520780122,
          0.005624739631817322,
          0.0023306917766393797,
          0.00521232764321526,
          0.009655086002872452,
          0.012966214223296706,
          0.010726909383532006,
          0.003915877524784185,
          0.0014418374619770819,
          0.00044586546841915816,
          0.0042170090543500564,
          0.007304629179087752,
          0.005897201937671449,
          0.001084323987584757,
          0.0021935855368784476,
          0.003465756129986701,
          0.004225712736513939,
          0.0022910681306312548,
          0.00391704783184123,
          0.003581169309490089,
          0.0020288744853264127,
          0.0017183817209127626,
          0.0051843520126276955,
          0.004919587237865412,
          0.004926605295707862,
          0.00387299825187719,
          0.0013643258337352909,
          0.004842000595046081,
          0.005940245340179405,
          0.005767139709197434,
          0.0035196804827559874,
          0.003990869753204328,
          0.003946602681231952,
          0.0018937846282963157,
          0.008564811274991434,
          0.009498849010733824,
          0.002386094038216082,
          0.003879761540595895,
          0.0035400346094433956,
          0.002063193245558121,
          0.0057769168448819465,
          0.00218611102292373,
          0.008367584693186544,
          0.0037215003440999503,
          0.008705064331506298,
          0.008462605484505477,
          0.006940566008406181,
          0.00827554091279693,
          0.008375496619864626,
          0.006302432494616291,
          0.0025822584552609488,
          0.004033506619872743,
          0.006640083181749012,
          0.007794526647322041,
          0.004170693298655341,
          0.0028702555283001644,
          0.00621584149934407,
          0.0027425127913029866,
          0.00010937401289367159,
          0.00322456555738712,
          0.003390292767082771,
          0.0050822709749855964,
          0.010375544305091841,
          0.006792075972946306,
          0.009289557732565503,
          0.012546253062397258,
          0.00705976239791541,
          0.006172335626389348,
          0.005388068268710155,
          0.004878422025924442,
          0.006681224387415926,
          0.002880403400473969,
          0.0026872953290303565,
          0.004190952651520808,
          0.009847079000613993,
          0.009995829390792021,
          0.004434019569093964,
          0.00896497030811045,
          0.004944318994958537,
          0.012098585393997878,
          0.00957666077484667,
          0.005627798995838692,
          0.009901560683288806,
          0.007520966314063933,
          0.007955525534340896,
          0.006081907859819251,
          0.005765543789313495,
          0.007673117618224474,
          0.010275582959028357,
          0.005555473455327869,
          0.006255113420083704,
          0.007606316338800727,
          0.005252568087317879,
          0.002284214576288623,
          0.004483904528518624,
          0.011843501071407702,
          0.010461643011758004,
          0.006620114871709674,
          0.010402929690061413,
          0.012166657984752418,
          0.004145296706866612,
          0.00572663549164656,
          0.0038772481869768596,
          0.004646605129527333,
          0.0027160120611209723,
          0.0038914794571283705,
          0.009996293470569812,
          0.011421081324875028,
          0.00836064086936922,
          0.009054390890094317,
          0.010873208421100474,
          0.01264191165779138,
          0.012123520429566815,
          0.0017700018860884368,
          0.009118263410332913,
          0.005779457562528498,
          0.002521058070110888,
          0.00654116071731015,
          0.009277413142727512,
          0.004630498997680766,
          0.013560689872483222,
          0.01174848107110548,
          0.007792359870106395,
          0.007005917627984638,
          0.00417300279260106,
          0.006018661444706127,
          0.0036555857060897477,
          0.00475049331413743,
          0.0027450920052973634,
          0.006837894363181378,
          0.006055846396493061,
          0.005561193370353944,
          0.009397179580019026,
          0.005646891961188986,
          0.004397887044491258,
          0.008917365339154425,
          0.012415662105451593,
          0.012653859488099169,
          0.012043119578766786,
          0.009935728918505471,
          0.011409470847189913,
          0.012007446844437808,
          0.010794368617943025,
          0.008261153063667382,
          0.00936089704788172,
          0.012992391553699807,
          0.012591507063656132,
          0.013193006390381585,
          0.011156559202979656,
          0.00351770382620703,
          0.007379566217876864,
          0.006399311277250435,
          0.005759974548038911,
          0.0037395574110680777,
          0.0005666989629868125,
          0.003734109806318921,
          0.0021651522475121788,
          0.004973667277328069,
          0.006490620826337699,
          0.005888823767790279,
          0.0022182273422980785,
          0.0038061868395388274,
          0.00363005221465146,
          0.0031643099056430824,
          0.0051707616459332716,
          0.00934089797915092,
          0.004331706710835416,
          0.004883927540679689,
          0.0078979274765109,
          0.005809700859918555,
          0.003132924297179633,
          0.000989971247306001,
          0.001184905574452272,
          0.005069920504242239,
          0.008785974399477358,
          0.005155841751497158,
          0.0029390324814436743,
          0.005445585670751422,
          0.00425167947859377,
          0.0005012434495677554,
          0.0032710730417064692,
          0.002107981517406166,
          0.0076380396467740745,
          0.006593572294254765,
          0.0010409220465205078,
          0.003100365505045862,
          0.005686378313133829,
          0.014528377839624821,
          0.005249424717125238,
          0.01054132971910508,
          0.012336657083448532,
          0.0074793993290471214,
          0.008793683841121221,
          0.003087794097071677,
          0.0040867705286174606,
          0.007190595721546641,
          0.005418449725040017,
          0.002561088470701121,
          0.0075291681024937775,
          0.007231751286094842,
          0.007200045638289127,
          0.0076276231696545144,
          0.006755248734387297,
          0.007018559054456332,
          0.010085770486546939,
          0.005047020169345357,
          0.005752084633881844,
          0.017520802136578695,
          0.015514406311662208,
          0.008837185247467755,
          0.00454511040312186,
          0.0021785341126757084,
          0.003729461707749602,
          0.006586470126509934,
          0.00861797884914877,
          0.004512354931630401,
          0.003118749250474047,
          0.002530859393738704,
          0.005182621029777731,
          0.002484204416078446,
          0.009855096597232401,
          0.009999335286740761,
          0.0036374743450480825,
          0.007817982696003692,
          0.01421229259454381,
          0.012934262306749926,
          0.009093912806923508,
          0.006952601046367319,
          0.0058604862701232925,
          0.0019614302864581793,
          0.0067576078037676676,
          0.006787328056149753,
          0.0064951416016495395,
          0.003746799117670547,
          0.00536310621758656,
          0.014511186138584419,
          0.020501071047291392,
          0.011840427507849699,
          0.008415235331755951,
          0.0066359180639645006,
          0.005332563513714497,
          0.00747339079344313,
          0.0008144776942542657,
          0.001522593667590328,
          0.008341442347885083,
          0.01487995837496271,
          0.013739739698934819,
          0.005530556129760753,
          0.004960405850617373,
          0.004350691696127223,
          0.005826189648326736,
          0.005891280523647555,
          0.008603344745367891,
          0.014235913243183877,
          0.01226175619300375,
          0.00868284915692017,
          0.0018671172862563595,
          0.008940316328068321,
          0.016833777520820582,
          0.01453671956551819,
          0.012769005042556424,
          0.009970782960309768,
          0.006936774704071187,
          0.005261527250107984,
          0.007440863478815386,
          0.0063886080397020035,
          0.0027869497449840466,
          0.007367767906336174,
          0.007778088859282568,
          0.011966577727937869,
          0.007835642514474607,
          0.002817414232455061,
          0.008774679418678355,
          0.015012655817737253,
          0.014614169552164219,
          0.010711424934689347,
          0.007674773478048118,
          0.011006786343010885,
          0.010107682188984978,
          0.00614866324689311,
          0.004192822472567185,
          0.004233463940697884,
          0.004328252013115804,
          0.007973809961285029,
          0.010801894058483195,
          0.006312632695023446,
          0.00912948208879209,
          0.007316152004573194,
          0.004553073960635577,
          0.003389207308461916,
          0.0012244518113480743,
          0.0008404373490142428,
          0.0005262995535785736,
          0.00013408030083561146,
          0.0002522922534330928,
          0.00015064607801326807,
          0.00010799662518252394,
          0.00012630589770700897,
          0.00006795848679645575,
          0.00009552844832008556,
          0.00007354388059963179,
          0.00012290992141494072,
          0.00017366882295931563,
          0.0003329226040621528,
          0.0002926188121225631,
          0.00014162231704018593,
          0.00015634009825188334,
          0.00022837427969982135,
          0.00006858986931046456,
          0.00011369721324780007,
          0.0000079613193260477,
          0.0001144203583338431,
          0.00014971660397644282,
          0.00017286055671271425,
          0.00002541693709822776,
          0.00012772031726305332,
          0.00011772912693786241,
          0.000012766796106514973,
          0.00004447415692277136,
          0.00005196706531033729,
          0.00014144597674092599,
          0.00014980486121113652,
          0.00012676725648770923,
          0.00021540090460502316,
          0.0001301913541508266,
          0.0001391270072920961,
          0.00016678874809896335,
          0.00015357265106681172,
          0.00021774601256051824,
          0.00013644348897464136,
          0.00013328804152339222,
          0.0001421224585890664,
          0.00021856791794354184,
          0.0002176788483688507,
          0.00023970408927255637,
          0.00013359334353266777,
          0.00027615154078858674,
          0.00033207648205861346,
          0.00012891758606570984,
          0.0000984971075511109,
          0.00011012265477297136,
          0.000275809336232335,
          0.00025828327385596215,
          0.0000762980251155072,
          0.00019435141621881828,
          0.0002628557055290226,
          0.0002423210483450885,
          0.000267979018726805,
          0.000269347773248247,
          0.00005212426969221537,
          0.00020162670715592667,
          0.00014614455042735546,
          0.000043633586234686094,
          0.0001230913426914855,
          0.00016683065941648848,
          0.00006336826070385475,
          0.00013842422904357604,
          0.0002260501034266743,
          0.0001854438915328837,
          0.0001190423879944762,
          0.00005129702050514624,
          0.00010620752526959537,
          0.00016489759935609996,
          0.000059436244948957424,
          0.00009239690031228759,
          0.00003658393475107899,
          0.00010115162112598056,
          0.00008190822470526303,
          0.000020395642978510153
         ],
         "yaxis": "y"
        }
       ],
       "layout": {
        "legend": {
         "tracegroupgap": 0
        },
        "margin": {
         "t": 60
        },
        "template": {
         "data": {
          "bar": [
           {
            "error_x": {
             "color": "#2a3f5f"
            },
            "error_y": {
             "color": "#2a3f5f"
            },
            "marker": {
             "line": {
              "color": "#E5ECF6",
              "width": 0.5
             }
            },
            "type": "bar"
           }
          ],
          "barpolar": [
           {
            "marker": {
             "line": {
              "color": "#E5ECF6",
              "width": 0.5
             }
            },
            "type": "barpolar"
           }
          ],
          "carpet": [
           {
            "aaxis": {
             "endlinecolor": "#2a3f5f",
             "gridcolor": "white",
             "linecolor": "white",
             "minorgridcolor": "white",
             "startlinecolor": "#2a3f5f"
            },
            "baxis": {
             "endlinecolor": "#2a3f5f",
             "gridcolor": "white",
             "linecolor": "white",
             "minorgridcolor": "white",
             "startlinecolor": "#2a3f5f"
            },
            "type": "carpet"
           }
          ],
          "choropleth": [
           {
            "colorbar": {
             "outlinewidth": 0,
             "ticks": ""
            },
            "type": "choropleth"
           }
          ],
          "contour": [
           {
            "colorbar": {
             "outlinewidth": 0,
             "ticks": ""
            },
            "colorscale": [
             [
              0,
              "#0d0887"
             ],
             [
              0.1111111111111111,
              "#46039f"
             ],
             [
              0.2222222222222222,
              "#7201a8"
             ],
             [
              0.3333333333333333,
              "#9c179e"
             ],
             [
              0.4444444444444444,
              "#bd3786"
             ],
             [
              0.5555555555555556,
              "#d8576b"
             ],
             [
              0.6666666666666666,
              "#ed7953"
             ],
             [
              0.7777777777777778,
              "#fb9f3a"
             ],
             [
              0.8888888888888888,
              "#fdca26"
             ],
             [
              1,
              "#f0f921"
             ]
            ],
            "type": "contour"
           }
          ],
          "contourcarpet": [
           {
            "colorbar": {
             "outlinewidth": 0,
             "ticks": ""
            },
            "type": "contourcarpet"
           }
          ],
          "heatmap": [
           {
            "colorbar": {
             "outlinewidth": 0,
             "ticks": ""
            },
            "colorscale": [
             [
              0,
              "#0d0887"
             ],
             [
              0.1111111111111111,
              "#46039f"
             ],
             [
              0.2222222222222222,
              "#7201a8"
             ],
             [
              0.3333333333333333,
              "#9c179e"
             ],
             [
              0.4444444444444444,
              "#bd3786"
             ],
             [
              0.5555555555555556,
              "#d8576b"
             ],
             [
              0.6666666666666666,
              "#ed7953"
             ],
             [
              0.7777777777777778,
              "#fb9f3a"
             ],
             [
              0.8888888888888888,
              "#fdca26"
             ],
             [
              1,
              "#f0f921"
             ]
            ],
            "type": "heatmap"
           }
          ],
          "heatmapgl": [
           {
            "colorbar": {
             "outlinewidth": 0,
             "ticks": ""
            },
            "colorscale": [
             [
              0,
              "#0d0887"
             ],
             [
              0.1111111111111111,
              "#46039f"
             ],
             [
              0.2222222222222222,
              "#7201a8"
             ],
             [
              0.3333333333333333,
              "#9c179e"
             ],
             [
              0.4444444444444444,
              "#bd3786"
             ],
             [
              0.5555555555555556,
              "#d8576b"
             ],
             [
              0.6666666666666666,
              "#ed7953"
             ],
             [
              0.7777777777777778,
              "#fb9f3a"
             ],
             [
              0.8888888888888888,
              "#fdca26"
             ],
             [
              1,
              "#f0f921"
             ]
            ],
            "type": "heatmapgl"
           }
          ],
          "histogram": [
           {
            "marker": {
             "colorbar": {
              "outlinewidth": 0,
              "ticks": ""
             }
            },
            "type": "histogram"
           }
          ],
          "histogram2d": [
           {
            "colorbar": {
             "outlinewidth": 0,
             "ticks": ""
            },
            "colorscale": [
             [
              0,
              "#0d0887"
             ],
             [
              0.1111111111111111,
              "#46039f"
             ],
             [
              0.2222222222222222,
              "#7201a8"
             ],
             [
              0.3333333333333333,
              "#9c179e"
             ],
             [
              0.4444444444444444,
              "#bd3786"
             ],
             [
              0.5555555555555556,
              "#d8576b"
             ],
             [
              0.6666666666666666,
              "#ed7953"
             ],
             [
              0.7777777777777778,
              "#fb9f3a"
             ],
             [
              0.8888888888888888,
              "#fdca26"
             ],
             [
              1,
              "#f0f921"
             ]
            ],
            "type": "histogram2d"
           }
          ],
          "histogram2dcontour": [
           {
            "colorbar": {
             "outlinewidth": 0,
             "ticks": ""
            },
            "colorscale": [
             [
              0,
              "#0d0887"
             ],
             [
              0.1111111111111111,
              "#46039f"
             ],
             [
              0.2222222222222222,
              "#7201a8"
             ],
             [
              0.3333333333333333,
              "#9c179e"
             ],
             [
              0.4444444444444444,
              "#bd3786"
             ],
             [
              0.5555555555555556,
              "#d8576b"
             ],
             [
              0.6666666666666666,
              "#ed7953"
             ],
             [
              0.7777777777777778,
              "#fb9f3a"
             ],
             [
              0.8888888888888888,
              "#fdca26"
             ],
             [
              1,
              "#f0f921"
             ]
            ],
            "type": "histogram2dcontour"
           }
          ],
          "mesh3d": [
           {
            "colorbar": {
             "outlinewidth": 0,
             "ticks": ""
            },
            "type": "mesh3d"
           }
          ],
          "parcoords": [
           {
            "line": {
             "colorbar": {
              "outlinewidth": 0,
              "ticks": ""
             }
            },
            "type": "parcoords"
           }
          ],
          "pie": [
           {
            "automargin": true,
            "type": "pie"
           }
          ],
          "scatter": [
           {
            "marker": {
             "colorbar": {
              "outlinewidth": 0,
              "ticks": ""
             }
            },
            "type": "scatter"
           }
          ],
          "scatter3d": [
           {
            "line": {
             "colorbar": {
              "outlinewidth": 0,
              "ticks": ""
             }
            },
            "marker": {
             "colorbar": {
              "outlinewidth": 0,
              "ticks": ""
             }
            },
            "type": "scatter3d"
           }
          ],
          "scattercarpet": [
           {
            "marker": {
             "colorbar": {
              "outlinewidth": 0,
              "ticks": ""
             }
            },
            "type": "scattercarpet"
           }
          ],
          "scattergeo": [
           {
            "marker": {
             "colorbar": {
              "outlinewidth": 0,
              "ticks": ""
             }
            },
            "type": "scattergeo"
           }
          ],
          "scattergl": [
           {
            "marker": {
             "colorbar": {
              "outlinewidth": 0,
              "ticks": ""
             }
            },
            "type": "scattergl"
           }
          ],
          "scattermapbox": [
           {
            "marker": {
             "colorbar": {
              "outlinewidth": 0,
              "ticks": ""
             }
            },
            "type": "scattermapbox"
           }
          ],
          "scatterpolar": [
           {
            "marker": {
             "colorbar": {
              "outlinewidth": 0,
              "ticks": ""
             }
            },
            "type": "scatterpolar"
           }
          ],
          "scatterpolargl": [
           {
            "marker": {
             "colorbar": {
              "outlinewidth": 0,
              "ticks": ""
             }
            },
            "type": "scatterpolargl"
           }
          ],
          "scatterternary": [
           {
            "marker": {
             "colorbar": {
              "outlinewidth": 0,
              "ticks": ""
             }
            },
            "type": "scatterternary"
           }
          ],
          "surface": [
           {
            "colorbar": {
             "outlinewidth": 0,
             "ticks": ""
            },
            "colorscale": [
             [
              0,
              "#0d0887"
             ],
             [
              0.1111111111111111,
              "#46039f"
             ],
             [
              0.2222222222222222,
              "#7201a8"
             ],
             [
              0.3333333333333333,
              "#9c179e"
             ],
             [
              0.4444444444444444,
              "#bd3786"
             ],
             [
              0.5555555555555556,
              "#d8576b"
             ],
             [
              0.6666666666666666,
              "#ed7953"
             ],
             [
              0.7777777777777778,
              "#fb9f3a"
             ],
             [
              0.8888888888888888,
              "#fdca26"
             ],
             [
              1,
              "#f0f921"
             ]
            ],
            "type": "surface"
           }
          ],
          "table": [
           {
            "cells": {
             "fill": {
              "color": "#EBF0F8"
             },
             "line": {
              "color": "white"
             }
            },
            "header": {
             "fill": {
              "color": "#C8D4E3"
             },
             "line": {
              "color": "white"
             }
            },
            "type": "table"
           }
          ]
         },
         "layout": {
          "annotationdefaults": {
           "arrowcolor": "#2a3f5f",
           "arrowhead": 0,
           "arrowwidth": 1
          },
          "autotypenumbers": "strict",
          "coloraxis": {
           "colorbar": {
            "outlinewidth": 0,
            "ticks": ""
           }
          },
          "colorscale": {
           "diverging": [
            [
             0,
             "#8e0152"
            ],
            [
             0.1,
             "#c51b7d"
            ],
            [
             0.2,
             "#de77ae"
            ],
            [
             0.3,
             "#f1b6da"
            ],
            [
             0.4,
             "#fde0ef"
            ],
            [
             0.5,
             "#f7f7f7"
            ],
            [
             0.6,
             "#e6f5d0"
            ],
            [
             0.7,
             "#b8e186"
            ],
            [
             0.8,
             "#7fbc41"
            ],
            [
             0.9,
             "#4d9221"
            ],
            [
             1,
             "#276419"
            ]
           ],
           "sequential": [
            [
             0,
             "#0d0887"
            ],
            [
             0.1111111111111111,
             "#46039f"
            ],
            [
             0.2222222222222222,
             "#7201a8"
            ],
            [
             0.3333333333333333,
             "#9c179e"
            ],
            [
             0.4444444444444444,
             "#bd3786"
            ],
            [
             0.5555555555555556,
             "#d8576b"
            ],
            [
             0.6666666666666666,
             "#ed7953"
            ],
            [
             0.7777777777777778,
             "#fb9f3a"
            ],
            [
             0.8888888888888888,
             "#fdca26"
            ],
            [
             1,
             "#f0f921"
            ]
           ],
           "sequentialminus": [
            [
             0,
             "#0d0887"
            ],
            [
             0.1111111111111111,
             "#46039f"
            ],
            [
             0.2222222222222222,
             "#7201a8"
            ],
            [
             0.3333333333333333,
             "#9c179e"
            ],
            [
             0.4444444444444444,
             "#bd3786"
            ],
            [
             0.5555555555555556,
             "#d8576b"
            ],
            [
             0.6666666666666666,
             "#ed7953"
            ],
            [
             0.7777777777777778,
             "#fb9f3a"
            ],
            [
             0.8888888888888888,
             "#fdca26"
            ],
            [
             1,
             "#f0f921"
            ]
           ]
          },
          "colorway": [
           "#636efa",
           "#EF553B",
           "#00cc96",
           "#ab63fa",
           "#FFA15A",
           "#19d3f3",
           "#FF6692",
           "#B6E880",
           "#FF97FF",
           "#FECB52"
          ],
          "font": {
           "color": "#2a3f5f"
          },
          "geo": {
           "bgcolor": "white",
           "lakecolor": "white",
           "landcolor": "#E5ECF6",
           "showlakes": true,
           "showland": true,
           "subunitcolor": "white"
          },
          "hoverlabel": {
           "align": "left"
          },
          "hovermode": "closest",
          "mapbox": {
           "style": "light"
          },
          "paper_bgcolor": "white",
          "plot_bgcolor": "#E5ECF6",
          "polar": {
           "angularaxis": {
            "gridcolor": "white",
            "linecolor": "white",
            "ticks": ""
           },
           "bgcolor": "#E5ECF6",
           "radialaxis": {
            "gridcolor": "white",
            "linecolor": "white",
            "ticks": ""
           }
          },
          "scene": {
           "xaxis": {
            "backgroundcolor": "#E5ECF6",
            "gridcolor": "white",
            "gridwidth": 2,
            "linecolor": "white",
            "showbackground": true,
            "ticks": "",
            "zerolinecolor": "white"
           },
           "yaxis": {
            "backgroundcolor": "#E5ECF6",
            "gridcolor": "white",
            "gridwidth": 2,
            "linecolor": "white",
            "showbackground": true,
            "ticks": "",
            "zerolinecolor": "white"
           },
           "zaxis": {
            "backgroundcolor": "#E5ECF6",
            "gridcolor": "white",
            "gridwidth": 2,
            "linecolor": "white",
            "showbackground": true,
            "ticks": "",
            "zerolinecolor": "white"
           }
          },
          "shapedefaults": {
           "line": {
            "color": "#2a3f5f"
           }
          },
          "ternary": {
           "aaxis": {
            "gridcolor": "white",
            "linecolor": "white",
            "ticks": ""
           },
           "baxis": {
            "gridcolor": "white",
            "linecolor": "white",
            "ticks": ""
           },
           "bgcolor": "#E5ECF6",
           "caxis": {
            "gridcolor": "white",
            "linecolor": "white",
            "ticks": ""
           }
          },
          "title": {
           "x": 0.05
          },
          "xaxis": {
           "automargin": true,
           "gridcolor": "white",
           "linecolor": "white",
           "ticks": "",
           "title": {
            "standoff": 15
           },
           "zerolinecolor": "white",
           "zerolinewidth": 2
          },
          "yaxis": {
           "automargin": true,
           "gridcolor": "white",
           "linecolor": "white",
           "ticks": "",
           "title": {
            "standoff": 15
           },
           "zerolinecolor": "white",
           "zerolinewidth": 2
          }
         }
        },
        "xaxis": {
         "anchor": "y",
         "domain": [
          0,
          1
         ],
         "title": {
          "text": "x"
         }
        },
        "yaxis": {
         "anchor": "x",
         "domain": [
          0,
          1
         ],
         "title": {
          "text": "y"
         }
        }
       }
      }
     },
     "metadata": {},
     "output_type": "display_data"
    }
   ],
   "source": [
    "import plotly.express as px\n",
    "spectrogram,freqs = calc_stft(xb)\n",
    "# import pandas as pd\n",
    "# stft,freqs = calc_stft(test_blocked,44100)\n",
    "# df = pd.DataFrame()\n",
    "# df['stft']=stft[0]\n",
    "# df['freqs']=freqs[0]\n",
    "fig = px.line(x=freqs[0],y=spectrogram[0])#df,x='freqs',y='stft')\n",
    "fig.show()"
   ]
  },
  {
   "cell_type": "code",
   "execution_count": 83,
   "metadata": {},
   "outputs": [],
   "source": [
    "spectrogram,freqs = calc_stft(xb)"
   ]
  },
  {
   "cell_type": "markdown",
   "metadata": {},
   "source": [
    "# Section A\n",
    "\n",
    "## Q1: \n",
    "### Implement functions for 5 audio features: extract_spectral_centroid(xb, fs), extract_rms(xb), extract_zerocrossingrate(xb), extract_spectral_crest(xb), extract_spectral_flux(xb). xb is a matrix of blocked audio data (dimension NumOfBlocks X blockSize, see assignment 1), fs is the sample rate. Implement each of these functions in the default formulation from the text book/slides. Note that for the spectral features, you have to apply a window function to each block. Use the hann window from a previous in-class exercise for this purpose. To avoid feature definition ambiguities:\n",
    "    1. Spectral Centroid in Hz, compute from the magnitude spectrum (not power spectrum)\n",
    "    2. RMS in dB, truncated at -100dB\n",
    "    3. all others as defined in the book"
   ]
  },
  {
   "cell_type": "markdown",
   "metadata": {},
   "source": [
    "## Spectral Centroid"
   ]
  },
  {
   "cell_type": "code",
   "execution_count": 384,
   "metadata": {},
   "outputs": [
    {
     "data": {
      "text/plain": [
       "array([     0.        ,     43.06640625,     86.1328125 ,    129.19921875,\n",
       "          172.265625  ,    215.33203125,    258.3984375 ,    301.46484375,\n",
       "          344.53125   ,    387.59765625,    430.6640625 ,    473.73046875,\n",
       "          516.796875  ,    559.86328125,    602.9296875 ,    645.99609375,\n",
       "          689.0625    ,    732.12890625,    775.1953125 ,    818.26171875,\n",
       "          861.328125  ,    904.39453125,    947.4609375 ,    990.52734375,\n",
       "         1033.59375   ,   1076.66015625,   1119.7265625 ,   1162.79296875,\n",
       "         1205.859375  ,   1248.92578125,   1291.9921875 ,   1335.05859375,\n",
       "         1378.125     ,   1421.19140625,   1464.2578125 ,   1507.32421875,\n",
       "         1550.390625  ,   1593.45703125,   1636.5234375 ,   1679.58984375,\n",
       "         1722.65625   ,   1765.72265625,   1808.7890625 ,   1851.85546875,\n",
       "         1894.921875  ,   1937.98828125,   1981.0546875 ,   2024.12109375,\n",
       "         2067.1875    ,   2110.25390625,   2153.3203125 ,   2196.38671875,\n",
       "         2239.453125  ,   2282.51953125,   2325.5859375 ,   2368.65234375,\n",
       "         2411.71875   ,   2454.78515625,   2497.8515625 ,   2540.91796875,\n",
       "         2583.984375  ,   2627.05078125,   2670.1171875 ,   2713.18359375,\n",
       "         2756.25      ,   2799.31640625,   2842.3828125 ,   2885.44921875,\n",
       "         2928.515625  ,   2971.58203125,   3014.6484375 ,   3057.71484375,\n",
       "         3100.78125   ,   3143.84765625,   3186.9140625 ,   3229.98046875,\n",
       "         3273.046875  ,   3316.11328125,   3359.1796875 ,   3402.24609375,\n",
       "         3445.3125    ,   3488.37890625,   3531.4453125 ,   3574.51171875,\n",
       "         3617.578125  ,   3660.64453125,   3703.7109375 ,   3746.77734375,\n",
       "         3789.84375   ,   3832.91015625,   3875.9765625 ,   3919.04296875,\n",
       "         3962.109375  ,   4005.17578125,   4048.2421875 ,   4091.30859375,\n",
       "         4134.375     ,   4177.44140625,   4220.5078125 ,   4263.57421875,\n",
       "         4306.640625  ,   4349.70703125,   4392.7734375 ,   4435.83984375,\n",
       "         4478.90625   ,   4521.97265625,   4565.0390625 ,   4608.10546875,\n",
       "         4651.171875  ,   4694.23828125,   4737.3046875 ,   4780.37109375,\n",
       "         4823.4375    ,   4866.50390625,   4909.5703125 ,   4952.63671875,\n",
       "         4995.703125  ,   5038.76953125,   5081.8359375 ,   5124.90234375,\n",
       "         5167.96875   ,   5211.03515625,   5254.1015625 ,   5297.16796875,\n",
       "         5340.234375  ,   5383.30078125,   5426.3671875 ,   5469.43359375,\n",
       "         5512.5       ,   5555.56640625,   5598.6328125 ,   5641.69921875,\n",
       "         5684.765625  ,   5727.83203125,   5770.8984375 ,   5813.96484375,\n",
       "         5857.03125   ,   5900.09765625,   5943.1640625 ,   5986.23046875,\n",
       "         6029.296875  ,   6072.36328125,   6115.4296875 ,   6158.49609375,\n",
       "         6201.5625    ,   6244.62890625,   6287.6953125 ,   6330.76171875,\n",
       "         6373.828125  ,   6416.89453125,   6459.9609375 ,   6503.02734375,\n",
       "         6546.09375   ,   6589.16015625,   6632.2265625 ,   6675.29296875,\n",
       "         6718.359375  ,   6761.42578125,   6804.4921875 ,   6847.55859375,\n",
       "         6890.625     ,   6933.69140625,   6976.7578125 ,   7019.82421875,\n",
       "         7062.890625  ,   7105.95703125,   7149.0234375 ,   7192.08984375,\n",
       "         7235.15625   ,   7278.22265625,   7321.2890625 ,   7364.35546875,\n",
       "         7407.421875  ,   7450.48828125,   7493.5546875 ,   7536.62109375,\n",
       "         7579.6875    ,   7622.75390625,   7665.8203125 ,   7708.88671875,\n",
       "         7751.953125  ,   7795.01953125,   7838.0859375 ,   7881.15234375,\n",
       "         7924.21875   ,   7967.28515625,   8010.3515625 ,   8053.41796875,\n",
       "         8096.484375  ,   8139.55078125,   8182.6171875 ,   8225.68359375,\n",
       "         8268.75      ,   8311.81640625,   8354.8828125 ,   8397.94921875,\n",
       "         8441.015625  ,   8484.08203125,   8527.1484375 ,   8570.21484375,\n",
       "         8613.28125   ,   8656.34765625,   8699.4140625 ,   8742.48046875,\n",
       "         8785.546875  ,   8828.61328125,   8871.6796875 ,   8914.74609375,\n",
       "         8957.8125    ,   9000.87890625,   9043.9453125 ,   9087.01171875,\n",
       "         9130.078125  ,   9173.14453125,   9216.2109375 ,   9259.27734375,\n",
       "         9302.34375   ,   9345.41015625,   9388.4765625 ,   9431.54296875,\n",
       "         9474.609375  ,   9517.67578125,   9560.7421875 ,   9603.80859375,\n",
       "         9646.875     ,   9689.94140625,   9733.0078125 ,   9776.07421875,\n",
       "         9819.140625  ,   9862.20703125,   9905.2734375 ,   9948.33984375,\n",
       "         9991.40625   ,  10034.47265625,  10077.5390625 ,  10120.60546875,\n",
       "        10163.671875  ,  10206.73828125,  10249.8046875 ,  10292.87109375,\n",
       "        10335.9375    ,  10379.00390625,  10422.0703125 ,  10465.13671875,\n",
       "        10508.203125  ,  10551.26953125,  10594.3359375 ,  10637.40234375,\n",
       "        10680.46875   ,  10723.53515625,  10766.6015625 ,  10809.66796875,\n",
       "        10852.734375  ,  10895.80078125,  10938.8671875 ,  10981.93359375,\n",
       "        11025.        ,  11068.06640625,  11111.1328125 ,  11154.19921875,\n",
       "        11197.265625  ,  11240.33203125,  11283.3984375 ,  11326.46484375,\n",
       "        11369.53125   ,  11412.59765625,  11455.6640625 ,  11498.73046875,\n",
       "        11541.796875  ,  11584.86328125,  11627.9296875 ,  11670.99609375,\n",
       "        11714.0625    ,  11757.12890625,  11800.1953125 ,  11843.26171875,\n",
       "        11886.328125  ,  11929.39453125,  11972.4609375 ,  12015.52734375,\n",
       "        12058.59375   ,  12101.66015625,  12144.7265625 ,  12187.79296875,\n",
       "        12230.859375  ,  12273.92578125,  12316.9921875 ,  12360.05859375,\n",
       "        12403.125     ,  12446.19140625,  12489.2578125 ,  12532.32421875,\n",
       "        12575.390625  ,  12618.45703125,  12661.5234375 ,  12704.58984375,\n",
       "        12747.65625   ,  12790.72265625,  12833.7890625 ,  12876.85546875,\n",
       "        12919.921875  ,  12962.98828125,  13006.0546875 ,  13049.12109375,\n",
       "        13092.1875    ,  13135.25390625,  13178.3203125 ,  13221.38671875,\n",
       "        13264.453125  ,  13307.51953125,  13350.5859375 ,  13393.65234375,\n",
       "        13436.71875   ,  13479.78515625,  13522.8515625 ,  13565.91796875,\n",
       "        13608.984375  ,  13652.05078125,  13695.1171875 ,  13738.18359375,\n",
       "        13781.25      ,  13824.31640625,  13867.3828125 ,  13910.44921875,\n",
       "        13953.515625  ,  13996.58203125,  14039.6484375 ,  14082.71484375,\n",
       "        14125.78125   ,  14168.84765625,  14211.9140625 ,  14254.98046875,\n",
       "        14298.046875  ,  14341.11328125,  14384.1796875 ,  14427.24609375,\n",
       "        14470.3125    ,  14513.37890625,  14556.4453125 ,  14599.51171875,\n",
       "        14642.578125  ,  14685.64453125,  14728.7109375 ,  14771.77734375,\n",
       "        14814.84375   ,  14857.91015625,  14900.9765625 ,  14944.04296875,\n",
       "        14987.109375  ,  15030.17578125,  15073.2421875 ,  15116.30859375,\n",
       "        15159.375     ,  15202.44140625,  15245.5078125 ,  15288.57421875,\n",
       "        15331.640625  ,  15374.70703125,  15417.7734375 ,  15460.83984375,\n",
       "        15503.90625   ,  15546.97265625,  15590.0390625 ,  15633.10546875,\n",
       "        15676.171875  ,  15719.23828125,  15762.3046875 ,  15805.37109375,\n",
       "        15848.4375    ,  15891.50390625,  15934.5703125 ,  15977.63671875,\n",
       "        16020.703125  ,  16063.76953125,  16106.8359375 ,  16149.90234375,\n",
       "        16192.96875   ,  16236.03515625,  16279.1015625 ,  16322.16796875,\n",
       "        16365.234375  ,  16408.30078125,  16451.3671875 ,  16494.43359375,\n",
       "        16537.5       ,  16580.56640625,  16623.6328125 ,  16666.69921875,\n",
       "        16709.765625  ,  16752.83203125,  16795.8984375 ,  16838.96484375,\n",
       "        16882.03125   ,  16925.09765625,  16968.1640625 ,  17011.23046875,\n",
       "        17054.296875  ,  17097.36328125,  17140.4296875 ,  17183.49609375,\n",
       "        17226.5625    ,  17269.62890625,  17312.6953125 ,  17355.76171875,\n",
       "        17398.828125  ,  17441.89453125,  17484.9609375 ,  17528.02734375,\n",
       "        17571.09375   ,  17614.16015625,  17657.2265625 ,  17700.29296875,\n",
       "        17743.359375  ,  17786.42578125,  17829.4921875 ,  17872.55859375,\n",
       "        17915.625     ,  17958.69140625,  18001.7578125 ,  18044.82421875,\n",
       "        18087.890625  ,  18130.95703125,  18174.0234375 ,  18217.08984375,\n",
       "        18260.15625   ,  18303.22265625,  18346.2890625 ,  18389.35546875,\n",
       "        18432.421875  ,  18475.48828125,  18518.5546875 ,  18561.62109375,\n",
       "        18604.6875    ,  18647.75390625,  18690.8203125 ,  18733.88671875,\n",
       "        18776.953125  ,  18820.01953125,  18863.0859375 ,  18906.15234375,\n",
       "        18949.21875   ,  18992.28515625,  19035.3515625 ,  19078.41796875,\n",
       "        19121.484375  ,  19164.55078125,  19207.6171875 ,  19250.68359375,\n",
       "        19293.75      ,  19336.81640625,  19379.8828125 ,  19422.94921875,\n",
       "        19466.015625  ,  19509.08203125,  19552.1484375 ,  19595.21484375,\n",
       "        19638.28125   ,  19681.34765625,  19724.4140625 ,  19767.48046875,\n",
       "        19810.546875  ,  19853.61328125,  19896.6796875 ,  19939.74609375,\n",
       "        19982.8125    ,  20025.87890625,  20068.9453125 ,  20112.01171875,\n",
       "        20155.078125  ,  20198.14453125,  20241.2109375 ,  20284.27734375,\n",
       "        20327.34375   ,  20370.41015625,  20413.4765625 ,  20456.54296875,\n",
       "        20499.609375  ,  20542.67578125,  20585.7421875 ,  20628.80859375,\n",
       "        20671.875     ,  20714.94140625,  20758.0078125 ,  20801.07421875,\n",
       "        20844.140625  ,  20887.20703125,  20930.2734375 ,  20973.33984375,\n",
       "        21016.40625   ,  21059.47265625,  21102.5390625 ,  21145.60546875,\n",
       "        21188.671875  ,  21231.73828125,  21274.8046875 ,  21317.87109375,\n",
       "        21360.9375    ,  21404.00390625,  21447.0703125 ,  21490.13671875,\n",
       "        21533.203125  ,  21576.26953125,  21619.3359375 ,  21662.40234375,\n",
       "        21705.46875   ,  21748.53515625,  21791.6015625 ,  21834.66796875,\n",
       "        21877.734375  ,  21920.80078125,  21963.8671875 ,  22006.93359375,\n",
       "       -22050.        ])"
      ]
     },
     "execution_count": 384,
     "metadata": {},
     "output_type": "execute_result"
    }
   ],
   "source": [
    "freqs[0]"
   ]
  },
  {
   "cell_type": "code",
   "execution_count": 10,
   "metadata": {},
   "outputs": [],
   "source": [
    "#using numpy array instead of list\n",
    "#Done with frequency bin, not Hz\n",
    "def extract_spectral_centroid(xb, fs):\n",
    "    centroids = np.zeros(xb.shape[0])\n",
    "    stft,freqs = calc_stft(xb,fs)\n",
    "    #np.sum(magnitudes*freqs) / np.sum(magnitudes)\n",
    "    for i in range(freqs.shape[0]):\n",
    "        centroid = np.sum(stft[i]*freqs[i]) / np.sum(stft[i])\n",
    "        centroids[i]=centroid\n",
    "        #centroids.append(centroid)\n",
    "    #centroids=np.array(centroids)\n",
    "    return centroids"
   ]
  },
  {
   "cell_type": "markdown",
   "metadata": {},
   "source": [
    "### Testing spectral centroid"
   ]
  },
  {
   "cell_type": "code",
   "execution_count": 20,
   "metadata": {},
   "outputs": [
    {
     "data": {
      "text/plain": [
       "Text(0.5, 1.0, 'Signal vs Normalized spectral centroid')"
      ]
     },
     "execution_count": 20,
     "metadata": {},
     "output_type": "execute_result"
    },
    {
     "data": {
      "image/png": "[encoded data removed]",
      "text/plain": [
       "<Figure size 432x288 with 1 Axes>"
      ]
     },
     "metadata": {
      "needs_background": "light"
     },
     "output_type": "display_data"
    }
   ],
   "source": [
    "centroid = extract_spectral_centroid(xb,44100)\n",
    "centroid=centroid/max(centroid)\n",
    "t_rms = np.arange(0,xb.shape[0])*hopSize\n",
    "plt.plot(x)\n",
    "plt.plot(t_rms,centroid)\n",
    "\n",
    "plt.xlabel('Sample Number')\n",
    "plt.ylabel('Amplitude')\n",
    "plt.legend(['Signal','Normalized spectral centroid'])\n",
    "plt.title('Signal vs Normalized spectral centroid')"
   ]
  },
  {
   "cell_type": "markdown",
   "metadata": {},
   "source": [
    "Alex's Version"
   ]
  },
  {
   "cell_type": "code",
   "execution_count": 235,
   "metadata": {},
   "outputs": [
    {
     "data": {
      "text/plain": [
       "Text(0.5, 1.0, 'Signal vs Normalized spectral centroid')"
      ]
     },
     "execution_count": 235,
     "metadata": {},
     "output_type": "execute_result"
    },
    {
     "data": {
      "image/png": "[encoded data removed]",
      "text/plain": [
       "<Figure size 432x288 with 1 Axes>"
      ]
     },
     "metadata": {
      "needs_background": "light"
     },
     "output_type": "display_data"
    }
   ],
   "source": [
    "X,f = calc_stft(xb,44100)\n",
    "X=X.T\n",
    "centroid = pyACA.FeatureSpectralCentroid(X,44100)#extract_spectral_centroid(xb,44100)\n",
    "centroid=centroid/max(centroid)\n",
    "t_rms = np.arange(0,xb.shape[0])*hopSize\n",
    "plt.plot(x)\n",
    "plt.plot(t_rms,centroid)\n",
    "\n",
    "plt.xlabel('Sample Number')\n",
    "plt.ylabel('Amplitude')\n",
    "plt.legend(['Signal','Normalized spectral centroid'])\n",
    "plt.title('Signal vs Normalized spectral centroid')"
   ]
  },
  {
   "cell_type": "markdown",
   "metadata": {},
   "source": [
    "## RMS"
   ]
  },
  {
   "cell_type": "code",
   "execution_count": 246,
   "metadata": {},
   "outputs": [],
   "source": [
    "def extract_rms(xb):\n",
    "    rms = np.zeros(xb.shape[0])\n",
    "    for i in range(xb.shape[0]):\n",
    "        block = xb[i]\n",
    "        r = np.sqrt(np.sum(block**2)/xb.shape[0])\n",
    "        if r <= 0.00001: # Done to handle case when rms is 0 (for a block of all zeros\n",
    "            r = 0.00001\n",
    "        #rms.append(r)\n",
    "        rms[i] = r\n",
    "    #rms=np.array(rms)\n",
    "    return 20*np.log10(rms)#rms,20*np.log10(rms) # What is reference value to convert to dB? Is it 1?"
   ]
  },
  {
   "cell_type": "markdown",
   "metadata": {},
   "source": [
    "### Testing rms"
   ]
  },
  {
   "cell_type": "code",
   "execution_count": 154,
   "metadata": {},
   "outputs": [
    {
     "data": {
      "text/plain": [
       "(2224,)"
      ]
     },
     "execution_count": 154,
     "metadata": {},
     "output_type": "execute_result"
    }
   ],
   "source": [
    "extract_rms(xb).shape"
   ]
  },
  {
   "cell_type": "code",
   "execution_count": 84,
   "metadata": {},
   "outputs": [
    {
     "name": "stdout",
     "output_type": "stream",
     "text": [
      "0.0007398458364183605\n"
     ]
    },
    {
     "data": {
      "text/plain": [
       "Text(0.5, 1.0, 'Signal vs RMS')"
      ]
     },
     "execution_count": 84,
     "metadata": {},
     "output_type": "execute_result"
    },
    {
     "data": {
      "image/png": "[encoded data removed]",
      "text/plain": [
       "<Figure size 432x288 with 1 Axes>"
      ]
     },
     "metadata": {
      "needs_background": "light"
     },
     "output_type": "display_data"
    }
   ],
   "source": [
    "def extract_rms_raw(xb):\n",
    "    rms=[]\n",
    "    for block in xb:\n",
    "        r = np.sqrt(np.sum(block**2)/xb.shape[0])\n",
    "        if r <= 0.00001: # Done to handle case when rms is 0 (for a block of all zeros\n",
    "            r = 0.00001\n",
    "        \n",
    "        rms.append(r)\n",
    "    rms=np.array(rms)\n",
    "    return rms#rms,20*np.log10(rms) # What is reference value to convert to dB? Is it 1?\n",
    "rms = extract_rms_raw(xb)\n",
    "print(rms.min())\n",
    "t_rms = np.arange(0,xb.shape[0])*hopSize\n",
    "plt.plot(x)\n",
    "plt.plot(t_rms,rms)\n",
    "\n",
    "plt.xlabel('Sample Number')\n",
    "plt.ylabel('Amplitude')\n",
    "plt.legend(['Signal','RMS'])\n",
    "plt.title('Signal vs RMS')"
   ]
  },
  {
   "cell_type": "code",
   "execution_count": 247,
   "metadata": {},
   "outputs": [
    {
     "name": "stdout",
     "output_type": "stream",
     "text": [
      "-62.61717531802516\n"
     ]
    },
    {
     "data": {
      "text/plain": [
       "Text(0.5, 1.0, 'Signal vs RMS')"
      ]
     },
     "execution_count": 247,
     "metadata": {},
     "output_type": "execute_result"
    },
    {
     "data": {
      "image/png": "[encoded data removed]",
      "text/plain": [
       "<Figure size 432x288 with 1 Axes>"
      ]
     },
     "metadata": {
      "needs_background": "light"
     },
     "output_type": "display_data"
    }
   ],
   "source": [
    "rms = extract_rms(xb)\n",
    "print(rms.min())\n",
    "t_rms = np.arange(0,xb.shape[0])*hopSize\n",
    "plt.plot(x)\n",
    "plt.plot(t_rms,rms)\n",
    "\n",
    "plt.xlabel('Sample Number')\n",
    "plt.ylabel('Amplitude')\n",
    "plt.legend(['Signal','RMS'])\n",
    "plt.title('Signal vs RMS')"
   ]
  },
  {
   "cell_type": "markdown",
   "metadata": {},
   "source": [
    "Alex's Version"
   ]
  },
  {
   "cell_type": "code",
   "execution_count": 242,
   "metadata": {},
   "outputs": [
    {
     "data": {
      "text/plain": [
       "Text(0.5, 1.0, 'Signal vs RMS')"
      ]
     },
     "execution_count": 242,
     "metadata": {},
     "output_type": "execute_result"
    },
    {
     "data": {
      "image/png": "[encoded data removed]",
      "text/plain": [
       "<Figure size 432x288 with 1 Axes>"
      ]
     },
     "metadata": {
      "needs_background": "light"
     },
     "output_type": "display_data"
    }
   ],
   "source": [
    "# allocate memory\n",
    "vrms = np.zeros(2224)\n",
    "\n",
    "for n, block in enumerate(xb):\n",
    "    # calculate the rms\n",
    "    vrms[n] = np.sqrt(np.dot(block, block) / block.size)\n",
    "\n",
    "# convert to dB\n",
    "epsilon = 1e-5  # -100dB\n",
    "\n",
    "vrms[vrms < epsilon] = epsilon\n",
    "vrms = 20 * np.log10(vrms)\n",
    "\n",
    "#rms,t = pyACA.FeatureTimeRms(x,blockSize,hopSize,fs)#extract_rms_raw(xb)\n",
    "t_rms = np.arange(0,xb.shape[0])*hopSize\n",
    "plt.plot(x)\n",
    "plt.plot(t_rms,vrms)\n",
    "\n",
    "plt.xlabel('Sample Number')\n",
    "plt.ylabel('Amplitude')\n",
    "plt.legend(['Signal','RMS'])\n",
    "plt.title('Signal vs RMS')"
   ]
  },
  {
   "cell_type": "markdown",
   "metadata": {},
   "source": [
    "## ZCR"
   ]
  },
  {
   "cell_type": "code",
   "execution_count": 206,
   "metadata": {},
   "outputs": [],
   "source": [
    "def extract_zerocrossingrate(xb):\n",
    "    zcr= np.zeros(xb.shape[0])\n",
    "    for i in range(xb.shape[0]):\n",
    "        block = xb[i]\n",
    "        zero_crossings = np.sum(np.abs(np.diff(np.sign(block)))) / block.shape[0] #np.nonzero(np.diff(block > 0))[0].size\n",
    "        #zcr.append(zero_crossings)\n",
    "        zcr[i] = zero_crossings \n",
    "    #zcr = np.array(zcr)\n",
    "    return zcr"
   ]
  },
  {
   "cell_type": "markdown",
   "metadata": {},
   "source": [
    "### Testing ZCR"
   ]
  },
  {
   "cell_type": "code",
   "execution_count": 129,
   "metadata": {},
   "outputs": [
    {
     "data": {
      "text/plain": [
       "Text(0.5, 1.0, 'Signal vs Normalized ZCR')"
      ]
     },
     "execution_count": 129,
     "metadata": {},
     "output_type": "execute_result"
    },
    {
     "data": {
      "image/png": "[encoded data removed]",
      "text/plain": [
       "<Figure size 432x288 with 1 Axes>"
      ]
     },
     "metadata": {
      "needs_background": "light"
     },
     "output_type": "display_data"
    }
   ],
   "source": [
    "def extract_zerocrossingrate_test(xb):\n",
    "    zcr1=[]\n",
    "    zcr2=[]\n",
    "    for block in xb:\n",
    "        zero_crossings = np.sum(np.abs(np.diff(np.sign(block)))) / block.shape[0] #np.nonzero(np.diff(block > 0))[0].size\n",
    "        zcr1.append(zero_crossings)\n",
    "        zcr2.append(0.5 * np.mean(np.abs(np.diff(np.sign(block)))))\n",
    "    zcr1 = np.array(zcr1)\n",
    "    zcr2=np.array(zcr2)\n",
    "    return zcr1,zcr2\n",
    "\n",
    "zcr1,zcr2 = extract_zerocrossingrate_test(xb)\n",
    "zcr_plt = zcr1/max(zcr1)\n",
    "t_zcr = np.arange(0,xb.shape[0])*hopSize\n",
    "plt.plot(x)\n",
    "plt.plot(t_zcr,zcr_plt)\n",
    "\n",
    "plt.xlabel('Sample Number')\n",
    "plt.ylabel('Amplitude')\n",
    "plt.legend(['Signal','Normalized ZCR'])\n",
    "plt.title('Signal vs Normalized ZCR')"
   ]
  },
  {
   "cell_type": "markdown",
   "metadata": {},
   "source": [
    "Alex's Version"
   ]
  },
  {
   "cell_type": "code",
   "execution_count": 250,
   "metadata": {},
   "outputs": [
    {
     "data": {
      "text/plain": [
       "Text(0.5, 1.0, 'Signal vs Normalized ZCR')"
      ]
     },
     "execution_count": 250,
     "metadata": {},
     "output_type": "execute_result"
    },
    {
     "data": {
      "image/png": "[encoded data removed]",
      "text/plain": [
       "<Figure size 432x288 with 1 Axes>"
      ]
     },
     "metadata": {
      "needs_background": "light"
     },
     "output_type": "display_data"
    }
   ],
   "source": [
    "# number of results\n",
    "iNumOfBlocks = xb.shape[0]\n",
    "\n",
    "# compute time stamps\n",
    "t = (np.arange(0, iNumOfBlocks) * hopSize + (blockSize / 2)) / fs\n",
    "\n",
    "# allocate memory\n",
    "vzc = np.zeros(iNumOfBlocks)\n",
    "\n",
    "for n, block in enumerate(xb):\n",
    "    # calculate the zero crossing rate\n",
    "    vzc[n] = 0.5 * np.mean(np.abs(np.diff(np.sign(block))))\n",
    "\n",
    "t_zcr = np.arange(0,xb.shape[0])*hopSize\n",
    "zcr_plt = vzc\n",
    "plt.plot(x)\n",
    "plt.plot(t_zcr,zcr_plt/max(zcr_plt))\n",
    "\n",
    "plt.xlabel('Sample Number')\n",
    "plt.ylabel('Amplitude')\n",
    "plt.legend(['Signal','Normalized ZCR'])\n",
    "plt.title('Signal vs Normalized ZCR')"
   ]
  },
  {
   "cell_type": "markdown",
   "metadata": {},
   "source": [
    "## Spectral Crest"
   ]
  },
  {
   "cell_type": "code",
   "execution_count": 207,
   "metadata": {},
   "outputs": [],
   "source": [
    "def extract_spectral_crest(xb):\n",
    "    crest = np.zeros(xb.shape[0])\n",
    "    stft,freqs = calc_stft(xb,44100)\n",
    "    for i in range(stft.shape[0]):\n",
    "        #crest.append((np.max(stft[i])/np.sum(stft[i])))\n",
    "        crest[i] = np.max(stft[i])/np.sum(stft[i])\n",
    "    #crest = np.array(crest)\n",
    "    return crest"
   ]
  },
  {
   "cell_type": "markdown",
   "metadata": {},
   "source": [
    "### Testing Spectral Crest"
   ]
  },
  {
   "cell_type": "code",
   "execution_count": 167,
   "metadata": {},
   "outputs": [
    {
     "data": {
      "text/plain": [
       "(2224,)"
      ]
     },
     "execution_count": 167,
     "metadata": {},
     "output_type": "execute_result"
    }
   ],
   "source": [
    "extract_spectral_crest(xb).shape"
   ]
  },
  {
   "cell_type": "code",
   "execution_count": 46,
   "metadata": {},
   "outputs": [
    {
     "data": {
      "text/plain": [
       "Text(0.5, 1.0, 'Signal vs Normalized spectral crest')"
      ]
     },
     "execution_count": 46,
     "metadata": {},
     "output_type": "execute_result"
    },
    {
     "data": {
      "image/png": "[encoded data removed]",
      "text/plain": [
       "<Figure size 432x288 with 1 Axes>"
      ]
     },
     "metadata": {
      "needs_background": "light"
     },
     "output_type": "display_data"
    }
   ],
   "source": [
    "crest = extract_spectral_crest(xb)\n",
    "crest=crest/max(crest)\n",
    "t_rms = np.arange(0,xb.shape[0])*hopSize\n",
    "plt.plot(x)\n",
    "plt.plot(t_rms,crest)\n",
    "\n",
    "plt.xlabel('Sample Number')\n",
    "plt.ylabel('Amplitude')\n",
    "plt.legend(['Signal','Normalized spectral crest'])\n",
    "plt.title('Signal vs Normalized spectral crest')"
   ]
  },
  {
   "cell_type": "markdown",
   "metadata": {},
   "source": [
    "Alex's Version"
   ]
  },
  {
   "cell_type": "code",
   "execution_count": 252,
   "metadata": {},
   "outputs": [
    {
     "data": {
      "text/plain": [
       "Text(0.5, 1.0, 'Signal vs Normalized spectral crest')"
      ]
     },
     "execution_count": 252,
     "metadata": {},
     "output_type": "execute_result"
    },
    {
     "data": {
      "image/png": "[encoded data removed]",
      "text/plain": [
       "<Figure size 432x288 with 1 Axes>"
      ]
     },
     "metadata": {
      "needs_background": "light"
     },
     "output_type": "display_data"
    }
   ],
   "source": [
    "X,f=calc_stft(xb,44100)\n",
    "X=X.T\n",
    "crest = pyACA.FeatureSpectralCrestFactor(X,fs)\n",
    "crest=crest/max(crest)\n",
    "t_rms = np.arange(0,xb.shape[0])*hopSize\n",
    "plt.plot(x)\n",
    "plt.plot(t_rms,crest)\n",
    "\n",
    "plt.xlabel('Sample Number')\n",
    "plt.ylabel('Amplitude')\n",
    "plt.legend(['Signal','Normalized spectral crest'])\n",
    "plt.title('Signal vs Normalized spectral crest')"
   ]
  },
  {
   "cell_type": "markdown",
   "metadata": {},
   "source": [
    "## Spectral Flux"
   ]
  },
  {
   "cell_type": "code",
   "execution_count": 208,
   "metadata": {},
   "outputs": [],
   "source": [
    "def extract_spectral_flux(xb):\n",
    "    num_blocks=xb.shape[0] \n",
    "    blockSize = xb.shape[1]\n",
    "    spectral_flux = np.zeros(num_blocks)\n",
    "    stft,freqs = calc_stft(xb,44100)\n",
    "    fft_len= stft.shape[1]\n",
    "    n = 0\n",
    "    k = 0\n",
    "    for n in range(1,num_blocks):\n",
    "        sum_flux = 0\n",
    "        for k in range(fft_len):\n",
    "            f = (abs(stft[n, k]) - abs(stft[n-1, k]))**2\n",
    "            sum_flux += f\n",
    "        flux = np.sqrt(sum_flux)/((blockSize/2)+1)\n",
    "        spectral_flux[n] = flux #first flux value will be 0\n",
    "    return spectral_flux"
   ]
  },
  {
   "cell_type": "code",
   "execution_count": 190,
   "metadata": {},
   "outputs": [],
   "source": [
    "# ########### BAD, DONT USE\n",
    "# def extract_spectral_flux(xb):\n",
    "#     num_blocks=xb.shape[0] \n",
    "#     flux = np.zeros(xb.shape[0])\n",
    "#     stft,freqs = calc_stft(xb,44100)\n",
    "#     for i in range(int(stft.shape[0])):\n",
    "#         dff=np.diff(stft[i].T)\n",
    "#         dff_sq=dff**2\n",
    "#         flx = np.sqrt(np.sum(dff_sq))\n",
    "#         #flux.append(flx/(xb.shape[0]+1))\n",
    "#         flux[i] = flx/(xb.shape[1]+1)\n",
    "#     #flux = np.array(flux)\n",
    "#     return(flux)"
   ]
  },
  {
   "cell_type": "markdown",
   "metadata": {},
   "source": [
    "### Testing Spectral Flux"
   ]
  },
  {
   "cell_type": "code",
   "execution_count": 200,
   "metadata": {},
   "outputs": [
    {
     "data": {
      "text/plain": [
       "Text(0.5, 1.0, 'Signal vs Normalized spectral flux')"
      ]
     },
     "execution_count": 200,
     "metadata": {},
     "output_type": "execute_result"
    },
    {
     "data": {
      "image/png": "[encoded data removed]",
      "text/plain": [
       "<Figure size 432x288 with 1 Axes>"
      ]
     },
     "metadata": {
      "needs_background": "light"
     },
     "output_type": "display_data"
    }
   ],
   "source": [
    "flux = extract_spectral_flux(xb)\n",
    "#flux=flux/max(flux)\n",
    "t_rms = np.arange(0,xb.shape[0])*hopSize\n",
    "plt.plot(x)\n",
    "plt.plot(t_rms,flux)\n",
    "\n",
    "plt.xlabel('Sample Number')\n",
    "plt.ylabel('Amplitude')\n",
    "plt.legend(['Signal','Normalized spectral flux'])\n",
    "plt.title('Signal vs Normalized spectral flux')"
   ]
  },
  {
   "cell_type": "markdown",
   "metadata": {},
   "source": [
    "Alex's Version"
   ]
  },
  {
   "cell_type": "code",
   "execution_count": 254,
   "metadata": {},
   "outputs": [
    {
     "data": {
      "text/plain": [
       "Text(0.5, 1.0, 'Signal vs Normalized spectral flux')"
      ]
     },
     "execution_count": 254,
     "metadata": {},
     "output_type": "execute_result"
    },
    {
     "data": {
      "image/png": "[encoded data removed]",
      "text/plain": [
       "<Figure size 432x288 with 1 Axes>"
      ]
     },
     "metadata": {
      "needs_background": "light"
     },
     "output_type": "display_data"
    }
   ],
   "source": [
    "X,f=calc_stft(xb,44100)\n",
    "X=X.T\n",
    "flux1 = pyACA.FeatureSpectralFlux(X,44100)\n",
    "#flux=flux/max(flux)\n",
    "t_rms = np.arange(0,xb.shape[0])*hopSize\n",
    "plt.plot(x)\n",
    "plt.plot(t_rms,flux1)\n",
    "\n",
    "plt.xlabel('Sample Number')\n",
    "plt.ylabel('Amplitude')\n",
    "plt.legend(['Signal','Normalized spectral flux'])\n",
    "plt.title('Signal vs Normalized spectral flux')"
   ]
  },
  {
   "cell_type": "markdown",
   "metadata": {},
   "source": [
    "## Q2:\n",
    "### Implement a function: [features] = extract_features(x, blockSize, hopSize, fs) This function serves as a wrapper for feature extraction. It will take a single-channel audio vector x as input, blocks the audio with the given block size and hop size using block_audio(), calls each of the feature extractor functions implemented above and returns a 5 X NumOfBlocks dimensional feature matrix."
   ]
  },
  {
   "cell_type": "code",
   "execution_count": 209,
   "metadata": {},
   "outputs": [],
   "source": [
    "def extract_features(x, blockSize, hopSize, fs):\n",
    "    xb,ts = block_audio(x,blockSize,hopSize,fs)\n",
    "    features=np.zeros((5,xb.shape[0]))\n",
    "    features[0] = extract_spectral_centroid(xb,fs)\n",
    "    features[1] = extract_rms(xb)\n",
    "    features[2] = extract_zerocrossingrate(xb)\n",
    "    features[3] = extract_spectral_crest(xb)\n",
    "    features[4] = extract_spectral_flux(xb)\n",
    "    return features"
   ]
  },
  {
   "cell_type": "code",
   "execution_count": 210,
   "metadata": {},
   "outputs": [
    {
     "data": {
      "text/plain": [
       "(5, 2224)"
      ]
     },
     "execution_count": 210,
     "metadata": {},
     "output_type": "execute_result"
    }
   ],
   "source": [
    "extract_features(x,blockSize,hopSize,fs).shape"
   ]
  },
  {
   "cell_type": "code",
   "execution_count": 211,
   "metadata": {},
   "outputs": [],
   "source": [
    "features = extract_features(x,blockSize,hopSize,fs)"
   ]
  },
  {
   "cell_type": "markdown",
   "metadata": {},
   "source": [
    "## Q3:\n",
    "### Implement a function: [aggFeatures] = aggregate_feature_per_file(features). This function aggregates the feature matrix returned by extract_features(), aggregates the features across blocks using mean and standard deviation and returns a  10x1 aggregated feature matrix"
   ]
  },
  {
   "cell_type": "code",
   "execution_count": 212,
   "metadata": {},
   "outputs": [],
   "source": [
    "def aggregate_feature_per_file(features):\n",
    "    agg_features = np.zeros((2*features.shape[0],1))\n",
    "    agg_features[0]= np.mean(features[0])\n",
    "    agg_features[1]= np.std(features[0])\n",
    "    agg_features[2]= np.mean(features[1])\n",
    "    agg_features[3]= np.std(features[1])\n",
    "    agg_features[4]= np.mean(features[2])\n",
    "    agg_features[5]= np.std(features[2])\n",
    "    agg_features[6]= np.mean(features[3])\n",
    "    agg_features[7]= np.std(features[3])\n",
    "    agg_features[8]= np.mean(features[4])\n",
    "    agg_features[9]= np.std(features[4])\n",
    "    return agg_features"
   ]
  },
  {
   "cell_type": "code",
   "execution_count": 213,
   "metadata": {},
   "outputs": [],
   "source": [
    "featureData=aggregate_feature_per_file(features)"
   ]
  },
  {
   "cell_type": "markdown",
   "metadata": {},
   "source": [
    "## Q4:\n",
    "### Implement a  function: [featureData] = get_feature_data(path, blockSize, hopSize) This function loops over all files contained within a folder that is pointed to by the path argument. The function will then successively call the extract_features() and aggregate_feature_per_file() functions and return a 10xN feature matrix of which contains the aggregated features for N audio files contained in the directory."
   ]
  },
  {
   "cell_type": "code",
   "execution_count": 216,
   "metadata": {},
   "outputs": [],
   "source": [
    "path='resources/music_speech/music_wav/'"
   ]
  },
  {
   "cell_type": "code",
   "execution_count": 214,
   "metadata": {},
   "outputs": [],
   "source": [
    "def get_feature_data(path, blockSize, hopSize):\n",
    "    N=0\n",
    "    i=0\n",
    "    for file_name in os.listdir(path):\n",
    "        if file_name.endswith(\".wav\"):\n",
    "            N+=1\n",
    "    featureData=np.zeros((10,N))\n",
    "    for file_name in os.listdir(path):\n",
    "        if file_name.endswith(\".wav\"):\n",
    "            #print(file_name)\n",
    "            fs,x = ToolReadAudio(path+file_name)\n",
    "            features = extract_features(x,blockSize,hopSize,fs)\n",
    "            aggFeatures = aggregate_feature_per_file(features)\n",
    "            for j in range(10):\n",
    "                featureData[j][i] = aggFeatures[j]\n",
    "            i+=1\n",
    "    return featureData\n"
   ]
  },
  {
   "cell_type": "code",
   "execution_count": 217,
   "metadata": {},
   "outputs": [],
   "source": [
    "featureData = get_feature_data(path, blockSize, hopSize)"
   ]
  },
  {
   "cell_type": "code",
   "execution_count": 223,
   "metadata": {},
   "outputs": [
    {
     "data": {
      "text/plain": [
       "(10, 64)"
      ]
     },
     "execution_count": 223,
     "metadata": {},
     "output_type": "execute_result"
    }
   ],
   "source": [
    "featureData.shape"
   ]
  },
  {
   "cell_type": "markdown",
   "metadata": {},
   "source": [
    "# Section B:\n",
    "## Q1: \n",
    "### Implement a  function: [normFeatureMatrix] = normalize_zscore(featureData) This function applies the z-score normalization scheme to the input feature matrix. The z-score normalization normalizes each feature to a zero mean and unit standard deviation across the entire dataset. Be careful with the dimensions."
   ]
  },
  {
   "cell_type": "markdown",
   "metadata": {},
   "source": [
    "## Z-Score Normalization"
   ]
  },
  {
   "cell_type": "code",
   "execution_count": 224,
   "metadata": {},
   "outputs": [],
   "source": [
    "def normalize_zscore(featureData):\n",
    "    normalized_matrix = np.zeros((featureData.shape[0],featureData.shape[1]))\n",
    "    for i in range(featureData.shape[0]):\n",
    "        std = np.std(featureData[i])\n",
    "        mean = np.mean(featureData[i])\n",
    "        normalized_matrix[i] = (featureData[i]-mean)/std\n",
    "    return normalized_matrix"
   ]
  },
  {
   "cell_type": "code",
   "execution_count": 234,
   "metadata": {},
   "outputs": [
    {
     "data": {
      "text/plain": [
       "0.9999999999999999"
      ]
     },
     "execution_count": 234,
     "metadata": {},
     "output_type": "execute_result"
    }
   ],
   "source": [
    "norm=normalize_zscore(featureData)\n",
    "np.std(norm[4])"
   ]
  },
  {
   "cell_type": "markdown",
   "metadata": {},
   "source": [
    "# Section C\n",
    "## Q1\n",
    "Implement a function visualize_features(path_to_musicspeech) that extracts 2 separate feature matrices for the files in each of the folder (music and speech). You will call your get_feature_data() function for that with blockSize = 1024 and hopSize = 256. You will also normalize the feature matrices over the entire dataset. Note that this means you have to normalize both feature matrices with the same z-score. (hint: concatenate the two feature matrices appropriately before calling normalize_zscore())"
   ]
  },
  {
   "cell_type": "code",
   "execution_count": 259,
   "metadata": {},
   "outputs": [],
   "source": [
    "path = \"resources/music_speech/\""
   ]
  },
  {
   "cell_type": "code",
   "execution_count": 256,
   "metadata": {},
   "outputs": [],
   "source": [
    "def visualize_features(path):\n",
    "    blockSize = 1024\n",
    "    hopSize = 256\n",
    "    audio = get_feature_data(path+'music_wav/',blockSize,hopSize)\n",
    "    speech = get_feature_data(path+'speech_wav/',blockSize,hopSize)\n",
    "    combo=np.append(music,speech,axis=1)\n",
    "    combo_normalized = normalize_zscore(combo)\n",
    "\n",
    "    music_normalized = combo_normalized[:,:music.shape[1]]\n",
    "    speech_normalized = combo_normalized[:,music.shape[1]:music.shape[1]+speech.shape[1]]\n"
   ]
  },
  {
   "cell_type": "code",
   "execution_count": 262,
   "metadata": {},
   "outputs": [
    {
     "data": {
      "text/plain": [
       "64"
      ]
     },
     "execution_count": 262,
     "metadata": {},
     "output_type": "execute_result"
    }
   ],
   "source": [
    "music=get_feature_data(path+'music_wav/',blockSize,hopSize)\n",
    "music.shape[1]"
   ]
  },
  {
   "cell_type": "code",
   "execution_count": 280,
   "metadata": {},
   "outputs": [
    {
     "data": {
      "text/plain": [
       "array([[ True,  True,  True,  True,  True,  True,  True,  True,  True,\n",
       "         True,  True,  True,  True,  True,  True,  True,  True,  True,\n",
       "         True,  True,  True,  True,  True,  True,  True,  True,  True,\n",
       "         True,  True,  True,  True,  True,  True,  True,  True,  True,\n",
       "         True,  True,  True,  True,  True,  True,  True,  True,  True,\n",
       "         True,  True,  True,  True,  True,  True,  True,  True,  True,\n",
       "         True,  True,  True,  True,  True,  True,  True,  True,  True,\n",
       "         True],\n",
       "       [ True,  True,  True,  True,  True,  True,  True,  True,  True,\n",
       "         True,  True,  True,  True,  True,  True,  True,  True,  True,\n",
       "         True,  True,  True,  True,  True,  True,  True,  True,  True,\n",
       "         True,  True,  True,  True,  True,  True,  True,  True,  True,\n",
       "         True,  True,  True,  True,  True,  True,  True,  True,  True,\n",
       "         True,  True,  True,  True,  True,  True,  True,  True,  True,\n",
       "         True,  True,  True,  True,  True,  True,  True,  True,  True,\n",
       "         True],\n",
       "       [ True,  True,  True,  True,  True,  True,  True,  True,  True,\n",
       "         True,  True,  True,  True,  True,  True,  True,  True,  True,\n",
       "         True,  True,  True,  True,  True,  True,  True,  True,  True,\n",
       "         True,  True,  True,  True,  True,  True,  True,  True,  True,\n",
       "         True,  True,  True,  True,  True,  True,  True,  True,  True,\n",
       "         True,  True,  True,  True,  True,  True,  True,  True,  True,\n",
       "         True,  True,  True,  True,  True,  True,  True,  True,  True,\n",
       "         True],\n",
       "       [ True,  True,  True,  True,  True,  True,  True,  True,  True,\n",
       "         True,  True,  True,  True,  True,  True,  True,  True,  True,\n",
       "         True,  True,  True,  True,  True,  True,  True,  True,  True,\n",
       "         True,  True,  True,  True,  True,  True,  True,  True,  True,\n",
       "         True,  True,  True,  True,  True,  True,  True,  True,  True,\n",
       "         True,  True,  True,  True,  True,  True,  True,  True,  True,\n",
       "         True,  True,  True,  True,  True,  True,  True,  True,  True,\n",
       "         True],\n",
       "       [ True,  True,  True,  True,  True,  True,  True,  True,  True,\n",
       "         True,  True,  True,  True,  True,  True,  True,  True,  True,\n",
       "         True,  True,  True,  True,  True,  True,  True,  True,  True,\n",
       "         True,  True,  True,  True,  True,  True,  True,  True,  True,\n",
       "         True,  True,  True,  True,  True,  True,  True,  True,  True,\n",
       "         True,  True,  True,  True,  True,  True,  True,  True,  True,\n",
       "         True,  True,  True,  True,  True,  True,  True,  True,  True,\n",
       "         True],\n",
       "       [ True,  True,  True,  True,  True,  True,  True,  True,  True,\n",
       "         True,  True,  True,  True,  True,  True,  True,  True,  True,\n",
       "         True,  True,  True,  True,  True,  True,  True,  True,  True,\n",
       "         True,  True,  True,  True,  True,  True,  True,  True,  True,\n",
       "         True,  True,  True,  True,  True,  True,  True,  True,  True,\n",
       "         True,  True,  True,  True,  True,  True,  True,  True,  True,\n",
       "         True,  True,  True,  True,  True,  True,  True,  True,  True,\n",
       "         True],\n",
       "       [ True,  True,  True,  True,  True,  True,  True,  True,  True,\n",
       "         True,  True,  True,  True,  True,  True,  True,  True,  True,\n",
       "         True,  True,  True,  True,  True,  True,  True,  True,  True,\n",
       "         True,  True,  True,  True,  True,  True,  True,  True,  True,\n",
       "         True,  True,  True,  True,  True,  True,  True,  True,  True,\n",
       "         True,  True,  True,  True,  True,  True,  True,  True,  True,\n",
       "         True,  True,  True,  True,  True,  True,  True,  True,  True,\n",
       "         True],\n",
       "       [ True,  True,  True,  True,  True,  True,  True,  True,  True,\n",
       "         True,  True,  True,  True,  True,  True,  True,  True,  True,\n",
       "         True,  True,  True,  True,  True,  True,  True,  True,  True,\n",
       "         True,  True,  True,  True,  True,  True,  True,  True,  True,\n",
       "         True,  True,  True,  True,  True,  True,  True,  True,  True,\n",
       "         True,  True,  True,  True,  True,  True,  True,  True,  True,\n",
       "         True,  True,  True,  True,  True,  True,  True,  True,  True,\n",
       "         True],\n",
       "       [ True,  True,  True,  True,  True,  True,  True,  True,  True,\n",
       "         True,  True,  True,  True,  True,  True,  True,  True,  True,\n",
       "         True,  True,  True,  True,  True,  True,  True,  True,  True,\n",
       "         True,  True,  True,  True,  True,  True,  True,  True,  True,\n",
       "         True,  True,  True,  True,  True,  True,  True,  True,  True,\n",
       "         True,  True,  True,  True,  True,  True,  True,  True,  True,\n",
       "         True,  True,  True,  True,  True,  True,  True,  True,  True,\n",
       "         True],\n",
       "       [ True,  True,  True,  True,  True,  True,  True,  True,  True,\n",
       "         True,  True,  True,  True,  True,  True,  True,  True,  True,\n",
       "         True,  True,  True,  True,  True,  True,  True,  True,  True,\n",
       "         True,  True,  True,  True,  True,  True,  True,  True,  True,\n",
       "         True,  True,  True,  True,  True,  True,  True,  True,  True,\n",
       "         True,  True,  True,  True,  True,  True,  True,  True,  True,\n",
       "         True,  True,  True,  True,  True,  True,  True,  True,  True,\n",
       "         True]])"
      ]
     },
     "execution_count": 280,
     "metadata": {},
     "output_type": "execute_result"
    }
   ],
   "source": [
    "music_resplit=combo[:,:music.shape[1]] \n",
    "music_resplit== music\n",
    "speech_resplit=combo[:,music.shape[1]:music.shape[1]+speech.shape[1]] \n",
    "speech_resplit== speech"
   ]
  },
  {
   "cell_type": "markdown",
   "metadata": {},
   "source": [
    "# Q2\n",
    "Within the same function write code that generates plots to visualize the feature space of the following 5 pairs of features: [SC mean, SCR mean], [SF mean, ZCR mean], [RMS mean, RMS std], [ZCR std, SCR std], [SC std, SF std] Note that you want to plot the data points corresponding to music with a different color than the points that correspond to speech. Use red for music and blue for speech. This type of visualization is referred to as scatter plot. What can you infer from these scatter plots?\n",
    "\n",
    "Index : Feature\n",
    "- 0 : Centroid Mean\n",
    "- 1 : Centroid Std\n",
    "- 2 : RMS Mean\n",
    "- 3 : RMS Std\n",
    "- 4 : ZCR Mean\n",
    "- 5 : ZCR Std\n",
    "- 6 : Crest Mean\n",
    "- 7 : Crest Std\n",
    "- 8 : Flux Mean\n",
    "- 9 : Flux Std"
   ]
  },
  {
   "cell_type": "code",
   "execution_count": 311,
   "metadata": {},
   "outputs": [
    {
     "data": {
      "text/plain": [
       "'resources/music_speech/'"
      ]
     },
     "execution_count": 311,
     "metadata": {},
     "output_type": "execute_result"
    }
   ],
   "source": [
    "path"
   ]
  },
  {
   "cell_type": "code",
   "execution_count": 312,
   "metadata": {},
   "outputs": [],
   "source": [
    "def visualize_features(path):\n",
    "    blockSize = 1024\n",
    "    hopSize = 256\n",
    "    music = get_feature_data(path+'music_wav/',blockSize,hopSize)\n",
    "    speech = get_feature_data(path+'speech_wav/',blockSize,hopSize)\n",
    "    combo=np.concatenate([music,speech],axis=1)\n",
    "    combo_normalized = normalize_zscore(combo)\n",
    "\n",
    "    music_normalized = combo_normalized[:,:music.shape[1]]\n",
    "    speech_normalized = combo_normalized[:,music.shape[1]:music.shape[1]+speech.shape[1]]\n",
    "\n",
    "    import matplotlib.pyplot as plt\n",
    "    fig = plt.figure(figsize=(10, 15))\n",
    "    ax1 = fig.add_subplot(511)\n",
    "    ax2 = fig.add_subplot(512)\n",
    "    ax3 = fig.add_subplot(513)\n",
    "    ax4 = fig.add_subplot(514)\n",
    "    ax5 = fig.add_subplot(515)\n",
    "\n",
    "    #Plot 1\n",
    "    ax1.scatter(music_resplit[0],music_resplit[6],color='red')\n",
    "    ax1.scatter(speech_resplit[0],speech_resplit[6],color='blue')\n",
    "\n",
    "    #Plot 2\n",
    "    ax2.scatter(music_resplit[8],music_resplit[4],color='red')\n",
    "    ax2.scatter(speech_resplit[8],speech_resplit[4],color='blue')\n",
    "\n",
    "    #Plot 3\n",
    "    ax3.scatter(music_resplit[2],music_resplit[3],color='red')\n",
    "    ax3.scatter(speech_resplit[2],speech_resplit[3],color='blue')\n",
    "\n",
    "    #Plot 4\n",
    "    ax4.scatter(music_resplit[5],music_resplit[7],color='red')\n",
    "    ax4.scatter(speech_resplit[5],speech_resplit[7],color='blue')\n",
    "\n",
    "    #Plot 5\n",
    "    ax5.scatter(music_resplit[1],music_resplit[9],color='red')\n",
    "    ax5.scatter(speech_resplit[1],speech_resplit[9],color='blue')\n",
    "\n",
    "    #Labelling axes and plots\n",
    "    ax1.set_xlabel('Spectral Centroid Mean')\n",
    "    ax1.set_ylabel('Spectral Crest Mean')\n",
    "    ax1.set_title('SC Mean vs SCR Mean')\n",
    "\n",
    "    ax2.set_xlabel('Spectral Flux Mean')\n",
    "    ax2.set_ylabel('Zero Crossing Rate Mean')\n",
    "    ax2.set_title('SF Mean vs ZCR Mean')\n",
    "\n",
    "    ax3.set_xlabel('RMS Mean')\n",
    "    ax3.set_ylabel('RMS Standard Deviation')\n",
    "    ax3.set_title('RMS Mean vs RMS Std')\n",
    "\n",
    "    ax4.set_xlabel('ZCR Standard Deviation')\n",
    "    ax4.set_ylabel('Spectral Crest Standard Deviation')\n",
    "    ax4.set_title('ZCR Std vs SCR Std')\n",
    "\n",
    "    ax5.set_xlabel('Spectral Centroid Standard Deviation')\n",
    "    ax5.set_ylabel('Spectral Flux Standard Deviation')\n",
    "    ax5.set_title('SC Std vs SF Std')\n",
    "\n",
    "\n",
    "    plt.subplots_adjust(left=0.1,\n",
    "                        bottom=0.1, \n",
    "                        right=0.9, \n",
    "                        top=1.2, \n",
    "                        wspace=0.4, \n",
    "                        hspace=0.4)\n",
    "    fig.show()"
   ]
  },
  {
   "cell_type": "code",
   "execution_count": 318,
   "metadata": {},
   "outputs": [
    {
     "ename": "KeyboardInterrupt",
     "evalue": "",
     "output_type": "error",
     "traceback": [
      "\u001b[0;31m---------------------------------------------------------------------------\u001b[0m",
      "\u001b[0;31mKeyboardInterrupt\u001b[0m                         Traceback (most recent call last)",
      "\u001b[0;32m<ipython-input-318-237ba81d192c>\u001b[0m in \u001b[0;36m<module>\u001b[0;34m\u001b[0m\n\u001b[0;32m----> 1\u001b[0;31m \u001b[0mvisualize_features\u001b[0m\u001b[0;34m(\u001b[0m\u001b[0;34m'./resources/music_speech/'\u001b[0m\u001b[0;34m)\u001b[0m\u001b[0;34m\u001b[0m\u001b[0;34m\u001b[0m\u001b[0m\n\u001b[0m",
      "\u001b[0;32m<ipython-input-312-2bedecca401a>\u001b[0m in \u001b[0;36mvisualize_features\u001b[0;34m(path)\u001b[0m\n\u001b[1;32m      2\u001b[0m     \u001b[0mblockSize\u001b[0m \u001b[0;34m=\u001b[0m \u001b[0;36m1024\u001b[0m\u001b[0;34m\u001b[0m\u001b[0;34m\u001b[0m\u001b[0m\n\u001b[1;32m      3\u001b[0m     \u001b[0mhopSize\u001b[0m \u001b[0;34m=\u001b[0m \u001b[0;36m256\u001b[0m\u001b[0;34m\u001b[0m\u001b[0;34m\u001b[0m\u001b[0m\n\u001b[0;32m----> 4\u001b[0;31m     \u001b[0mmusic\u001b[0m \u001b[0;34m=\u001b[0m \u001b[0mget_feature_data\u001b[0m\u001b[0;34m(\u001b[0m\u001b[0mpath\u001b[0m\u001b[0;34m+\u001b[0m\u001b[0;34m'music_wav/'\u001b[0m\u001b[0;34m,\u001b[0m\u001b[0mblockSize\u001b[0m\u001b[0;34m,\u001b[0m\u001b[0mhopSize\u001b[0m\u001b[0;34m)\u001b[0m\u001b[0;34m\u001b[0m\u001b[0;34m\u001b[0m\u001b[0m\n\u001b[0m\u001b[1;32m      5\u001b[0m     \u001b[0mspeech\u001b[0m \u001b[0;34m=\u001b[0m \u001b[0mget_feature_data\u001b[0m\u001b[0;34m(\u001b[0m\u001b[0mpath\u001b[0m\u001b[0;34m+\u001b[0m\u001b[0;34m'speech_wav/'\u001b[0m\u001b[0;34m,\u001b[0m\u001b[0mblockSize\u001b[0m\u001b[0;34m,\u001b[0m\u001b[0mhopSize\u001b[0m\u001b[0;34m)\u001b[0m\u001b[0;34m\u001b[0m\u001b[0;34m\u001b[0m\u001b[0m\n\u001b[1;32m      6\u001b[0m     \u001b[0mcombo\u001b[0m\u001b[0;34m=\u001b[0m\u001b[0mnp\u001b[0m\u001b[0;34m.\u001b[0m\u001b[0mconcatenate\u001b[0m\u001b[0;34m(\u001b[0m\u001b[0;34m[\u001b[0m\u001b[0mmusic\u001b[0m\u001b[0;34m,\u001b[0m\u001b[0mspeech\u001b[0m\u001b[0;34m]\u001b[0m\u001b[0;34m,\u001b[0m\u001b[0maxis\u001b[0m\u001b[0;34m=\u001b[0m\u001b[0;36m1\u001b[0m\u001b[0;34m)\u001b[0m\u001b[0;34m\u001b[0m\u001b[0;34m\u001b[0m\u001b[0m\n",
      "\u001b[0;32m<ipython-input-214-7069ba7df4ba>\u001b[0m in \u001b[0;36mget_feature_data\u001b[0;34m(path, blockSize, hopSize)\u001b[0m\n\u001b[1;32m     10\u001b[0m             \u001b[0;31m#print(file_name)\u001b[0m\u001b[0;34m\u001b[0m\u001b[0;34m\u001b[0m\u001b[0m\n\u001b[1;32m     11\u001b[0m             \u001b[0mfs\u001b[0m\u001b[0;34m,\u001b[0m\u001b[0mx\u001b[0m \u001b[0;34m=\u001b[0m \u001b[0mToolReadAudio\u001b[0m\u001b[0;34m(\u001b[0m\u001b[0mpath\u001b[0m\u001b[0;34m+\u001b[0m\u001b[0mfile_name\u001b[0m\u001b[0;34m)\u001b[0m\u001b[0;34m\u001b[0m\u001b[0;34m\u001b[0m\u001b[0m\n\u001b[0;32m---> 12\u001b[0;31m             \u001b[0mfeatures\u001b[0m \u001b[0;34m=\u001b[0m \u001b[0mextract_features\u001b[0m\u001b[0;34m(\u001b[0m\u001b[0mx\u001b[0m\u001b[0;34m,\u001b[0m\u001b[0mblockSize\u001b[0m\u001b[0;34m,\u001b[0m\u001b[0mhopSize\u001b[0m\u001b[0;34m,\u001b[0m\u001b[0mfs\u001b[0m\u001b[0;34m)\u001b[0m\u001b[0;34m\u001b[0m\u001b[0;34m\u001b[0m\u001b[0m\n\u001b[0m\u001b[1;32m     13\u001b[0m             \u001b[0maggFeatures\u001b[0m \u001b[0;34m=\u001b[0m \u001b[0maggregate_feature_per_file\u001b[0m\u001b[0;34m(\u001b[0m\u001b[0mfeatures\u001b[0m\u001b[0;34m)\u001b[0m\u001b[0;34m\u001b[0m\u001b[0;34m\u001b[0m\u001b[0m\n\u001b[1;32m     14\u001b[0m             \u001b[0;32mfor\u001b[0m \u001b[0mj\u001b[0m \u001b[0;32min\u001b[0m \u001b[0mrange\u001b[0m\u001b[0;34m(\u001b[0m\u001b[0;36m10\u001b[0m\u001b[0;34m)\u001b[0m\u001b[0;34m:\u001b[0m\u001b[0;34m\u001b[0m\u001b[0;34m\u001b[0m\u001b[0m\n",
      "\u001b[0;32m<ipython-input-209-e8a4475aaeff>\u001b[0m in \u001b[0;36mextract_features\u001b[0;34m(x, blockSize, hopSize, fs)\u001b[0m\n\u001b[1;32m      6\u001b[0m     \u001b[0mfeatures\u001b[0m\u001b[0;34m[\u001b[0m\u001b[0;36m2\u001b[0m\u001b[0;34m]\u001b[0m \u001b[0;34m=\u001b[0m \u001b[0mextract_zerocrossingrate\u001b[0m\u001b[0;34m(\u001b[0m\u001b[0mxb\u001b[0m\u001b[0;34m)\u001b[0m\u001b[0;34m\u001b[0m\u001b[0;34m\u001b[0m\u001b[0m\n\u001b[1;32m      7\u001b[0m     \u001b[0mfeatures\u001b[0m\u001b[0;34m[\u001b[0m\u001b[0;36m3\u001b[0m\u001b[0;34m]\u001b[0m \u001b[0;34m=\u001b[0m \u001b[0mextract_spectral_crest\u001b[0m\u001b[0;34m(\u001b[0m\u001b[0mxb\u001b[0m\u001b[0;34m)\u001b[0m\u001b[0;34m\u001b[0m\u001b[0;34m\u001b[0m\u001b[0m\n\u001b[0;32m----> 8\u001b[0;31m     \u001b[0mfeatures\u001b[0m\u001b[0;34m[\u001b[0m\u001b[0;36m4\u001b[0m\u001b[0;34m]\u001b[0m \u001b[0;34m=\u001b[0m \u001b[0mextract_spectral_flux\u001b[0m\u001b[0;34m(\u001b[0m\u001b[0mxb\u001b[0m\u001b[0;34m)\u001b[0m\u001b[0;34m\u001b[0m\u001b[0;34m\u001b[0m\u001b[0m\n\u001b[0m\u001b[1;32m      9\u001b[0m     \u001b[0;32mreturn\u001b[0m \u001b[0mfeatures\u001b[0m\u001b[0;34m\u001b[0m\u001b[0;34m\u001b[0m\u001b[0m\n",
      "\u001b[0;32m<ipython-input-208-3b18843c3aed>\u001b[0m in \u001b[0;36mextract_spectral_flux\u001b[0;34m(xb)\u001b[0m\n\u001b[1;32m     10\u001b[0m         \u001b[0msum_flux\u001b[0m \u001b[0;34m=\u001b[0m \u001b[0;36m0\u001b[0m\u001b[0;34m\u001b[0m\u001b[0;34m\u001b[0m\u001b[0m\n\u001b[1;32m     11\u001b[0m         \u001b[0;32mfor\u001b[0m \u001b[0mk\u001b[0m \u001b[0;32min\u001b[0m \u001b[0mrange\u001b[0m\u001b[0;34m(\u001b[0m\u001b[0mfft_len\u001b[0m\u001b[0;34m)\u001b[0m\u001b[0;34m:\u001b[0m\u001b[0;34m\u001b[0m\u001b[0;34m\u001b[0m\u001b[0m\n\u001b[0;32m---> 12\u001b[0;31m             \u001b[0mf\u001b[0m \u001b[0;34m=\u001b[0m \u001b[0;34m(\u001b[0m\u001b[0mabs\u001b[0m\u001b[0;34m(\u001b[0m\u001b[0mstft\u001b[0m\u001b[0;34m[\u001b[0m\u001b[0mn\u001b[0m\u001b[0;34m,\u001b[0m \u001b[0mk\u001b[0m\u001b[0;34m]\u001b[0m\u001b[0;34m)\u001b[0m \u001b[0;34m-\u001b[0m \u001b[0mabs\u001b[0m\u001b[0;34m(\u001b[0m\u001b[0mstft\u001b[0m\u001b[0;34m[\u001b[0m\u001b[0mn\u001b[0m\u001b[0;34m-\u001b[0m\u001b[0;36m1\u001b[0m\u001b[0;34m,\u001b[0m \u001b[0mk\u001b[0m\u001b[0;34m]\u001b[0m\u001b[0;34m)\u001b[0m\u001b[0;34m)\u001b[0m\u001b[0;34m**\u001b[0m\u001b[0;36m2\u001b[0m\u001b[0;34m\u001b[0m\u001b[0;34m\u001b[0m\u001b[0m\n\u001b[0m\u001b[1;32m     13\u001b[0m             \u001b[0msum_flux\u001b[0m \u001b[0;34m+=\u001b[0m \u001b[0mf\u001b[0m\u001b[0;34m\u001b[0m\u001b[0;34m\u001b[0m\u001b[0m\n\u001b[1;32m     14\u001b[0m         \u001b[0mflux\u001b[0m \u001b[0;34m=\u001b[0m \u001b[0mnp\u001b[0m\u001b[0;34m.\u001b[0m\u001b[0msqrt\u001b[0m\u001b[0;34m(\u001b[0m\u001b[0msum_flux\u001b[0m\u001b[0;34m)\u001b[0m\u001b[0;34m/\u001b[0m\u001b[0;34m(\u001b[0m\u001b[0;34m(\u001b[0m\u001b[0mblockSize\u001b[0m\u001b[0;34m/\u001b[0m\u001b[0;36m2\u001b[0m\u001b[0;34m)\u001b[0m\u001b[0;34m+\u001b[0m\u001b[0;36m1\u001b[0m\u001b[0;34m)\u001b[0m\u001b[0;34m\u001b[0m\u001b[0;34m\u001b[0m\u001b[0m\n",
      "\u001b[0;31mKeyboardInterrupt\u001b[0m: "
     ]
    }
   ],
   "source": [
    "visualize_features('./resources/music_speech/')"
   ]
  },
  {
   "cell_type": "code",
   "execution_count": 350,
   "metadata": {},
   "outputs": [
    {
     "name": "stderr",
     "output_type": "stream",
     "text": [
      "<ipython-input-350-febcb5c82596>:60: UserWarning:\n",
      "\n",
      "Matplotlib is currently using module://ipykernel.pylab.backend_inline, which is a non-GUI backend, so cannot show the figure.\n",
      "\n"
     ]
    },
    {
     "data": {
      "image/png": "[encoded data removed]",
      "text/plain": [
       "<Figure size 720x1080 with 5 Axes>"
      ]
     },
     "metadata": {
      "needs_background": "light"
     },
     "output_type": "display_data"
    }
   ],
   "source": [
    "combo=np.concatenate([music,speech],axis=1)\n",
    "combo_normalized = normalize_zscore(combo)\n",
    "\n",
    "music_normalized = combo_normalized[:,:music.shape[1]]\n",
    "speech_normalized = combo_normalized[:,music.shape[1]:music.shape[1]+speech.shape[1]]\n",
    "\n",
    "import matplotlib.pyplot as plt\n",
    "fig = plt.figure(figsize=(10, 15))\n",
    "ax1 = fig.add_subplot(511)\n",
    "ax2 = fig.add_subplot(512)\n",
    "ax3 = fig.add_subplot(513)\n",
    "ax4 = fig.add_subplot(514)\n",
    "ax5 = fig.add_subplot(515)\n",
    "\n",
    "#Plot 1\n",
    "ax1.scatter(music_resplit[0],music_resplit[6],color='red')\n",
    "ax1.scatter(speech_resplit[0],speech_resplit[6],color='blue')\n",
    "\n",
    "#Plot 2\n",
    "ax2.scatter(music_resplit[8],music_resplit[4],color='red')\n",
    "ax2.scatter(speech_resplit[8],speech_resplit[4],color='blue')\n",
    "\n",
    "#Plot 3\n",
    "ax3.scatter(music_resplit[2],music_resplit[3],color='red')\n",
    "ax3.scatter(speech_resplit[2],speech_resplit[3],color='blue')\n",
    "\n",
    "#Plot 4\n",
    "ax4.scatter(music_resplit[5],music_resplit[7],color='red')\n",
    "ax4.scatter(speech_resplit[5],speech_resplit[7],color='blue')\n",
    "\n",
    "#Plot 5\n",
    "ax5.scatter(music_resplit[1],music_resplit[9],color='red')\n",
    "ax5.scatter(speech_resplit[1],speech_resplit[9],color='blue')\n",
    "\n",
    "#Labelling axes and plots\n",
    "ax1.set_xlabel('Spectral Centroid Mean')\n",
    "ax1.set_ylabel('Spectral Crest Mean')\n",
    "ax1.set_title('SC Mean vs SCR Mean')\n",
    "\n",
    "ax2.set_xlabel('Spectral Flux Mean')\n",
    "ax2.set_ylabel('Zero Crossing Rate Mean')\n",
    "ax2.set_title('SF Mean vs ZCR Mean')\n",
    "\n",
    "ax3.set_xlabel('RMS Mean')\n",
    "ax3.set_ylabel('RMS Standard Deviation')\n",
    "ax3.set_title('RMS Mean vs RMS Std')\n",
    "\n",
    "ax4.set_xlabel('ZCR Standard Deviation')\n",
    "ax4.set_ylabel('Spectral Crest Standard Deviation')\n",
    "ax4.set_title('ZCR Std vs SCR Std')\n",
    "\n",
    "ax5.set_xlabel('Spectral Centroid Standard Deviation')\n",
    "ax5.set_ylabel('Spectral Flux Standard Deviation')\n",
    "ax5.set_title('SC Std vs SF Std')\n",
    "\n",
    "\n",
    "plt.subplots_adjust(\n",
    "                    wspace=0.5, \n",
    "                    hspace=0.8)\n",
    "fig.show()"
   ]
  },
  {
   "cell_type": "code",
   "execution_count": 368,
   "metadata": {},
   "outputs": [
    {
     "data": {
      "image/png": "[encoded data removed]",
      "text/plain": [
       "<Figure size 576x864 with 5 Axes>"
      ]
     },
     "metadata": {
      "needs_background": "light"
     },
     "output_type": "display_data"
    }
   ],
   "source": [
    "import matplotlib.pyplot as plt\n",
    "fig = plt.figure(figsize=(8, 12))\n",
    "\n",
    "# ax1 = fig.add_subplot(511)\n",
    "# ax2 = fig.add_subplot(512)\n",
    "# ax3 = fig.add_subplot(513)\n",
    "# ax4 = fig.add_subplot(514)\n",
    "# ax5 = fig.add_subplot(515)\n",
    "ax1 = fig.add_subplot(321)\n",
    "ax2 = fig.add_subplot(322)\n",
    "ax3 = fig.add_subplot(323)\n",
    "ax4 = fig.add_subplot(324)\n",
    "ax5 = fig.add_subplot(325)\n",
    "\n",
    "#Plot 1\n",
    "ax1.scatter(music_normalized[0],music_normalized[6],color='red')\n",
    "ax1.scatter(speech_normalized[0],speech_normalized[6],color='blue')\n",
    "\n",
    "#Plot 2\n",
    "ax2.scatter(music_normalized[8],music_normalized[4],color='red')\n",
    "ax2.scatter(speech_normalized[8],speech_normalized[4],color='blue')\n",
    "\n",
    "#Plot 3\n",
    "ax3.scatter(music_normalized[2],music_normalized[3],color='red')\n",
    "ax3.scatter(speech_normalized[2],speech_normalized[3],color='blue')\n",
    "\n",
    "#Plot 4\n",
    "ax4.scatter(music_normalized[5],music_normalized[7],color='red')\n",
    "ax4.scatter(speech_normalized[5],speech_normalized[7],color='blue')\n",
    "\n",
    "#Plot 5\n",
    "ax5.scatter(music_normalized[1],music_normalized[9],color='red')\n",
    "ax5.scatter(speech_normalized[1],speech_normalized[9],color='blue')\n",
    "\n",
    "#Labelling axes and plots\n",
    "ax1.set_xlabel('Spectral Centroid Mean')\n",
    "ax1.set_ylabel('Spectral Crest Mean')\n",
    "ax1.set_title('SC Mean vs SCR Mean')\n",
    "\n",
    "ax2.set_xlabel('Spectral Flux Mean')\n",
    "ax2.set_ylabel('Zero Crossing Rate Mean')\n",
    "ax2.set_title('SF Mean vs ZCR Mean')\n",
    "\n",
    "ax3.set_xlabel('RMS Mean')\n",
    "ax3.set_ylabel('RMS Standard Deviation')\n",
    "ax3.set_title('RMS Mean vs RMS Std')\n",
    "\n",
    "ax4.set_xlabel('ZCR Standard Deviation')\n",
    "ax4.set_ylabel('Spectral Crest Standard Deviation')\n",
    "ax4.set_title('ZCR Std vs SCR Std')\n",
    "\n",
    "ax5.set_xlabel('Spectral Centroid Standard Deviation')\n",
    "ax5.set_ylabel('Spectral Flux Standard Deviation')\n",
    "ax5.set_title('SC Std vs SF Std')\n",
    "\n",
    "fig.legend(['music','speech'],loc='upper center')\n",
    "plt.subplots_adjust( \n",
    "                    wspace=0.5, \n",
    "                    hspace=0.8)\n",
    "\n",
    "plt.show()"
   ]
  },
  {
   "cell_type": "code",
   "execution_count": null,
   "metadata": {},
   "outputs": [],
   "source": []
  }
 ],
 "metadata": {
  "interpreter": {
   "hash": "aee8b7b246df8f9039afb4144a1f6fd8d2ca17a180786b69acc140d282b71a49"
  },
  "kernelspec": {
   "display_name": "Python 3.9.7 64-bit",
   "name": "python3"
  },
  "language_info": {
   "codemirror_mode": {
    "name": "ipython",
    "version": 3
   },
   "file_extension": ".py",
   "mimetype": "text/x-python",
   "name": "python",
   "nbconvert_exporter": "python",
   "pygments_lexer": "ipython3",
   "version": "3.9.7"
  },
  "orig_nbformat": 4
 },
 "nbformat": 4,
 "nbformat_minor": 2
}
