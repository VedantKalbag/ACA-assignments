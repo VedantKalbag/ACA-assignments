{
 "cells": [
  {
   "cell_type": "code",
   "execution_count": 2,
   "source": [
    "import numpy as np\n",
    "import scipy.signal\n",
    "import scipy.io.wavfile\n",
    "import os\n",
    "import math\n",
    "from matplotlib import pyplot as plt \n",
    "\n",
    "blockSize=1024\n",
    "hopSize=512\n",
    "fs=44100"
   ],
   "outputs": [],
   "metadata": {}
  },
  {
   "cell_type": "code",
   "execution_count": 3,
   "source": [
    "fs,x = scipy.io.wavfile.read('../assignment_1/trainData/01-D_AMairena.wav')\n",
    "x = x/max(x)\n",
    "x"
   ],
   "outputs": [
    {
     "output_type": "stream",
     "name": "stderr",
     "text": [
      "<ipython-input-3-88eef1bf7426>:1: WavFileWarning: Chunk (non-data) not understood, skipping it.\n",
      "  fs,x = scipy.io.wavfile.read('../assignment_1/trainData/01-D_AMairena.wav')\n"
     ]
    },
    {
     "output_type": "execute_result",
     "data": {
      "text/plain": [
       "array([-4.82963943e-03, -4.73040026e-03, -4.53192193e-03, ...,\n",
       "        6.61594443e-05,  3.30797221e-05,  0.00000000e+00])"
      ]
     },
     "metadata": {},
     "execution_count": 3
    }
   ],
   "metadata": {}
  },
  {
   "cell_type": "code",
   "execution_count": 4,
   "source": [
    "# BLOCK AUDIO\n",
    "def block_audio(x,blockSize,hopSize,fs):    \n",
    "    # allocate memory    \n",
    "    numBlocks = math.ceil(x.size / hopSize)    \n",
    "    xb = np.zeros([numBlocks, blockSize])    \n",
    "    # compute time stamps    \n",
    "    t = (np.arange(0, numBlocks) * hopSize) / fs   \n",
    "    x = np.concatenate((x, np.zeros(blockSize)),axis=0)    \n",
    "    for n in range(0, numBlocks):        \n",
    "        i_start = n * hopSize        \n",
    "        i_stop = np.min([x.size - 1, i_start + blockSize - 1])        \n",
    "        xb[n][np.arange(0,blockSize)] = x[np.arange(i_start, i_stop + 1)]    \n",
    "    return (xb,t)"
   ],
   "outputs": [],
   "metadata": {}
  },
  {
   "cell_type": "markdown",
   "source": [
    "## Test signals"
   ],
   "metadata": {}
  },
  {
   "cell_type": "code",
   "execution_count": 5,
   "source": [
    "xb,t = block_audio(x, blockSize, hopSize, fs)"
   ],
   "outputs": [],
   "metadata": {}
  },
  {
   "cell_type": "code",
   "execution_count": 24,
   "source": [
    "test_aud = np.sin(2*np.pi*1000*np.arange(1 * fs)/fs)\n",
    "test_blocked,t = block_audio(test_aud,2048, 1024, fs)\n",
    "print(math.ceil(test_aud.size / 1024))"
   ],
   "outputs": [
    {
     "output_type": "stream",
     "name": "stdout",
     "text": [
      "44\n"
     ]
    }
   ],
   "metadata": {}
  },
  {
   "cell_type": "code",
   "execution_count": 86,
   "source": [
    "plt.plot(test_aud[0:100])"
   ],
   "outputs": [
    {
     "output_type": "execute_result",
     "data": {
      "text/plain": [
       "[<matplotlib.lines.Line2D at 0x13a5d5310>]"
      ]
     },
     "metadata": {},
     "execution_count": 86
    },
    {
     "output_type": "display_data",
     "data": {
      "image/png": "[encoded data removed]",
      "text/plain": [
       "<Figure size 432x288 with 1 Axes>"
      ]
     },
     "metadata": {
      "needs_background": "light"
     }
    }
   ],
   "metadata": {}
  },
  {
   "cell_type": "markdown",
   "source": [
    "## Calculate STFT from blocked audio"
   ],
   "metadata": {}
  },
  {
   "cell_type": "code",
   "execution_count": 120,
   "source": [
    "def calc_stft(xb,fs=44100):\n",
    "    stft = []\n",
    "    freqs=[]\n",
    "    window = np.hanning(xb[0].shape[0])\n",
    "    for block in xb:\n",
    "        # Apply Window to the block\n",
    "        windowed_block = window * block \n",
    "        # Pad zeros equal to length of the windowed block at the end\n",
    "        #windowed_block = np.append(windowed_block,np.zeros(block.shape[0]))\n",
    "        stft_blk = np.fft.fft(windowed_block)\n",
    "        #stft_blk = np.fft.rfft(windowed_block)\n",
    "        freq=np.fft.fftfreq(block.size,1/fs)\n",
    "        freqs.append(freq[:int(block.size/2)])\n",
    "        stft_blk = np.abs(stft_blk)\n",
    "        #stft_block = stft_blk[int((stft_blk.shape[0])/2):]\n",
    "        stft_block = stft_blk[:int((stft_blk.shape[0])/2)]\n",
    "        #stft_db = 10*np.log10(stft_block) # IS THIS CORRECT??\n",
    "        stft.append(stft_block)\n",
    "    stft = np.array(stft)\n",
    "    freqs=np.array(freqs)\n",
    "    return stft,freqs"
   ],
   "outputs": [],
   "metadata": {}
  },
  {
   "cell_type": "code",
   "execution_count": 117,
   "source": [
    "plt.plot(calc_stft(test_blocked,44100)[0][0],)"
   ],
   "outputs": [
    {
     "output_type": "execute_result",
     "data": {
      "text/plain": [
       "[<matplotlib.lines.Line2D at 0x144bab6a0>]"
      ]
     },
     "metadata": {},
     "execution_count": 117
    },
    {
     "output_type": "display_data",
     "data": {
      "image/png": "[encoded data removed]",
      "text/plain": [
       "<Figure size 432x288 with 1 Axes>"
      ]
     },
     "metadata": {
      "needs_background": "light"
     }
    }
   ],
   "metadata": {}
  },
  {
   "cell_type": "code",
   "execution_count": 121,
   "source": [
    "stft,freqs = calc_stft(test_blocked,44100)\n",
    "plt.plot(freqs[0],stft[0])"
   ],
   "outputs": [
    {
     "output_type": "execute_result",
     "data": {
      "text/plain": [
       "[<matplotlib.lines.Line2D at 0x144c5bc40>]"
      ]
     },
     "metadata": {},
     "execution_count": 121
    },
    {
     "output_type": "display_data",
     "data": {
      "image/png": "[encoded data removed]",
      "text/plain": [
       "<Figure size 432x288 with 1 Axes>"
      ]
     },
     "metadata": {
      "needs_background": "light"
     }
    }
   ],
   "metadata": {}
  },
  {
   "cell_type": "code",
   "execution_count": 129,
   "source": [
    "import plotly.express as px\n",
    "import pandas as pd\n",
    "stft,freqs = calc_stft(test_blocked,44100)\n",
    "df = pd.DataFrame()\n",
    "df['stft']=stft[0]\n",
    "df['freqs']=freqs[0]\n",
    "fig = px.line(df,x='freqs',y='stft')\n",
    "fig.show()"
   ],
   "outputs": [
    {
     "output_type": "display_data",
     "data": {
      "application/vnd.plotly.v1+json": {
       "config": {
        "plotlyServerURL": "https://plot.ly"
       },
       "data": [
        {
         "hovertemplate": "freqs=%{x}<br>stft=%{y}<extra></extra>",
         "legendgroup": "",
         "line": {
          "color": "#636efa",
          "dash": "solid"
         },
         "mode": "lines",
         "name": "",
         "showlegend": false,
         "type": "scattergl",
         "x": [
          0,
          21.533203125,
          43.06640625,
          64.599609375,
          86.1328125,
          107.666015625,
          129.19921875,
          150.732421875,
          172.265625,
          193.798828125,
          215.33203125,
          236.865234375,
          258.3984375,
          279.931640625,
          301.46484375,
          322.998046875,
          344.53125,
          366.064453125,
          387.59765625,
          409.130859375,
          430.6640625,
          452.197265625,
          473.73046875,
          495.263671875,
          516.796875,
          538.330078125,
          559.86328125,
          581.396484375,
          602.9296875,
          624.462890625,
          645.99609375,
          667.529296875,
          689.0625,
          710.595703125,
          732.12890625,
          753.662109375,
          775.1953125,
          796.728515625,
          818.26171875,
          839.794921875,
          861.328125,
          882.861328125,
          904.39453125,
          925.927734375,
          947.4609375,
          968.994140625,
          990.52734375,
          1012.060546875,
          1033.59375,
          1055.126953125,
          1076.66015625,
          1098.193359375,
          1119.7265625,
          1141.259765625,
          1162.79296875,
          1184.326171875,
          1205.859375,
          1227.392578125,
          1248.92578125,
          1270.458984375,
          1291.9921875,
          1313.525390625,
          1335.05859375,
          1356.591796875,
          1378.125,
          1399.658203125,
          1421.19140625,
          1442.724609375,
          1464.2578125,
          1485.791015625,
          1507.32421875,
          1528.857421875,
          1550.390625,
          1571.923828125,
          1593.45703125,
          1614.990234375,
          1636.5234375,
          1658.056640625,
          1679.58984375,
          1701.123046875,
          1722.65625,
          1744.189453125,
          1765.72265625,
          1787.255859375,
          1808.7890625,
          1830.322265625,
          1851.85546875,
          1873.388671875,
          1894.921875,
          1916.455078125,
          1937.98828125,
          1959.521484375,
          1981.0546875,
          2002.587890625,
          2024.12109375,
          2045.654296875,
          2067.1875,
          2088.720703125,
          2110.25390625,
          2131.787109375,
          2153.3203125,
          2174.853515625,
          2196.38671875,
          2217.919921875,
          2239.453125,
          2260.986328125,
          2282.51953125,
          2304.052734375,
          2325.5859375,
          2347.119140625,
          2368.65234375,
          2390.185546875,
          2411.71875,
          2433.251953125,
          2454.78515625,
          2476.318359375,
          2497.8515625,
          2519.384765625,
          2540.91796875,
          2562.451171875,
          2583.984375,
          2605.517578125,
          2627.05078125,
          2648.583984375,
          2670.1171875,
          2691.650390625,
          2713.18359375,
          2734.716796875,
          2756.25,
          2777.783203125,
          2799.31640625,
          2820.849609375,
          2842.3828125,
          2863.916015625,
          2885.44921875,
          2906.982421875,
          2928.515625,
          2950.048828125,
          2971.58203125,
          2993.115234375,
          3014.6484375,
          3036.181640625,
          3057.71484375,
          3079.248046875,
          3100.78125,
          3122.314453125,
          3143.84765625,
          3165.380859375,
          3186.9140625,
          3208.447265625,
          3229.98046875,
          3251.513671875,
          3273.046875,
          3294.580078125,
          3316.11328125,
          3337.646484375,
          3359.1796875,
          3380.712890625,
          3402.24609375,
          3423.779296875,
          3445.3125,
          3466.845703125,
          3488.37890625,
          3509.912109375,
          3531.4453125,
          3552.978515625,
          3574.51171875,
          3596.044921875,
          3617.578125,
          3639.111328125,
          3660.64453125,
          3682.177734375,
          3703.7109375,
          3725.244140625,
          3746.77734375,
          3768.310546875,
          3789.84375,
          3811.376953125,
          3832.91015625,
          3854.443359375,
          3875.9765625,
          3897.509765625,
          3919.04296875,
          3940.576171875,
          3962.109375,
          3983.642578125,
          4005.17578125,
          4026.708984375,
          4048.2421875,
          4069.775390625,
          4091.30859375,
          4112.841796875,
          4134.375,
          4155.908203125,
          4177.44140625,
          4198.974609375,
          4220.5078125,
          4242.041015625,
          4263.57421875,
          4285.107421875,
          4306.640625,
          4328.173828125,
          4349.70703125,
          4371.240234375,
          4392.7734375,
          4414.306640625,
          4435.83984375,
          4457.373046875,
          4478.90625,
          4500.439453125,
          4521.97265625,
          4543.505859375,
          4565.0390625,
          4586.572265625,
          4608.10546875,
          4629.638671875,
          4651.171875,
          4672.705078125,
          4694.23828125,
          4715.771484375,
          4737.3046875,
          4758.837890625,
          4780.37109375,
          4801.904296875,
          4823.4375,
          4844.970703125,
          4866.50390625,
          4888.037109375,
          4909.5703125,
          4931.103515625,
          4952.63671875,
          4974.169921875,
          4995.703125,
          5017.236328125,
          5038.76953125,
          5060.302734375,
          5081.8359375,
          5103.369140625,
          5124.90234375,
          5146.435546875,
          5167.96875,
          5189.501953125,
          5211.03515625,
          5232.568359375,
          5254.1015625,
          5275.634765625,
          5297.16796875,
          5318.701171875,
          5340.234375,
          5361.767578125,
          5383.30078125,
          5404.833984375,
          5426.3671875,
          5447.900390625,
          5469.43359375,
          5490.966796875,
          5512.5,
          5534.033203125,
          5555.56640625,
          5577.099609375,
          5598.6328125,
          5620.166015625,
          5641.69921875,
          5663.232421875,
          5684.765625,
          5706.298828125,
          5727.83203125,
          5749.365234375,
          5770.8984375,
          5792.431640625,
          5813.96484375,
          5835.498046875,
          5857.03125,
          5878.564453125,
          5900.09765625,
          5921.630859375,
          5943.1640625,
          5964.697265625,
          5986.23046875,
          6007.763671875,
          6029.296875,
          6050.830078125,
          6072.36328125,
          6093.896484375,
          6115.4296875,
          6136.962890625,
          6158.49609375,
          6180.029296875,
          6201.5625,
          6223.095703125,
          6244.62890625,
          6266.162109375,
          6287.6953125,
          6309.228515625,
          6330.76171875,
          6352.294921875,
          6373.828125,
          6395.361328125,
          6416.89453125,
          6438.427734375,
          6459.9609375,
          6481.494140625,
          6503.02734375,
          6524.560546875,
          6546.09375,
          6567.626953125,
          6589.16015625,
          6610.693359375,
          6632.2265625,
          6653.759765625,
          6675.29296875,
          6696.826171875,
          6718.359375,
          6739.892578125,
          6761.42578125,
          6782.958984375,
          6804.4921875,
          6826.025390625,
          6847.55859375,
          6869.091796875,
          6890.625,
          6912.158203125,
          6933.69140625,
          6955.224609375,
          6976.7578125,
          6998.291015625,
          7019.82421875,
          7041.357421875,
          7062.890625,
          7084.423828125,
          7105.95703125,
          7127.490234375,
          7149.0234375,
          7170.556640625,
          7192.08984375,
          7213.623046875,
          7235.15625,
          7256.689453125,
          7278.22265625,
          7299.755859375,
          7321.2890625,
          7342.822265625,
          7364.35546875,
          7385.888671875,
          7407.421875,
          7428.955078125,
          7450.48828125,
          7472.021484375,
          7493.5546875,
          7515.087890625,
          7536.62109375,
          7558.154296875,
          7579.6875,
          7601.220703125,
          7622.75390625,
          7644.287109375,
          7665.8203125,
          7687.353515625,
          7708.88671875,
          7730.419921875,
          7751.953125,
          7773.486328125,
          7795.01953125,
          7816.552734375,
          7838.0859375,
          7859.619140625,
          7881.15234375,
          7902.685546875,
          7924.21875,
          7945.751953125,
          7967.28515625,
          7988.818359375,
          8010.3515625,
          8031.884765625,
          8053.41796875,
          8074.951171875,
          8096.484375,
          8118.017578125,
          8139.55078125,
          8161.083984375,
          8182.6171875,
          8204.150390625,
          8225.68359375,
          8247.216796875,
          8268.75,
          8290.283203125,
          8311.81640625,
          8333.349609375,
          8354.8828125,
          8376.416015625,
          8397.94921875,
          8419.482421875,
          8441.015625,
          8462.548828125,
          8484.08203125,
          8505.615234375,
          8527.1484375,
          8548.681640625,
          8570.21484375,
          8591.748046875,
          8613.28125,
          8634.814453125,
          8656.34765625,
          8677.880859375,
          8699.4140625,
          8720.947265625,
          8742.48046875,
          8764.013671875,
          8785.546875,
          8807.080078125,
          8828.61328125,
          8850.146484375,
          8871.6796875,
          8893.212890625,
          8914.74609375,
          8936.279296875,
          8957.8125,
          8979.345703125,
          9000.87890625,
          9022.412109375,
          9043.9453125,
          9065.478515625,
          9087.01171875,
          9108.544921875,
          9130.078125,
          9151.611328125,
          9173.14453125,
          9194.677734375,
          9216.2109375,
          9237.744140625,
          9259.27734375,
          9280.810546875,
          9302.34375,
          9323.876953125,
          9345.41015625,
          9366.943359375,
          9388.4765625,
          9410.009765625,
          9431.54296875,
          9453.076171875,
          9474.609375,
          9496.142578125,
          9517.67578125,
          9539.208984375,
          9560.7421875,
          9582.275390625,
          9603.80859375,
          9625.341796875,
          9646.875,
          9668.408203125,
          9689.94140625,
          9711.474609375,
          9733.0078125,
          9754.541015625,
          9776.07421875,
          9797.607421875,
          9819.140625,
          9840.673828125,
          9862.20703125,
          9883.740234375,
          9905.2734375,
          9926.806640625,
          9948.33984375,
          9969.873046875,
          9991.40625,
          10012.939453125,
          10034.47265625,
          10056.005859375,
          10077.5390625,
          10099.072265625,
          10120.60546875,
          10142.138671875,
          10163.671875,
          10185.205078125,
          10206.73828125,
          10228.271484375,
          10249.8046875,
          10271.337890625,
          10292.87109375,
          10314.404296875,
          10335.9375,
          10357.470703125,
          10379.00390625,
          10400.537109375,
          10422.0703125,
          10443.603515625,
          10465.13671875,
          10486.669921875,
          10508.203125,
          10529.736328125,
          10551.26953125,
          10572.802734375,
          10594.3359375,
          10615.869140625,
          10637.40234375,
          10658.935546875,
          10680.46875,
          10702.001953125,
          10723.53515625,
          10745.068359375,
          10766.6015625,
          10788.134765625,
          10809.66796875,
          10831.201171875,
          10852.734375,
          10874.267578125,
          10895.80078125,
          10917.333984375,
          10938.8671875,
          10960.400390625,
          10981.93359375,
          11003.466796875,
          11025,
          11046.533203125,
          11068.06640625,
          11089.599609375,
          11111.1328125,
          11132.666015625,
          11154.19921875,
          11175.732421875,
          11197.265625,
          11218.798828125,
          11240.33203125,
          11261.865234375,
          11283.3984375,
          11304.931640625,
          11326.46484375,
          11347.998046875,
          11369.53125,
          11391.064453125,
          11412.59765625,
          11434.130859375,
          11455.6640625,
          11477.197265625,
          11498.73046875,
          11520.263671875,
          11541.796875,
          11563.330078125,
          11584.86328125,
          11606.396484375,
          11627.9296875,
          11649.462890625,
          11670.99609375,
          11692.529296875,
          11714.0625,
          11735.595703125,
          11757.12890625,
          11778.662109375,
          11800.1953125,
          11821.728515625,
          11843.26171875,
          11864.794921875,
          11886.328125,
          11907.861328125,
          11929.39453125,
          11950.927734375,
          11972.4609375,
          11993.994140625,
          12015.52734375,
          12037.060546875,
          12058.59375,
          12080.126953125,
          12101.66015625,
          12123.193359375,
          12144.7265625,
          12166.259765625,
          12187.79296875,
          12209.326171875,
          12230.859375,
          12252.392578125,
          12273.92578125,
          12295.458984375,
          12316.9921875,
          12338.525390625,
          12360.05859375,
          12381.591796875,
          12403.125,
          12424.658203125,
          12446.19140625,
          12467.724609375,
          12489.2578125,
          12510.791015625,
          12532.32421875,
          12553.857421875,
          12575.390625,
          12596.923828125,
          12618.45703125,
          12639.990234375,
          12661.5234375,
          12683.056640625,
          12704.58984375,
          12726.123046875,
          12747.65625,
          12769.189453125,
          12790.72265625,
          12812.255859375,
          12833.7890625,
          12855.322265625,
          12876.85546875,
          12898.388671875,
          12919.921875,
          12941.455078125,
          12962.98828125,
          12984.521484375,
          13006.0546875,
          13027.587890625,
          13049.12109375,
          13070.654296875,
          13092.1875,
          13113.720703125,
          13135.25390625,
          13156.787109375,
          13178.3203125,
          13199.853515625,
          13221.38671875,
          13242.919921875,
          13264.453125,
          13285.986328125,
          13307.51953125,
          13329.052734375,
          13350.5859375,
          13372.119140625,
          13393.65234375,
          13415.185546875,
          13436.71875,
          13458.251953125,
          13479.78515625,
          13501.318359375,
          13522.8515625,
          13544.384765625,
          13565.91796875,
          13587.451171875,
          13608.984375,
          13630.517578125,
          13652.05078125,
          13673.583984375,
          13695.1171875,
          13716.650390625,
          13738.18359375,
          13759.716796875,
          13781.25,
          13802.783203125,
          13824.31640625,
          13845.849609375,
          13867.3828125,
          13888.916015625,
          13910.44921875,
          13931.982421875,
          13953.515625,
          13975.048828125,
          13996.58203125,
          14018.115234375,
          14039.6484375,
          14061.181640625,
          14082.71484375,
          14104.248046875,
          14125.78125,
          14147.314453125,
          14168.84765625,
          14190.380859375,
          14211.9140625,
          14233.447265625,
          14254.98046875,
          14276.513671875,
          14298.046875,
          14319.580078125,
          14341.11328125,
          14362.646484375,
          14384.1796875,
          14405.712890625,
          14427.24609375,
          14448.779296875,
          14470.3125,
          14491.845703125,
          14513.37890625,
          14534.912109375,
          14556.4453125,
          14577.978515625,
          14599.51171875,
          14621.044921875,
          14642.578125,
          14664.111328125,
          14685.64453125,
          14707.177734375,
          14728.7109375,
          14750.244140625,
          14771.77734375,
          14793.310546875,
          14814.84375,
          14836.376953125,
          14857.91015625,
          14879.443359375,
          14900.9765625,
          14922.509765625,
          14944.04296875,
          14965.576171875,
          14987.109375,
          15008.642578125,
          15030.17578125,
          15051.708984375,
          15073.2421875,
          15094.775390625,
          15116.30859375,
          15137.841796875,
          15159.375,
          15180.908203125,
          15202.44140625,
          15223.974609375,
          15245.5078125,
          15267.041015625,
          15288.57421875,
          15310.107421875,
          15331.640625,
          15353.173828125,
          15374.70703125,
          15396.240234375,
          15417.7734375,
          15439.306640625,
          15460.83984375,
          15482.373046875,
          15503.90625,
          15525.439453125,
          15546.97265625,
          15568.505859375,
          15590.0390625,
          15611.572265625,
          15633.10546875,
          15654.638671875,
          15676.171875,
          15697.705078125,
          15719.23828125,
          15740.771484375,
          15762.3046875,
          15783.837890625,
          15805.37109375,
          15826.904296875,
          15848.4375,
          15869.970703125,
          15891.50390625,
          15913.037109375,
          15934.5703125,
          15956.103515625,
          15977.63671875,
          15999.169921875,
          16020.703125,
          16042.236328125,
          16063.76953125,
          16085.302734375,
          16106.8359375,
          16128.369140625,
          16149.90234375,
          16171.435546875,
          16192.96875,
          16214.501953125,
          16236.03515625,
          16257.568359375,
          16279.1015625,
          16300.634765625,
          16322.16796875,
          16343.701171875,
          16365.234375,
          16386.767578125,
          16408.30078125,
          16429.833984375,
          16451.3671875,
          16472.900390625,
          16494.43359375,
          16515.966796875,
          16537.5,
          16559.033203125,
          16580.56640625,
          16602.099609375,
          16623.6328125,
          16645.166015625,
          16666.69921875,
          16688.232421875,
          16709.765625,
          16731.298828125,
          16752.83203125,
          16774.365234375,
          16795.8984375,
          16817.431640625,
          16838.96484375,
          16860.498046875,
          16882.03125,
          16903.564453125,
          16925.09765625,
          16946.630859375,
          16968.1640625,
          16989.697265625,
          17011.23046875,
          17032.763671875,
          17054.296875,
          17075.830078125,
          17097.36328125,
          17118.896484375,
          17140.4296875,
          17161.962890625,
          17183.49609375,
          17205.029296875,
          17226.5625,
          17248.095703125,
          17269.62890625,
          17291.162109375,
          17312.6953125,
          17334.228515625,
          17355.76171875,
          17377.294921875,
          17398.828125,
          17420.361328125,
          17441.89453125,
          17463.427734375,
          17484.9609375,
          17506.494140625,
          17528.02734375,
          17549.560546875,
          17571.09375,
          17592.626953125,
          17614.16015625,
          17635.693359375,
          17657.2265625,
          17678.759765625,
          17700.29296875,
          17721.826171875,
          17743.359375,
          17764.892578125,
          17786.42578125,
          17807.958984375,
          17829.4921875,
          17851.025390625,
          17872.55859375,
          17894.091796875,
          17915.625,
          17937.158203125,
          17958.69140625,
          17980.224609375,
          18001.7578125,
          18023.291015625,
          18044.82421875,
          18066.357421875,
          18087.890625,
          18109.423828125,
          18130.95703125,
          18152.490234375,
          18174.0234375,
          18195.556640625,
          18217.08984375,
          18238.623046875,
          18260.15625,
          18281.689453125,
          18303.22265625,
          18324.755859375,
          18346.2890625,
          18367.822265625,
          18389.35546875,
          18410.888671875,
          18432.421875,
          18453.955078125,
          18475.48828125,
          18497.021484375,
          18518.5546875,
          18540.087890625,
          18561.62109375,
          18583.154296875,
          18604.6875,
          18626.220703125,
          18647.75390625,
          18669.287109375,
          18690.8203125,
          18712.353515625,
          18733.88671875,
          18755.419921875,
          18776.953125,
          18798.486328125,
          18820.01953125,
          18841.552734375,
          18863.0859375,
          18884.619140625,
          18906.15234375,
          18927.685546875,
          18949.21875,
          18970.751953125,
          18992.28515625,
          19013.818359375,
          19035.3515625,
          19056.884765625,
          19078.41796875,
          19099.951171875,
          19121.484375,
          19143.017578125,
          19164.55078125,
          19186.083984375,
          19207.6171875,
          19229.150390625,
          19250.68359375,
          19272.216796875,
          19293.75,
          19315.283203125,
          19336.81640625,
          19358.349609375,
          19379.8828125,
          19401.416015625,
          19422.94921875,
          19444.482421875,
          19466.015625,
          19487.548828125,
          19509.08203125,
          19530.615234375,
          19552.1484375,
          19573.681640625,
          19595.21484375,
          19616.748046875,
          19638.28125,
          19659.814453125,
          19681.34765625,
          19702.880859375,
          19724.4140625,
          19745.947265625,
          19767.48046875,
          19789.013671875,
          19810.546875,
          19832.080078125,
          19853.61328125,
          19875.146484375,
          19896.6796875,
          19918.212890625,
          19939.74609375,
          19961.279296875,
          19982.8125,
          20004.345703125,
          20025.87890625,
          20047.412109375,
          20068.9453125,
          20090.478515625,
          20112.01171875,
          20133.544921875,
          20155.078125,
          20176.611328125,
          20198.14453125,
          20219.677734375,
          20241.2109375,
          20262.744140625,
          20284.27734375,
          20305.810546875,
          20327.34375,
          20348.876953125,
          20370.41015625,
          20391.943359375,
          20413.4765625,
          20435.009765625,
          20456.54296875,
          20478.076171875,
          20499.609375,
          20521.142578125,
          20542.67578125,
          20564.208984375,
          20585.7421875,
          20607.275390625,
          20628.80859375,
          20650.341796875,
          20671.875,
          20693.408203125,
          20714.94140625,
          20736.474609375,
          20758.0078125,
          20779.541015625,
          20801.07421875,
          20822.607421875,
          20844.140625,
          20865.673828125,
          20887.20703125,
          20908.740234375,
          20930.2734375,
          20951.806640625,
          20973.33984375,
          20994.873046875,
          21016.40625,
          21037.939453125,
          21059.47265625,
          21081.005859375,
          21102.5390625,
          21124.072265625,
          21145.60546875,
          21167.138671875,
          21188.671875,
          21210.205078125,
          21231.73828125,
          21253.271484375,
          21274.8046875,
          21296.337890625,
          21317.87109375,
          21339.404296875,
          21360.9375,
          21382.470703125,
          21404.00390625,
          21425.537109375,
          21447.0703125,
          21468.603515625,
          21490.13671875,
          21511.669921875,
          21533.203125,
          21554.736328125,
          21576.26953125,
          21597.802734375,
          21619.3359375,
          21640.869140625,
          21662.40234375,
          21683.935546875,
          21705.46875,
          21727.001953125,
          21748.53515625,
          21770.068359375,
          21791.6015625,
          21813.134765625,
          21834.66796875,
          21856.201171875,
          21877.734375,
          21899.267578125,
          21920.80078125,
          21942.333984375,
          21963.8671875,
          21985.400390625,
          22006.93359375,
          22028.466796875
         ],
         "xaxis": "x",
         "y": [
          0.003043698701521609,
          0.003052714630327525,
          0.0030798835564092163,
          0.0031255722883618124,
          0.003190403590135017,
          0.003275273747411966,
          0.0033813780996281794,
          0.003510245553698557,
          0.003663783515779906,
          0.0038443352464627573,
          0.004054752265651561,
          0.00429848536847279,
          0.004579698943082429,
          0.004903414774197802,
          0.005275693627314381,
          0.005703865577976663,
          0.006196823901023521,
          0.006765402522440513,
          0.007422864359335269,
          0.00818553822614762,
          0.009073656815209611,
          0.010112469739483139,
          0.011333737217621737,
          0.012777757048488207,
          0.014496148723316293,
          0.016555728080585995,
          0.01904397746475023,
          0.022076890203289914,
          0.025810414935717417,
          0.030457470909812254,
          0.03631378215806004,
          0.04379802828360703,
          0.053515900620384846,
          0.06636536206849505,
          0.08371553200159851,
          0.10772267759480664,
          0.14191405026270862,
          0.19232523259513631,
          0.26986067663811647,
          0.39558714508251236,
          0.6138130950032996,
          1.028739070671782,
          1.926359311546683,
          4.296140181277735,
          13.251996339228201,
          103.72876328102106,
          451.04548473854135,
          416.3332931397164,
          71.71137387264429,
          11.279395095282172,
          3.859537909148134,
          1.7774539190007106,
          0.9647983065189529,
          0.5820516879260246,
          0.37812244237039927,
          0.25949851346134595,
          0.18579536622429296,
          0.13758714736166994,
          0.10472673023299006,
          0.08155622776930571,
          0.06474892314196239,
          0.05226066407846111,
          0.04278778627758564,
          0.03547197258507977,
          0.029732314344559113,
          0.025166051235155595,
          0.021487928748600366,
          0.018492054453688893,
          0.016027278360276905,
          0.013980931798984058,
          0.012267862170407895,
          0.010822899092322976,
          0.009595589355434366,
          0.008546459890355422,
          0.007644327303400742,
          0.006864335397932005,
          0.006186506311350325,
          0.005594658835433231,
          0.005075592441155157,
          0.004618465763753875,
          0.004214318922240526,
          0.0038557032717819943,
          0.0035363921576773484,
          0.0032511532436686834,
          0.002995568086786468,
          0.0027658881575103747,
          0.002558919275929261,
          0.002371928270320268,
          0.0022025671811208986,
          0.0020488113812451793,
          0.0019089088008809572,
          0.0017813380641588789,
          0.00166477381998732,
          0.0015580578987821503,
          0.00146017522080847,
          0.0013702335932970515,
          0.0012874467017360267,
          0.0012111197387636194,
          0.0011406372210834338,
          0.0010754526273154142,
          0.0010150795464209173,
          0.0009590841144024437,
          0.0009070785039791606,
          0.0008587153345731935,
          0.0008136828316112624,
          0.000771700647308208,
          0.0007325162261190833,
          0.0006959016451011306,
          0.000661650857982064,
          0.0006295772862161779,
          0.000599511707243322,
          0.0005713004022864048,
          0.0005448035247553398,
          0.0005198936631682489,
          0.0004964545717282835,
          0.00047438004501369573,
          0.00045357292370824673,
          0.0004339442072415878,
          0.00041541226891399246,
          0.0003979021495036244,
          0.0003813449380136883,
          0.00036567720374578594,
          0.00035084049921823196,
          0.00033678090914352523,
          0.00032344864640151743,
          0.00031079768741235097,
          0.00029878544731658707,
          0.0002873724810340824,
          0.00027652222041496104,
          0.0002662007308558036,
          0.0002563764929213252,
          0.00024702020605893037,
          0.0002381046067265752,
          0.00022960430885877577,
          0.00022149564934133766,
          0.00021375656086300519,
          0.00020636644055233624,
          0.0001993060446903485,
          0.0001925573796979237,
          0.00018610361416510795,
          0.00017992898702504884,
          0.0001740187337737859,
          0.0001683590113227979,
          0.00016293683202705863,
          0.00015774000427158332,
          0.00015275707417823165,
          0.0001479772758603385,
          0.00014339048365538004,
          0.00013898716657750554,
          0.0001347583510639503,
          0.00013069558044294266,
          0.00012679088253822178,
          0.0001230367373668455,
          0.00011942604648588429,
          0.00011595210823526414,
          0.00011260858820811266,
          0.00010938950129229432,
          0.00010628918434633725,
          0.0001033022797883809,
          0.00010042371520203347,
          0.0000976486856030714,
          0.00009497263825419716,
          0.00009239125654053388,
          0.00008990044566009889,
          0.00008749632081587941,
          0.0000851751932628472,
          0.00008293355999838317,
          0.00008076809193358706,
          0.00007867562583758443,
          0.00007665315210892852,
          0.00007469780838828621,
          0.00007280687129805348,
          0.00007097774579017004,
          0.00006920796266114504,
          0.00006749516712638898,
          0.00006583711660772296,
          0.00006423167086342994,
          0.00006267678985510334,
          0.00006117052619262238,
          0.00005971102137057082,
          0.00005829650043461529,
          0.00005692526845952366,
          0.0000555957052593561,
          0.000054306263050180316,
          0.00005305546109058322,
          0.00005184188370561794,
          0.00005066417636221766,
          0.00004952104232164056,
          0.0000484112410624191,
          0.00004733358328454164,
          0.00004628693157014772,
          0.000045270193622015826,
          0.000044282325320259325,
          0.00004332232335247896,
          0.00004238922662025449,
          0.000041482112970550436,
          0.00004060009742205825,
          0.00003974233087305097,
          0.00003890799778776107,
          0.000038096315127191386,
          0.00003730653098107418,
          0.000036537922417365396,
          0.00003578979531685704,
          0.000035061481750837785,
          0.00003435233987111507,
          0.000033661752613757484,
          0.00003298912546944193,
          0.000032333887926069595,
          0.00003169548891568559,
          0.00003107339981567211,
          0.00003046711036808446,
          0.00002987612992544076,
          0.000029299985202236028,
          0.000028738220600004655,
          0.000028190396977429715,
          0.000027656090940828724,
          0.000027134894223841274,
          0.000026626413384116477,
          0.00002613026832442747,
          0.0000256460935227317,
          0.00002517353462256142,
          0.000024712251061420256,
          0.000024261913500521338,
          0.000023822203734190068,
          0.000023392814984568285,
          0.000022973450374151186,
          0.000022563823950155558,
          0.000022163658052048312,
          0.000021772685981457443,
          0.00002139064847336984,
          0.00002101729590013691,
          0.000020652386308928458,
          0.00002029568577721333,
          0.000019946968581661834,
          0.00001960601544098361,
          0.00001927261477091324,
          0.000018946561692357968,
          0.000018627657925682854,
          0.000018315711415592218,
          0.000018010535852267284,
          0.000017711952026051923,
          0.00001741978452954779,
          0.000017133865027541296,
          0.00001685402979144133,
          0.000016580119797571494,
          0.000016311981871674085,
          0.000016049466197805036,
          0.000015792429111395052,
          0.00001554072995834486,
          0.000015294232972925568,
          0.000015052806274930607,
          0.000014816322486044674,
          0.000014584657028335272,
          0.000014357689594567806,
          0.000014135303590207336,
          0.000013917385698428663,
          0.000013703825437719286,
          0.000013494516382567638,
          0.000013289354514876922,
          0.000013088239209853696,
          0.00001289107235978604,
          0.000012697759047536417,
          0.000012508207210655853,
          0.000012322326062571293,
          0.00001214002961853808,
          0.000011961232422911764,
          0.000011785851855818562,
          0.000011613808437418689,
          0.000011445024225016114,
          0.000011279422453501983,
          0.000011116930340978487,
          0.00001095747651955168,
          0.000010800990783521402,
          0.000010647404839010549,
          0.000010496653797785593,
          0.00001034867257708415,
          0.000010203399054499415,
          0.000010060772465494968,
          0.000009920733347160275,
          0.000009783224378845066,
          0.000009648189094814076,
          0.000009515573227327726,
          0.000009385322904758054,
          0.000009257387272045766,
          0.0000091317148365723,
          0.000009008256990483662,
          0.000008886965717171667,
          0.000008767794168175562,
          0.000008650696787829102,
          0.00000853562966034007,
          0.0000084225489308651,
          0.000008311412871463943,
          0.00000820218026224623,
          0.000008094810995242918,
          0.000007989266078040915,
          0.000007885507422659212,
          0.000007783497792279675,
          0.000007683200869641093,
          0.000007584581864007996,
          0.000007487605210275542,
          0.000007392238385011919,
          0.000007298447855361349,
          0.000007206201737621192,
          0.000007115468869216519,
          0.000007026218699779757,
          0.00000693842126200268,
          0.000006852047573130789,
          0.000006767069377746327,
          0.000006683458762680618,
          0.0000066011886899033254,
          0.000006520232847922227,
          0.0000064405650597830195,
          0.000006362160635874218,
          0.000006284994507924707,
          0.000006209042629731843,
          0.000006134281829117372,
          0.000006060688683727742,
          0.000005988241152456874,
          0.000005916916691316284,
          0.000005846694792762257,
          0.000005777553565040235,
          0.000005709473090097605,
          0.000005642433162868345,
          0.000005576414075576363,
          0.000005511397055153097,
          0.00000544736271365408,
          0.000005384293578452651,
          0.0000053221712023152004,
          0.000005260978083420055,
          0.000005200697380082489,
          0.0000051413121868277335,
          0.000005082805954508117,
          0.000005025162972182478,
          0.000004968367278481246,
          0.000004912403868287815,
          0.000004857257135911121,
          0.000004802912896722343,
          0.000004749356765170685,
          0.000004696574339831927,
          0.000004644551968107577,
          0.000004593276304360031,
          0.000004542734127191226,
          0.000004492912127646041,
          0.00000444379808710067,
          0.000004395379544062269,
          0.000004347644118034988,
          0.000004300580247250191,
          0.0000042541758556887225,
          0.000004208419988309905,
          0.000004163301232201654,
          0.000004118808665752352,
          0.000004074931649968576,
          0.000004031659708926769,
          0.000003988982352689502,
          0.000003946889343456919,
          0.000003905371785432768,
          0.0000038644190084434405,
          0.0000038240214048606705,
          0.0000037841703620011807,
          0.0000037448565601991915,
          0.000003706070744189736,
          0.000003667804963624206,
          0.000003630049665103193,
          0.0000035927964708746126,
          0.0000035560379108746005,
          0.000003519765777304216,
          0.0000034839712160343974,
          0.0000034486473529814627,
          0.000003413786331085247,
          0.000003379380273065918,
          0.000003345422600627639,
          0.0000033119052665615064,
          0.000003278821791373359,
          0.0000032461651059323917,
          0.000003213928379427349,
          0.0000031821047471981396,
          0.0000031506880633301567,
          0.000003119671644637703,
          0.00000308904909343339,
          0.00000305881458296695,
          0.0000030289618114682222,
          0.000002999484563753998,
          0.000002970377665853666,
          0.000002941634771362818,
          0.000002913250513506808,
          0.0000028852194066610845,
          0.000002857535746797079,
          0.0000028301946013940565,
          0.0000028031904432148896,
          0.000002776518210908398,
          0.0000027501727810611378,
          0.0000027241496013347285,
          0.0000026984431956889185,
          0.000002673049206398671,
          0.000002647962940021035,
          0.000002623179517679758,
          0.000002598694603731834,
          0.0000025745038581596203,
          0.0000025506027082544113,
          0.000002526986763213529,
          0.000002503652202454624,
          0.0000024805946905465925,
          0.0000024578099585757286,
          0.0000024352943283306693,
          0.000002413043606739678,
          0.00000239105411914188,
          0.0000023693222574516347,
          0.000002347843559040828,
          0.000002326615206745509,
          0.000002305633187557977,
          0.0000022848940435825723,
          0.0000022643939925661116,
          0.0000022441303026852122,
          0.00000222409891962566,
          0.000002204296954720001,
          0.00000218472095535352,
          0.0000021653679353859403,
          0.000002146234402312245,
          0.000002127317697227309,
          0.000002108614464985133,
          0.0000020901218833792115,
          0.0000020718368918144123,
          0.0000020537566144062913,
          0.0000020358785637879576,
          0.00000201819927325766,
          0.000002000716604630384,
          0.0000019834274893234616,
          0.000001966329662571961,
          0.0000019494199373081503,
          0.0000019326962268802237,
          0.000001916155828197589,
          0.0000018997961752488596,
          0.000001883614915218938,
          0.0000018676096877009168,
          0.0000018517780958321157,
          0.0000018361175648980231,
          0.000001820626138366271,
          0.0000018053015312910999,
          0.0000017901411395943023,
          0.0000017751432279675746,
          0.0000017603054349823902,
          0.0000017456255053223714,
          0.0000017311018692902586,
          0.000001716731767592338,
          0.0000017025135026342238,
          0.000001688445441844491,
          0.000001674525193969434,
          0.0000016607504983281974,
          0.0000016471202726917497,
          0.000001633632566148689,
          0.0000016202847599923443,
          0.0000016070753832772966,
          0.0000015940032710640272,
          0.000001581065846657249,
          0.0000015682618281516933,
          0.0000015555893483733928,
          0.0000015430469642584526,
          0.000001530632532855261,
          0.0000015183448988133146,
          0.0000015061823350805078,
          0.0000014941430807010432,
          0.0000014822258943591412,
          0.0000014704288231641518,
          0.0000014587509317881287,
          0.0000014471900949646474,
          0.0000014357453190957493,
          0.0000014244149590665755,
          0.000001413197724320532,
          0.0000014020918940072382,
          0.0000013910966244100352,
          0.000001380210024799634,
          0.0000013694310956078577,
          0.000001358758303162138,
          0.0000013481906121918804,
          0.0000013377264479911584,
          0.0000013273646625523344,
          0.0000013171041253793093,
          0.0000013069433642923294,
          0.0000012968815910430967,
          0.0000012869168536328363,
          0.0000012770491164016892,
          0.0000012672758838211101,
          0.000001257597300032335,
          0.0000012480111002045936,
          0.0000012385171345594458,
          0.0000012291137588408544,
          0.000001219799780681277,
          0.0000012105748081265973,
          0.000001201437132959682,
          0.00000119238586321136,
          0.0000011834202697589838,
          0.0000011745390188203514,
          0.0000011657413301911977,
          0.000001157026108063841,
          0.0000011483924272327378,
          0.0000011398394046286186,
          0.0000011313660541606116,
          0.000001122971263557932,
          0.0000011146544083754295,
          0.0000011064145914551813,
          0.0000010982507769751887,
          0.0000010901619362648968,
          0.0000010821476291481542,
          0.000001074206687918204,
          0.000001066338348985167,
          0.0000010585418838849827,
          0.0000010508162797636924,
          0.0000010431609482526513,
          0.000001035574863202668,
          0.0000010280576555394515,
          0.000001020607886992664,
          0.0000010132254240277166,
          0.0000010059093019412373,
          9.986585110787057e-7,
          9.91472841776065e-7,
          9.843510363235673e-7,
          9.772927163241974e-7,
          9.70297142662911e-7,
          9.63363516328051e-7,
          9.564911924840767e-7,
          9.496795529365728e-7,
          9.429278517458471e-7,
          9.362354051057486e-7,
          9.296017680844923e-7,
          9.230259943709125e-7,
          9.16507636589884e-7,
          9.100462029535989e-7,
          9.03640643953263e-7,
          8.972908810232979e-7,
          8.909958966427683e-7,
          8.847552534161508e-7,
          8.78568385509711e-7,
          8.724348115062391e-7,
          8.66353635346313e-7,
          8.603245683024272e-7,
          8.543471059278411e-7,
          8.484205584081596e-7,
          8.425441853259901e-7,
          8.367178514071639e-7,
          8.309409285166361e-7,
          8.25212577513526e-7,
          8.195327258559812e-7,
          8.13900546180727e-7,
          8.083156868328043e-7,
          8.027775078189612e-7,
          7.972858888610226e-7,
          7.918397113592414e-7,
          7.86439142025896e-7,
          7.810832966966157e-7,
          7.757718571287395e-7,
          7.705045021554779e-7,
          7.652803712643289e-7,
          7.600993596391874e-7,
          7.54961057401591e-7,
          7.498646987982228e-7,
          7.448102522056173e-7,
          7.397968454398397e-7,
          7.348245551324643e-7,
          7.298924749717029e-7,
          7.250005916287431e-7,
          7.201483380557363e-7,
          7.153350169229705e-7,
          7.105610451715072e-7,
          7.058248312037348e-7,
          7.011275674146597e-7,
          6.964667372703752e-7,
          6.918443020562293e-7,
          6.872582637472869e-7,
          6.827087969425991e-7,
          6.78195406279706e-7,
          6.73718001280138e-7,
          6.692761507060177e-7,
          6.64868885147261e-7,
          6.604970246864561e-7,
          6.561590491876375e-7,
          6.518554338714118e-7,
          6.475853553065013e-7,
          6.433488854783883e-7,
          6.391451341349179e-7,
          6.349745321619546e-7,
          6.308361651756212e-7,
          6.267296772644852e-7,
          6.226555060150597e-7,
          6.186120786138371e-7,
          6.146006804330955e-7,
          6.106193735709536e-7,
          6.066690839429263e-7,
          6.027489257630459e-7,
          5.988587455460018e-7,
          5.94998253945889e-7,
          5.911673130885916e-7,
          5.873651763081073e-7,
          5.835921447535993e-7,
          5.798476437260747e-7,
          5.761313687841475e-7,
          5.724430631366656e-7,
          5.6878266895959e-7,
          5.651495763248685e-7,
          5.615438371191897e-7,
          5.579651385381353e-7,
          5.54412855577342e-7,
          5.508874888564741e-7,
          5.473878524917018e-7,
          5.439145495838196e-7,
          5.404667763281944e-7,
          5.370444558015842e-7,
          5.336474463677031e-7,
          5.30275566499054e-7,
          5.269281851812663e-7,
          5.236056308722704e-7,
          5.203071415995352e-7,
          5.170329048296107e-7,
          5.137824439494374e-7,
          5.105555676766491e-7,
          5.073521725088955e-7,
          5.041720476155414e-7,
          5.010149007094223e-7,
          4.978803813699983e-7,
          4.947687385497973e-7,
          4.916790627771549e-7,
          4.886119999640489e-7,
          4.85566420297235e-7,
          4.825428846558981e-7,
          4.795408165777134e-7,
          4.765599677567383e-7,
          4.736005765736503e-7,
          4.706620436745706e-7,
          4.6774418602395644e-7,
          4.648469909050411e-7,
          4.6197038386655776e-7,
          4.591136890577611e-7,
          4.562772145086213e-7,
          4.534606335452406e-7,
          4.506634867246775e-7,
          4.478862971267357e-7,
          4.451280827292586e-7,
          4.42388911260169e-7,
          4.396692724025681e-7,
          4.369679801675136e-7,
          4.3428542267987605e-7,
          4.3162151203257856e-7,
          4.289758126542479e-7,
          4.2634814713106665e-7,
          4.237388563399596e-7,
          4.2114705155992184e-7,
          4.185729881757804e-7,
          4.1601665253215165e-7,
          4.134773896022864e-7,
          4.109556445622428e-7,
          4.0845079283186756e-7,
          4.0596280248235336e-7,
          4.034917741047262e-7,
          4.010374442627987e-7,
          3.9859920210889307e-7,
          3.961776049141324e-7,
          3.9377201821911575e-7,
          3.913827919738666e-7,
          3.890093899034575e-7,
          3.8665112057095566e-7,
          3.8430957049559845e-7,
          3.819829302192932e-7,
          3.79671405085532e-7,
          3.7737578586451085e-7,
          3.7509464274404e-7,
          3.7282899206688334e-7,
          3.7057780012787195e-7,
          3.683415535985995e-7,
          3.661199333182959e-7,
          3.6391258900644947e-7,
          3.617199680278378e-7,
          3.5954084468206824e-7,
          3.573762823548927e-7,
          3.552266357815778e-7,
          3.530889071104446e-7,
          3.5096624754879436e-7,
          3.488571760963805e-7,
          3.4676097270271865e-7,
          3.446790622825286e-7,
          3.4260969547748155e-7,
          3.4055377540915143e-7,
          3.3851108237391887e-7,
          3.3648105509181516e-7,
          3.3446383093655524e-7,
          3.324599185109752e-7,
          3.304678792489941e-7,
          3.2848894635242504e-7,
          3.265222649362975e-7,
          3.24567813340765e-7,
          3.2262557676181404e-7,
          3.206956095681409e-7,
          3.1877749111324804e-7,
          3.1687134526884504e-7,
          3.149771112325088e-7,
          3.1309435701662925e-7,
          3.1122364517360024e-7,
          3.0936402351538714e-7,
          3.075161092254304e-7,
          3.0567945365495276e-7,
          3.03853831670381e-7,
          3.0203966507291315e-7,
          3.0023644537042055e-7,
          2.984440296557672e-7,
          2.9666290243271123e-7,
          2.9489218267308884e-7,
          2.931323480969866e-7,
          2.9138300135547944e-7,
          2.8964435530802614e-7,
          2.8791580391044784e-7,
          2.861979386536247e-7,
          2.8449029077869086e-7,
          2.827926725037684e-7,
          2.8110550979134166e-7,
          2.7942781348398855e-7,
          2.777607715976719e-7,
          2.761029714606306e-7,
          2.7445515798493514e-7,
          2.728171518664132e-7,
          2.7118856811987716e-7,
          2.695695198585664e-7,
          2.679602573127808e-7,
          2.6636006422948217e-7,
          2.6476924291683043e-7,
          2.6318790905919363e-7,
          2.616154111021738e-7,
          2.6005212879430546e-7,
          2.584979850085178e-7,
          2.569525672658537e-7,
          2.55416166751806e-7,
          2.538887003351427e-7,
          2.52369448094536e-7,
          2.5085956147358994e-7,
          2.4935776380033363e-7,
          2.478646268922519e-7,
          2.46380066160632e-7,
          2.449037814050261e-7,
          2.4343568804432946e-7,
          2.41976093152329e-7,
          2.4052469152102734e-7,
          2.3908117526607155e-7,
          2.3764591455101035e-7,
          2.3621863203543003e-7,
          2.3479914639570649e-7,
          2.333876802296977e-7,
          2.3198393706262364e-7,
          2.3058793751231185e-7,
          2.2919983815985381e-7,
          2.2781896130966513e-7,
          2.264460962873311e-7,
          2.2508012787857355e-7,
          2.2372236249433778e-7,
          2.2237140222824182e-7,
          2.2102787794129735e-7,
          2.1969193851164927e-7,
          2.1836286779785136e-7,
          2.1704095548116338e-7,
          2.157264407240942e-7,
          2.1441864654976729e-7,
          2.1311773536027168e-7,
          2.1182458596612727e-7,
          2.1053717008291908e-7,
          2.0925724647472393e-7,
          2.0798416929105833e-7,
          2.0671738822374483e-7,
          2.054578261192668e-7,
          2.0420344761163548e-7,
          2.0295837847629335e-7,
          2.017167950765642e-7,
          2.0048373671213758e-7,
          1.992559041136243e-7,
          1.9803519488845866e-7,
          1.9682036920879632e-7,
          1.9561185885739794e-7,
          1.944097813963299e-7,
          1.9321355281221255e-7,
          1.9202373754911457e-7,
          1.9083948088409106e-7,
          1.8966195049364916e-7,
          1.8848971514581126e-7,
          1.8732377461648907e-7,
          1.8616368481470743e-7,
          1.8500945148497362e-7,
          1.8386071896729568e-7,
          1.8271799988069605e-7,
          1.8158085536063618e-7,
          1.8044951381092273e-7,
          1.793234462065308e-7,
          1.7820325910123892e-7,
          1.7708844068234323e-7,
          1.7597914542247702e-7,
          1.7487529495133755e-7,
          1.7377670653625944e-7,
          1.7268357760785246e-7,
          1.7159574913127773e-7,
          1.7051315907691327e-7,
          1.6943561983858846e-7,
          1.6836360233745229e-7,
          1.6729648010974565e-7,
          1.6623457098230923e-7,
          1.6517754721342067e-7,
          1.6412583064836234e-7,
          1.6307871620793733e-7,
          1.6203684070277118e-7,
          1.609997417684478e-7,
          1.5996759814474778e-7,
          1.589400869316489e-7,
          1.579175103017329e-7,
          1.5689976042242715e-7,
          1.55886460291997e-7,
          1.5487808841095208e-7,
          1.5387418315516417e-7,
          1.52874977776206e-7,
          1.5188022792539253e-7,
          1.5089020242900674e-7,
          1.4990442868607803e-7,
          1.489232030948151e-7,
          1.4794649325217368e-7,
          1.469741025993478e-7,
          1.460059544173391e-7,
          1.4504227971770376e-7,
          1.4408277087124577e-7,
          1.4312760456105237e-7,
          1.4217660269093208e-7,
          1.4122977360555891e-7,
          1.4028703300588948e-7,
          1.3934859630690482e-7,
          1.3841405689753943e-7,
          1.3748356682862698e-7,
          1.3655725545062912e-7,
          1.3563467269796554e-7,
          1.3471631378338062e-7,
          1.3380172084855391e-7,
          1.3289103691408698e-7,
          1.3198417139154933e-7,
          1.3108123315984621e-7,
          1.3018196454718452e-7,
          1.2928654713676907e-7,
          1.2839484239886664e-7,
          1.2750690774441081e-7,
          1.2662241340430298e-7,
          1.2574188652255074e-7,
          1.248647348003869e-7,
          1.239912078095105e-7,
          1.231213877870715e-7,
          1.2225479716008993e-7,
          1.2139203634598607e-7,
          1.20532468532353e-7,
          1.196765819202551e-7,
          1.1882386251128204e-7,
          1.1797472030969176e-7,
          1.1712897077282335e-7,
          1.1628593286264692e-7,
          1.1544742754881668e-7,
          1.1461101610569593e-7,
          1.1377839453202439e-7,
          1.1294886863927895e-7,
          1.12122551697929e-7,
          1.1129947926572957e-7,
          1.1047939805332551e-7,
          1.0966254719125938e-7,
          1.088486759397162e-7,
          1.0803806637241563e-7,
          1.0723023856913315e-7,
          1.0642551369224654e-7,
          1.0562380484113644e-7,
          1.048250477503449e-7,
          1.0402924534292706e-7,
          1.032363007692636e-7,
          1.0244622654163185e-7,
          1.0165900373529655e-7,
          1.0087473105422688e-7,
          1.0009311647403256e-7,
          9.931434284433637e-8,
          9.853836959425131e-8,
          9.77651559092086e-8,
          9.699443427654595e-8,
          9.622673899628834e-8,
          9.54613904194002e-8,
          9.469886883052343e-8,
          9.39390232693207e-8,
          9.318162704324841e-8,
          9.24266527829765e-8,
          9.167459021778549e-8,
          9.092503617724239e-8,
          9.017759557234676e-8,
          8.943295425484665e-8,
          8.8690649962227e-8,
          8.795095390795717e-8,
          8.721339162539332e-8,
          8.647847444511948e-8,
          8.574581830736469e-8,
          8.501558506704177e-8,
          8.42875274671938e-8,
          8.356190622933398e-8,
          8.283854297291508e-8,
          8.21173693179192e-8,
          8.139859044220241e-8,
          8.068198750248043e-8,
          7.996751036697623e-8,
          7.925513722462962e-8,
          7.854525139610065e-8,
          7.783713302139932e-8,
          7.71313493098181e-8,
          7.642767222159449e-8,
          7.572595353534607e-8,
          7.502638588626323e-8,
          7.432885752128853e-8,
          7.363332663479656e-8,
          7.29397655136299e-8,
          7.224826438795555e-8,
          7.155865716195576e-8,
          7.087102656838829e-8,
          7.018539525331674e-8,
          6.950142543444058e-8,
          6.881961777546472e-8,
          6.813963973998124e-8,
          6.746138638190279e-8,
          6.678493178983202e-8,
          6.611044355565742e-8,
          6.543779360393101e-8,
          6.476666623123315e-8,
          6.409751055690158e-8,
          6.343009695401182e-8,
          6.276425821303784e-8,
          6.210027548592762e-8,
          6.143796753269596e-8,
          6.077719230997594e-8,
          6.011822182314736e-8,
          5.946082959762006e-8,
          5.880511014822361e-8,
          5.815092807042649e-8,
          5.7498365045344556e-8,
          5.6847321689375756e-8,
          5.619812324552162e-8,
          5.555014394014655e-8,
          5.490344998421397e-8,
          5.4258976576689976e-8,
          5.361543689255135e-8,
          5.297354821613554e-8,
          5.2333217928188215e-8,
          5.169422079239457e-8,
          5.105655251081773e-8,
          5.042066068029559e-8,
          4.9785805644958905e-8,
          4.9152489643101615e-8,
          4.8520608830115994e-8,
          4.7889997265244824e-8,
          4.7260686071048423e-8,
          4.663298481487254e-8,
          4.60062078899572e-8,
          4.5380910228029315e-8,
          4.4757346940893257e-8,
          4.41345111556393e-8,
          4.351269081521538e-8,
          4.2892980779924465e-8,
          4.22741317841551e-8,
          4.165617132383145e-8,
          4.104008395258587e-8,
          4.042471634054485e-8,
          3.9810790601365365e-8,
          3.919811577606954e-8,
          3.858643320292613e-8,
          3.797605936554859e-8,
          3.736702284278715e-8,
          3.6758717792970776e-8,
          3.6152044473239444e-8,
          3.554653130757091e-8,
          3.4941422626413605e-8,
          3.433824738725175e-8,
          3.37369508498178e-8,
          3.313520559986497e-8,
          3.253459909811205e-8,
          3.193649121850668e-8,
          3.133913486966279e-8,
          3.074217720359961e-8,
          3.0146966893249197e-8,
          2.9553207465123476e-8,
          2.8959916168888254e-8,
          2.8368247438651522e-8,
          2.7777791285405073e-8,
          2.7188348728738245e-8,
          2.6600121454387283e-8,
          2.6013612372863542e-8,
          2.542775841027308e-8,
          2.4843478631449645e-8,
          2.42609591345576e-8,
          2.367919939291043e-8,
          2.3098280725685382e-8,
          2.2520089609660065e-8,
          2.194371175280583e-8,
          2.1367491417783165e-8,
          2.0793401685083125e-8,
          2.0221452885170117e-8,
          1.9651038360660273e-8,
          1.9082293330318956e-8,
          1.8516162442690474e-8,
          1.7951639086683858e-8,
          1.738975724053576e-8,
          1.683030612992198e-8,
          1.627331464892361e-8,
          1.571951930659822e-8,
          1.5168775531685204e-8,
          1.4621334947800567e-8,
          1.4077960290207096e-8,
          1.3538664602198183e-8,
          1.3003657829446093e-8,
          1.2474431943256596e-8,
          1.195105491783313e-8,
          1.1433868507616353e-8,
          1.0924111557542521e-8,
          1.0423283256980164e-8,
          9.931632238904256e-9,
          9.451658609427746e-9,
          8.984360082413611e-9,
          8.532021334601154e-9,
          8.097453221191095e-9,
          7.68287998307038e-9,
          7.2922894000642815e-9,
          6.929602218620604e-9,
          6.5990374749998826e-9,
          6.3059469092914915e-9,
          6.055757028476171e-9,
          5.8536096488147225e-9,
          5.704900457530065e-9,
          5.6140642791552765e-9
         ],
         "yaxis": "y"
        }
       ],
       "layout": {
        "legend": {
         "tracegroupgap": 0
        },
        "margin": {
         "t": 60
        },
        "template": {
         "data": {
          "bar": [
           {
            "error_x": {
             "color": "#2a3f5f"
            },
            "error_y": {
             "color": "#2a3f5f"
            },
            "marker": {
             "line": {
              "color": "#E5ECF6",
              "width": 0.5
             }
            },
            "type": "bar"
           }
          ],
          "barpolar": [
           {
            "marker": {
             "line": {
              "color": "#E5ECF6",
              "width": 0.5
             }
            },
            "type": "barpolar"
           }
          ],
          "carpet": [
           {
            "aaxis": {
             "endlinecolor": "#2a3f5f",
             "gridcolor": "white",
             "linecolor": "white",
             "minorgridcolor": "white",
             "startlinecolor": "#2a3f5f"
            },
            "baxis": {
             "endlinecolor": "#2a3f5f",
             "gridcolor": "white",
             "linecolor": "white",
             "minorgridcolor": "white",
             "startlinecolor": "#2a3f5f"
            },
            "type": "carpet"
           }
          ],
          "choropleth": [
           {
            "colorbar": {
             "outlinewidth": 0,
             "ticks": ""
            },
            "type": "choropleth"
           }
          ],
          "contour": [
           {
            "colorbar": {
             "outlinewidth": 0,
             "ticks": ""
            },
            "colorscale": [
             [
              0,
              "#0d0887"
             ],
             [
              0.1111111111111111,
              "#46039f"
             ],
             [
              0.2222222222222222,
              "#7201a8"
             ],
             [
              0.3333333333333333,
              "#9c179e"
             ],
             [
              0.4444444444444444,
              "#bd3786"
             ],
             [
              0.5555555555555556,
              "#d8576b"
             ],
             [
              0.6666666666666666,
              "#ed7953"
             ],
             [
              0.7777777777777778,
              "#fb9f3a"
             ],
             [
              0.8888888888888888,
              "#fdca26"
             ],
             [
              1,
              "#f0f921"
             ]
            ],
            "type": "contour"
           }
          ],
          "contourcarpet": [
           {
            "colorbar": {
             "outlinewidth": 0,
             "ticks": ""
            },
            "type": "contourcarpet"
           }
          ],
          "heatmap": [
           {
            "colorbar": {
             "outlinewidth": 0,
             "ticks": ""
            },
            "colorscale": [
             [
              0,
              "#0d0887"
             ],
             [
              0.1111111111111111,
              "#46039f"
             ],
             [
              0.2222222222222222,
              "#7201a8"
             ],
             [
              0.3333333333333333,
              "#9c179e"
             ],
             [
              0.4444444444444444,
              "#bd3786"
             ],
             [
              0.5555555555555556,
              "#d8576b"
             ],
             [
              0.6666666666666666,
              "#ed7953"
             ],
             [
              0.7777777777777778,
              "#fb9f3a"
             ],
             [
              0.8888888888888888,
              "#fdca26"
             ],
             [
              1,
              "#f0f921"
             ]
            ],
            "type": "heatmap"
           }
          ],
          "heatmapgl": [
           {
            "colorbar": {
             "outlinewidth": 0,
             "ticks": ""
            },
            "colorscale": [
             [
              0,
              "#0d0887"
             ],
             [
              0.1111111111111111,
              "#46039f"
             ],
             [
              0.2222222222222222,
              "#7201a8"
             ],
             [
              0.3333333333333333,
              "#9c179e"
             ],
             [
              0.4444444444444444,
              "#bd3786"
             ],
             [
              0.5555555555555556,
              "#d8576b"
             ],
             [
              0.6666666666666666,
              "#ed7953"
             ],
             [
              0.7777777777777778,
              "#fb9f3a"
             ],
             [
              0.8888888888888888,
              "#fdca26"
             ],
             [
              1,
              "#f0f921"
             ]
            ],
            "type": "heatmapgl"
           }
          ],
          "histogram": [
           {
            "marker": {
             "colorbar": {
              "outlinewidth": 0,
              "ticks": ""
             }
            },
            "type": "histogram"
           }
          ],
          "histogram2d": [
           {
            "colorbar": {
             "outlinewidth": 0,
             "ticks": ""
            },
            "colorscale": [
             [
              0,
              "#0d0887"
             ],
             [
              0.1111111111111111,
              "#46039f"
             ],
             [
              0.2222222222222222,
              "#7201a8"
             ],
             [
              0.3333333333333333,
              "#9c179e"
             ],
             [
              0.4444444444444444,
              "#bd3786"
             ],
             [
              0.5555555555555556,
              "#d8576b"
             ],
             [
              0.6666666666666666,
              "#ed7953"
             ],
             [
              0.7777777777777778,
              "#fb9f3a"
             ],
             [
              0.8888888888888888,
              "#fdca26"
             ],
             [
              1,
              "#f0f921"
             ]
            ],
            "type": "histogram2d"
           }
          ],
          "histogram2dcontour": [
           {
            "colorbar": {
             "outlinewidth": 0,
             "ticks": ""
            },
            "colorscale": [
             [
              0,
              "#0d0887"
             ],
             [
              0.1111111111111111,
              "#46039f"
             ],
             [
              0.2222222222222222,
              "#7201a8"
             ],
             [
              0.3333333333333333,
              "#9c179e"
             ],
             [
              0.4444444444444444,
              "#bd3786"
             ],
             [
              0.5555555555555556,
              "#d8576b"
             ],
             [
              0.6666666666666666,
              "#ed7953"
             ],
             [
              0.7777777777777778,
              "#fb9f3a"
             ],
             [
              0.8888888888888888,
              "#fdca26"
             ],
             [
              1,
              "#f0f921"
             ]
            ],
            "type": "histogram2dcontour"
           }
          ],
          "mesh3d": [
           {
            "colorbar": {
             "outlinewidth": 0,
             "ticks": ""
            },
            "type": "mesh3d"
           }
          ],
          "parcoords": [
           {
            "line": {
             "colorbar": {
              "outlinewidth": 0,
              "ticks": ""
             }
            },
            "type": "parcoords"
           }
          ],
          "pie": [
           {
            "automargin": true,
            "type": "pie"
           }
          ],
          "scatter": [
           {
            "marker": {
             "colorbar": {
              "outlinewidth": 0,
              "ticks": ""
             }
            },
            "type": "scatter"
           }
          ],
          "scatter3d": [
           {
            "line": {
             "colorbar": {
              "outlinewidth": 0,
              "ticks": ""
             }
            },
            "marker": {
             "colorbar": {
              "outlinewidth": 0,
              "ticks": ""
             }
            },
            "type": "scatter3d"
           }
          ],
          "scattercarpet": [
           {
            "marker": {
             "colorbar": {
              "outlinewidth": 0,
              "ticks": ""
             }
            },
            "type": "scattercarpet"
           }
          ],
          "scattergeo": [
           {
            "marker": {
             "colorbar": {
              "outlinewidth": 0,
              "ticks": ""
             }
            },
            "type": "scattergeo"
           }
          ],
          "scattergl": [
           {
            "marker": {
             "colorbar": {
              "outlinewidth": 0,
              "ticks": ""
             }
            },
            "type": "scattergl"
           }
          ],
          "scattermapbox": [
           {
            "marker": {
             "colorbar": {
              "outlinewidth": 0,
              "ticks": ""
             }
            },
            "type": "scattermapbox"
           }
          ],
          "scatterpolar": [
           {
            "marker": {
             "colorbar": {
              "outlinewidth": 0,
              "ticks": ""
             }
            },
            "type": "scatterpolar"
           }
          ],
          "scatterpolargl": [
           {
            "marker": {
             "colorbar": {
              "outlinewidth": 0,
              "ticks": ""
             }
            },
            "type": "scatterpolargl"
           }
          ],
          "scatterternary": [
           {
            "marker": {
             "colorbar": {
              "outlinewidth": 0,
              "ticks": ""
             }
            },
            "type": "scatterternary"
           }
          ],
          "surface": [
           {
            "colorbar": {
             "outlinewidth": 0,
             "ticks": ""
            },
            "colorscale": [
             [
              0,
              "#0d0887"
             ],
             [
              0.1111111111111111,
              "#46039f"
             ],
             [
              0.2222222222222222,
              "#7201a8"
             ],
             [
              0.3333333333333333,
              "#9c179e"
             ],
             [
              0.4444444444444444,
              "#bd3786"
             ],
             [
              0.5555555555555556,
              "#d8576b"
             ],
             [
              0.6666666666666666,
              "#ed7953"
             ],
             [
              0.7777777777777778,
              "#fb9f3a"
             ],
             [
              0.8888888888888888,
              "#fdca26"
             ],
             [
              1,
              "#f0f921"
             ]
            ],
            "type": "surface"
           }
          ],
          "table": [
           {
            "cells": {
             "fill": {
              "color": "#EBF0F8"
             },
             "line": {
              "color": "white"
             }
            },
            "header": {
             "fill": {
              "color": "#C8D4E3"
             },
             "line": {
              "color": "white"
             }
            },
            "type": "table"
           }
          ]
         },
         "layout": {
          "annotationdefaults": {
           "arrowcolor": "#2a3f5f",
           "arrowhead": 0,
           "arrowwidth": 1
          },
          "autotypenumbers": "strict",
          "coloraxis": {
           "colorbar": {
            "outlinewidth": 0,
            "ticks": ""
           }
          },
          "colorscale": {
           "diverging": [
            [
             0,
             "#8e0152"
            ],
            [
             0.1,
             "#c51b7d"
            ],
            [
             0.2,
             "#de77ae"
            ],
            [
             0.3,
             "#f1b6da"
            ],
            [
             0.4,
             "#fde0ef"
            ],
            [
             0.5,
             "#f7f7f7"
            ],
            [
             0.6,
             "#e6f5d0"
            ],
            [
             0.7,
             "#b8e186"
            ],
            [
             0.8,
             "#7fbc41"
            ],
            [
             0.9,
             "#4d9221"
            ],
            [
             1,
             "#276419"
            ]
           ],
           "sequential": [
            [
             0,
             "#0d0887"
            ],
            [
             0.1111111111111111,
             "#46039f"
            ],
            [
             0.2222222222222222,
             "#7201a8"
            ],
            [
             0.3333333333333333,
             "#9c179e"
            ],
            [
             0.4444444444444444,
             "#bd3786"
            ],
            [
             0.5555555555555556,
             "#d8576b"
            ],
            [
             0.6666666666666666,
             "#ed7953"
            ],
            [
             0.7777777777777778,
             "#fb9f3a"
            ],
            [
             0.8888888888888888,
             "#fdca26"
            ],
            [
             1,
             "#f0f921"
            ]
           ],
           "sequentialminus": [
            [
             0,
             "#0d0887"
            ],
            [
             0.1111111111111111,
             "#46039f"
            ],
            [
             0.2222222222222222,
             "#7201a8"
            ],
            [
             0.3333333333333333,
             "#9c179e"
            ],
            [
             0.4444444444444444,
             "#bd3786"
            ],
            [
             0.5555555555555556,
             "#d8576b"
            ],
            [
             0.6666666666666666,
             "#ed7953"
            ],
            [
             0.7777777777777778,
             "#fb9f3a"
            ],
            [
             0.8888888888888888,
             "#fdca26"
            ],
            [
             1,
             "#f0f921"
            ]
           ]
          },
          "colorway": [
           "#636efa",
           "#EF553B",
           "#00cc96",
           "#ab63fa",
           "#FFA15A",
           "#19d3f3",
           "#FF6692",
           "#B6E880",
           "#FF97FF",
           "#FECB52"
          ],
          "font": {
           "color": "#2a3f5f"
          },
          "geo": {
           "bgcolor": "white",
           "lakecolor": "white",
           "landcolor": "#E5ECF6",
           "showlakes": true,
           "showland": true,
           "subunitcolor": "white"
          },
          "hoverlabel": {
           "align": "left"
          },
          "hovermode": "closest",
          "mapbox": {
           "style": "light"
          },
          "paper_bgcolor": "white",
          "plot_bgcolor": "#E5ECF6",
          "polar": {
           "angularaxis": {
            "gridcolor": "white",
            "linecolor": "white",
            "ticks": ""
           },
           "bgcolor": "#E5ECF6",
           "radialaxis": {
            "gridcolor": "white",
            "linecolor": "white",
            "ticks": ""
           }
          },
          "scene": {
           "xaxis": {
            "backgroundcolor": "#E5ECF6",
            "gridcolor": "white",
            "gridwidth": 2,
            "linecolor": "white",
            "showbackground": true,
            "ticks": "",
            "zerolinecolor": "white"
           },
           "yaxis": {
            "backgroundcolor": "#E5ECF6",
            "gridcolor": "white",
            "gridwidth": 2,
            "linecolor": "white",
            "showbackground": true,
            "ticks": "",
            "zerolinecolor": "white"
           },
           "zaxis": {
            "backgroundcolor": "#E5ECF6",
            "gridcolor": "white",
            "gridwidth": 2,
            "linecolor": "white",
            "showbackground": true,
            "ticks": "",
            "zerolinecolor": "white"
           }
          },
          "shapedefaults": {
           "line": {
            "color": "#2a3f5f"
           }
          },
          "ternary": {
           "aaxis": {
            "gridcolor": "white",
            "linecolor": "white",
            "ticks": ""
           },
           "baxis": {
            "gridcolor": "white",
            "linecolor": "white",
            "ticks": ""
           },
           "bgcolor": "#E5ECF6",
           "caxis": {
            "gridcolor": "white",
            "linecolor": "white",
            "ticks": ""
           }
          },
          "title": {
           "x": 0.05
          },
          "xaxis": {
           "automargin": true,
           "gridcolor": "white",
           "linecolor": "white",
           "ticks": "",
           "title": {
            "standoff": 15
           },
           "zerolinecolor": "white",
           "zerolinewidth": 2
          },
          "yaxis": {
           "automargin": true,
           "gridcolor": "white",
           "linecolor": "white",
           "ticks": "",
           "title": {
            "standoff": 15
           },
           "zerolinecolor": "white",
           "zerolinewidth": 2
          }
         }
        },
        "xaxis": {
         "anchor": "y",
         "domain": [
          0,
          1
         ],
         "title": {
          "text": "freqs"
         }
        },
        "yaxis": {
         "anchor": "x",
         "domain": [
          0,
          1
         ],
         "title": {
          "text": "stft"
         }
        }
       }
      }
     },
     "metadata": {}
    }
   ],
   "metadata": {}
  },
  {
   "cell_type": "code",
   "execution_count": 83,
   "source": [
    "spectrogram,freqs = calc_stft(xb)"
   ],
   "outputs": [],
   "metadata": {}
  },
  {
   "cell_type": "markdown",
   "source": [
    "# Section A\n",
    "\n",
    "## Q1: \n",
    "### Implement functions for 5 audio features: extract_spectral_centroid(xb, fs), extract_rms(xb), extract_zerocrossingrate(xb), extract_spectral_crest(xb), extract_spectral_flux(xb). xb is a matrix of blocked audio data (dimension NumOfBlocks X blockSize, see assignment 1), fs is the sample rate. Implement each of these functions in the default formulation from the text book/slides. Note that for the spectral features, you have to apply a window function to each block. Use the hann window from a previous in-class exercise for this purpose. To avoid feature definition ambiguities:\n",
    "    1. Spectral Centroid in Hz, compute from the magnitude spectrum (not power spectrum)\n",
    "    2. RMS in dB, truncated at -100dB\n",
    "    3. all others as defined in the book"
   ],
   "metadata": {}
  },
  {
   "cell_type": "markdown",
   "source": [
    "## Spectral Centroid"
   ],
   "metadata": {}
  },
  {
   "cell_type": "code",
   "execution_count": 134,
   "source": [
    "def extract_spectral_centroid(xb, fs):\n",
    "    centroids = []\n",
    "    stft,freqs = calc_stft(xb,fs)\n",
    "    #np.sum(magnitudes*freqs) / np.sum(magnitudes)\n",
    "    for i in range(freqs.shape[0]):\n",
    "        centroid = np.sum(stft[i]*freqs[i]) / np.sum(stft[i])\n",
    "        centroids.append(centroid)\n",
    "    centroids=np.array(centroids)\n",
    "    return centroids"
   ],
   "outputs": [],
   "metadata": {}
  },
  {
   "cell_type": "markdown",
   "source": [
    "### Testing spectral centroid"
   ],
   "metadata": {}
  },
  {
   "cell_type": "code",
   "execution_count": 135,
   "source": [
    "extract_spectral_centroid(xb,44100)"
   ],
   "outputs": [
    {
     "output_type": "execute_result",
     "data": {
      "text/plain": [
       "array([5335.66393669, 3405.54385248, 3321.74914827, ..., 1745.06565461,\n",
       "       1700.8488682 , 1991.67053514])"
      ]
     },
     "metadata": {},
     "execution_count": 135
    }
   ],
   "metadata": {}
  },
  {
   "cell_type": "code",
   "execution_count": 136,
   "source": [
    "extract_spectral_centroid(test_blocked,44100)"
   ],
   "outputs": [
    {
     "output_type": "execute_result",
     "data": {
      "text/plain": [
       "array([ 999.87560078,  999.9147051 ,  999.89015161,  999.89550295,\n",
       "        999.90951796,  999.87876616,  999.92506355,  999.87223717,\n",
       "        999.92445274,  999.87950507,  999.90843834,  999.89660357,\n",
       "        999.88912234,  999.91568873,  999.87508187,  999.92764895,\n",
       "        999.87321227,  999.91996113,  999.88457005,  999.90180129,\n",
       "        999.90329043,  999.88335901,  999.92106881,  999.87285297,\n",
       "        999.92725667,  999.8757826 ,  999.91437266,  999.89049826,\n",
       "        999.89513779,  999.90987527,  999.87852727,  999.9252571 ,\n",
       "        999.87224757,  999.92423941,  999.87975863,  999.90807611,\n",
       "        999.89697197,  999.88878299,  999.91601182,  999.87491787,\n",
       "        999.92772769,  999.87331454, 1339.38471589, 1816.28369201])"
      ]
     },
     "metadata": {},
     "execution_count": 136
    }
   ],
   "metadata": {}
  },
  {
   "cell_type": "code",
   "execution_count": 137,
   "source": [],
   "outputs": [
    {
     "output_type": "execute_result",
     "data": {
      "text/plain": [
       "array([[1408.57937039, 1305.74265323,  999.86491464,  999.87679133,\n",
       "         999.91445699,  999.91728132,  999.88005181,  999.8636373 ,\n",
       "         999.89401532,  999.92467682,  999.90139387,  999.86664624,\n",
       "         999.87375331,  999.91136768,  999.91978878,  999.88348999,\n",
       "         999.86285998,  999.89031243,  999.92345048,  999.90498051,\n",
       "         999.86878304,  999.87098313,  999.90806221,  999.92192216,\n",
       "         999.88706152,  999.86261698,  999.88665948,  999.92170555,\n",
       "         999.90843868,  999.87127627,  999.86852714,  999.90458751,\n",
       "         999.92361422,  999.89072221,  999.86292044,  999.88310058,\n",
       "         999.91952754,  999.91172249,  999.87407848,  999.86643293,\n",
       "         999.90098939,  999.92477598,  999.89442791,  999.86375531,\n",
       "         999.87967994,  999.91698217,  999.9147848 ,  999.87714344,\n",
       "         999.86474939,  999.89731295,  999.92522465,  999.89813441,\n",
       "         999.86508549,  999.87644197,  999.9141259 ,  999.91757656,\n",
       "         999.88042587,  999.86352547,  999.89360279,  999.92456968,\n",
       "         999.90179732,  999.86686456,  999.87343145,  999.91101021,\n",
       "         999.92004541,  999.88388105,  999.86280615,  999.88990328,\n",
       "         999.92328038,  999.90537193,  999.86904335,  999.87069387,\n",
       "         999.90768364,  999.92213333,  999.88746467,  999.86262376,\n",
       "         999.88625859,  999.92148362,  999.90881301,  999.87157323,\n",
       "         999.8682757 ,  999.90419298,  999.92377146,  999.89113254,\n",
       "         999.86298747, 1273.43859055, 1404.7854233 ]])"
      ]
     },
     "metadata": {},
     "execution_count": 137
    }
   ],
   "metadata": {}
  },
  {
   "cell_type": "markdown",
   "source": [
    "## RMS"
   ],
   "metadata": {}
  },
  {
   "cell_type": "code",
   "execution_count": 50,
   "source": [
    "def extract_rms(xb):\n",
    "    rms=[]\n",
    "    for block in xb:\n",
    "        r = np.sqrt(np.sum(block**2)/xb.shape[0])\n",
    "        if r <= 0.00001: # Done to handle case when rms is 0 (for a block of all zeros\n",
    "            r = 0.00001\n",
    "        rms.append(r)\n",
    "    rms=np.array(rms)\n",
    "    return 20*np.log10(rms)#rms,20*np.log10(rms) # What is reference value to convert to dB? Is it 1?"
   ],
   "outputs": [],
   "metadata": {}
  },
  {
   "cell_type": "markdown",
   "source": [
    "### Testing rms"
   ],
   "metadata": {}
  },
  {
   "cell_type": "code",
   "execution_count": 76,
   "source": [
    "def extract_rms_raw(xb):\n",
    "    rms=[]\n",
    "    for block in xb:\n",
    "        r = np.sqrt(np.sum(block**2)/xb.shape[0])\n",
    "        if r <= 0.00001: # Done to handle case when rms is 0 (for a block of all zeros\n",
    "            r = 0.00001\n",
    "        \n",
    "        rms.append(r)\n",
    "    rms=np.array(rms)\n",
    "    return rms#rms,20*np.log10(rms) # What is reference value to convert to dB? Is it 1?\n",
    "rms = extract_rms_raw(xb)\n",
    "print(rms.min())\n",
    "t_rms = np.arange(0,xb.shape[0])*hopSize\n",
    "plt.plot(x)\n",
    "plt.plot(t_rms,rms)\n",
    "\n",
    "plt.xlabel('Sample Number')\n",
    "plt.ylabel('Amplitude')\n",
    "plt.legend(['Signal','RMS'])\n",
    "plt.title('Signal vs RMS')"
   ],
   "outputs": [
    {
     "output_type": "stream",
     "name": "stdout",
     "text": [
      "0.0008019605811365145\n"
     ]
    },
    {
     "output_type": "execute_result",
     "data": {
      "text/plain": [
       "Text(0.5, 1.0, 'Signal vs RMS')"
      ]
     },
     "metadata": {},
     "execution_count": 76
    },
    {
     "output_type": "display_data",
     "data": {
      "image/png": "[encoded data removed]",
      "text/plain": [
       "<Figure size 432x288 with 1 Axes>"
      ]
     },
     "metadata": {
      "needs_background": "light"
     }
    }
   ],
   "metadata": {}
  },
  {
   "cell_type": "markdown",
   "source": [
    "## ZCR"
   ],
   "metadata": {}
  },
  {
   "cell_type": "code",
   "execution_count": 128,
   "source": [
    "def extract_zerocrossingrate(xb):\n",
    "    zcr=[]\n",
    "    for block in xb:\n",
    "        zero_crossings = np.sum(np.abs(np.diff(np.sign(block)))) / block.shape[0] #np.nonzero(np.diff(block > 0))[0].size\n",
    "        zcr.append(zero_crossings)\n",
    "    zcr = np.array(zcr)\n",
    "    return zcr"
   ],
   "outputs": [],
   "metadata": {}
  },
  {
   "cell_type": "markdown",
   "source": [
    "### Testing ZCR"
   ],
   "metadata": {}
  },
  {
   "cell_type": "code",
   "execution_count": 129,
   "source": [
    "def extract_zerocrossingrate_test(xb):\n",
    "    zcr1=[]\n",
    "    zcr2=[]\n",
    "    for block in xb:\n",
    "        zero_crossings = np.sum(np.abs(np.diff(np.sign(block)))) / block.shape[0] #np.nonzero(np.diff(block > 0))[0].size\n",
    "        zcr1.append(zero_crossings)\n",
    "        zcr2.append(0.5 * np.mean(np.abs(np.diff(np.sign(block)))))\n",
    "    zcr1 = np.array(zcr1)\n",
    "    zcr2=np.array(zcr2)\n",
    "    return zcr1,zcr2\n",
    "\n",
    "zcr1,zcr2 = extract_zerocrossingrate_test(xb)\n",
    "zcr_plt = zcr1/max(zcr1)\n",
    "t_zcr = np.arange(0,xb.shape[0])*hopSize\n",
    "plt.plot(x)\n",
    "plt.plot(t_zcr,zcr_plt)\n",
    "\n",
    "plt.xlabel('Sample Number')\n",
    "plt.ylabel('Amplitude')\n",
    "plt.legend(['Signal','Normalized ZCR'])\n",
    "plt.title('Signal vs Normalized ZCR')"
   ],
   "outputs": [
    {
     "output_type": "execute_result",
     "data": {
      "text/plain": [
       "Text(0.5, 1.0, 'Signal vs Normalized ZCR')"
      ]
     },
     "metadata": {},
     "execution_count": 129
    },
    {
     "output_type": "display_data",
     "data": {
      "image/png": "[encoded data removed]",
      "text/plain": [
       "<Figure size 432x288 with 1 Axes>"
      ]
     },
     "metadata": {
      "needs_background": "light"
     }
    }
   ],
   "metadata": {}
  },
  {
   "cell_type": "code",
   "execution_count": 20,
   "source": [
    "def extract_zerocrossingrate_test(xb):\n",
    "    zcr1=[]\n",
    "    zcr2=[]\n",
    "    for block in xb:\n",
    "        zero_crossings = np.sum(np.abs(np.diff(np.sign(block)))) / block.shape[0] #np.nonzero(np.diff(block > 0))[0].size\n",
    "        zcr1.append(zero_crossings)\n",
    "        zcr2.append(0.5 * np.mean(np.abs(np.diff(np.sign(block)))))\n",
    "    zcr1 = np.array(zcr1)\n",
    "    zcr2=np.array(zcr2)\n",
    "    return zcr1,zcr2\n",
    "\n",
    "zcr1,zcr2 = extract_zerocrossingrate_test(test_blocked)\n",
    "zcr_plt = zcr1/max(zcr1)\n",
    "t_zcr = np.arange(0,test_blocked.shape[0])*hopSize\n",
    "plt.plot(test_aud)\n",
    "plt.plot(t_zcr,zcr_plt)\n",
    "\n",
    "plt.xlabel('Sample Number')\n",
    "plt.ylabel('Amplitude')\n",
    "plt.legend(['Signal','Normalized ZCR'])\n",
    "plt.title('Signal vs Normalized ZCR')"
   ],
   "outputs": [
    {
     "output_type": "execute_result",
     "data": {
      "text/plain": [
       "Text(0.5, 1.0, 'Signal vs Normalized ZCR')"
      ]
     },
     "metadata": {},
     "execution_count": 20
    },
    {
     "output_type": "display_data",
     "data": {
      "image/png": "[encoded data removed]",
      "text/plain": [
       "<Figure size 432x288 with 1 Axes>"
      ]
     },
     "metadata": {
      "needs_background": "light"
     }
    }
   ],
   "metadata": {}
  },
  {
   "cell_type": "markdown",
   "source": [
    "## Spectral Crest"
   ],
   "metadata": {}
  },
  {
   "cell_type": "code",
   "execution_count": 138,
   "source": [
    "def extract_spectral_crest(xb):\n",
    "    crest = []\n",
    "    stft,freqs = calc_stft(xb,44100)\n",
    "    for i in range(freqs.shape[0]):\n",
    "        crest.append((np.max(stft[i])/np.sum(stft[i])))\n",
    "    crest = np.array(crest)\n",
    "    return crest"
   ],
   "outputs": [],
   "metadata": {}
  },
  {
   "cell_type": "markdown",
   "source": [
    "### Testing Spectral Crest"
   ],
   "metadata": {}
  },
  {
   "cell_type": "code",
   "execution_count": 141,
   "source": [
    "extract_spectral_crest(xb)"
   ],
   "outputs": [
    {
     "output_type": "execute_result",
     "data": {
      "text/plain": [
       "array([0.19212083, 0.2903323 , 0.27817242, ..., 0.1381435 , 0.10440264,\n",
       "       0.06001916])"
      ]
     },
     "metadata": {},
     "execution_count": 141
    }
   ],
   "metadata": {}
  },
  {
   "cell_type": "code",
   "execution_count": null,
   "source": [
    "librosa.feature."
   ],
   "outputs": [],
   "metadata": {}
  },
  {
   "cell_type": "markdown",
   "source": [
    "## Spectral Flux"
   ],
   "metadata": {}
  },
  {
   "cell_type": "code",
   "execution_count": 142,
   "source": [
    "def extract_spectral_flux(xb):\n",
    "    flux = []\n",
    "    stft,freqs = calc_stft(xb,44100)\n",
    "    for i in range(freqs.shape[0]):\n",
    "        flx = np.sqrt(np.sum(np.diff(stft[i])**2))\n",
    "        flux.append(flx/(xb.shape[0]+1))\n",
    "    flux = np.array(flux)\n",
    "    return(flux)"
   ],
   "outputs": [],
   "metadata": {}
  },
  {
   "cell_type": "code",
   "execution_count": 143,
   "source": [
    "extract_spectral_flux(xb)"
   ],
   "outputs": [
    {
     "output_type": "execute_result",
     "data": {
      "text/plain": [
       "array([4.60248580e-04, 7.15834240e-04, 6.88639011e-04, ...,\n",
       "       2.32841297e-03, 6.89511403e-04, 1.20091115e-05])"
      ]
     },
     "metadata": {},
     "execution_count": 143
    }
   ],
   "metadata": {}
  },
  {
   "cell_type": "markdown",
   "source": [
    "## Q2:\n",
    "### Implement a function: [features] = extract_features(x, blockSize, hopSize, fs) This function serves as a wrapper for feature extraction. It will take a single-channel audio vector x as input, blocks the audio with the given block size and hop size using block_audio(), calls each of the feature extractor functions implemented above and returns a 5 X NumOfBlocks dimensional feature matrix."
   ],
   "metadata": {}
  },
  {
   "cell_type": "code",
   "execution_count": null,
   "source": [
    "def extract_features(x, blockSize, hopSize, fs):\n",
    "    features=[]\n",
    "\n",
    "\n",
    "    features = np.array(features)\n",
    "    return features"
   ],
   "outputs": [],
   "metadata": {}
  },
  {
   "cell_type": "markdown",
   "source": [
    "## Q3:\n",
    "### Implement a function: [aggFeatures] = aggregate_feature_per_file(features). This function aggregates the feature matrix returned by extract_features(), aggregates the features across blocks using mean and standard deviation and returns a  10x1 aggregated feature matrix"
   ],
   "metadata": {}
  },
  {
   "cell_type": "code",
   "execution_count": null,
   "source": [
    "def aggregate_feature_per_file(features):\n",
    "    agg_features = []\n",
    "\n",
    "\n",
    "    agg_features=np.array(agg_features)\n",
    "    return agg_features"
   ],
   "outputs": [],
   "metadata": {}
  },
  {
   "cell_type": "markdown",
   "source": [
    "## Q4:\n",
    "### Implement a  function: [featureData] = get_feature_data(path, blockSize, hopSize) This function loops over all files contained within a folder that is pointed to by the path argument. The function will then successively call the extract_features() and aggregate_feature_per_file() functions and return a 10xN feature matrix of which contains the aggregated features for N audio files contained in the directory."
   ],
   "metadata": {}
  },
  {
   "cell_type": "code",
   "execution_count": null,
   "source": [
    "def get_feature_data(path, blockSize, hopSize):\n",
    "\n",
    "    return ''\n"
   ],
   "outputs": [],
   "metadata": {}
  },
  {
   "cell_type": "markdown",
   "source": [
    "# Section B:\n",
    "## Q1: \n",
    "### Implement a  function: [normFeatureMatrix] = normalize_zscore(featureData) This function applies the z-score normalization scheme to the input feature matrix. The z-score normalization normalizes each feature to a zero mean and unit standard deviation across the entire dataset. Be careful with the dimensions."
   ],
   "metadata": {}
  },
  {
   "cell_type": "code",
   "execution_count": null,
   "source": [
    "def normalize_zscore(featureData):\n",
    "    normalized_matrix=[]\n",
    "\n",
    "    normalized_matrix = np.array(normalized_matrix)\n",
    "    return normalized_matrix"
   ],
   "outputs": [],
   "metadata": {}
  }
 ],
 "metadata": {
  "orig_nbformat": 4,
  "language_info": {
   "name": "python",
   "version": "3.9.7",
   "mimetype": "text/x-python",
   "codemirror_mode": {
    "name": "ipython",
    "version": 3
   },
   "pygments_lexer": "ipython3",
   "nbconvert_exporter": "python",
   "file_extension": ".py"
  },
  "kernelspec": {
   "name": "python3",
   "display_name": "Python 3.9.7 64-bit"
  },
  "interpreter": {
   "hash": "aee8b7b246df8f9039afb4144a1f6fd8d2ca17a180786b69acc140d282b71a49"
  }
 },
 "nbformat": 4,
 "nbformat_minor": 2
}