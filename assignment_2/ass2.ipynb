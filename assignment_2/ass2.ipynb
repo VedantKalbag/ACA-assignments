{
 "cells": [
  {
   "cell_type": "code",
   "execution_count": 2,
   "source": [
    "import numpy as np\n",
    "import scipy.signal\n",
    "import scipy.io.wavfile\n",
    "import os\n",
    "import math\n",
    "from matplotlib import pyplot as plt \n",
    "\n",
    "blockSize=1024\n",
    "hopSize=512\n",
    "fs=44100"
   ],
   "outputs": [],
   "metadata": {}
  },
  {
   "cell_type": "code",
   "execution_count": 13,
   "source": [
    "fs,x = scipy.io.wavfile.read('../assignment_1/trainData/01-D_AMairena.wav')\n",
    "x = x/max(x)\n",
    "x"
   ],
   "outputs": [
    {
     "output_type": "stream",
     "name": "stderr",
     "text": [
      "<ipython-input-13-88eef1bf7426>:1: WavFileWarning: Chunk (non-data) not understood, skipping it.\n",
      "  fs,x = scipy.io.wavfile.read('../assignment_1/trainData/01-D_AMairena.wav')\n"
     ]
    },
    {
     "output_type": "execute_result",
     "data": {
      "text/plain": [
       "array([-4.82963943e-03, -4.73040026e-03, -4.53192193e-03, ...,\n",
       "        6.61594443e-05,  3.30797221e-05,  0.00000000e+00])"
      ]
     },
     "metadata": {},
     "execution_count": 13
    }
   ],
   "metadata": {}
  },
  {
   "cell_type": "code",
   "execution_count": 14,
   "source": [
    "# BLOCK AUDIO\n",
    "def block_audio(x,blockSize,hopSize,fs):    \n",
    "    # allocate memory    \n",
    "    numBlocks = math.ceil(x.size / hopSize)    \n",
    "    xb = np.zeros([numBlocks, blockSize])    \n",
    "    # compute time stamps    \n",
    "    t = (np.arange(0, numBlocks) * hopSize) / fs   \n",
    "    x = np.concatenate((x, np.zeros(blockSize)),axis=0)    \n",
    "    for n in range(0, numBlocks):        \n",
    "        i_start = n * hopSize        \n",
    "        i_stop = np.min([x.size - 1, i_start + blockSize - 1])        \n",
    "        xb[n][np.arange(0,blockSize)] = x[np.arange(i_start, i_stop + 1)]    \n",
    "    return (xb,t)\n"
   ],
   "outputs": [],
   "metadata": {}
  },
  {
   "cell_type": "code",
   "execution_count": 41,
   "source": [
    "20*np.log10(0.00001)"
   ],
   "outputs": [
    {
     "output_type": "execute_result",
     "data": {
      "text/plain": [
       "-100.0"
      ]
     },
     "metadata": {},
     "execution_count": 41
    }
   ],
   "metadata": {}
  },
  {
   "cell_type": "code",
   "execution_count": 15,
   "source": [
    "xb,t = block_audio(x, blockSize, hopSize, fs)"
   ],
   "outputs": [],
   "metadata": {}
  },
  {
   "cell_type": "markdown",
   "source": [
    "# Section A\n",
    "\n",
    "## Q1: \n",
    "### Implement functions for 5 audio features: extract_spectral_centroid(xb, fs), extract_rms(xb), extract_zerocrossingrate(xb), extract_spectral_crest(xb), extract_spectral_flux(xb). xb is a matrix of blocked audio data (dimension NumOfBlocks X blockSize, see assignment 1), fs is the sample rate. Implement each of these functions in the default formulation from the text book/slides. Note that for the spectral features, you have to apply a window function to each block. Use the hann window from a previous in-class exercise for this purpose. To avoid feature definition ambiguities:\n",
    "    1. Spectral Centroid in Hz, compute from the magnitude spectrum (not power spectrum)\n",
    "    2. RMS in dB, truncated at -100dB\n",
    "    3. all others as defined in the book"
   ],
   "metadata": {}
  },
  {
   "cell_type": "code",
   "execution_count": null,
   "source": [
    "def extract_spectral_centroid(xb, fs):\n",
    "    centroid = []\n",
    "\n",
    "    centroid=np.array(centroid)\n",
    "    return centroid"
   ],
   "outputs": [],
   "metadata": {}
  },
  {
   "cell_type": "code",
   "execution_count": 50,
   "source": [
    "def extract_rms(xb):\n",
    "    rms=[]\n",
    "    for block in xb:\n",
    "        r = np.sqrt(np.sum(block**2)/xb.shape[0])\n",
    "        if r <= 0.00001: # Done to handle case when rms is 0 (for a block of all zeros\n",
    "            r = 0.00001\n",
    "        rms.append(r)\n",
    "    rms=np.array(rms)\n",
    "    return 20*np.log10(rms)#rms,20*np.log10(rms) # What is reference value to convert to dB? Is it 1?"
   ],
   "outputs": [],
   "metadata": {}
  },
  {
   "cell_type": "markdown",
   "source": [
    "### Testing rms"
   ],
   "metadata": {}
  },
  {
   "cell_type": "code",
   "execution_count": 76,
   "source": [
    "def extract_rms_raw(xb):\n",
    "    rms=[]\n",
    "    for block in xb:\n",
    "        r = np.sqrt(np.sum(block**2)/xb.shape[0])\n",
    "        if r <= 0.00001: # Done to handle case when rms is 0 (for a block of all zeros\n",
    "            r = 0.00001\n",
    "        \n",
    "        rms.append(r)\n",
    "    rms=np.array(rms)\n",
    "    return rms#rms,20*np.log10(rms) # What is reference value to convert to dB? Is it 1?\n",
    "rms = extract_rms_raw(xb)\n",
    "print(rms.min())\n",
    "t_rms = np.arange(0,xb.shape[0])*hopSize\n",
    "plt.plot(x)\n",
    "plt.plot(t_rms,rms)\n",
    "\n",
    "plt.xlabel('Sample Number')\n",
    "plt.ylabel('Amplitude')\n",
    "plt.legend(['Signal','RMS'])\n",
    "plt.title('Signal vs RMS')"
   ],
   "outputs": [
    {
     "output_type": "stream",
     "name": "stdout",
     "text": [
      "0.0008019605811365145\n"
     ]
    },
    {
     "output_type": "execute_result",
     "data": {
      "text/plain": [
       "Text(0.5, 1.0, 'Signal vs RMS')"
      ]
     },
     "metadata": {},
     "execution_count": 76
    },
    {
     "output_type": "display_data",
     "data": {
      "image/png": "[encoded data removed]",
      "text/plain": [
       "<Figure size 432x288 with 1 Axes>"
      ]
     },
     "metadata": {
      "needs_background": "light"
     }
    }
   ],
   "metadata": {}
  },
  {
   "cell_type": "code",
   "execution_count": 72,
   "source": [
    "def extract_zerocrossingrate(xb):\n",
    "    zcr=[]\n",
    "    for block in xb:\n",
    "        zcr.append(np.nonzero(np.diff(block > 0))[0].size)\n",
    "    zcr = np.array(zcr)\n",
    "    return zcr"
   ],
   "outputs": [],
   "metadata": {}
  },
  {
   "cell_type": "markdown",
   "source": [
    "### Testing ZCR"
   ],
   "metadata": {}
  },
  {
   "cell_type": "code",
   "execution_count": 77,
   "source": [
    "zcr = extract_zerocrossingrate(xb)\n",
    "zcr_plt = zcr/max(zcr)\n",
    "t_zcr = np.arange(0,xb.shape[0])*hopSize\n",
    "plt.plot(x)\n",
    "plt.plot(t_zcr,zcr_plt)\n",
    "\n",
    "plt.xlabel('Sample Number')\n",
    "plt.ylabel('Amplitude')\n",
    "plt.legend(['Signal','Normalized ZCR'])\n",
    "plt.title('Signal vs Normalized ZCR')"
   ],
   "outputs": [
    {
     "output_type": "execute_result",
     "data": {
      "text/plain": [
       "Text(0.5, 1.0, 'Signal vs Normalized ZCR')"
      ]
     },
     "metadata": {},
     "execution_count": 77
    },
    {
     "output_type": "display_data",
     "data": {
      "image/png": "[encoded data removed]",
      "text/plain": [
       "<Figure size 432x288 with 1 Axes>"
      ]
     },
     "metadata": {
      "needs_background": "light"
     }
    }
   ],
   "metadata": {}
  },
  {
   "cell_type": "code",
   "execution_count": null,
   "source": [
    "def extract_spectral_crest(xb):\n",
    "    crest = []\n",
    "\n",
    "\n",
    "    crest = np.array(crest)\n",
    "    return crest"
   ],
   "outputs": [],
   "metadata": {}
  },
  {
   "cell_type": "code",
   "execution_count": null,
   "source": [
    "def extract_spectral_flux(xb):\n",
    "    flux = []\n",
    "\n",
    "\n",
    "    flux = np.array(flux)\n",
    "    return(flux)"
   ],
   "outputs": [],
   "metadata": {}
  },
  {
   "cell_type": "markdown",
   "source": [
    "## Q2:\n",
    "### Implement a function: [features] = extract_features(x, blockSize, hopSize, fs) This function serves as a wrapper for feature extraction. It will take a single-channel audio vector x as input, blocks the audio with the given block size and hop size using block_audio(), calls each of the feature extractor functions implemented above and returns a 5 X NumOfBlocks dimensional feature matrix."
   ],
   "metadata": {}
  },
  {
   "cell_type": "code",
   "execution_count": null,
   "source": [
    "def extract_features(x, blockSize, hopSize, fs):\n",
    "    features=[]\n",
    "\n",
    "\n",
    "    features = np.array(features)\n",
    "    return features"
   ],
   "outputs": [],
   "metadata": {}
  },
  {
   "cell_type": "markdown",
   "source": [
    "## Q3:\n",
    "### Implement a function: [aggFeatures] = aggregate_feature_per_file(features). This function aggregates the feature matrix returned by extract_features(), aggregates the features across blocks using mean and standard deviation and returns a  10x1 aggregated feature matrix"
   ],
   "metadata": {}
  },
  {
   "cell_type": "code",
   "execution_count": null,
   "source": [
    "def aggregate_feature_per_file(features):\n",
    "    agg_features = []\n",
    "\n",
    "\n",
    "    agg_features=np.array(agg_features)\n",
    "    return agg_features"
   ],
   "outputs": [],
   "metadata": {}
  },
  {
   "cell_type": "markdown",
   "source": [
    "## Q4:\n",
    "### Implement a  function: [featureData] = get_feature_data(path, blockSize, hopSize) This function loops over all files contained within a folder that is pointed to by the path argument. The function will then successively call the extract_features() and aggregate_feature_per_file() functions and return a 10xN feature matrix of which contains the aggregated features for N audio files contained in the directory."
   ],
   "metadata": {}
  },
  {
   "cell_type": "code",
   "execution_count": null,
   "source": [
    "def get_feature_data(path, blockSize, hopSize):\n",
    "\n",
    "    return ''\n"
   ],
   "outputs": [],
   "metadata": {}
  },
  {
   "cell_type": "markdown",
   "source": [
    "# Section B:\n",
    "## Q1: \n",
    "### Implement a  function: [normFeatureMatrix] = normalize_zscore(featureData) This function applies the z-score normalization scheme to the input feature matrix. The z-score normalization normalizes each feature to a zero mean and unit standard deviation across the entire dataset. Be careful with the dimensions."
   ],
   "metadata": {}
  },
  {
   "cell_type": "code",
   "execution_count": null,
   "source": [
    "def normalize_zscore(featureData):\n",
    "    normalized_matrix=[]\n",
    "\n",
    "    normalized_matrix = np.array(normalized_matrix)\n",
    "    return normalized_matrix"
   ],
   "outputs": [],
   "metadata": {}
  }
 ],
 "metadata": {
  "orig_nbformat": 4,
  "language_info": {
   "name": "python",
   "version": "3.9.7",
   "mimetype": "text/x-python",
   "codemirror_mode": {
    "name": "ipython",
    "version": 3
   },
   "pygments_lexer": "ipython3",
   "nbconvert_exporter": "python",
   "file_extension": ".py"
  },
  "kernelspec": {
   "name": "python3",
   "display_name": "Python 3.9.7 64-bit"
  },
  "interpreter": {
   "hash": "aee8b7b246df8f9039afb4144a1f6fd8d2ca17a180786b69acc140d282b71a49"
  }
 },
 "nbformat": 4,
 "nbformat_minor": 2
}