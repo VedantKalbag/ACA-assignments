{
 "cells": [
  {
   "cell_type": "code",
   "execution_count": 141,
   "metadata": {},
   "outputs": [],
   "source": [
    "import numpy as np\n",
    "import scipy.signal\n",
    "import scipy.io.wavfile\n",
    "import os\n",
    "import math\n",
    "from matplotlib import pyplot as plt \n",
    "\n",
    "blockSize=1024\n",
    "hopSize=512\n",
    "fs=44100"
   ]
  },
  {
   "cell_type": "code",
   "execution_count": 142,
   "metadata": {},
   "outputs": [],
   "source": [
    "from scipy.io.wavfile import read as wavread\n",
    "def ToolReadAudio(cAudioFilePath):    \n",
    "    [samplerate, x] = wavread(cAudioFilePath)    \n",
    "    if x.dtype == 'float32':        \n",
    "        audio = x    \n",
    "    else:        \n",
    "        # change range to [-1,1)        \n",
    "        if x.dtype == 'uint8':            \n",
    "            nbits = 8        \n",
    "        elif x.dtype == 'int16':            \n",
    "            nbits = 16        \n",
    "        elif x.dtype == 'int32':            \n",
    "            nbits = 32        \n",
    "        audio = x / float(2**(nbits - 1))    \n",
    "        # special case of unsigned format    \n",
    "    if x.dtype == 'uint8':        \n",
    "        audio = audio - 1.    \n",
    "    return (samplerate, audio)"
   ]
  },
  {
   "cell_type": "code",
   "execution_count": 143,
   "metadata": {},
   "outputs": [
    {
     "name": "stderr",
     "output_type": "stream",
     "text": [
      "<ipython-input-142-70eaf167f057>:3: WavFileWarning:\n",
      "\n",
      "Chunk (non-data) not understood, skipping it.\n",
      "\n"
     ]
    }
   ],
   "source": [
    "fs,x = ToolReadAudio('../assignment_1/trainData/01-D_AMairena.wav')"
   ]
  },
  {
   "cell_type": "code",
   "execution_count": 144,
   "metadata": {},
   "outputs": [],
   "source": [
    "# BLOCK AUDIO\n",
    "def block_audio(x,blockSize,hopSize,fs):    \n",
    "    # allocate memory    \n",
    "    numBlocks = math.ceil(x.size / hopSize)    \n",
    "    xb = np.zeros([numBlocks, blockSize])    \n",
    "    # compute time stamps    \n",
    "    t = (np.arange(0, numBlocks) * hopSize) / fs   \n",
    "    x = np.concatenate((x, np.zeros(blockSize)),axis=0)    \n",
    "    for n in range(0, numBlocks):        \n",
    "        i_start = n * hopSize        \n",
    "        i_stop = np.min([x.size - 1, i_start + blockSize - 1])        \n",
    "        xb[n][np.arange(0,blockSize)] = x[np.arange(i_start, i_stop + 1)]    \n",
    "    return (xb,t)"
   ]
  },
  {
   "cell_type": "code",
   "execution_count": 145,
   "metadata": {},
   "outputs": [],
   "source": [
    "xb,t = block_audio(x, blockSize, hopSize, fs)"
   ]
  },
  {
   "cell_type": "markdown",
   "metadata": {},
   "source": [
    "## Test signals"
   ]
  },
  {
   "cell_type": "code",
   "execution_count": 7,
   "metadata": {},
   "outputs": [
    {
     "name": "stdout",
     "output_type": "stream",
     "text": [
      "44\n"
     ]
    }
   ],
   "source": [
    "test_aud = np.sin(2*np.pi*1000*np.arange(1 * fs)/fs)\n",
    "test_blocked,t = block_audio(test_aud,2048, 1024, fs)\n",
    "print(math.ceil(test_aud.size / 1024))"
   ]
  },
  {
   "cell_type": "code",
   "execution_count": 86,
   "metadata": {},
   "outputs": [
    {
     "data": {
      "text/plain": [
       "[<matplotlib.lines.Line2D at 0x13a5d5310>]"
      ]
     },
     "execution_count": 86,
     "metadata": {},
     "output_type": "execute_result"
    },
    {
     "data": {
      "image/png": "[encoded data removed]",
      "text/plain": [
       "<Figure size 432x288 with 1 Axes>"
      ]
     },
     "metadata": {
      "needs_background": "light"
     },
     "output_type": "display_data"
    }
   ],
   "source": [
    "plt.plot(test_aud[0:100])"
   ]
  },
  {
   "cell_type": "markdown",
   "metadata": {},
   "source": [
    "## Calculate STFT from blocked audio"
   ]
  },
  {
   "cell_type": "code",
   "execution_count": 53,
   "metadata": {},
   "outputs": [
    {
     "data": {
      "text/plain": [
       "(2224, 1024)"
      ]
     },
     "execution_count": 53,
     "metadata": {},
     "output_type": "execute_result"
    }
   ],
   "source": [
    "xb.shape"
   ]
  },
  {
   "cell_type": "code",
   "execution_count": 62,
   "metadata": {},
   "outputs": [
    {
     "data": {
      "text/plain": [
       "(512,)"
      ]
     },
     "execution_count": 62,
     "metadata": {},
     "output_type": "execute_result"
    }
   ],
   "source": [
    "block = xb[0]\n",
    "freq=np.fft.fftfreq(block.size,1/fs)\n",
    "freq[:int(block.size/2)].shape"
   ]
  },
  {
   "cell_type": "code",
   "execution_count": 153,
   "metadata": {},
   "outputs": [],
   "source": [
    "def calc_stft(xb,fs=44100):\n",
    "    stft = np.zeros((xb.shape[0],(int(xb[0].shape[0]/2)+1)))\n",
    "    freqs = np.zeros((xb.shape[0],(int(xb[0].shape[0]/2)+1)))\n",
    "    window = np.hanning(xb[0].shape[0])\n",
    "    for i in range(xb.shape[0]):\n",
    "        block= xb[i]\n",
    "        # Apply Window to the block\n",
    "        windowed_block = window * block \n",
    "        # Pad zeros equal to length of the windowed block at the end\n",
    "        #windowed_block = np.append(windowed_block,np.zeros(block.shape[0]))\n",
    "        stft_blk = np.fft.fft(windowed_block)\n",
    "        #stft_blk = np.fft.rfft(windowed_block)\n",
    "        freq=np.fft.fftfreq(block.size,1/fs)\n",
    "        freqs[i]=freq[:int(block.size/2)+1]\n",
    "        stft_blk = np.abs(stft_blk)\n",
    "        #stft_block = stft_blk[int((stft_blk.shape[0])/2):]\n",
    "        stft_block = stft_blk[:int(((stft_blk.shape[0])/2)+1)]\n",
    "        stft_db = 10*np.log10(stft_block) # IS THIS CORRECT??\n",
    "        stft[i]=stft_block#stft_db\n",
    "    stft = np.array(stft)\n",
    "    freqs=np.array(freqs)\n",
    "    return stft,freqs"
   ]
  },
  {
   "cell_type": "code",
   "execution_count": 154,
   "metadata": {},
   "outputs": [],
   "source": [
    "stft,freqs = calc_stft(xb,44100)\n"
   ]
  },
  {
   "cell_type": "code",
   "execution_count": 155,
   "metadata": {},
   "outputs": [
    {
     "data": {
      "text/plain": [
       "(2224, 513)"
      ]
     },
     "execution_count": 155,
     "metadata": {},
     "output_type": "execute_result"
    }
   ],
   "source": [
    "stft.shape"
   ]
  },
  {
   "cell_type": "code",
   "execution_count": 43,
   "metadata": {},
   "outputs": [
    {
     "data": {
      "application/vnd.plotly.v1+json": {
       "config": {
        "plotlyServerURL": "https://plot.ly"
       },
       "data": [
        {
         "hovertemplate": "variable=0<br>index=%{x}<br>value=%{y}<extra></extra>",
         "legendgroup": "0",
         "line": {
          "color": "#636efa",
          "dash": "solid"
         },
         "mode": "lines",
         "name": "0",
         "showlegend": true,
         "type": "scattergl",
         "x": [
          0,
          1,
          2,
          3,
          4,
          5,
          6,
          7,
          8,
          9,
          10,
          11,
          12,
          13,
          14,
          15,
          16,
          17,
          18,
          19,
          20,
          21,
          22,
          23,
          24,
          25,
          26,
          27,
          28,
          29,
          30,
          31,
          32,
          33,
          34,
          35,
          36,
          37,
          38,
          39,
          40,
          41,
          42,
          43,
          44,
          45,
          46,
          47,
          48,
          49,
          50,
          51,
          52,
          53,
          54,
          55,
          56,
          57,
          58,
          59,
          60,
          61,
          62,
          63,
          64,
          65,
          66,
          67,
          68,
          69,
          70,
          71,
          72,
          73,
          74,
          75,
          76,
          77,
          78,
          79,
          80,
          81,
          82,
          83,
          84,
          85,
          86,
          87,
          88,
          89,
          90,
          91,
          92,
          93,
          94,
          95,
          96,
          97,
          98,
          99,
          100,
          101,
          102,
          103,
          104,
          105,
          106,
          107,
          108,
          109,
          110,
          111,
          112,
          113,
          114,
          115,
          116,
          117,
          118,
          119,
          120,
          121,
          122,
          123,
          124,
          125,
          126,
          127,
          128,
          129,
          130,
          131,
          132,
          133,
          134,
          135,
          136,
          137,
          138,
          139,
          140,
          141,
          142,
          143,
          144,
          145,
          146,
          147,
          148,
          149,
          150,
          151,
          152,
          153,
          154,
          155,
          156,
          157,
          158,
          159,
          160,
          161,
          162,
          163,
          164,
          165,
          166,
          167,
          168,
          169,
          170,
          171,
          172,
          173,
          174,
          175,
          176,
          177,
          178,
          179,
          180,
          181,
          182,
          183,
          184,
          185,
          186,
          187,
          188,
          189,
          190,
          191,
          192,
          193,
          194,
          195,
          196,
          197,
          198,
          199,
          200,
          201,
          202,
          203,
          204,
          205,
          206,
          207,
          208,
          209,
          210,
          211,
          212,
          213,
          214,
          215,
          216,
          217,
          218,
          219,
          220,
          221,
          222,
          223,
          224,
          225,
          226,
          227,
          228,
          229,
          230,
          231,
          232,
          233,
          234,
          235,
          236,
          237,
          238,
          239,
          240,
          241,
          242,
          243,
          244,
          245,
          246,
          247,
          248,
          249,
          250,
          251,
          252,
          253,
          254,
          255,
          256,
          257,
          258,
          259,
          260,
          261,
          262,
          263,
          264,
          265,
          266,
          267,
          268,
          269,
          270,
          271,
          272,
          273,
          274,
          275,
          276,
          277,
          278,
          279,
          280,
          281,
          282,
          283,
          284,
          285,
          286,
          287,
          288,
          289,
          290,
          291,
          292,
          293,
          294,
          295,
          296,
          297,
          298,
          299,
          300,
          301,
          302,
          303,
          304,
          305,
          306,
          307,
          308,
          309,
          310,
          311,
          312,
          313,
          314,
          315,
          316,
          317,
          318,
          319,
          320,
          321,
          322,
          323,
          324,
          325,
          326,
          327,
          328,
          329,
          330,
          331,
          332,
          333,
          334,
          335,
          336,
          337,
          338,
          339,
          340,
          341,
          342,
          343,
          344,
          345,
          346,
          347,
          348,
          349,
          350,
          351,
          352,
          353,
          354,
          355,
          356,
          357,
          358,
          359,
          360,
          361,
          362,
          363,
          364,
          365,
          366,
          367,
          368,
          369,
          370,
          371,
          372,
          373,
          374,
          375,
          376,
          377,
          378,
          379,
          380,
          381,
          382,
          383,
          384,
          385,
          386,
          387,
          388,
          389,
          390,
          391,
          392,
          393,
          394,
          395,
          396,
          397,
          398,
          399,
          400,
          401,
          402,
          403,
          404,
          405,
          406,
          407,
          408,
          409,
          410,
          411,
          412,
          413,
          414,
          415,
          416,
          417,
          418,
          419,
          420,
          421,
          422,
          423,
          424,
          425,
          426,
          427,
          428,
          429,
          430,
          431,
          432,
          433,
          434,
          435,
          436,
          437,
          438,
          439,
          440,
          441,
          442,
          443,
          444,
          445,
          446,
          447,
          448,
          449,
          450,
          451,
          452,
          453,
          454,
          455,
          456,
          457,
          458,
          459,
          460,
          461,
          462,
          463,
          464,
          465,
          466,
          467,
          468,
          469,
          470,
          471,
          472,
          473,
          474,
          475,
          476,
          477,
          478,
          479,
          480,
          481,
          482,
          483,
          484,
          485,
          486,
          487,
          488,
          489,
          490,
          491,
          492,
          493,
          494,
          495,
          496,
          497,
          498,
          499,
          500,
          501,
          502,
          503,
          504,
          505,
          506,
          507,
          508,
          509,
          510,
          511,
          512,
          513,
          514,
          515,
          516,
          517,
          518,
          519,
          520,
          521,
          522,
          523,
          524,
          525,
          526,
          527,
          528,
          529,
          530,
          531,
          532,
          533,
          534,
          535,
          536,
          537,
          538,
          539,
          540,
          541,
          542,
          543,
          544,
          545,
          546,
          547,
          548,
          549,
          550,
          551,
          552,
          553,
          554,
          555,
          556,
          557,
          558,
          559,
          560,
          561,
          562,
          563,
          564,
          565,
          566,
          567,
          568,
          569,
          570,
          571,
          572,
          573,
          574,
          575,
          576,
          577,
          578,
          579,
          580,
          581,
          582,
          583,
          584,
          585,
          586,
          587,
          588,
          589,
          590,
          591,
          592,
          593,
          594,
          595,
          596,
          597,
          598,
          599,
          600,
          601,
          602,
          603,
          604,
          605,
          606,
          607,
          608,
          609,
          610,
          611,
          612,
          613,
          614,
          615,
          616,
          617,
          618,
          619,
          620,
          621,
          622,
          623,
          624,
          625,
          626,
          627,
          628,
          629,
          630,
          631,
          632,
          633,
          634,
          635,
          636,
          637,
          638,
          639,
          640,
          641,
          642,
          643,
          644,
          645,
          646,
          647,
          648,
          649,
          650,
          651,
          652,
          653,
          654,
          655,
          656,
          657,
          658,
          659,
          660,
          661,
          662,
          663,
          664,
          665,
          666,
          667,
          668,
          669,
          670,
          671,
          672,
          673,
          674,
          675,
          676,
          677,
          678,
          679,
          680,
          681,
          682,
          683,
          684,
          685,
          686,
          687,
          688,
          689,
          690,
          691,
          692,
          693,
          694,
          695,
          696,
          697,
          698,
          699,
          700,
          701,
          702,
          703,
          704,
          705,
          706,
          707,
          708,
          709,
          710,
          711,
          712,
          713,
          714,
          715,
          716,
          717,
          718,
          719,
          720,
          721,
          722,
          723,
          724,
          725,
          726,
          727,
          728,
          729,
          730,
          731,
          732,
          733,
          734,
          735,
          736,
          737,
          738,
          739,
          740,
          741,
          742,
          743,
          744,
          745,
          746,
          747,
          748,
          749,
          750,
          751,
          752,
          753,
          754,
          755,
          756,
          757,
          758,
          759,
          760,
          761,
          762,
          763,
          764,
          765,
          766,
          767,
          768,
          769,
          770,
          771,
          772,
          773,
          774,
          775,
          776,
          777,
          778,
          779,
          780,
          781,
          782,
          783,
          784,
          785,
          786,
          787,
          788,
          789,
          790,
          791,
          792,
          793,
          794,
          795,
          796,
          797,
          798,
          799,
          800,
          801,
          802,
          803,
          804,
          805,
          806,
          807,
          808,
          809,
          810,
          811,
          812,
          813,
          814,
          815,
          816,
          817,
          818,
          819,
          820,
          821,
          822,
          823,
          824,
          825,
          826,
          827,
          828,
          829,
          830,
          831,
          832,
          833,
          834,
          835,
          836,
          837,
          838,
          839,
          840,
          841,
          842,
          843,
          844,
          845,
          846,
          847,
          848,
          849,
          850,
          851,
          852,
          853,
          854,
          855,
          856,
          857,
          858,
          859,
          860,
          861,
          862,
          863,
          864,
          865,
          866,
          867,
          868,
          869,
          870,
          871,
          872,
          873,
          874,
          875,
          876,
          877,
          878,
          879,
          880,
          881,
          882,
          883,
          884,
          885,
          886,
          887,
          888,
          889,
          890,
          891,
          892,
          893,
          894,
          895,
          896,
          897,
          898,
          899,
          900,
          901,
          902,
          903,
          904,
          905,
          906,
          907,
          908,
          909,
          910,
          911,
          912,
          913,
          914,
          915,
          916,
          917,
          918,
          919,
          920,
          921,
          922,
          923,
          924,
          925,
          926,
          927,
          928,
          929,
          930,
          931,
          932,
          933,
          934,
          935,
          936,
          937,
          938,
          939,
          940,
          941,
          942,
          943,
          944,
          945,
          946,
          947,
          948,
          949,
          950,
          951,
          952,
          953,
          954,
          955,
          956,
          957,
          958,
          959,
          960,
          961,
          962,
          963,
          964,
          965,
          966,
          967,
          968,
          969,
          970,
          971,
          972,
          973,
          974,
          975,
          976,
          977,
          978,
          979,
          980,
          981,
          982,
          983,
          984,
          985,
          986,
          987,
          988,
          989,
          990,
          991,
          992,
          993,
          994,
          995,
          996,
          997,
          998,
          999,
          1000,
          1001,
          1002,
          1003,
          1004,
          1005,
          1006,
          1007,
          1008,
          1009,
          1010,
          1011,
          1012,
          1013,
          1014,
          1015,
          1016,
          1017,
          1018,
          1019,
          1020,
          1021,
          1022,
          1023
         ],
         "xaxis": "x",
         "y": [
          0,
          0.00000943076911874563,
          0.00003772272071722593,
          0.00008487478753615996,
          0.00015088519085437735,
          0.00023575144055643094,
          0.00033947033522635506,
          0.0004620379622682358,
          0.0006034496980542037,
          0.0007637002080985167,
          0.0009427834472588992,
          0.0011406926599646372,
          0.0013574203804713747,
          0.0015929584331427216,
          0.0018472979327587291,
          0.0021204292848509554,
          0.0024123421860645644,
          0.0027230256245468487,
          0.003052467880362675,
          0.003400656525936685,
          0.003767578426521867,
          0.004153219740695435,
          0.00455756592088058,
          0.004980601713895361,
          0.005422311161528193,
          0.005882677601139863,
          0.006361683666291973,
          0.006859311287402081,
          0.007375541692425325,
          0.007910355407562741,
          0.008463732257995571,
          0.009035651368646647,
          0.009626091164967543,
          0.010235029373752758,
          0.010862443023979595,
          0.011508308447674975,
          0.012172601280808104,
          0.012855296464209687,
          0.013556368244517059,
          0.014275790175145853,
          0.01501353511728759,
          0.015769575240933364,
          0.01654388202592383,
          0.01733642626302484,
          0.018147178055029578,
          0.018976106817886196,
          0.01982318128185151,
          0.020688369492670833,
          0.021571638812783067,
          0.022472955922552107,
          0.023392286821523722,
          0.02432959682970809,
          0.025284850588888075,
          0.026258012063953118,
          0.02724904454425836,
          0.028257910645009876,
          0.02928457230867454,
          0.030328990806415934,
          0.03139112673955513,
          0.03247094004105716,
          0.0335683899770422,
          0.034683435148322506,
          0.03581603349196372,
          0.03696614228287187,
          0.038133718135405226,
          0.03931871700501044,
          0.0405210941898847,
          0.04174080433266136,
          0.04297780142212154,
          0.044232038794929374,
          0.04550346913739256,
          0.046792044487247,
          0.048097716235466326,
          0.04942043512809524,
          0.050760151268107845,
          0.05211681411728969,
          0.05349037249814442,
          0.05488077459582419,
          0.05628796796008434,
          0.05771189950726191,
          0.05915251552227829,
          0.060609761660665395,
          0.06208358295061572,
          0.063573923795056,
          0.06508072797374453,
          0.06660393864539216,
          0.06814349834980615,
          0.06969934901005809,
          0.0712714319346745,
          0.07285968781985097,
          0.07446405675168938,
          0.0760844782084577,
          0.07772089106287344,
          0.0793732335844094,
          0.08104144344162223,
          0.0827254577045039,
          0.08442521284685561,
          0.08614064474868416,
          0.08787168869862061,
          0.08961827939636186,
          0.09138035095513325,
          0.09315783690417473,
          0.09495067019124787,
          0.09675878318516545,
          0.0985821076783428,
          0.10042057488937056,
          0.1022741154656096,
          0.10414265948580692,
          0.10602613646273357,
          0.1079244753458436,
          0.10983760452395408,
          0.11176545182794673,
          0.1137079445334902,
          0.11566500936378377,
          0.11763657249232101,
          0.11962255954567536,
          0.12162289560630524,
          0.12363750521538053,
          0.12566631237562886,
          0.12770924055420252,
          0.1297662126855657,
          0.13183715117440137,
          0.13392197789853844,
          0.13602061421189893,
          0.1381329809474649,
          0.14025899842026435,
          0.1423985864303775,
          0.14455166426596217,
          0.14671815070629868,
          0.14889796402485322,
          0.1510910219923614,
          0.15329724187992977,
          0.15551654046215668,
          0.15774883402027212,
          0.1599940383452954,
          0.16225206874121206,
          0.16452284002816886,
          0.16680626654568687,
          0.1691022621558929,
          0.171410740246769,
          0.17373161373541962,
          0.17606479507135658,
          0.17841019623980203,
          0.18076772876500824,
          0.1831373037135955,
          0.18551883169790678,
          0.1879122228793798,
          0.19031738697193612,
          0.19273423324538658,
          0.19516267052885444,
          0.1976026072142143,
          0.200053951259548,
          0.20251661019261674,
          0.20499049111434925,
          0.20747550070234616,
          0.20997154521440087,
          0.21247853049203536,
          0.21499636196405225,
          0.21752494465010247,
          0.22006418316426785,
          0.2226139817186597,
          0.2251742441270323,
          0.22774487380841096,
          0.2303257737907356,
          0.2329168467145189,
          0.2355179948365187,
          0.23812912003342562,
          0.24075012380556393,
          0.24338090728060802,
          0.2460213712173117,
          0.2486714160092519,
          0.25133094168858644,
          0.25399984792982444,
          0.25667803405361184,
          0.25936539903052874,
          0.2620618414849004,
          0.2647672596986222,
          0.2674815516149957,
          0.2702046148425794,
          0.272936346659051,
          0.2756766440150822,
          0.2784254035382263,
          0.28118252153681766,
          0.2839478940038831,
          0.28672141662106565,
          0.2895029847625594,
          0.29229249349905667,
          0.29508983760170626,
          0.29789491154608233,
          0.30070760951616615,
          0.303527825408337,
          0.30635545283537513,
          0.309190385130475,
          0.31203251535126864,
          0.3148817362838605,
          0.3177379404468714,
          0.3206010200954933,
          0.32347086722555374,
          0.32634737357758986,
          0.3292304306409326,
          0.3321199296577997,
          0.335015761627399,
          0.3379178173100396,
          0.340825987231253,
          0.3437401616859229,
          0.34666023074242347,
          0.3495860842467663,
          0.3525176118267561,
          0.3554547028961537,
          0.35839724665884803,
          0.3613451321130356,
          0.36429824805540806,
          0.367256483085347,
          0.37021972560912597,
          0.3731878638441208,
          0.3761607858230257,
          0.37913837939807754,
          0.38212053224528636,
          0.385107131868672,
          0.38809806560450877,
          0.3910932206255743,
          0.3940924839454067,
          0.3970957424225666,
          0.40010288276490463,
          0.40311379153383575,
          0.4061283551486183,
          0.40914645989063825,
          0.4121679919076999,
          0.4151928372183196,
          0.4182208817160266,
          0.42125201117366684,
          0.42428611124771165,
          0.42732306748257215,
          0.43036276531491585,
          0.4334050900779891,
          0.43644992700594226,
          0.43949716123815885,
          0.44254667782358914,
          0.4455983617250855,
          0.4486520978237429,
          0.45170777092324094,
          0.45476526575418963,
          0.4578244669784776,
          0.460885259193623,
          0.46394752693712715,
          0.4670111546908299,
          0.47007602688526684,
          0.4731420279040302,
          0.4762090420881288,
          0.4792769537403521,
          0.48234564712963435,
          0.4854150064954201,
          0.48848491605203115,
          0.49155525999303445,
          0.4946259224956109,
          0.4976967877249241,
          0.50076773983849,
          0.5038386629905474,
          0.5069094413364271,
          0.5099799590369228,
          0.5130501002626607,
          0.5161197491984684,
          0.5191887900477443,
          0.5222571070368258,
          0.5253245844193564,
          0.5283911064806522,
          0.531456557542067,
          0.534520821965356,
          0.5375837841570382,
          0.5406453285727563,
          0.5437053397216364,
          0.5467637021706436,
          0.5498203005489378,
          0.5528750195522244,
          0.5559277439471046,
          0.558978358575423,
          0.5620267483586104,
          0.565072798302026,
          0.5681163934992949,
          0.5711574191366425,
          0.5741957604972264,
          0.5772313029654628,
          0.5802639320313512,
          0.5832935332947936,
          0.5863199924699095,
          0.5893431953893482,
          0.5923630280085946,
          0.595379376410272,
          0.5983921268084391,
          0.6014011655528819,
          0.6044063791334021,
          0.6074076541840977,
          0.6104048774876404,
          0.6133979359795466,
          0.6163867167524418,
          0.6193711070603203,
          0.6223509943227981,
          0.6253262661293602,
          0.6282968102436011,
          0.6312625146074574,
          0.6342232673454371,
          0.6371789567688378,
          0.6401294713799617,
          0.6430746998763204,
          0.646014531154834,
          0.6489488543160223,
          0.6518775586681886,
          0.6548005337315943,
          0.6577176692426278,
          0.6606288551579629,
          0.6635339816587107,
          0.6664329391545624,
          0.6693256182879223,
          0.6722119099380344,
          0.675091705225098,
          0.6779648955143753,
          0.6808313724202893,
          0.6836910278105124,
          0.6865437538100456,
          0.689389442805288,
          0.6922279874480959,
          0.6950592806598326,
          0.6978832156354079,
          0.7006996858473067,
          0.7035085850496078,
          0.7063098072819918,
          0.709103246873738,
          0.7118887984477116,
          0.7146663569243369,
          0.7174358175255634,
          0.720197075778817,
          0.7229500275209416,
          0.725694568902128,
          0.7284305963898314,
          0.7311580067726783,
          0.7338766971643578,
          0.7365865650075044,
          0.7392875080775664,
          0.7419794244866618,
          0.7446622126874216,
          0.7473357714768221,
          0.7499999999999999,
          0.7526547977540592,
          0.7553000645918609,
          0.7579357007258021,
          0.7605616067315792,
          0.7631776835519389,
          0.7657838325004158,
          0.7683799552650534,
          0.7709659539121142,
          0.7735417308897734,
          0.7761071890317994,
          0.7786622315612182,
          0.781206762093965,
          0.7837406846425203,
          0.7862639036195297,
          0.7887763238414108,
          0.7912778505319435,
          0.7937683893258454,
          0.7962478462723304,
          0.7987161278386553,
          0.8011731409136453,
          0.8036187928112085,
          0.8060529912738315,
          0.808475644476059,
          0.8108866610279595,
          0.8132859499785707,
          0.8156734208193327,
          0.8180489834874998,
          0.8204125483695401,
          0.8227640263045148,
          0.8251033285874421,
          0.8274303669726424,
          0.8297450536770694,
          0.8320473013836196,
          0.834337023244426,
          0.8366141328841364,
          0.8388785444031694,
          0.8411301723809563,
          0.8433689318791624,
          0.8455947384448923,
          0.8478075081138745,
          0.8500071574136294,
          0.8521936033666186,
          0.8543667634933741,
          0.8565265558156103,
          0.8586728988593157,
          0.8608057116578284,
          0.8629249137548873,
          0.8650304252076702,
          0.8671221665898072,
          0.8692000589943786,
          0.8712640240368896,
          0.8733139838582298,
          0.8753498611276077,
          0.8773715790454695,
          0.8793790613463954,
          0.8813722323019773,
          0.8833510167236747,
          0.8853153399656513,
          0.8872651279275916,
          0.8892003070574949,
          0.8911208043544511,
          0.8930265473713936,
          0.8949174642178332,
          0.8967934835625686,
          0.898654534636379,
          0.9005005472346923,
          0.902331451720234,
          0.9041471790256541,
          0.9059476606561327,
          0.9077328286919638,
          0.9095026157911165,
          0.9112569551917773,
          0.9129957807148665,
          0.9147190267665359,
          0.9164266283406433,
          0.9181185210212033,
          0.9197946409848194,
          0.9214549250030899,
          0.9230993104449938,
          0.9247277352792532,
          0.9263401380766737,
          0.9279364580124613,
          0.9295166348685169,
          0.931080609035708,
          0.9326283215161177,
          0.9341597139252698,
          0.935674728494331,
          0.937173308072291,
          0.9386553961281179,
          0.9401209367528907,
          0.9415698746619078,
          0.9430021551967743,
          0.9444177243274616,
          0.9458165286543475,
          0.9471985154102291,
          0.9485636324623146,
          0.9499118283141887,
          0.9512430521077563,
          0.9525572536251606,
          0.9538543832906772,
          0.9551343921725842,
          0.9563972319850091,
          0.957642855089749,
          0.958871214498068,
          0.9600822638724704,
          0.9612759575284481,
          0.9624522504362039,
          0.9636110982223505,
          0.9647524571715842,
          0.9658762842283343,
          0.9669825369983864,
          0.968071173750483,
          0.9691421534178966,
          0.970195435599979,
          0.9712309805636863,
          0.9722487492450764,
          0.9732487032507835,
          0.9742308048594664,
          0.9751950170232309,
          0.9761413033690276,
          0.9770696282000244,
          0.9779799564969529,
          0.978872253919429,
          0.9797464868072486,
          0.9806026221816581,
          0.9814406277465968,
          0.982260471889917,
          0.9830621236845754,
          0.9838455528897998,
          0.9846107299522304,
          0.9853576260070347,
          0.9860862128789953,
          0.9867964630835742,
          0.9874883498279483,
          0.9881618470120215,
          0.9888169292294076,
          0.9894535717683901,
          0.990071750612854,
          0.9906714424431913,
          0.9912526246371813,
          0.9918152752708437,
          0.9923593731192655,
          0.9928848976574018,
          0.9933918290608507,
          0.9938801482065998,
          0.9943498366737487,
          0.9948008767442034,
          0.9952332514033447,
          0.9956469443406706,
          0.9960419399504106,
          0.9964182233321149,
          0.9967757802912172,
          0.9971145973395684,
          0.9974346616959475,
          0.9977359612865423,
          0.9980184847454051,
          0.998282221414882,
          0.9985271613460143,
          0.9987532952989144,
          0.9989606147431138,
          0.9991491118578855,
          0.999318779532538,
          0.999469611366685,
          0.9996016016704854,
          0.999714745464859,
          0.9998090384816739,
          0.9998844771639073,
          0.99994105866578,
          0.9999787808528637,
          0.9999976423021616,
          0.9999976423021616,
          0.9999787808528637,
          0.99994105866578,
          0.9998844771639073,
          0.9998090384816739,
          0.999714745464859,
          0.9996016016704854,
          0.999469611366685,
          0.999318779532538,
          0.9991491118578855,
          0.9989606147431139,
          0.9987532952989144,
          0.9985271613460144,
          0.998282221414882,
          0.9980184847454051,
          0.9977359612865423,
          0.9974346616959475,
          0.9971145973395684,
          0.996775780291217,
          0.9964182233321149,
          0.9960419399504106,
          0.9956469443406706,
          0.9952332514033448,
          0.9948008767442034,
          0.9943498366737487,
          0.9938801482065998,
          0.9933918290608508,
          0.9928848976574018,
          0.9923593731192655,
          0.9918152752708437,
          0.9912526246371813,
          0.9906714424431913,
          0.990071750612854,
          0.9894535717683901,
          0.9888169292294076,
          0.9881618470120215,
          0.9874883498279484,
          0.9867964630835742,
          0.9860862128789953,
          0.9853576260070347,
          0.9846107299522304,
          0.9838455528897998,
          0.9830621236845754,
          0.982260471889917,
          0.9814406277465968,
          0.9806026221816581,
          0.9797464868072487,
          0.978872253919429,
          0.9779799564969529,
          0.9770696282000244,
          0.9761413033690276,
          0.9751950170232309,
          0.9742308048594666,
          0.9732487032507837,
          0.9722487492450764,
          0.9712309805636864,
          0.9701954355999791,
          0.9691421534178966,
          0.968071173750483,
          0.9669825369983864,
          0.9658762842283342,
          0.9647524571715842,
          0.9636110982223505,
          0.962452250436204,
          0.9612759575284482,
          0.9600822638724705,
          0.9588712144980681,
          0.9576428550897489,
          0.9563972319850091,
          0.9551343921725843,
          0.9538543832906772,
          0.9525572536251605,
          0.9512430521077564,
          0.9499118283141887,
          0.9485636324623146,
          0.9471985154102293,
          0.9458165286543476,
          0.9444177243274617,
          0.9430021551967742,
          0.9415698746619079,
          0.9401209367528907,
          0.938655396128118,
          0.937173308072291,
          0.9356747284943311,
          0.9341597139252698,
          0.932628321516118,
          0.9310806090357082,
          0.9295166348685169,
          0.9279364580124614,
          0.9263401380766738,
          0.9247277352792533,
          0.9230993104449937,
          0.92145492500309,
          0.9197946409848194,
          0.9181185210212034,
          0.9164266283406433,
          0.9147190267665362,
          0.9129957807148665,
          0.9112569551917774,
          0.9095026157911167,
          0.9077328286919637,
          0.9059476606561327,
          0.9041471790256541,
          0.9023314517202341,
          0.9005005472346923,
          0.8986545346363792,
          0.8967934835625688,
          0.8949174642178331,
          0.8930265473713939,
          0.8911208043544512,
          0.889200307057495,
          0.8872651279275915,
          0.8853153399656514,
          0.8833510167236746,
          0.8813722323019773,
          0.8793790613463955,
          0.8773715790454696,
          0.8753498611276078,
          0.8733139838582299,
          0.8712640240368899,
          0.8692000589943785,
          0.8671221665898073,
          0.8650304252076703,
          0.8629249137548874,
          0.8608057116578283,
          0.858672898859316,
          0.8565265558156102,
          0.8543667634933743,
          0.8521936033666189,
          0.8500071574136296,
          0.8478075081138745,
          0.8455947384448925,
          0.8433689318791626,
          0.8411301723809563,
          0.8388785444031696,
          0.8366141328841366,
          0.8343370232444263,
          0.8320473013836196,
          0.8297450536770699,
          0.8274303669726426,
          0.8251033285874423,
          0.822764026304515,
          0.8204125483695403,
          0.8180489834875,
          0.8156734208193328,
          0.8132859499785706,
          0.8108866610279597,
          0.8084756444760592,
          0.8060529912738317,
          0.8036187928112086,
          0.8011731409136456,
          0.7987161278386554,
          0.7962478462723304,
          0.7937683893258455,
          0.7912778505319438,
          0.7887763238414112,
          0.7862639036195296,
          0.7837406846425203,
          0.7812067620939651,
          0.7786622315612183,
          0.7761071890317996,
          0.7735417308897737,
          0.7709659539121145,
          0.7683799552650534,
          0.7657838325004158,
          0.763177683551939,
          0.7605616067315796,
          0.7579357007258022,
          0.755300064591861,
          0.7526547977540594,
          0.7500000000000002,
          0.747335771476822,
          0.7446622126874217,
          0.7419794244866621,
          0.7392875080775665,
          0.7365865650075045,
          0.7338766971643579,
          0.7311580067726784,
          0.7284305963898313,
          0.7256945689021281,
          0.722950027520942,
          0.7201970757788175,
          0.7174358175255635,
          0.714666356924337,
          0.7118887984477117,
          0.7091032468737379,
          0.706309807281992,
          0.7035085850496081,
          0.700699685847307,
          0.6978832156354079,
          0.6950592806598326,
          0.6922279874480959,
          0.6893894428052881,
          0.6865437538100458,
          0.6836910278105126,
          0.6808313724202896,
          0.6779648955143752,
          0.675091705225098,
          0.6722119099380344,
          0.6693256182879228,
          0.6664329391545625,
          0.6635339816587109,
          0.6606288551579631,
          0.6577176692426275,
          0.6548005337315942,
          0.6518775586681885,
          0.6489488543160228,
          0.646014531154834,
          0.6430746998763205,
          0.6401294713799619,
          0.6371789567688381,
          0.6342232673454369,
          0.6312625146074577,
          0.6282968102436013,
          0.6253262661293602,
          0.6223509943227981,
          0.6193711070603203,
          0.6163867167524419,
          0.6133979359795464,
          0.6104048774876407,
          0.607407654184098,
          0.6044063791334024,
          0.601401165552882,
          0.5983921268084391,
          0.5953793764102722,
          0.5923630280085943,
          0.5893431953893483,
          0.5863199924699097,
          0.5832935332947938,
          0.5802639320313512,
          0.5772313029654628,
          0.5741957604972264,
          0.5711574191366431,
          0.568116393499295,
          0.5650727983020263,
          0.5620267483586107,
          0.5589783585754229,
          0.5559277439471045,
          0.5528750195522243,
          0.5498203005489383,
          0.5467637021706437,
          0.5437053397216365,
          0.5406453285727565,
          0.5375837841570384,
          0.5345208219653559,
          0.5314565575420669,
          0.5283911064806526,
          0.5253245844193564,
          0.5222571070368258,
          0.5191887900477444,
          0.5161197491984686,
          0.5130501002626605,
          0.5099799590369232,
          0.5069094413364275,
          0.5038386629905477,
          0.50076773983849,
          0.4976967877249241,
          0.494625922495611,
          0.4915552599930341,
          0.48848491605203126,
          0.4854150064954203,
          0.4823456471296347,
          0.4792769537403521,
          0.4762090420881288,
          0.4731420279040302,
          0.4700760268852674,
          0.46701115469083,
          0.4639475269371274,
          0.4608852591936232,
          0.4578244669784774,
          0.4547652657541895,
          0.451707770923241,
          0.44865209782374343,
          0.4455983617250856,
          0.44254667782358925,
          0.43949716123815913,
          0.43644992700594254,
          0.433405090077989,
          0.4303627653149158,
          0.42732306748257254,
          0.42428611124771165,
          0.4212520111736669,
          0.41822088171602684,
          0.4151928372183199,
          0.4121679919076997,
          0.4091464598906386,
          0.4061283551486186,
          0.4031137915338362,
          0.4001028827649047,
          0.3970957424225666,
          0.3940924839454068,
          0.39109322062557395,
          0.3880980656045089,
          0.38510713186867235,
          0.3821205322452867,
          0.37913837939807754,
          0.3761607858230257,
          0.3731878638441208,
          0.37021972560912647,
          0.3672564830853471,
          0.3642982480554082,
          0.36134513211303576,
          0.35839724665884787,
          0.35545470289615366,
          0.3525176118267561,
          0.34958608424676685,
          0.3466602307424236,
          0.34374016168592303,
          0.3408259872312532,
          0.33791781731003984,
          0.3350157616273989,
          0.3321199296577996,
          0.32923043064093294,
          0.32634737357758986,
          0.32347086722555385,
          0.3206010200954935,
          0.31773794044687165,
          0.31488173628386035,
          0.3120325153512689,
          0.30919038513047525,
          0.30635545283537513,
          0.303527825408337,
          0.30070760951616615,
          0.2978949115460824,
          0.295089837601706,
          0.29229249349905695,
          0.28950298476255976,
          0.286721416621066,
          0.2839478940038831,
          0.28118252153681766,
          0.27842540353822637,
          0.2756766440150823,
          0.2729363466590511,
          0.27020461484257957,
          0.26748155161499587,
          0.2647672596986221,
          0.2620618414849004,
          0.2593653990305288,
          0.2566780340536124,
          0.2539998479298246,
          0.2513309416885866,
          0.2486714160092522,
          0.2460213712173116,
          0.24338090728060796,
          0.24075012380556388,
          0.23812912003342596,
          0.2355179948365188,
          0.23291684671451907,
          0.23032577379073582,
          0.22774487380841119,
          0.22517424412703224,
          0.22261398171866004,
          0.22006418316426812,
          0.21752494465010247,
          0.21499636196405236,
          0.21247853049203547,
          0.20997154521440103,
          0.207475500702346,
          0.20499049111434947,
          0.20251661019261707,
          0.2000539512595484,
          0.1976026072142143,
          0.1951626705288545,
          0.19273423324538663,
          0.1903173869719359,
          0.18791222287938003,
          0.185518831697907,
          0.1831373037135957,
          0.18076772876500818,
          0.17841019623980203,
          0.17606479507135664,
          0.17373161373542007,
          0.17141074024676917,
          0.16910226215589308,
          0.1668062665456871,
          0.1645228400281688,
          0.16225206874121206,
          0.1599940383452954,
          0.15774883402027245,
          0.1555165404621568,
          0.15329724187992988,
          0.15109102199236157,
          0.14889796402485345,
          0.14671815070629857,
          0.1445516642659624,
          0.14239858643037773,
          0.14025899842026435,
          0.13813298094746496,
          0.13602061421189904,
          0.1339219778985385,
          0.1318371511744012,
          0.12976621268556587,
          0.12770924055420274,
          0.12566631237562909,
          0.12363750521538053,
          0.12162289560630524,
          0.11962255954567541,
          0.11763657249232085,
          0.11566500936378388,
          0.11370794453349042,
          0.11176545182794695,
          0.10983760452395408,
          0.1079244753458436,
          0.10602613646273362,
          0.10414265948580725,
          0.10227411546560966,
          0.10042057488937067,
          0.09858210767834297,
          0.0967587831851654,
          0.09495067019124781,
          0.09315783690417467,
          0.09138035095513353,
          0.08961827939636186,
          0.08787168869862072,
          0.08614064474868421,
          0.08442521284685578,
          0.08272545770450379,
          0.08104144344162245,
          0.07937323358440962,
          0.07772089106287344,
          0.0760844782084577,
          0.07446405675168943,
          0.07285968781985108,
          0.07127143193467433,
          0.06969934901005825,
          0.06814349834980632,
          0.06660393864539238,
          0.06508072797374453,
          0.063573923795056,
          0.06208358295061578,
          0.060609761660665284,
          0.059152515522278404,
          0.05771189950726202,
          0.05628796796008445,
          0.05488077459582419,
          0.05349037249814442,
          0.052116814117289745,
          0.05076015126810807,
          0.0494204351280953,
          0.04809771623546638,
          0.04679204448724711,
          0.045503469137392505,
          0.04423203879492932,
          0.04297780142212154,
          0.041740804332661585,
          0.0405210941898847,
          0.039318717005010495,
          0.03813371813540528,
          0.03696614228287198,
          0.03581603349196366,
          0.03468343514832262,
          0.03356838997704237,
          0.03247094004105716,
          0.03139112673955513,
          0.030328990806415934,
          0.029284572308674595,
          0.02825791064500982,
          0.02724904454425847,
          0.02625801206395323,
          0.025284850588888075,
          0.02432959682970809,
          0.023392286821523778,
          0.022472955922552162,
          0.02157163881278301,
          0.02068836949267089,
          0.019823181281851565,
          0.01897610681788625,
          0.018147178055029523,
          0.01733642626302484,
          0.01654388202592383,
          0.01576957524093342,
          0.015013535117287646,
          0.014275790175145908,
          0.013556368244517114,
          0.012855296464209631,
          0.012172601280808104,
          0.011508308447674975,
          0.010862443023979707,
          0.010235029373752758,
          0.009626091164967598,
          0.009035651368646702,
          0.008463732257995571,
          0.007910355407562741,
          0.007375541692425325,
          0.006859311287402137,
          0.006361683666291973,
          0.0058826776011399184,
          0.005422311161528248,
          0.004980601713895361,
          0.004557565920880524,
          0.004153219740695491,
          0.0037675784265219225,
          0.003400656525936685,
          0.003052467880362675,
          0.0027230256245468487,
          0.0024123421860645644,
          0.0021204292848509554,
          0.0018472979327587291,
          0.0015929584331427216,
          0.0013574203804713747,
          0.0011406926599646372,
          0.0009427834472588992,
          0.0007637002080985167,
          0.0006034496980542037,
          0.0004620379622682358,
          0.00033947033522635506,
          0.00023575144055643094,
          0.00015088519085437735,
          0.00008487478753615996,
          0.00003772272071722593,
          0.00000943076911874563,
          0
         ],
         "yaxis": "y"
        }
       ],
       "layout": {
        "legend": {
         "title": {
          "text": "variable"
         },
         "tracegroupgap": 0
        },
        "margin": {
         "t": 60
        },
        "template": {
         "data": {
          "bar": [
           {
            "error_x": {
             "color": "#2a3f5f"
            },
            "error_y": {
             "color": "#2a3f5f"
            },
            "marker": {
             "line": {
              "color": "#E5ECF6",
              "width": 0.5
             }
            },
            "type": "bar"
           }
          ],
          "barpolar": [
           {
            "marker": {
             "line": {
              "color": "#E5ECF6",
              "width": 0.5
             }
            },
            "type": "barpolar"
           }
          ],
          "carpet": [
           {
            "aaxis": {
             "endlinecolor": "#2a3f5f",
             "gridcolor": "white",
             "linecolor": "white",
             "minorgridcolor": "white",
             "startlinecolor": "#2a3f5f"
            },
            "baxis": {
             "endlinecolor": "#2a3f5f",
             "gridcolor": "white",
             "linecolor": "white",
             "minorgridcolor": "white",
             "startlinecolor": "#2a3f5f"
            },
            "type": "carpet"
           }
          ],
          "choropleth": [
           {
            "colorbar": {
             "outlinewidth": 0,
             "ticks": ""
            },
            "type": "choropleth"
           }
          ],
          "contour": [
           {
            "colorbar": {
             "outlinewidth": 0,
             "ticks": ""
            },
            "colorscale": [
             [
              0,
              "#0d0887"
             ],
             [
              0.1111111111111111,
              "#46039f"
             ],
             [
              0.2222222222222222,
              "#7201a8"
             ],
             [
              0.3333333333333333,
              "#9c179e"
             ],
             [
              0.4444444444444444,
              "#bd3786"
             ],
             [
              0.5555555555555556,
              "#d8576b"
             ],
             [
              0.6666666666666666,
              "#ed7953"
             ],
             [
              0.7777777777777778,
              "#fb9f3a"
             ],
             [
              0.8888888888888888,
              "#fdca26"
             ],
             [
              1,
              "#f0f921"
             ]
            ],
            "type": "contour"
           }
          ],
          "contourcarpet": [
           {
            "colorbar": {
             "outlinewidth": 0,
             "ticks": ""
            },
            "type": "contourcarpet"
           }
          ],
          "heatmap": [
           {
            "colorbar": {
             "outlinewidth": 0,
             "ticks": ""
            },
            "colorscale": [
             [
              0,
              "#0d0887"
             ],
             [
              0.1111111111111111,
              "#46039f"
             ],
             [
              0.2222222222222222,
              "#7201a8"
             ],
             [
              0.3333333333333333,
              "#9c179e"
             ],
             [
              0.4444444444444444,
              "#bd3786"
             ],
             [
              0.5555555555555556,
              "#d8576b"
             ],
             [
              0.6666666666666666,
              "#ed7953"
             ],
             [
              0.7777777777777778,
              "#fb9f3a"
             ],
             [
              0.8888888888888888,
              "#fdca26"
             ],
             [
              1,
              "#f0f921"
             ]
            ],
            "type": "heatmap"
           }
          ],
          "heatmapgl": [
           {
            "colorbar": {
             "outlinewidth": 0,
             "ticks": ""
            },
            "colorscale": [
             [
              0,
              "#0d0887"
             ],
             [
              0.1111111111111111,
              "#46039f"
             ],
             [
              0.2222222222222222,
              "#7201a8"
             ],
             [
              0.3333333333333333,
              "#9c179e"
             ],
             [
              0.4444444444444444,
              "#bd3786"
             ],
             [
              0.5555555555555556,
              "#d8576b"
             ],
             [
              0.6666666666666666,
              "#ed7953"
             ],
             [
              0.7777777777777778,
              "#fb9f3a"
             ],
             [
              0.8888888888888888,
              "#fdca26"
             ],
             [
              1,
              "#f0f921"
             ]
            ],
            "type": "heatmapgl"
           }
          ],
          "histogram": [
           {
            "marker": {
             "colorbar": {
              "outlinewidth": 0,
              "ticks": ""
             }
            },
            "type": "histogram"
           }
          ],
          "histogram2d": [
           {
            "colorbar": {
             "outlinewidth": 0,
             "ticks": ""
            },
            "colorscale": [
             [
              0,
              "#0d0887"
             ],
             [
              0.1111111111111111,
              "#46039f"
             ],
             [
              0.2222222222222222,
              "#7201a8"
             ],
             [
              0.3333333333333333,
              "#9c179e"
             ],
             [
              0.4444444444444444,
              "#bd3786"
             ],
             [
              0.5555555555555556,
              "#d8576b"
             ],
             [
              0.6666666666666666,
              "#ed7953"
             ],
             [
              0.7777777777777778,
              "#fb9f3a"
             ],
             [
              0.8888888888888888,
              "#fdca26"
             ],
             [
              1,
              "#f0f921"
             ]
            ],
            "type": "histogram2d"
           }
          ],
          "histogram2dcontour": [
           {
            "colorbar": {
             "outlinewidth": 0,
             "ticks": ""
            },
            "colorscale": [
             [
              0,
              "#0d0887"
             ],
             [
              0.1111111111111111,
              "#46039f"
             ],
             [
              0.2222222222222222,
              "#7201a8"
             ],
             [
              0.3333333333333333,
              "#9c179e"
             ],
             [
              0.4444444444444444,
              "#bd3786"
             ],
             [
              0.5555555555555556,
              "#d8576b"
             ],
             [
              0.6666666666666666,
              "#ed7953"
             ],
             [
              0.7777777777777778,
              "#fb9f3a"
             ],
             [
              0.8888888888888888,
              "#fdca26"
             ],
             [
              1,
              "#f0f921"
             ]
            ],
            "type": "histogram2dcontour"
           }
          ],
          "mesh3d": [
           {
            "colorbar": {
             "outlinewidth": 0,
             "ticks": ""
            },
            "type": "mesh3d"
           }
          ],
          "parcoords": [
           {
            "line": {
             "colorbar": {
              "outlinewidth": 0,
              "ticks": ""
             }
            },
            "type": "parcoords"
           }
          ],
          "pie": [
           {
            "automargin": true,
            "type": "pie"
           }
          ],
          "scatter": [
           {
            "marker": {
             "colorbar": {
              "outlinewidth": 0,
              "ticks": ""
             }
            },
            "type": "scatter"
           }
          ],
          "scatter3d": [
           {
            "line": {
             "colorbar": {
              "outlinewidth": 0,
              "ticks": ""
             }
            },
            "marker": {
             "colorbar": {
              "outlinewidth": 0,
              "ticks": ""
             }
            },
            "type": "scatter3d"
           }
          ],
          "scattercarpet": [
           {
            "marker": {
             "colorbar": {
              "outlinewidth": 0,
              "ticks": ""
             }
            },
            "type": "scattercarpet"
           }
          ],
          "scattergeo": [
           {
            "marker": {
             "colorbar": {
              "outlinewidth": 0,
              "ticks": ""
             }
            },
            "type": "scattergeo"
           }
          ],
          "scattergl": [
           {
            "marker": {
             "colorbar": {
              "outlinewidth": 0,
              "ticks": ""
             }
            },
            "type": "scattergl"
           }
          ],
          "scattermapbox": [
           {
            "marker": {
             "colorbar": {
              "outlinewidth": 0,
              "ticks": ""
             }
            },
            "type": "scattermapbox"
           }
          ],
          "scatterpolar": [
           {
            "marker": {
             "colorbar": {
              "outlinewidth": 0,
              "ticks": ""
             }
            },
            "type": "scatterpolar"
           }
          ],
          "scatterpolargl": [
           {
            "marker": {
             "colorbar": {
              "outlinewidth": 0,
              "ticks": ""
             }
            },
            "type": "scatterpolargl"
           }
          ],
          "scatterternary": [
           {
            "marker": {
             "colorbar": {
              "outlinewidth": 0,
              "ticks": ""
             }
            },
            "type": "scatterternary"
           }
          ],
          "surface": [
           {
            "colorbar": {
             "outlinewidth": 0,
             "ticks": ""
            },
            "colorscale": [
             [
              0,
              "#0d0887"
             ],
             [
              0.1111111111111111,
              "#46039f"
             ],
             [
              0.2222222222222222,
              "#7201a8"
             ],
             [
              0.3333333333333333,
              "#9c179e"
             ],
             [
              0.4444444444444444,
              "#bd3786"
             ],
             [
              0.5555555555555556,
              "#d8576b"
             ],
             [
              0.6666666666666666,
              "#ed7953"
             ],
             [
              0.7777777777777778,
              "#fb9f3a"
             ],
             [
              0.8888888888888888,
              "#fdca26"
             ],
             [
              1,
              "#f0f921"
             ]
            ],
            "type": "surface"
           }
          ],
          "table": [
           {
            "cells": {
             "fill": {
              "color": "#EBF0F8"
             },
             "line": {
              "color": "white"
             }
            },
            "header": {
             "fill": {
              "color": "#C8D4E3"
             },
             "line": {
              "color": "white"
             }
            },
            "type": "table"
           }
          ]
         },
         "layout": {
          "annotationdefaults": {
           "arrowcolor": "#2a3f5f",
           "arrowhead": 0,
           "arrowwidth": 1
          },
          "autotypenumbers": "strict",
          "coloraxis": {
           "colorbar": {
            "outlinewidth": 0,
            "ticks": ""
           }
          },
          "colorscale": {
           "diverging": [
            [
             0,
             "#8e0152"
            ],
            [
             0.1,
             "#c51b7d"
            ],
            [
             0.2,
             "#de77ae"
            ],
            [
             0.3,
             "#f1b6da"
            ],
            [
             0.4,
             "#fde0ef"
            ],
            [
             0.5,
             "#f7f7f7"
            ],
            [
             0.6,
             "#e6f5d0"
            ],
            [
             0.7,
             "#b8e186"
            ],
            [
             0.8,
             "#7fbc41"
            ],
            [
             0.9,
             "#4d9221"
            ],
            [
             1,
             "#276419"
            ]
           ],
           "sequential": [
            [
             0,
             "#0d0887"
            ],
            [
             0.1111111111111111,
             "#46039f"
            ],
            [
             0.2222222222222222,
             "#7201a8"
            ],
            [
             0.3333333333333333,
             "#9c179e"
            ],
            [
             0.4444444444444444,
             "#bd3786"
            ],
            [
             0.5555555555555556,
             "#d8576b"
            ],
            [
             0.6666666666666666,
             "#ed7953"
            ],
            [
             0.7777777777777778,
             "#fb9f3a"
            ],
            [
             0.8888888888888888,
             "#fdca26"
            ],
            [
             1,
             "#f0f921"
            ]
           ],
           "sequentialminus": [
            [
             0,
             "#0d0887"
            ],
            [
             0.1111111111111111,
             "#46039f"
            ],
            [
             0.2222222222222222,
             "#7201a8"
            ],
            [
             0.3333333333333333,
             "#9c179e"
            ],
            [
             0.4444444444444444,
             "#bd3786"
            ],
            [
             0.5555555555555556,
             "#d8576b"
            ],
            [
             0.6666666666666666,
             "#ed7953"
            ],
            [
             0.7777777777777778,
             "#fb9f3a"
            ],
            [
             0.8888888888888888,
             "#fdca26"
            ],
            [
             1,
             "#f0f921"
            ]
           ]
          },
          "colorway": [
           "#636efa",
           "#EF553B",
           "#00cc96",
           "#ab63fa",
           "#FFA15A",
           "#19d3f3",
           "#FF6692",
           "#B6E880",
           "#FF97FF",
           "#FECB52"
          ],
          "font": {
           "color": "#2a3f5f"
          },
          "geo": {
           "bgcolor": "white",
           "lakecolor": "white",
           "landcolor": "#E5ECF6",
           "showlakes": true,
           "showland": true,
           "subunitcolor": "white"
          },
          "hoverlabel": {
           "align": "left"
          },
          "hovermode": "closest",
          "mapbox": {
           "style": "light"
          },
          "paper_bgcolor": "white",
          "plot_bgcolor": "#E5ECF6",
          "polar": {
           "angularaxis": {
            "gridcolor": "white",
            "linecolor": "white",
            "ticks": ""
           },
           "bgcolor": "#E5ECF6",
           "radialaxis": {
            "gridcolor": "white",
            "linecolor": "white",
            "ticks": ""
           }
          },
          "scene": {
           "xaxis": {
            "backgroundcolor": "#E5ECF6",
            "gridcolor": "white",
            "gridwidth": 2,
            "linecolor": "white",
            "showbackground": true,
            "ticks": "",
            "zerolinecolor": "white"
           },
           "yaxis": {
            "backgroundcolor": "#E5ECF6",
            "gridcolor": "white",
            "gridwidth": 2,
            "linecolor": "white",
            "showbackground": true,
            "ticks": "",
            "zerolinecolor": "white"
           },
           "zaxis": {
            "backgroundcolor": "#E5ECF6",
            "gridcolor": "white",
            "gridwidth": 2,
            "linecolor": "white",
            "showbackground": true,
            "ticks": "",
            "zerolinecolor": "white"
           }
          },
          "shapedefaults": {
           "line": {
            "color": "#2a3f5f"
           }
          },
          "ternary": {
           "aaxis": {
            "gridcolor": "white",
            "linecolor": "white",
            "ticks": ""
           },
           "baxis": {
            "gridcolor": "white",
            "linecolor": "white",
            "ticks": ""
           },
           "bgcolor": "#E5ECF6",
           "caxis": {
            "gridcolor": "white",
            "linecolor": "white",
            "ticks": ""
           }
          },
          "title": {
           "x": 0.05
          },
          "xaxis": {
           "automargin": true,
           "gridcolor": "white",
           "linecolor": "white",
           "ticks": "",
           "title": {
            "standoff": 15
           },
           "zerolinecolor": "white",
           "zerolinewidth": 2
          },
          "yaxis": {
           "automargin": true,
           "gridcolor": "white",
           "linecolor": "white",
           "ticks": "",
           "title": {
            "standoff": 15
           },
           "zerolinecolor": "white",
           "zerolinewidth": 2
          }
         }
        },
        "xaxis": {
         "anchor": "y",
         "domain": [
          0,
          1
         ],
         "title": {
          "text": "index"
         }
        },
        "yaxis": {
         "anchor": "x",
         "domain": [
          0,
          1
         ],
         "title": {
          "text": "value"
         }
        }
       }
      }
     },
     "metadata": {},
     "output_type": "display_data"
    }
   ],
   "source": [
    "window = np.hanning(xb[0].shape[0])\n",
    "import plotly.express as px\n",
    "px.line(window)"
   ]
  },
  {
   "cell_type": "code",
   "execution_count": 39,
   "metadata": {},
   "outputs": [],
   "source": [
    "def plot_spectrogram(spectrogram, fs, hopSize):\n",
    "    \n",
    "    t = hopSize*np.arange(spectrogram.shape[0])/fs\n",
    "    f = np.arange(0,fs/2, fs/2/spectrogram.shape[1])\n",
    "\n",
    "    plt.figure(figsize = (15, 7))\n",
    "    plt.xlabel('Time (s)')\n",
    "    plt.ylabel('Freq (Hz)')\n",
    "    plt.pcolormesh(t, f, spectrogram.T)\n",
    "    plt.show()"
   ]
  },
  {
   "cell_type": "code",
   "execution_count": 79,
   "metadata": {},
   "outputs": [
    {
     "data": {
      "text/plain": [
       "[<matplotlib.lines.Line2D at 0x168116c10>]"
      ]
     },
     "execution_count": 79,
     "metadata": {},
     "output_type": "execute_result"
    },
    {
     "data": {
      "image/png": "[encoded data removed]",
      "text/plain": [
       "<Figure size 432x288 with 1 Axes>"
      ]
     },
     "metadata": {
      "needs_background": "light"
     },
     "output_type": "display_data"
    }
   ],
   "source": [
    "stft,freqs = calc_stft(test_blocked,44100)\n",
    "plt.plot(freqs[0],stft[0])"
   ]
  },
  {
   "cell_type": "code",
   "execution_count": 80,
   "metadata": {},
   "outputs": [
    {
     "name": "stderr",
     "output_type": "stream",
     "text": [
      "<ipython-input-39-6c9bc9bb3e92>:9: MatplotlibDeprecationWarning:\n",
      "\n",
      "shading='flat' when X and Y have the same dimensions as C is deprecated since 3.3.  Either specify the corners of the quadrilaterals with X and Y, or pass shading='auto', 'nearest' or 'gouraud', or set rcParams['pcolor.shading'].  This will become an error two minor releases later.\n",
      "\n"
     ]
    },
    {
     "data": {
      "image/png": "[encoded data removed]",
      "text/plain": [
       "<Figure size 1080x504 with 1 Axes>"
      ]
     },
     "metadata": {
      "needs_background": "light"
     },
     "output_type": "display_data"
    }
   ],
   "source": [
    "plot_spectrogram(stft,44100,512)"
   ]
  },
  {
   "cell_type": "code",
   "execution_count": 81,
   "metadata": {},
   "outputs": [
    {
     "data": {
      "application/vnd.plotly.v1+json": {
       "config": {
        "plotlyServerURL": "https://plot.ly"
       },
       "data": [
        {
         "hovertemplate": "freqs=%{x}<br>stft=%{y}<extra></extra>",
         "legendgroup": "",
         "line": {
          "color": "#636efa",
          "dash": "solid"
         },
         "mode": "lines",
         "name": "",
         "showlegend": false,
         "type": "scattergl",
         "x": [
          0,
          21.533203125,
          43.06640625,
          64.599609375,
          86.1328125,
          107.666015625,
          129.19921875,
          150.732421875,
          172.265625,
          193.798828125,
          215.33203125,
          236.865234375,
          258.3984375,
          279.931640625,
          301.46484375,
          322.998046875,
          344.53125,
          366.064453125,
          387.59765625,
          409.130859375,
          430.6640625,
          452.197265625,
          473.73046875,
          495.263671875,
          516.796875,
          538.330078125,
          559.86328125,
          581.396484375,
          602.9296875,
          624.462890625,
          645.99609375,
          667.529296875,
          689.0625,
          710.595703125,
          732.12890625,
          753.662109375,
          775.1953125,
          796.728515625,
          818.26171875,
          839.794921875,
          861.328125,
          882.861328125,
          904.39453125,
          925.927734375,
          947.4609375,
          968.994140625,
          990.52734375,
          1012.060546875,
          1033.59375,
          1055.126953125,
          1076.66015625,
          1098.193359375,
          1119.7265625,
          1141.259765625,
          1162.79296875,
          1184.326171875,
          1205.859375,
          1227.392578125,
          1248.92578125,
          1270.458984375,
          1291.9921875,
          1313.525390625,
          1335.05859375,
          1356.591796875,
          1378.125,
          1399.658203125,
          1421.19140625,
          1442.724609375,
          1464.2578125,
          1485.791015625,
          1507.32421875,
          1528.857421875,
          1550.390625,
          1571.923828125,
          1593.45703125,
          1614.990234375,
          1636.5234375,
          1658.056640625,
          1679.58984375,
          1701.123046875,
          1722.65625,
          1744.189453125,
          1765.72265625,
          1787.255859375,
          1808.7890625,
          1830.322265625,
          1851.85546875,
          1873.388671875,
          1894.921875,
          1916.455078125,
          1937.98828125,
          1959.521484375,
          1981.0546875,
          2002.587890625,
          2024.12109375,
          2045.654296875,
          2067.1875,
          2088.720703125,
          2110.25390625,
          2131.787109375,
          2153.3203125,
          2174.853515625,
          2196.38671875,
          2217.919921875,
          2239.453125,
          2260.986328125,
          2282.51953125,
          2304.052734375,
          2325.5859375,
          2347.119140625,
          2368.65234375,
          2390.185546875,
          2411.71875,
          2433.251953125,
          2454.78515625,
          2476.318359375,
          2497.8515625,
          2519.384765625,
          2540.91796875,
          2562.451171875,
          2583.984375,
          2605.517578125,
          2627.05078125,
          2648.583984375,
          2670.1171875,
          2691.650390625,
          2713.18359375,
          2734.716796875,
          2756.25,
          2777.783203125,
          2799.31640625,
          2820.849609375,
          2842.3828125,
          2863.916015625,
          2885.44921875,
          2906.982421875,
          2928.515625,
          2950.048828125,
          2971.58203125,
          2993.115234375,
          3014.6484375,
          3036.181640625,
          3057.71484375,
          3079.248046875,
          3100.78125,
          3122.314453125,
          3143.84765625,
          3165.380859375,
          3186.9140625,
          3208.447265625,
          3229.98046875,
          3251.513671875,
          3273.046875,
          3294.580078125,
          3316.11328125,
          3337.646484375,
          3359.1796875,
          3380.712890625,
          3402.24609375,
          3423.779296875,
          3445.3125,
          3466.845703125,
          3488.37890625,
          3509.912109375,
          3531.4453125,
          3552.978515625,
          3574.51171875,
          3596.044921875,
          3617.578125,
          3639.111328125,
          3660.64453125,
          3682.177734375,
          3703.7109375,
          3725.244140625,
          3746.77734375,
          3768.310546875,
          3789.84375,
          3811.376953125,
          3832.91015625,
          3854.443359375,
          3875.9765625,
          3897.509765625,
          3919.04296875,
          3940.576171875,
          3962.109375,
          3983.642578125,
          4005.17578125,
          4026.708984375,
          4048.2421875,
          4069.775390625,
          4091.30859375,
          4112.841796875,
          4134.375,
          4155.908203125,
          4177.44140625,
          4198.974609375,
          4220.5078125,
          4242.041015625,
          4263.57421875,
          4285.107421875,
          4306.640625,
          4328.173828125,
          4349.70703125,
          4371.240234375,
          4392.7734375,
          4414.306640625,
          4435.83984375,
          4457.373046875,
          4478.90625,
          4500.439453125,
          4521.97265625,
          4543.505859375,
          4565.0390625,
          4586.572265625,
          4608.10546875,
          4629.638671875,
          4651.171875,
          4672.705078125,
          4694.23828125,
          4715.771484375,
          4737.3046875,
          4758.837890625,
          4780.37109375,
          4801.904296875,
          4823.4375,
          4844.970703125,
          4866.50390625,
          4888.037109375,
          4909.5703125,
          4931.103515625,
          4952.63671875,
          4974.169921875,
          4995.703125,
          5017.236328125,
          5038.76953125,
          5060.302734375,
          5081.8359375,
          5103.369140625,
          5124.90234375,
          5146.435546875,
          5167.96875,
          5189.501953125,
          5211.03515625,
          5232.568359375,
          5254.1015625,
          5275.634765625,
          5297.16796875,
          5318.701171875,
          5340.234375,
          5361.767578125,
          5383.30078125,
          5404.833984375,
          5426.3671875,
          5447.900390625,
          5469.43359375,
          5490.966796875,
          5512.5,
          5534.033203125,
          5555.56640625,
          5577.099609375,
          5598.6328125,
          5620.166015625,
          5641.69921875,
          5663.232421875,
          5684.765625,
          5706.298828125,
          5727.83203125,
          5749.365234375,
          5770.8984375,
          5792.431640625,
          5813.96484375,
          5835.498046875,
          5857.03125,
          5878.564453125,
          5900.09765625,
          5921.630859375,
          5943.1640625,
          5964.697265625,
          5986.23046875,
          6007.763671875,
          6029.296875,
          6050.830078125,
          6072.36328125,
          6093.896484375,
          6115.4296875,
          6136.962890625,
          6158.49609375,
          6180.029296875,
          6201.5625,
          6223.095703125,
          6244.62890625,
          6266.162109375,
          6287.6953125,
          6309.228515625,
          6330.76171875,
          6352.294921875,
          6373.828125,
          6395.361328125,
          6416.89453125,
          6438.427734375,
          6459.9609375,
          6481.494140625,
          6503.02734375,
          6524.560546875,
          6546.09375,
          6567.626953125,
          6589.16015625,
          6610.693359375,
          6632.2265625,
          6653.759765625,
          6675.29296875,
          6696.826171875,
          6718.359375,
          6739.892578125,
          6761.42578125,
          6782.958984375,
          6804.4921875,
          6826.025390625,
          6847.55859375,
          6869.091796875,
          6890.625,
          6912.158203125,
          6933.69140625,
          6955.224609375,
          6976.7578125,
          6998.291015625,
          7019.82421875,
          7041.357421875,
          7062.890625,
          7084.423828125,
          7105.95703125,
          7127.490234375,
          7149.0234375,
          7170.556640625,
          7192.08984375,
          7213.623046875,
          7235.15625,
          7256.689453125,
          7278.22265625,
          7299.755859375,
          7321.2890625,
          7342.822265625,
          7364.35546875,
          7385.888671875,
          7407.421875,
          7428.955078125,
          7450.48828125,
          7472.021484375,
          7493.5546875,
          7515.087890625,
          7536.62109375,
          7558.154296875,
          7579.6875,
          7601.220703125,
          7622.75390625,
          7644.287109375,
          7665.8203125,
          7687.353515625,
          7708.88671875,
          7730.419921875,
          7751.953125,
          7773.486328125,
          7795.01953125,
          7816.552734375,
          7838.0859375,
          7859.619140625,
          7881.15234375,
          7902.685546875,
          7924.21875,
          7945.751953125,
          7967.28515625,
          7988.818359375,
          8010.3515625,
          8031.884765625,
          8053.41796875,
          8074.951171875,
          8096.484375,
          8118.017578125,
          8139.55078125,
          8161.083984375,
          8182.6171875,
          8204.150390625,
          8225.68359375,
          8247.216796875,
          8268.75,
          8290.283203125,
          8311.81640625,
          8333.349609375,
          8354.8828125,
          8376.416015625,
          8397.94921875,
          8419.482421875,
          8441.015625,
          8462.548828125,
          8484.08203125,
          8505.615234375,
          8527.1484375,
          8548.681640625,
          8570.21484375,
          8591.748046875,
          8613.28125,
          8634.814453125,
          8656.34765625,
          8677.880859375,
          8699.4140625,
          8720.947265625,
          8742.48046875,
          8764.013671875,
          8785.546875,
          8807.080078125,
          8828.61328125,
          8850.146484375,
          8871.6796875,
          8893.212890625,
          8914.74609375,
          8936.279296875,
          8957.8125,
          8979.345703125,
          9000.87890625,
          9022.412109375,
          9043.9453125,
          9065.478515625,
          9087.01171875,
          9108.544921875,
          9130.078125,
          9151.611328125,
          9173.14453125,
          9194.677734375,
          9216.2109375,
          9237.744140625,
          9259.27734375,
          9280.810546875,
          9302.34375,
          9323.876953125,
          9345.41015625,
          9366.943359375,
          9388.4765625,
          9410.009765625,
          9431.54296875,
          9453.076171875,
          9474.609375,
          9496.142578125,
          9517.67578125,
          9539.208984375,
          9560.7421875,
          9582.275390625,
          9603.80859375,
          9625.341796875,
          9646.875,
          9668.408203125,
          9689.94140625,
          9711.474609375,
          9733.0078125,
          9754.541015625,
          9776.07421875,
          9797.607421875,
          9819.140625,
          9840.673828125,
          9862.20703125,
          9883.740234375,
          9905.2734375,
          9926.806640625,
          9948.33984375,
          9969.873046875,
          9991.40625,
          10012.939453125,
          10034.47265625,
          10056.005859375,
          10077.5390625,
          10099.072265625,
          10120.60546875,
          10142.138671875,
          10163.671875,
          10185.205078125,
          10206.73828125,
          10228.271484375,
          10249.8046875,
          10271.337890625,
          10292.87109375,
          10314.404296875,
          10335.9375,
          10357.470703125,
          10379.00390625,
          10400.537109375,
          10422.0703125,
          10443.603515625,
          10465.13671875,
          10486.669921875,
          10508.203125,
          10529.736328125,
          10551.26953125,
          10572.802734375,
          10594.3359375,
          10615.869140625,
          10637.40234375,
          10658.935546875,
          10680.46875,
          10702.001953125,
          10723.53515625,
          10745.068359375,
          10766.6015625,
          10788.134765625,
          10809.66796875,
          10831.201171875,
          10852.734375,
          10874.267578125,
          10895.80078125,
          10917.333984375,
          10938.8671875,
          10960.400390625,
          10981.93359375,
          11003.466796875,
          11025,
          11046.533203125,
          11068.06640625,
          11089.599609375,
          11111.1328125,
          11132.666015625,
          11154.19921875,
          11175.732421875,
          11197.265625,
          11218.798828125,
          11240.33203125,
          11261.865234375,
          11283.3984375,
          11304.931640625,
          11326.46484375,
          11347.998046875,
          11369.53125,
          11391.064453125,
          11412.59765625,
          11434.130859375,
          11455.6640625,
          11477.197265625,
          11498.73046875,
          11520.263671875,
          11541.796875,
          11563.330078125,
          11584.86328125,
          11606.396484375,
          11627.9296875,
          11649.462890625,
          11670.99609375,
          11692.529296875,
          11714.0625,
          11735.595703125,
          11757.12890625,
          11778.662109375,
          11800.1953125,
          11821.728515625,
          11843.26171875,
          11864.794921875,
          11886.328125,
          11907.861328125,
          11929.39453125,
          11950.927734375,
          11972.4609375,
          11993.994140625,
          12015.52734375,
          12037.060546875,
          12058.59375,
          12080.126953125,
          12101.66015625,
          12123.193359375,
          12144.7265625,
          12166.259765625,
          12187.79296875,
          12209.326171875,
          12230.859375,
          12252.392578125,
          12273.92578125,
          12295.458984375,
          12316.9921875,
          12338.525390625,
          12360.05859375,
          12381.591796875,
          12403.125,
          12424.658203125,
          12446.19140625,
          12467.724609375,
          12489.2578125,
          12510.791015625,
          12532.32421875,
          12553.857421875,
          12575.390625,
          12596.923828125,
          12618.45703125,
          12639.990234375,
          12661.5234375,
          12683.056640625,
          12704.58984375,
          12726.123046875,
          12747.65625,
          12769.189453125,
          12790.72265625,
          12812.255859375,
          12833.7890625,
          12855.322265625,
          12876.85546875,
          12898.388671875,
          12919.921875,
          12941.455078125,
          12962.98828125,
          12984.521484375,
          13006.0546875,
          13027.587890625,
          13049.12109375,
          13070.654296875,
          13092.1875,
          13113.720703125,
          13135.25390625,
          13156.787109375,
          13178.3203125,
          13199.853515625,
          13221.38671875,
          13242.919921875,
          13264.453125,
          13285.986328125,
          13307.51953125,
          13329.052734375,
          13350.5859375,
          13372.119140625,
          13393.65234375,
          13415.185546875,
          13436.71875,
          13458.251953125,
          13479.78515625,
          13501.318359375,
          13522.8515625,
          13544.384765625,
          13565.91796875,
          13587.451171875,
          13608.984375,
          13630.517578125,
          13652.05078125,
          13673.583984375,
          13695.1171875,
          13716.650390625,
          13738.18359375,
          13759.716796875,
          13781.25,
          13802.783203125,
          13824.31640625,
          13845.849609375,
          13867.3828125,
          13888.916015625,
          13910.44921875,
          13931.982421875,
          13953.515625,
          13975.048828125,
          13996.58203125,
          14018.115234375,
          14039.6484375,
          14061.181640625,
          14082.71484375,
          14104.248046875,
          14125.78125,
          14147.314453125,
          14168.84765625,
          14190.380859375,
          14211.9140625,
          14233.447265625,
          14254.98046875,
          14276.513671875,
          14298.046875,
          14319.580078125,
          14341.11328125,
          14362.646484375,
          14384.1796875,
          14405.712890625,
          14427.24609375,
          14448.779296875,
          14470.3125,
          14491.845703125,
          14513.37890625,
          14534.912109375,
          14556.4453125,
          14577.978515625,
          14599.51171875,
          14621.044921875,
          14642.578125,
          14664.111328125,
          14685.64453125,
          14707.177734375,
          14728.7109375,
          14750.244140625,
          14771.77734375,
          14793.310546875,
          14814.84375,
          14836.376953125,
          14857.91015625,
          14879.443359375,
          14900.9765625,
          14922.509765625,
          14944.04296875,
          14965.576171875,
          14987.109375,
          15008.642578125,
          15030.17578125,
          15051.708984375,
          15073.2421875,
          15094.775390625,
          15116.30859375,
          15137.841796875,
          15159.375,
          15180.908203125,
          15202.44140625,
          15223.974609375,
          15245.5078125,
          15267.041015625,
          15288.57421875,
          15310.107421875,
          15331.640625,
          15353.173828125,
          15374.70703125,
          15396.240234375,
          15417.7734375,
          15439.306640625,
          15460.83984375,
          15482.373046875,
          15503.90625,
          15525.439453125,
          15546.97265625,
          15568.505859375,
          15590.0390625,
          15611.572265625,
          15633.10546875,
          15654.638671875,
          15676.171875,
          15697.705078125,
          15719.23828125,
          15740.771484375,
          15762.3046875,
          15783.837890625,
          15805.37109375,
          15826.904296875,
          15848.4375,
          15869.970703125,
          15891.50390625,
          15913.037109375,
          15934.5703125,
          15956.103515625,
          15977.63671875,
          15999.169921875,
          16020.703125,
          16042.236328125,
          16063.76953125,
          16085.302734375,
          16106.8359375,
          16128.369140625,
          16149.90234375,
          16171.435546875,
          16192.96875,
          16214.501953125,
          16236.03515625,
          16257.568359375,
          16279.1015625,
          16300.634765625,
          16322.16796875,
          16343.701171875,
          16365.234375,
          16386.767578125,
          16408.30078125,
          16429.833984375,
          16451.3671875,
          16472.900390625,
          16494.43359375,
          16515.966796875,
          16537.5,
          16559.033203125,
          16580.56640625,
          16602.099609375,
          16623.6328125,
          16645.166015625,
          16666.69921875,
          16688.232421875,
          16709.765625,
          16731.298828125,
          16752.83203125,
          16774.365234375,
          16795.8984375,
          16817.431640625,
          16838.96484375,
          16860.498046875,
          16882.03125,
          16903.564453125,
          16925.09765625,
          16946.630859375,
          16968.1640625,
          16989.697265625,
          17011.23046875,
          17032.763671875,
          17054.296875,
          17075.830078125,
          17097.36328125,
          17118.896484375,
          17140.4296875,
          17161.962890625,
          17183.49609375,
          17205.029296875,
          17226.5625,
          17248.095703125,
          17269.62890625,
          17291.162109375,
          17312.6953125,
          17334.228515625,
          17355.76171875,
          17377.294921875,
          17398.828125,
          17420.361328125,
          17441.89453125,
          17463.427734375,
          17484.9609375,
          17506.494140625,
          17528.02734375,
          17549.560546875,
          17571.09375,
          17592.626953125,
          17614.16015625,
          17635.693359375,
          17657.2265625,
          17678.759765625,
          17700.29296875,
          17721.826171875,
          17743.359375,
          17764.892578125,
          17786.42578125,
          17807.958984375,
          17829.4921875,
          17851.025390625,
          17872.55859375,
          17894.091796875,
          17915.625,
          17937.158203125,
          17958.69140625,
          17980.224609375,
          18001.7578125,
          18023.291015625,
          18044.82421875,
          18066.357421875,
          18087.890625,
          18109.423828125,
          18130.95703125,
          18152.490234375,
          18174.0234375,
          18195.556640625,
          18217.08984375,
          18238.623046875,
          18260.15625,
          18281.689453125,
          18303.22265625,
          18324.755859375,
          18346.2890625,
          18367.822265625,
          18389.35546875,
          18410.888671875,
          18432.421875,
          18453.955078125,
          18475.48828125,
          18497.021484375,
          18518.5546875,
          18540.087890625,
          18561.62109375,
          18583.154296875,
          18604.6875,
          18626.220703125,
          18647.75390625,
          18669.287109375,
          18690.8203125,
          18712.353515625,
          18733.88671875,
          18755.419921875,
          18776.953125,
          18798.486328125,
          18820.01953125,
          18841.552734375,
          18863.0859375,
          18884.619140625,
          18906.15234375,
          18927.685546875,
          18949.21875,
          18970.751953125,
          18992.28515625,
          19013.818359375,
          19035.3515625,
          19056.884765625,
          19078.41796875,
          19099.951171875,
          19121.484375,
          19143.017578125,
          19164.55078125,
          19186.083984375,
          19207.6171875,
          19229.150390625,
          19250.68359375,
          19272.216796875,
          19293.75,
          19315.283203125,
          19336.81640625,
          19358.349609375,
          19379.8828125,
          19401.416015625,
          19422.94921875,
          19444.482421875,
          19466.015625,
          19487.548828125,
          19509.08203125,
          19530.615234375,
          19552.1484375,
          19573.681640625,
          19595.21484375,
          19616.748046875,
          19638.28125,
          19659.814453125,
          19681.34765625,
          19702.880859375,
          19724.4140625,
          19745.947265625,
          19767.48046875,
          19789.013671875,
          19810.546875,
          19832.080078125,
          19853.61328125,
          19875.146484375,
          19896.6796875,
          19918.212890625,
          19939.74609375,
          19961.279296875,
          19982.8125,
          20004.345703125,
          20025.87890625,
          20047.412109375,
          20068.9453125,
          20090.478515625,
          20112.01171875,
          20133.544921875,
          20155.078125,
          20176.611328125,
          20198.14453125,
          20219.677734375,
          20241.2109375,
          20262.744140625,
          20284.27734375,
          20305.810546875,
          20327.34375,
          20348.876953125,
          20370.41015625,
          20391.943359375,
          20413.4765625,
          20435.009765625,
          20456.54296875,
          20478.076171875,
          20499.609375,
          20521.142578125,
          20542.67578125,
          20564.208984375,
          20585.7421875,
          20607.275390625,
          20628.80859375,
          20650.341796875,
          20671.875,
          20693.408203125,
          20714.94140625,
          20736.474609375,
          20758.0078125,
          20779.541015625,
          20801.07421875,
          20822.607421875,
          20844.140625,
          20865.673828125,
          20887.20703125,
          20908.740234375,
          20930.2734375,
          20951.806640625,
          20973.33984375,
          20994.873046875,
          21016.40625,
          21037.939453125,
          21059.47265625,
          21081.005859375,
          21102.5390625,
          21124.072265625,
          21145.60546875,
          21167.138671875,
          21188.671875,
          21210.205078125,
          21231.73828125,
          21253.271484375,
          21274.8046875,
          21296.337890625,
          21317.87109375,
          21339.404296875,
          21360.9375,
          21382.470703125,
          21404.00390625,
          21425.537109375,
          21447.0703125,
          21468.603515625,
          21490.13671875,
          21511.669921875,
          21533.203125,
          21554.736328125,
          21576.26953125,
          21597.802734375,
          21619.3359375,
          21640.869140625,
          21662.40234375,
          21683.935546875,
          21705.46875,
          21727.001953125,
          21748.53515625,
          21770.068359375,
          21791.6015625,
          21813.134765625,
          21834.66796875,
          21856.201171875,
          21877.734375,
          21899.267578125,
          21920.80078125,
          21942.333984375,
          21963.8671875,
          21985.400390625,
          22006.93359375,
          22028.466796875
         ],
         "xaxis": "x",
         "y": [
          0.0030436987015222752,
          0.003052714630323021,
          0.003079883556407994,
          0.0031255722883610972,
          0.003190403590134866,
          0.0032752737474125476,
          0.003381378099624214,
          0.0035102455536986073,
          0.0036637835157799104,
          0.003844335246462351,
          0.00405475226564976,
          0.004298485368472299,
          0.004579698943083599,
          0.004903414774199353,
          0.0052756936273186325,
          0.005703865577977803,
          0.006196823901028666,
          0.0067654025224401755,
          0.007422864359329001,
          0.008185538226146106,
          0.009073656815209412,
          0.010112469739485448,
          0.011333737217623135,
          0.012777757048486946,
          0.014496148723317425,
          0.01655572808058478,
          0.019043977464753625,
          0.02207689020329056,
          0.025810414935718003,
          0.030457470909811754,
          0.03631378215805535,
          0.04379802828360167,
          0.053515900620385186,
          0.06636536206849356,
          0.08371553200159791,
          0.10772267759480746,
          0.14191405026270681,
          0.19232523259513506,
          0.26986067663811736,
          0.3955871450825098,
          0.6138130950033012,
          1.0287390706717836,
          1.926359311546684,
          4.296140181277736,
          13.2519963392282,
          103.72876328102106,
          451.04548473854135,
          416.3332931397164,
          71.7113738726443,
          11.27939509528218,
          3.859537909148136,
          1.7774539190007086,
          0.9647983065189503,
          0.5820516879260244,
          0.37812244237040055,
          0.25949851346136427,
          0.18579536622429768,
          0.13758714736165126,
          0.1047267302329887,
          0.08155622776930985,
          0.06474892314195971,
          0.052260664078460334,
          0.042787786277588974,
          0.03547197258507952,
          0.02973231434455901,
          0.0251660512351528,
          0.021487928748597663,
          0.018492054453688282,
          0.016027278360276377,
          0.01398093179898595,
          0.01226786217040795,
          0.010822899092319961,
          0.009595589355437563,
          0.008546459890358439,
          0.00764432730340218,
          0.006864335397929157,
          0.006186506311348522,
          0.00559465883543474,
          0.005075592441156578,
          0.00461846576375239,
          0.004214318922239622,
          0.003855703271798841,
          0.0035363921576730666,
          0.0032511532436655705,
          0.002995568086786189,
          0.00276588815751084,
          0.0025589192759310304,
          0.0023719282703202086,
          0.002202567181121313,
          0.002048811381243396,
          0.001908908800878082,
          0.0017813380641610976,
          0.001664773819985053,
          0.0015580578987825467,
          0.0014601752208060574,
          0.0013702335932955021,
          0.0012874467017377049,
          0.001211119738765421,
          0.0011406372210866276,
          0.001075452627317287,
          0.001015079546421073,
          0.0009590841144010319,
          0.0009070785039827404,
          0.0008587153345735489,
          0.0008136828316104985,
          0.0007717006473067628,
          0.0007325162261218116,
          0.0006959016451007604,
          0.0006616508579795383,
          0.0006295772862183941,
          0.0005995117072548747,
          0.0005713004022818336,
          0.000544803524752585,
          0.0005198936631708113,
          0.0004964545717240653,
          0.0004743800450162496,
          0.0004535729237076482,
          0.00043394420724236115,
          0.00041541226890878265,
          0.00039790214949929483,
          0.0003813449380147783,
          0.000365677203748245,
          0.00035084049922310453,
          0.0003367809091441669,
          0.0003234486464002234,
          0.0003107976874118571,
          0.0002987854473111773,
          0.0002873724810325543,
          0.00027652222041502707,
          0.00026620073085423674,
          0.0002563764929214307,
          0.0002470202060570832,
          0.00023810460672617562,
          0.0002296043088607382,
          0.00022149564933561763,
          0.00021375656085851374,
          0.00020636644055547576,
          0.00019930604469329787,
          0.00019255737970021774,
          0.00018610361416572142,
          0.00017992898702058358,
          0.00017401873377332743,
          0.00016835901132061784,
          0.00016293683203279404,
          0.00015774000427279118,
          0.00015275707417980488,
          0.0001479772758772508,
          0.0001433904836566643,
          0.00013898716656272547,
          0.00013475835105199028,
          0.00013069558045089406,
          0.00012679088254580992,
          0.00012303673736728472,
          0.00011942604648057276,
          0.00011595210824008494,
          0.00011260858821036154,
          0.00010938950128959086,
          0.00010628918434737299,
          0.00010330227978584527,
          0.00010042371518919942,
          0.00009764868560296643,
          0.00009497263826061135,
          0.00009239125654536797,
          0.00008990044566131711,
          0.00008749632081674889,
          0.00008517519326040124,
          0.00008293356000419437,
          0.00008076809193687718,
          0.00007867562583920425,
          0.00007665315211006985,
          0.00007469780839142576,
          0.00007280687129655065,
          0.00007097774579093419,
          0.00006920796265832418,
          0.00006749516712514765,
          0.00006583711660665321,
          0.00006423167086023369,
          0.00006267678985365322,
          0.00006117052618696554,
          0.000059711021368590773,
          0.000058296500432779375,
          0.00005692526845869957,
          0.000055595705260573044,
          0.00005430626305039087,
          0.00005305546109270484,
          0.00005184188370847463,
          0.00005066417636399072,
          0.00004952104231993023,
          0.00004841124106296676,
          0.000047333583284620875,
          0.000046286931571296466,
          0.000045270193618752574,
          0.00004428232531901219,
          0.00004332232334712505,
          0.000042389226621197153,
          0.00004148211297043986,
          0.00004060009742187063,
          0.00003974233087545077,
          0.00003890799778941693,
          0.0000380963151266498,
          0.000037306530980905706,
          0.00003653792241834439,
          0.00003578979531908796,
          0.000035061481749496125,
          0.00003435233987235527,
          0.00003366175261766637,
          0.00003298912546767684,
          0.00003233388792361845,
          0.0000316954889162957,
          0.00003107339980922657,
          0.000030467110376042143,
          0.00002987612992569868,
          0.000029299985203413993,
          0.000028738220603223,
          0.00002819039697791885,
          0.00002765609094246053,
          0.000027134894221293263,
          0.000026626413385603288,
          0.000026130268326061273,
          0.00002564609352301223,
          0.000025173534620485754,
          0.000024712251061145814,
          0.000024261913499423834,
          0.00002382220373699317,
          0.000023392814986178867,
          0.00002297345036784272,
          0.000022563823944984324,
          0.00002216365805138714,
          0.000021772685981239512,
          0.000021390648477296587,
          0.00002101729589689935,
          0.00002065238630669011,
          0.000020295685777707073,
          0.000019946968584526615,
          0.000019606015442665618,
          0.000019272614771045944,
          0.0000189465616940701,
          0.000018627657927245033,
          0.000018315711407586035,
          0.000018010535849070494,
          0.000017711952031009434,
          0.000017419784525821037,
          0.00001713386502678425,
          0.00001685402979211611,
          0.000016580119799038735,
          0.00001631198186975613,
          0.000016049466199656816,
          0.00001579242911519026,
          0.000015540729955093722,
          0.00001529423298013767,
          0.000015052806270886367,
          0.000014816322483201686,
          0.000014584657039333039,
          0.000014357689599103476,
          0.000014135303587876119,
          0.000013917385689792592,
          0.000013703825432710648,
          0.00001349451638712062,
          0.000013289354518891058,
          0.000013088239209720326,
          0.000012891072357903542,
          0.000012697759041321491,
          0.000012508207207041436,
          0.000012322326067750154,
          0.00001214002962221482,
          0.00001196123241926235,
          0.000011785851857033036,
          0.000011613808438159573,
          0.000011445024224096155,
          0.000011279422456461301,
          0.00001111693034824906,
          0.000010957476516318277,
          0.00001080099078300383,
          0.000010647404839560128,
          0.000010496653800996699,
          0.000010348672579230347,
          0.000010203399055198949,
          0.00001006077246469549,
          0.000009920733350868206,
          0.000009783224378780295,
          0.000009648189095191877,
          0.000009515573227265904,
          0.000009385322903186646,
          0.000009257387272892596,
          0.000009131714836188479,
          0.000009008256989792698,
          0.00000888696571974246,
          0.000008767794171775706,
          0.000008650696789129217,
          0.000008535629661915909,
          0.000008422548929425979,
          0.000008311412872358994,
          0.000008202180264789114,
          0.000008094810993991073,
          0.000007989266079490986,
          0.000007885507417533307,
          0.000007783497790450909,
          0.000007683200869736828,
          0.000007584581866490771,
          0.000007487605211203484,
          0.000007392238384774203,
          0.0000072984478584005424,
          0.000007206201736806438,
          0.000007115468861886158,
          0.0000070262186945235595,
          0.0000069384212581555264,
          0.000006852047564797958,
          0.0000067670693787921,
          0.000006683458762349354,
          0.000006601188692561733,
          0.000006520232847723619,
          0.000006440565061733428,
          0.000006362160635135509,
          0.000006284994508721209,
          0.0000062090426279245855,
          0.000006134281826455789,
          0.000006060688684737745,
          0.000005988241151204189,
          0.000005916916688621964,
          0.000005846694797902337,
          0.000005777553561809802,
          0.000005709473080208091,
          0.000005642433158043537,
          0.000005576414076053203,
          0.0000055113970596694295,
          0.00000544736271423982,
          0.000005384293579827984,
          0.000005322171203742754,
          0.000005260978083279778,
          0.0000052006973767253175,
          0.000005141312182193468,
          0.000005082805957588044,
          0.000005025162973206313,
          0.000004968367276104387,
          0.000004912403868254438,
          0.00000485725713212867,
          0.000004802912895264516,
          0.000004749356767034089,
          0.000004696574331916284,
          0.000004644551972025271,
          0.000004593276304882951,
          0.000004542734125336479,
          0.000004492912126963952,
          0.000004443798083979158,
          0.000004395379544290516,
          0.000004347644116914407,
          0.000004300580250319359,
          0.0000042541758528172554,
          0.000004208419987978657,
          0.000004163301235497633,
          0.0000041188086679737775,
          0.000004074931646172055,
          0.000004031659705753188,
          0.000003988982355462445,
          0.000003946889348415285,
          0.000003905371790702116,
          0.000003864419008873458,
          0.000003824021406269624,
          0.000003784170361961577,
          0.000003744856560227122,
          0.000003706070741192024,
          0.000003667804956513017,
          0.000003630049671617947,
          0.000003592796470471303,
          0.0000035560379073000495,
          0.0000035197657815472058,
          0.000003483971223064882,
          0.0000034486473507445635,
          0.000003413786325913132,
          0.0000033793802751941907,
          0.000003345422600100098,
          0.000003311905261568741,
          0.000003278821791977724,
          0.0000032461651099636388,
          0.0000032139283742714568,
          0.000003182104744989065,
          0.0000031506880640048277,
          0.0000031196716448474074,
          0.0000030890490932839658,
          0.0000030588145804578694,
          0.0000030289618093125335,
          0.0000029994845642376636,
          0.0000029703776685245403,
          0.0000029416347731095863,
          0.0000029132505157424615,
          0.0000028852194081781764,
          0.0000028575357451050555,
          0.000002830194604315585,
          0.0000028031904408292403,
          0.000002776518211530735,
          0.0000027501727825665195,
          0.0000027241496020151776,
          0.0000026984431956087274,
          0.0000026730492050393855,
          0.000002647962937610378,
          0.000002623179520808925,
          0.0000025986946046356814,
          0.0000025745038581189924,
          0.000002550602710229203,
          0.000002526986763372985,
          0.0000025036521994776937,
          0.000002480594697947751,
          0.000002457809954650563,
          0.000002435294328161498,
          0.0000024130436082495344,
          0.0000023910541200344652,
          0.0000023693222538985928,
          0.000002347843553949111,
          0.000002326615207586846,
          0.000002305633189467107,
          0.000002284894043679368,
          0.0000022643939938569136,
          0.0000022441302995463377,
          0.0000022240989184478586,
          0.0000022042969566229747,
          0.0000021847209632865355,
          0.0000021653679379506366,
          0.0000021462343997691502,
          0.0000021273176973915987,
          0.0000021086144669336346,
          0.0000020901218789045266,
          0.000002071836890873926,
          0.000002053756616489822,
          0.00000203587856767052,
          0.000002018199274437937,
          0.0000020007166032280966,
          0.0000019834274879818355,
          0.0000019663296593678103,
          0.000001949419937959039,
          0.000001932696226066045,
          0.0000019161558092314052,
          0.0000018997961721262785,
          0.0000018836149180343107,
          0.000001867609688546333,
          0.0000018517780914935236,
          0.0000018361175613862072,
          0.000001820626136610751,
          0.0000018053015334407534,
          0.00000179014114504521,
          0.000001775143228747718,
          0.00000176030543245949,
          0.0000017456255012687463,
          0.0000017311018704888177,
          0.0000017167317715580835,
          0.0000017025135047210182,
          0.0000016884454428908414,
          0.0000016745251903167125,
          0.0000016607504983397092,
          0.0000016471202773961847,
          0.0000016336325661676518,
          0.000001620284760528665,
          0.000001607075380955368,
          0.0000015940032670709924,
          0.000001581065847903373,
          0.0000015682618308597756,
          0.0000015555893460596543,
          0.000001543046964652635,
          0.00000153063254193273,
          0.0000015183449019536834,
          0.0000015061823268676784,
          0.0000014941430742499116,
          0.000001482225899496678,
          0.0000014704288179525529,
          0.0000014587509277435311,
          0.0000014471900888932523,
          0.0000014357453221323774,
          0.0000014244149204929202,
          0.0000014131977303065604,
          0.0000014020918964589497,
          0.0000013910966203409658,
          0.0000013802100245937558,
          0.0000013694310905259828,
          0.0000013587583015780634,
          0.0000013481906164110694,
          0.0000013377264453183595,
          0.0000013273646601824442,
          0.0000013171041262040045,
          0.0000013069433635266616,
          0.0000012968815903017014,
          0.0000012869168555677608,
          0.0000012770491177436244,
          0.000001267275881791481,
          0.0000012575973008313423,
          0.0000012480111011133441,
          0.0000012385171377553532,
          0.0000012291137582338696,
          0.0000012197997772002508,
          0.0000012105748072791254,
          0.0000012014371331011016,
          0.0000011923858610575301,
          0.000001183420272102737,
          0.0000011745390185497072,
          0.0000011657413295802324,
          0.0000011570261078115732,
          0.0000011483924347995792,
          0.0000011398394073721661,
          0.0000011313660546450234,
          0.0000011229712615678207,
          0.0000011146544115277236,
          0.0000011064145908252713,
          0.0000010982507772645201,
          0.0000010901619345535677,
          0.0000010821476276947403,
          0.0000010742066896798145,
          0.0000010663383488062858,
          0.0000010585418836910466,
          0.0000010508162791647947,
          0.0000010431609500356574,
          0.0000010355748620770874,
          0.0000010280576559611134,
          0.0000010206078896244695,
          0.000001013225420997802,
          0.0000010059092979878995,
          9.986585100765096e-7,
          9.91472839565588e-7,
          9.843510357071046e-7,
          9.772927104593902e-7,
          9.702971497939619e-7,
          9.633635163055582e-7,
          9.564911895910397e-7,
          9.496795543535991e-7,
          9.429278502254286e-7,
          9.36235407688117e-7,
          9.296017727533897e-7,
          9.230259928467699e-7,
          9.165076348876334e-7,
          9.100462046257909e-7,
          9.036406510671836e-7,
          8.972908846489452e-7,
          8.909958973003843e-7,
          8.847552510199355e-7,
          8.785683814387922e-7,
          8.724348101940146e-7,
          8.663536360116643e-7,
          8.603245664655072e-7,
          8.543471088165865e-7,
          8.484205582005987e-7,
          8.425441837578236e-7,
          8.367178529819514e-7,
          8.309409282163706e-7,
          8.252125776185283e-7,
          8.195327249592048e-7,
          8.139005464564429e-7,
          8.083156821711087e-7,
          8.027775111190679e-7,
          7.972858905401864e-7,
          7.918397068309679e-7,
          7.864391443444102e-7,
          7.81083294210658e-7,
          7.757718590476774e-7,
          7.7050450520793e-7,
          7.652803725001498e-7,
          7.600993589344108e-7,
          7.549610527774725e-7,
          7.498646983684556e-7,
          7.448102551793255e-7,
          7.397968462303543e-7,
          7.348245565975718e-7,
          7.298924834934942e-7,
          7.250005922137978e-7,
          7.201483394125929e-7,
          7.153350202182384e-7,
          7.105610500828664e-7,
          7.058248302155134e-7,
          7.011275672197356e-7,
          6.964667389679374e-7,
          6.918443017472216e-7,
          6.872582629913053e-7,
          6.827087986774964e-7,
          6.781954103669254e-7,
          6.737180036308795e-7,
          6.692761511649994e-7,
          6.648688828933478e-7,
          6.604970231684855e-7,
          6.561590434857311e-7,
          6.518554318400296e-7,
          6.475853579159312e-7,
          6.433488827847875e-7,
          6.391451327235942e-7,
          6.349745287154305e-7,
          6.308361649778183e-7,
          6.267296772940314e-7,
          6.226555101228198e-7,
          6.186120805352683e-7,
          6.146006798527136e-7,
          6.10619372344896e-7,
          6.066690857984823e-7,
          6.02748925697474e-7,
          5.988587463318393e-7,
          5.9499825218114e-7,
          5.911673170589089e-7,
          5.873651771618949e-7,
          5.835921423729e-7,
          5.798476412246091e-7,
          5.761313637050142e-7,
          5.724430621425939e-7,
          5.687826690342157e-7,
          5.651495751684077e-7,
          5.615438366723311e-7,
          5.579651406312243e-7,
          5.54412857984742e-7,
          5.508874872641249e-7,
          5.473878505254781e-7,
          5.439145459771398e-7,
          5.404667758469066e-7,
          5.370444653918474e-7,
          5.3364745183206e-7,
          5.3027555693654e-7,
          5.269281850337044e-7,
          5.236056366994354e-7,
          5.203071363370975e-7,
          5.170329010311602e-7,
          5.1378244356945e-7,
          5.105555677672122e-7,
          5.073521771213005e-7,
          5.041720506501174e-7,
          5.010148967593201e-7,
          4.978803844528097e-7,
          4.947687399813793e-7,
          4.916790584728841e-7,
          4.886120024539968e-7,
          4.855664191957293e-7,
          4.825428680065275e-7,
          4.795408150173545e-7,
          4.7655997280942043e-7,
          4.7360057657691253e-7,
          4.706620441608082e-7,
          4.677441863695319e-7,
          4.6484699135281016e-7,
          4.6197038435589563e-7,
          4.591136861531885e-7,
          4.562772132645596e-7,
          4.5346063356172224e-7,
          4.50663484430984e-7,
          4.4788629630798915e-7,
          4.4512808140398886e-7,
          4.423889119994678e-7,
          4.3966927466686515e-7,
          4.3696798181217856e-7,
          4.3428542388185164e-7,
          4.3162151154304333e-7,
          4.2897581150770024e-7,
          4.2634814469845516e-7,
          4.2373885666670227e-7,
          4.211470512882129e-7,
          4.1857298390730965e-7,
          4.1601666109470337e-7,
          4.1347739254531344e-7,
          4.109556451897626e-7,
          4.084507944647666e-7,
          4.0596280123354494e-7,
          4.034917723187464e-7,
          4.0103744379866756e-7,
          3.9859920345181654e-7,
          3.9617760759050483e-7,
          3.937720205689789e-7,
          3.91382793043728e-7,
          3.8900939165430143e-7,
          3.8665111656362314e-7,
          3.843095706061248e-7,
          3.8198292974850784e-7,
          3.7967140400735804e-7,
          3.773757842819269e-7,
          3.7509464051905036e-7,
          3.7282898919691814e-7,
          3.7057780675855454e-7,
          3.6834155664942806e-7,
          3.661199372533541e-7,
          3.6391259016440614e-7,
          3.6171996697218495e-7,
          3.595408431698588e-7,
          3.573762887817787e-7,
          3.552266369581042e-7,
          3.530889039493218e-7,
          3.509662486873415e-7,
          3.4885717573607045e-7,
          3.4676097243491007e-7,
          3.4467906720728854e-7,
          3.426096972605154e-7,
          3.405537747536041e-7,
          3.3851108134433116e-7,
          3.364810520829272e-7,
          3.344638323893926e-7,
          3.324599221365128e-7,
          3.304678781715309e-7,
          3.2848894900191514e-7,
          3.265222641394199e-7,
          3.2456780878117094e-7,
          3.2262557615670005e-7,
          3.206956104368165e-7,
          3.187774860857243e-7,
          3.168713480933573e-7,
          3.1497710923679915e-7,
          3.1309435330991884e-7,
          3.112236461718995e-7,
          3.0936402250379565e-7,
          3.0751609812548255e-7,
          3.056794645551607e-7,
          3.0385384840675676e-7,
          3.020396631086647e-7,
          3.0023643969944544e-7,
          2.9844402693408756e-7,
          2.9666290099429634e-7,
          2.9489217907715605e-7,
          2.9313234759336243e-7,
          2.913830006410767e-7,
          2.8964435751417115e-7,
          2.8791580641951226e-7,
          2.861979369584601e-7,
          2.844902902382789e-7,
          2.8279267336823764e-7,
          2.8110550388183224e-7,
          2.7942781496742504e-7,
          2.7776076984672966e-7,
          2.761029668174897e-7,
          2.744551588146739e-7,
          2.728171521782463e-7,
          2.711885701759035e-7,
          2.695695086450872e-7,
          2.6796025607194624e-7,
          2.6636006414502097e-7,
          2.6476926626594684e-7,
          2.6318792201697687e-7,
          2.616154101489255e-7,
          2.6005212870448873e-7,
          2.5849798419080305e-7,
          2.569525669476674e-7,
          2.554161691051689e-7,
          2.538887022127808e-7,
          2.5236945293881776e-7,
          2.5085955762787587e-7,
          2.493577636326611e-7,
          2.478646261392287e-7,
          2.4638006467337894e-7,
          2.4490377785489746e-7,
          2.4343568312382285e-7,
          2.419760914438148e-7,
          2.4052468700899903e-7,
          2.3908117572231467e-7,
          2.3764591263204726e-7,
          2.3621863139520283e-7,
          2.3479914729316558e-7,
          2.333876789574875e-7,
          2.3198393558093662e-7,
          2.3058793931494177e-7,
          2.2919983775622173e-7,
          2.2781895686837816e-7,
          2.26446100406023e-7,
          2.2508012950749285e-7,
          2.2372236584918173e-7,
          2.223714137744226e-7,
          2.2102788403222623e-7,
          2.1969193496042642e-7,
          2.1836286936115638e-7,
          2.1704095947749248e-7,
          2.1572643797722356e-7,
          2.144186446761186e-7,
          2.131177362656438e-7,
          2.118245875037077e-7,
          2.1053717419750767e-7,
          2.0925724559774418e-7,
          2.0798417044515634e-7,
          2.0671738370240342e-7,
          2.0545782193621503e-7,
          2.0420344819260574e-7,
          2.0295837724909865e-7,
          2.0171679416504238e-7,
          2.0048374129136374e-7,
          1.9925590509921257e-7,
          1.9803519390727856e-7,
          1.9682036557875322e-7,
          1.9561185468402698e-7,
          1.9440978132639134e-7,
          1.9321355790955275e-7,
          1.920237435224074e-7,
          1.9083947631967686e-7,
          1.8966194331204395e-7,
          1.8848971398347487e-7,
          1.8732377585167063e-7,
          1.8616368339738864e-7,
          1.850094532105342e-7,
          1.8386071830374894e-7,
          1.8271799437401038e-7,
          1.8158085740621638e-7,
          1.8044951424432704e-7,
          1.7932343593866348e-7,
          1.7820326326020913e-7,
          1.7708844110892446e-7,
          1.7597914429218275e-7,
          1.7487530922848454e-7,
          1.737767120101434e-7,
          1.7268356485030688e-7,
          1.7159574071656116e-7,
          1.7051316179110412e-7,
          1.694356178738714e-7,
          1.6836360472790878e-7,
          1.6729648288735213e-7,
          1.662345691242105e-7,
          1.65177548746812e-7,
          1.6412582116433425e-7,
          1.6307871137391574e-7,
          1.6203684409821085e-7,
          1.6099974020602177e-7,
          1.5996759664595417e-7,
          1.5894008804408266e-7,
          1.5791751228347186e-7,
          1.5689976044875137e-7,
          1.558864606035872e-7,
          1.5487808911799238e-7,
          1.5387418605622401e-7,
          1.5287497921997996e-7,
          1.518802283116102e-7,
          1.508902042850967e-7,
          1.4990443268405202e-7,
          1.489231969929133e-7,
          1.4794647878965195e-7,
          1.4697409814318395e-7,
          1.4600594974298317e-7,
          1.4504228445284333e-7,
          1.4408277322198722e-7,
          1.431276054750946e-7,
          1.4217660172239798e-7,
          1.4122977092335947e-7,
          1.4028703121701884e-7,
          1.3934859644066791e-7,
          1.384140566302595e-7,
          1.3748356623441116e-7,
          1.3655725322274768e-7,
          1.356346728564626e-7,
          1.3471631378351315e-7,
          1.3380171787539926e-7,
          1.3289102957653718e-7,
          1.319841707819374e-7,
          1.3108123554986919e-7,
          1.3018196850429648e-7,
          1.2928654820173287e-7,
          1.2839484002951244e-7,
          1.2750690563441066e-7,
          1.266224132437704e-7,
          1.2574188992469497e-7,
          1.2486473568061513e-7,
          1.2399121083849793e-7,
          1.2312138438608852e-7,
          1.222547949924724e-7,
          1.2139203321771637e-7,
          1.2053247245700398e-7,
          1.1967657856871076e-7,
          1.1882386148331006e-7,
          1.1797472559166765e-7,
          1.1712896202402556e-7,
          1.1628593006957085e-7,
          1.1544742927017633e-7,
          1.1461101461738586e-7,
          1.1377839416776494e-7,
          1.1294886410016314e-7,
          1.1212255291730741e-7,
          1.112994787707789e-7,
          1.1047939625236488e-7,
          1.0966255002037968e-7,
          1.0884867536071072e-7,
          1.0803806807358883e-7,
          1.072302387162691e-7,
          1.0642550787043512e-7,
          1.0562380227493264e-7,
          1.0482505355872161e-7,
          1.0402924972731235e-7,
          1.0323629817575406e-7,
          1.0244621940666642e-7,
          1.016590043544361e-7,
          1.0087473805042648e-7,
          1.0009311655174243e-7,
          9.931434424099717e-8,
          9.853837019689649e-8,
          9.776515272480902e-8,
          9.69944349484597e-8,
          9.622674504922283e-8,
          9.546139074765364e-8,
          9.46988684936637e-8,
          9.39390303615061e-8,
          9.318162330861628e-8,
          9.242665198923746e-8,
          9.167459543900249e-8,
          9.092503448693292e-8,
          9.017758578186326e-8,
          8.943294934281548e-8,
          8.869065756497247e-8,
          8.79509613279751e-8,
          8.721338879962649e-8,
          8.647847415444355e-8,
          8.574581896605974e-8,
          8.501558607219429e-8,
          8.428752934678965e-8,
          8.356190830037569e-8,
          8.283854507567238e-8,
          8.211736536010892e-8,
          8.139858766300539e-8,
          8.068198584351214e-8,
          7.996750995061246e-8,
          7.925513506533303e-8,
          7.854525335562306e-8,
          7.7837133373888e-8,
          7.713135169279903e-8,
          7.642767054302422e-8,
          7.572595349259736e-8,
          7.502638618326907e-8,
          7.432885383639981e-8,
          7.363332418225782e-8,
          7.293976671623788e-8,
          7.224826405467394e-8,
          7.155866084255487e-8,
          7.087102668101423e-8,
          7.018538870098379e-8,
          6.950142419684042e-8,
          6.881960722628822e-8,
          6.813963882555375e-8,
          6.746138496832608e-8,
          6.678493172351258e-8,
          6.611044429530788e-8,
          6.54377931686472e-8,
          6.476666370478852e-8,
          6.409751127050509e-8,
          6.343009712781946e-8,
          6.27642570381867e-8,
          6.210027543747426e-8,
          6.143797016437588e-8,
          6.077719034396302e-8,
          6.01182204530976e-8,
          5.9460822098512104e-8,
          5.8805108092254445e-8,
          5.815093294617861e-8,
          5.7498367289895436e-8,
          5.684732091615291e-8,
          5.619812237342056e-8,
          5.555014198166606e-8,
          5.4903453180032976e-8,
          5.425897579093594e-8,
          5.361543443601131e-8,
          5.2973550605604335e-8,
          5.233321400144616e-8,
          5.169422311508829e-8,
          5.10565531418154e-8,
          5.042065676045218e-8,
          4.978581830555804e-8,
          4.915250503972614e-8,
          4.852060791478644e-8,
          4.7889998013666354e-8,
          4.7260691600532595e-8,
          4.663298020563048e-8,
          4.60062046693598e-8,
          4.538091150038317e-8,
          4.4757345382781636e-8,
          4.413451380981524e-8,
          4.351269133741067e-8,
          4.289298562891991e-8,
          4.2274136111013636e-8,
          4.1656172580120525e-8,
          4.1040086179968835e-8,
          4.042471667243307e-8,
          3.981078800965708e-8,
          3.919811212178414e-8,
          3.8586432022679596e-8,
          3.797605880585492e-8,
          3.736702804009792e-8,
          3.675871782154688e-8,
          3.6152043520661646e-8,
          3.554652941573814e-8,
          3.4941426426216965e-8,
          3.433824733833499e-8,
          3.37369515555753e-8,
          3.313520348186445e-8,
          3.253459503615638e-8,
          3.193649226889482e-8,
          3.133913687819244e-8,
          3.074217937790161e-8,
          3.014695556118044e-8,
          2.955321107391224e-8,
          2.8959921436505824e-8,
          2.8368233996721696e-8,
          2.7777793829276426e-8,
          2.7188350407189428e-8,
          2.660011956733655e-8,
          2.6013610110364828e-8,
          2.542776471041066e-8,
          2.4843481693678367e-8,
          2.426095865451317e-8,
          2.367919872576376e-8,
          2.3098285525459844e-8,
          2.2520086272859157e-8,
          2.1943713393340428e-8,
          2.136749442568844e-8,
          2.079339982754337e-8,
          2.0221456623384544e-8,
          1.965103669977844e-8,
          1.908229325890777e-8,
          1.8516160307904295e-8,
          1.795163862940673e-8,
          1.7389754031887614e-8,
          1.683030277913309e-8,
          1.6273320392940515e-8,
          1.571952091848067e-8,
          1.516877496975931e-8,
          1.4621338036907122e-8,
          1.4077961467870485e-8,
          1.3538665180620823e-8,
          1.3003659565693175e-8,
          1.247443001552856e-8,
          1.1951058092781158e-8,
          1.143386526573723e-8,
          1.0924113316590636e-8,
          1.0423288134086542e-8,
          9.931631094472947e-9,
          9.451658976527451e-9,
          8.984360011709183e-9,
          8.532020684474895e-9,
          8.09744975176886e-9,
          7.682879563068807e-9,
          7.292288912812932e-9,
          6.929604168972503e-9,
          6.599035171153867e-9,
          6.305946602223934e-9,
          6.055757718543933e-9,
          5.853611512248983e-9,
          5.7048991616645715e-9,
          5.614064163263869e-9
         ],
         "yaxis": "y"
        }
       ],
       "layout": {
        "legend": {
         "tracegroupgap": 0
        },
        "margin": {
         "t": 60
        },
        "template": {
         "data": {
          "bar": [
           {
            "error_x": {
             "color": "#2a3f5f"
            },
            "error_y": {
             "color": "#2a3f5f"
            },
            "marker": {
             "line": {
              "color": "#E5ECF6",
              "width": 0.5
             }
            },
            "type": "bar"
           }
          ],
          "barpolar": [
           {
            "marker": {
             "line": {
              "color": "#E5ECF6",
              "width": 0.5
             }
            },
            "type": "barpolar"
           }
          ],
          "carpet": [
           {
            "aaxis": {
             "endlinecolor": "#2a3f5f",
             "gridcolor": "white",
             "linecolor": "white",
             "minorgridcolor": "white",
             "startlinecolor": "#2a3f5f"
            },
            "baxis": {
             "endlinecolor": "#2a3f5f",
             "gridcolor": "white",
             "linecolor": "white",
             "minorgridcolor": "white",
             "startlinecolor": "#2a3f5f"
            },
            "type": "carpet"
           }
          ],
          "choropleth": [
           {
            "colorbar": {
             "outlinewidth": 0,
             "ticks": ""
            },
            "type": "choropleth"
           }
          ],
          "contour": [
           {
            "colorbar": {
             "outlinewidth": 0,
             "ticks": ""
            },
            "colorscale": [
             [
              0,
              "#0d0887"
             ],
             [
              0.1111111111111111,
              "#46039f"
             ],
             [
              0.2222222222222222,
              "#7201a8"
             ],
             [
              0.3333333333333333,
              "#9c179e"
             ],
             [
              0.4444444444444444,
              "#bd3786"
             ],
             [
              0.5555555555555556,
              "#d8576b"
             ],
             [
              0.6666666666666666,
              "#ed7953"
             ],
             [
              0.7777777777777778,
              "#fb9f3a"
             ],
             [
              0.8888888888888888,
              "#fdca26"
             ],
             [
              1,
              "#f0f921"
             ]
            ],
            "type": "contour"
           }
          ],
          "contourcarpet": [
           {
            "colorbar": {
             "outlinewidth": 0,
             "ticks": ""
            },
            "type": "contourcarpet"
           }
          ],
          "heatmap": [
           {
            "colorbar": {
             "outlinewidth": 0,
             "ticks": ""
            },
            "colorscale": [
             [
              0,
              "#0d0887"
             ],
             [
              0.1111111111111111,
              "#46039f"
             ],
             [
              0.2222222222222222,
              "#7201a8"
             ],
             [
              0.3333333333333333,
              "#9c179e"
             ],
             [
              0.4444444444444444,
              "#bd3786"
             ],
             [
              0.5555555555555556,
              "#d8576b"
             ],
             [
              0.6666666666666666,
              "#ed7953"
             ],
             [
              0.7777777777777778,
              "#fb9f3a"
             ],
             [
              0.8888888888888888,
              "#fdca26"
             ],
             [
              1,
              "#f0f921"
             ]
            ],
            "type": "heatmap"
           }
          ],
          "heatmapgl": [
           {
            "colorbar": {
             "outlinewidth": 0,
             "ticks": ""
            },
            "colorscale": [
             [
              0,
              "#0d0887"
             ],
             [
              0.1111111111111111,
              "#46039f"
             ],
             [
              0.2222222222222222,
              "#7201a8"
             ],
             [
              0.3333333333333333,
              "#9c179e"
             ],
             [
              0.4444444444444444,
              "#bd3786"
             ],
             [
              0.5555555555555556,
              "#d8576b"
             ],
             [
              0.6666666666666666,
              "#ed7953"
             ],
             [
              0.7777777777777778,
              "#fb9f3a"
             ],
             [
              0.8888888888888888,
              "#fdca26"
             ],
             [
              1,
              "#f0f921"
             ]
            ],
            "type": "heatmapgl"
           }
          ],
          "histogram": [
           {
            "marker": {
             "colorbar": {
              "outlinewidth": 0,
              "ticks": ""
             }
            },
            "type": "histogram"
           }
          ],
          "histogram2d": [
           {
            "colorbar": {
             "outlinewidth": 0,
             "ticks": ""
            },
            "colorscale": [
             [
              0,
              "#0d0887"
             ],
             [
              0.1111111111111111,
              "#46039f"
             ],
             [
              0.2222222222222222,
              "#7201a8"
             ],
             [
              0.3333333333333333,
              "#9c179e"
             ],
             [
              0.4444444444444444,
              "#bd3786"
             ],
             [
              0.5555555555555556,
              "#d8576b"
             ],
             [
              0.6666666666666666,
              "#ed7953"
             ],
             [
              0.7777777777777778,
              "#fb9f3a"
             ],
             [
              0.8888888888888888,
              "#fdca26"
             ],
             [
              1,
              "#f0f921"
             ]
            ],
            "type": "histogram2d"
           }
          ],
          "histogram2dcontour": [
           {
            "colorbar": {
             "outlinewidth": 0,
             "ticks": ""
            },
            "colorscale": [
             [
              0,
              "#0d0887"
             ],
             [
              0.1111111111111111,
              "#46039f"
             ],
             [
              0.2222222222222222,
              "#7201a8"
             ],
             [
              0.3333333333333333,
              "#9c179e"
             ],
             [
              0.4444444444444444,
              "#bd3786"
             ],
             [
              0.5555555555555556,
              "#d8576b"
             ],
             [
              0.6666666666666666,
              "#ed7953"
             ],
             [
              0.7777777777777778,
              "#fb9f3a"
             ],
             [
              0.8888888888888888,
              "#fdca26"
             ],
             [
              1,
              "#f0f921"
             ]
            ],
            "type": "histogram2dcontour"
           }
          ],
          "mesh3d": [
           {
            "colorbar": {
             "outlinewidth": 0,
             "ticks": ""
            },
            "type": "mesh3d"
           }
          ],
          "parcoords": [
           {
            "line": {
             "colorbar": {
              "outlinewidth": 0,
              "ticks": ""
             }
            },
            "type": "parcoords"
           }
          ],
          "pie": [
           {
            "automargin": true,
            "type": "pie"
           }
          ],
          "scatter": [
           {
            "marker": {
             "colorbar": {
              "outlinewidth": 0,
              "ticks": ""
             }
            },
            "type": "scatter"
           }
          ],
          "scatter3d": [
           {
            "line": {
             "colorbar": {
              "outlinewidth": 0,
              "ticks": ""
             }
            },
            "marker": {
             "colorbar": {
              "outlinewidth": 0,
              "ticks": ""
             }
            },
            "type": "scatter3d"
           }
          ],
          "scattercarpet": [
           {
            "marker": {
             "colorbar": {
              "outlinewidth": 0,
              "ticks": ""
             }
            },
            "type": "scattercarpet"
           }
          ],
          "scattergeo": [
           {
            "marker": {
             "colorbar": {
              "outlinewidth": 0,
              "ticks": ""
             }
            },
            "type": "scattergeo"
           }
          ],
          "scattergl": [
           {
            "marker": {
             "colorbar": {
              "outlinewidth": 0,
              "ticks": ""
             }
            },
            "type": "scattergl"
           }
          ],
          "scattermapbox": [
           {
            "marker": {
             "colorbar": {
              "outlinewidth": 0,
              "ticks": ""
             }
            },
            "type": "scattermapbox"
           }
          ],
          "scatterpolar": [
           {
            "marker": {
             "colorbar": {
              "outlinewidth": 0,
              "ticks": ""
             }
            },
            "type": "scatterpolar"
           }
          ],
          "scatterpolargl": [
           {
            "marker": {
             "colorbar": {
              "outlinewidth": 0,
              "ticks": ""
             }
            },
            "type": "scatterpolargl"
           }
          ],
          "scatterternary": [
           {
            "marker": {
             "colorbar": {
              "outlinewidth": 0,
              "ticks": ""
             }
            },
            "type": "scatterternary"
           }
          ],
          "surface": [
           {
            "colorbar": {
             "outlinewidth": 0,
             "ticks": ""
            },
            "colorscale": [
             [
              0,
              "#0d0887"
             ],
             [
              0.1111111111111111,
              "#46039f"
             ],
             [
              0.2222222222222222,
              "#7201a8"
             ],
             [
              0.3333333333333333,
              "#9c179e"
             ],
             [
              0.4444444444444444,
              "#bd3786"
             ],
             [
              0.5555555555555556,
              "#d8576b"
             ],
             [
              0.6666666666666666,
              "#ed7953"
             ],
             [
              0.7777777777777778,
              "#fb9f3a"
             ],
             [
              0.8888888888888888,
              "#fdca26"
             ],
             [
              1,
              "#f0f921"
             ]
            ],
            "type": "surface"
           }
          ],
          "table": [
           {
            "cells": {
             "fill": {
              "color": "#EBF0F8"
             },
             "line": {
              "color": "white"
             }
            },
            "header": {
             "fill": {
              "color": "#C8D4E3"
             },
             "line": {
              "color": "white"
             }
            },
            "type": "table"
           }
          ]
         },
         "layout": {
          "annotationdefaults": {
           "arrowcolor": "#2a3f5f",
           "arrowhead": 0,
           "arrowwidth": 1
          },
          "autotypenumbers": "strict",
          "coloraxis": {
           "colorbar": {
            "outlinewidth": 0,
            "ticks": ""
           }
          },
          "colorscale": {
           "diverging": [
            [
             0,
             "#8e0152"
            ],
            [
             0.1,
             "#c51b7d"
            ],
            [
             0.2,
             "#de77ae"
            ],
            [
             0.3,
             "#f1b6da"
            ],
            [
             0.4,
             "#fde0ef"
            ],
            [
             0.5,
             "#f7f7f7"
            ],
            [
             0.6,
             "#e6f5d0"
            ],
            [
             0.7,
             "#b8e186"
            ],
            [
             0.8,
             "#7fbc41"
            ],
            [
             0.9,
             "#4d9221"
            ],
            [
             1,
             "#276419"
            ]
           ],
           "sequential": [
            [
             0,
             "#0d0887"
            ],
            [
             0.1111111111111111,
             "#46039f"
            ],
            [
             0.2222222222222222,
             "#7201a8"
            ],
            [
             0.3333333333333333,
             "#9c179e"
            ],
            [
             0.4444444444444444,
             "#bd3786"
            ],
            [
             0.5555555555555556,
             "#d8576b"
            ],
            [
             0.6666666666666666,
             "#ed7953"
            ],
            [
             0.7777777777777778,
             "#fb9f3a"
            ],
            [
             0.8888888888888888,
             "#fdca26"
            ],
            [
             1,
             "#f0f921"
            ]
           ],
           "sequentialminus": [
            [
             0,
             "#0d0887"
            ],
            [
             0.1111111111111111,
             "#46039f"
            ],
            [
             0.2222222222222222,
             "#7201a8"
            ],
            [
             0.3333333333333333,
             "#9c179e"
            ],
            [
             0.4444444444444444,
             "#bd3786"
            ],
            [
             0.5555555555555556,
             "#d8576b"
            ],
            [
             0.6666666666666666,
             "#ed7953"
            ],
            [
             0.7777777777777778,
             "#fb9f3a"
            ],
            [
             0.8888888888888888,
             "#fdca26"
            ],
            [
             1,
             "#f0f921"
            ]
           ]
          },
          "colorway": [
           "#636efa",
           "#EF553B",
           "#00cc96",
           "#ab63fa",
           "#FFA15A",
           "#19d3f3",
           "#FF6692",
           "#B6E880",
           "#FF97FF",
           "#FECB52"
          ],
          "font": {
           "color": "#2a3f5f"
          },
          "geo": {
           "bgcolor": "white",
           "lakecolor": "white",
           "landcolor": "#E5ECF6",
           "showlakes": true,
           "showland": true,
           "subunitcolor": "white"
          },
          "hoverlabel": {
           "align": "left"
          },
          "hovermode": "closest",
          "mapbox": {
           "style": "light"
          },
          "paper_bgcolor": "white",
          "plot_bgcolor": "#E5ECF6",
          "polar": {
           "angularaxis": {
            "gridcolor": "white",
            "linecolor": "white",
            "ticks": ""
           },
           "bgcolor": "#E5ECF6",
           "radialaxis": {
            "gridcolor": "white",
            "linecolor": "white",
            "ticks": ""
           }
          },
          "scene": {
           "xaxis": {
            "backgroundcolor": "#E5ECF6",
            "gridcolor": "white",
            "gridwidth": 2,
            "linecolor": "white",
            "showbackground": true,
            "ticks": "",
            "zerolinecolor": "white"
           },
           "yaxis": {
            "backgroundcolor": "#E5ECF6",
            "gridcolor": "white",
            "gridwidth": 2,
            "linecolor": "white",
            "showbackground": true,
            "ticks": "",
            "zerolinecolor": "white"
           },
           "zaxis": {
            "backgroundcolor": "#E5ECF6",
            "gridcolor": "white",
            "gridwidth": 2,
            "linecolor": "white",
            "showbackground": true,
            "ticks": "",
            "zerolinecolor": "white"
           }
          },
          "shapedefaults": {
           "line": {
            "color": "#2a3f5f"
           }
          },
          "ternary": {
           "aaxis": {
            "gridcolor": "white",
            "linecolor": "white",
            "ticks": ""
           },
           "baxis": {
            "gridcolor": "white",
            "linecolor": "white",
            "ticks": ""
           },
           "bgcolor": "#E5ECF6",
           "caxis": {
            "gridcolor": "white",
            "linecolor": "white",
            "ticks": ""
           }
          },
          "title": {
           "x": 0.05
          },
          "xaxis": {
           "automargin": true,
           "gridcolor": "white",
           "linecolor": "white",
           "ticks": "",
           "title": {
            "standoff": 15
           },
           "zerolinecolor": "white",
           "zerolinewidth": 2
          },
          "yaxis": {
           "automargin": true,
           "gridcolor": "white",
           "linecolor": "white",
           "ticks": "",
           "title": {
            "standoff": 15
           },
           "zerolinecolor": "white",
           "zerolinewidth": 2
          }
         }
        },
        "xaxis": {
         "anchor": "y",
         "domain": [
          0,
          1
         ],
         "title": {
          "text": "freqs"
         }
        },
        "yaxis": {
         "anchor": "x",
         "domain": [
          0,
          1
         ],
         "title": {
          "text": "stft"
         }
        }
       }
      }
     },
     "metadata": {},
     "output_type": "display_data"
    }
   ],
   "source": [
    "import plotly.express as px\n",
    "import pandas as pd\n",
    "stft,freqs = calc_stft(test_blocked,44100)\n",
    "df = pd.DataFrame()\n",
    "df['stft']=stft[0]\n",
    "df['freqs']=freqs[0]\n",
    "fig = px.line(df,x='freqs',y='stft')\n",
    "fig.show()"
   ]
  },
  {
   "cell_type": "code",
   "execution_count": 83,
   "metadata": {},
   "outputs": [],
   "source": [
    "spectrogram,freqs = calc_stft(xb)"
   ]
  },
  {
   "cell_type": "markdown",
   "metadata": {},
   "source": [
    "# Section A\n",
    "\n",
    "## Q1: \n",
    "### Implement functions for 5 audio features: extract_spectral_centroid(xb, fs), extract_rms(xb), extract_zerocrossingrate(xb), extract_spectral_crest(xb), extract_spectral_flux(xb). xb is a matrix of blocked audio data (dimension NumOfBlocks X blockSize, see assignment 1), fs is the sample rate. Implement each of these functions in the default formulation from the text book/slides. Note that for the spectral features, you have to apply a window function to each block. Use the hann window from a previous in-class exercise for this purpose. To avoid feature definition ambiguities:\n",
    "    1. Spectral Centroid in Hz, compute from the magnitude spectrum (not power spectrum)\n",
    "    2. RMS in dB, truncated at -100dB\n",
    "    3. all others as defined in the book"
   ]
  },
  {
   "cell_type": "markdown",
   "metadata": {},
   "source": [
    "## Spectral Centroid"
   ]
  },
  {
   "cell_type": "code",
   "execution_count": 10,
   "metadata": {},
   "outputs": [],
   "source": [
    "#using numpy array instead of list\n",
    "#Done with frequency bin, not Hz\n",
    "def extract_spectral_centroid(xb, fs):\n",
    "    centroids = np.zeros(xb.shape[0])\n",
    "    stft,freqs = calc_stft(xb,fs)\n",
    "    #np.sum(magnitudes*freqs) / np.sum(magnitudes)\n",
    "    for i in range(freqs.shape[0]):\n",
    "        centroid = np.sum(stft[i]*freqs[i]) / np.sum(stft[i])\n",
    "        centroids[i]=centroid\n",
    "        #centroids.append(centroid)\n",
    "    #centroids=np.array(centroids)\n",
    "    return centroids"
   ]
  },
  {
   "cell_type": "markdown",
   "metadata": {},
   "source": [
    "### Testing spectral centroid"
   ]
  },
  {
   "cell_type": "code",
   "execution_count": 151,
   "metadata": {},
   "outputs": [
    {
     "data": {
      "text/plain": [
       "(2224,)"
      ]
     },
     "execution_count": 151,
     "metadata": {},
     "output_type": "execute_result"
    }
   ],
   "source": [
    "extract_spectral_centroid(xb,44100).shape"
   ]
  },
  {
   "cell_type": "code",
   "execution_count": 152,
   "metadata": {},
   "outputs": [
    {
     "data": {
      "text/plain": [
       "array([ 999.87560078,  999.9147051 ,  999.89015161,  999.89550295,\n",
       "        999.90951796,  999.87876616,  999.92506355,  999.87223717,\n",
       "        999.92445274,  999.87950507,  999.90843834,  999.89660357,\n",
       "        999.88912234,  999.91568873,  999.87508187,  999.92764895,\n",
       "        999.87321227,  999.91996113,  999.88457005,  999.90180129,\n",
       "        999.90329043,  999.88335901,  999.92106881,  999.87285297,\n",
       "        999.92725667,  999.8757826 ,  999.91437266,  999.89049826,\n",
       "        999.89513779,  999.90987527,  999.87852727,  999.9252571 ,\n",
       "        999.87224757,  999.92423941,  999.87975863,  999.90807611,\n",
       "        999.89697197,  999.88878299,  999.91601182,  999.87491787,\n",
       "        999.92772769,  999.87331454, 1339.38471589, 1816.28369201])"
      ]
     },
     "execution_count": 152,
     "metadata": {},
     "output_type": "execute_result"
    }
   ],
   "source": [
    "extract_spectral_centroid(test_blocked,44100)"
   ]
  },
  {
   "cell_type": "code",
   "execution_count": 20,
   "metadata": {},
   "outputs": [
    {
     "data": {
      "text/plain": [
       "Text(0.5, 1.0, 'Signal vs Normalized spectral centroid')"
      ]
     },
     "execution_count": 20,
     "metadata": {},
     "output_type": "execute_result"
    },
    {
     "data": {
      "image/png": "[encoded data removed]",
      "text/plain": [
       "<Figure size 432x288 with 1 Axes>"
      ]
     },
     "metadata": {
      "needs_background": "light"
     },
     "output_type": "display_data"
    }
   ],
   "source": [
    "centroid = extract_spectral_centroid(xb,44100)\n",
    "centroid=centroid/max(centroid)\n",
    "t_rms = np.arange(0,xb.shape[0])*hopSize\n",
    "plt.plot(x)\n",
    "plt.plot(t_rms,centroid)\n",
    "\n",
    "plt.xlabel('Sample Number')\n",
    "plt.ylabel('Amplitude')\n",
    "plt.legend(['Signal','Normalized spectral centroid'])\n",
    "plt.title('Signal vs Normalized spectral centroid')"
   ]
  },
  {
   "cell_type": "markdown",
   "metadata": {},
   "source": [
    "## RMS"
   ]
  },
  {
   "cell_type": "code",
   "execution_count": 155,
   "metadata": {},
   "outputs": [],
   "source": [
    "def extract_rms(xb):\n",
    "    rms = np.zeros(xb.shape[0])\n",
    "    for i in range(xb.shape[0]):\n",
    "        block = xb[i]\n",
    "        r = np.sqrt(np.sum(block**2)/xb.shape[0])\n",
    "        if r <= 0.00001: # Done to handle case when rms is 0 (for a block of all zeros\n",
    "            r = 0.00001\n",
    "        #rms.append(r)\n",
    "        rms[i] = r\n",
    "    #rms=np.array(rms)\n",
    "    return 20*np.log10(rms)#rms,20*np.log10(rms) # What is reference value to convert to dB? Is it 1?"
   ]
  },
  {
   "cell_type": "markdown",
   "metadata": {},
   "source": [
    "### Testing rms"
   ]
  },
  {
   "cell_type": "code",
   "execution_count": 154,
   "metadata": {},
   "outputs": [
    {
     "data": {
      "text/plain": [
       "(2224,)"
      ]
     },
     "execution_count": 154,
     "metadata": {},
     "output_type": "execute_result"
    }
   ],
   "source": [
    "extract_rms(xb).shape"
   ]
  },
  {
   "cell_type": "code",
   "execution_count": 84,
   "metadata": {},
   "outputs": [
    {
     "name": "stdout",
     "output_type": "stream",
     "text": [
      "0.0007398458364183605\n"
     ]
    },
    {
     "data": {
      "text/plain": [
       "Text(0.5, 1.0, 'Signal vs RMS')"
      ]
     },
     "execution_count": 84,
     "metadata": {},
     "output_type": "execute_result"
    },
    {
     "data": {
      "image/png": "[encoded data removed]",
      "text/plain": [
       "<Figure size 432x288 with 1 Axes>"
      ]
     },
     "metadata": {
      "needs_background": "light"
     },
     "output_type": "display_data"
    }
   ],
   "source": [
    "def extract_rms_raw(xb):\n",
    "    rms=[]\n",
    "    for block in xb:\n",
    "        r = np.sqrt(np.sum(block**2)/xb.shape[0])\n",
    "        if r <= 0.00001: # Done to handle case when rms is 0 (for a block of all zeros\n",
    "            r = 0.00001\n",
    "        \n",
    "        rms.append(r)\n",
    "    rms=np.array(rms)\n",
    "    return rms#rms,20*np.log10(rms) # What is reference value to convert to dB? Is it 1?\n",
    "rms = extract_rms_raw(xb)\n",
    "print(rms.min())\n",
    "t_rms = np.arange(0,xb.shape[0])*hopSize\n",
    "plt.plot(x)\n",
    "plt.plot(t_rms,rms)\n",
    "\n",
    "plt.xlabel('Sample Number')\n",
    "plt.ylabel('Amplitude')\n",
    "plt.legend(['Signal','RMS'])\n",
    "plt.title('Signal vs RMS')"
   ]
  },
  {
   "cell_type": "markdown",
   "metadata": {},
   "source": [
    "## ZCR"
   ]
  },
  {
   "cell_type": "code",
   "execution_count": 159,
   "metadata": {},
   "outputs": [],
   "source": [
    "def extract_zerocrossingrate(xb):\n",
    "    zcr= np.zeros(xb.shape[0])\n",
    "    for i in range(xb.shape[0]):\n",
    "        block = xb[i]\n",
    "        zero_crossings = np.sum(np.abs(np.diff(np.sign(block)))) / block.shape[0] #np.nonzero(np.diff(block > 0))[0].size\n",
    "        #zcr.append(zero_crossings)\n",
    "        zcr[i] = zero_crossings \n",
    "    #zcr = np.array(zcr)\n",
    "    return zcr"
   ]
  },
  {
   "cell_type": "markdown",
   "metadata": {},
   "source": [
    "### Testing ZCR"
   ]
  },
  {
   "cell_type": "code",
   "execution_count": 129,
   "metadata": {},
   "outputs": [
    {
     "data": {
      "text/plain": [
       "Text(0.5, 1.0, 'Signal vs Normalized ZCR')"
      ]
     },
     "execution_count": 129,
     "metadata": {},
     "output_type": "execute_result"
    },
    {
     "data": {
      "image/png": "[encoded data removed]",
      "text/plain": [
       "<Figure size 432x288 with 1 Axes>"
      ]
     },
     "metadata": {
      "needs_background": "light"
     },
     "output_type": "display_data"
    }
   ],
   "source": [
    "def extract_zerocrossingrate_test(xb):\n",
    "    zcr1=[]\n",
    "    zcr2=[]\n",
    "    for block in xb:\n",
    "        zero_crossings = np.sum(np.abs(np.diff(np.sign(block)))) / block.shape[0] #np.nonzero(np.diff(block > 0))[0].size\n",
    "        zcr1.append(zero_crossings)\n",
    "        zcr2.append(0.5 * np.mean(np.abs(np.diff(np.sign(block)))))\n",
    "    zcr1 = np.array(zcr1)\n",
    "    zcr2=np.array(zcr2)\n",
    "    return zcr1,zcr2\n",
    "\n",
    "zcr1,zcr2 = extract_zerocrossingrate_test(xb)\n",
    "zcr_plt = zcr1/max(zcr1)\n",
    "t_zcr = np.arange(0,xb.shape[0])*hopSize\n",
    "plt.plot(x)\n",
    "plt.plot(t_zcr,zcr_plt)\n",
    "\n",
    "plt.xlabel('Sample Number')\n",
    "plt.ylabel('Amplitude')\n",
    "plt.legend(['Signal','Normalized ZCR'])\n",
    "plt.title('Signal vs Normalized ZCR')"
   ]
  },
  {
   "cell_type": "code",
   "execution_count": 20,
   "metadata": {},
   "outputs": [
    {
     "data": {
      "text/plain": [
       "Text(0.5, 1.0, 'Signal vs Normalized ZCR')"
      ]
     },
     "execution_count": 20,
     "metadata": {},
     "output_type": "execute_result"
    },
    {
     "data": {
      "image/png": "[encoded data removed]",
      "text/plain": [
       "<Figure size 432x288 with 1 Axes>"
      ]
     },
     "metadata": {
      "needs_background": "light"
     },
     "output_type": "display_data"
    }
   ],
   "source": [
    "def extract_zerocrossingrate_test(xb):\n",
    "    zcr1=[]\n",
    "    zcr2=[]\n",
    "    for block in xb:\n",
    "        zero_crossings = np.sum(np.abs(np.diff(np.sign(block)))) / block.shape[0] #np.nonzero(np.diff(block > 0))[0].size\n",
    "        zcr1.append(zero_crossings)\n",
    "        zcr2.append(0.5 * np.mean(np.abs(np.diff(np.sign(block)))))\n",
    "    zcr1 = np.array(zcr1)\n",
    "    zcr2=np.array(zcr2)\n",
    "    return zcr1,zcr2\n",
    "\n",
    "zcr1,zcr2 = extract_zerocrossingrate_test(test_blocked)\n",
    "zcr_plt = zcr1/max(zcr1)\n",
    "t_zcr = np.arange(0,test_blocked.shape[0])*hopSize\n",
    "plt.plot(test_aud)\n",
    "plt.plot(t_zcr,zcr_plt)\n",
    "\n",
    "plt.xlabel('Sample Number')\n",
    "plt.ylabel('Amplitude')\n",
    "plt.legend(['Signal','Normalized ZCR'])\n",
    "plt.title('Signal vs Normalized ZCR')"
   ]
  },
  {
   "cell_type": "markdown",
   "metadata": {},
   "source": [
    "## Spectral Crest"
   ]
  },
  {
   "cell_type": "code",
   "execution_count": 22,
   "metadata": {},
   "outputs": [],
   "source": [
    "def extract_spectral_crest(xb):\n",
    "    crest = np.zeros(xb.shape[0])\n",
    "    stft,freqs = calc_stft(xb,44100)\n",
    "    for i in range(stft.shape[0]):\n",
    "        #crest.append((np.max(stft[i])/np.sum(stft[i])))\n",
    "        crest[i] = np.max(stft[i])/np.sum(stft[i])\n",
    "    #crest = np.array(crest)\n",
    "    return crest"
   ]
  },
  {
   "cell_type": "markdown",
   "metadata": {},
   "source": [
    "### Testing Spectral Crest"
   ]
  },
  {
   "cell_type": "code",
   "execution_count": 167,
   "metadata": {},
   "outputs": [
    {
     "data": {
      "text/plain": [
       "(2224,)"
      ]
     },
     "execution_count": 167,
     "metadata": {},
     "output_type": "execute_result"
    }
   ],
   "source": [
    "extract_spectral_crest(xb).shape"
   ]
  },
  {
   "cell_type": "code",
   "execution_count": 46,
   "metadata": {},
   "outputs": [
    {
     "data": {
      "text/plain": [
       "Text(0.5, 1.0, 'Signal vs Normalized spectral crest')"
      ]
     },
     "execution_count": 46,
     "metadata": {},
     "output_type": "execute_result"
    },
    {
     "data": {
      "image/png": "[encoded data removed]",
      "text/plain": [
       "<Figure size 432x288 with 1 Axes>"
      ]
     },
     "metadata": {
      "needs_background": "light"
     },
     "output_type": "display_data"
    }
   ],
   "source": [
    "crest = extract_spectral_crest(xb)\n",
    "crest=crest/max(crest)\n",
    "t_rms = np.arange(0,xb.shape[0])*hopSize\n",
    "plt.plot(x)\n",
    "plt.plot(t_rms,crest)\n",
    "\n",
    "plt.xlabel('Sample Number')\n",
    "plt.ylabel('Amplitude')\n",
    "plt.legend(['Signal','Normalized spectral crest'])\n",
    "plt.title('Signal vs Normalized spectral crest')"
   ]
  },
  {
   "cell_type": "markdown",
   "metadata": {},
   "source": [
    "## Spectral Flux"
   ]
  },
  {
   "cell_type": "code",
   "execution_count": 159,
   "metadata": {},
   "outputs": [
    {
     "data": {
      "text/plain": [
       "(2224, 513)"
      ]
     },
     "execution_count": 159,
     "metadata": {},
     "output_type": "execute_result"
    }
   ],
   "source": [
    "stft.shape"
   ]
  },
  {
   "cell_type": "code",
   "execution_count": 198,
   "metadata": {},
   "outputs": [],
   "source": [
    "def extract_spectral_flux(xb):\n",
    "    num_blocks=xb.shape[0] \n",
    "    blockSize = xb.shape[1]\n",
    "    spectral_flux = np.zeros(num_blocks)\n",
    "    stft,freqs = calc_stft(xb,44100)\n",
    "    fft_len= stft.shape[1]\n",
    "    n = 0\n",
    "    k = 0\n",
    "    for n in range(1,num_blocks):\n",
    "        sum_flux = 0\n",
    "        for k in range(fft_len):\n",
    "            f = (abs(stft[n, k]) - abs(stft[n-1, k]))**2\n",
    "            sum_flux += f\n",
    "        flux = np.sqrt(sum_flux)/((blockSize/2)+1)\n",
    "        spectral_flux[n] = flux #first flux value will be 0\n",
    "    return spectral_flux"
   ]
  },
  {
   "cell_type": "code",
   "execution_count": 197,
   "metadata": {},
   "outputs": [
    {
     "data": {
      "text/plain": [
       "(2224, 1024)"
      ]
     },
     "execution_count": 197,
     "metadata": {},
     "output_type": "execute_result"
    }
   ],
   "source": [
    "xb.shape"
   ]
  },
  {
   "cell_type": "code",
   "execution_count": 190,
   "metadata": {},
   "outputs": [],
   "source": [
    "# ########### BAD, DONT USE\n",
    "# def extract_spectral_flux(xb):\n",
    "#     num_blocks=xb.shape[0] \n",
    "#     flux = np.zeros(xb.shape[0])\n",
    "#     stft,freqs = calc_stft(xb,44100)\n",
    "#     for i in range(int(stft.shape[0])):\n",
    "#         dff=np.diff(stft[i].T)\n",
    "#         dff_sq=dff**2\n",
    "#         flx = np.sqrt(np.sum(dff_sq))\n",
    "#         #flux.append(flx/(xb.shape[0]+1))\n",
    "#         flux[i] = flx/(xb.shape[1]+1)\n",
    "#     #flux = np.array(flux)\n",
    "#     return(flux)"
   ]
  },
  {
   "cell_type": "code",
   "execution_count": 201,
   "metadata": {},
   "outputs": [
    {
     "data": {
      "text/plain": [
       "Text(0.5, 1.0, 'Signal vs Normalized spectral flux')"
      ]
     },
     "execution_count": 201,
     "metadata": {},
     "output_type": "execute_result"
    },
    {
     "data": {
      "image/png": "[encoded data removed]",
      "text/plain": [
       "<Figure size 432x288 with 1 Axes>"
      ]
     },
     "metadata": {
      "needs_background": "light"
     },
     "output_type": "display_data"
    }
   ],
   "source": [
    "\n",
    "flux = pyACA.FeatureSpectralFlux(stft.T,44100)\n",
    "#flux=flux/max(flux)\n",
    "t_rms = np.arange(0,xb.shape[0])*hopSize\n",
    "plt.plot(x)\n",
    "plt.plot(t_rms,flux)\n",
    "\n",
    "plt.xlabel('Sample Number')\n",
    "plt.ylabel('Amplitude')\n",
    "plt.legend(['Signal','Normalized spectral flux'])\n",
    "plt.title('Signal vs Normalized spectral flux')"
   ]
  },
  {
   "cell_type": "code",
   "execution_count": 200,
   "metadata": {},
   "outputs": [
    {
     "data": {
      "text/plain": [
       "Text(0.5, 1.0, 'Signal vs Normalized spectral flux')"
      ]
     },
     "execution_count": 200,
     "metadata": {},
     "output_type": "execute_result"
    },
    {
     "data": {
      "image/png": "[encoded data removed]",
      "text/plain": [
       "<Figure size 432x288 with 1 Axes>"
      ]
     },
     "metadata": {
      "needs_background": "light"
     },
     "output_type": "display_data"
    }
   ],
   "source": [
    "flux = extract_spectral_flux(xb)\n",
    "#flux=flux/max(flux)\n",
    "t_rms = np.arange(0,xb.shape[0])*hopSize\n",
    "plt.plot(x)\n",
    "plt.plot(t_rms,flux)\n",
    "\n",
    "plt.xlabel('Sample Number')\n",
    "plt.ylabel('Amplitude')\n",
    "plt.legend(['Signal','Normalized spectral flux'])\n",
    "plt.title('Signal vs Normalized spectral flux')"
   ]
  },
  {
   "cell_type": "code",
   "execution_count": null,
   "metadata": {},
   "outputs": [],
   "source": []
  },
  {
   "cell_type": "code",
   "execution_count": 129,
   "metadata": {},
   "outputs": [
    {
     "data": {
      "text/plain": [
       "(173, 1024)"
      ]
     },
     "execution_count": 129,
     "metadata": {},
     "output_type": "execute_result"
    }
   ],
   "source": []
  },
  {
   "cell_type": "markdown",
   "metadata": {},
   "source": [
    "## Q2:\n",
    "### Implement a function: [features] = extract_features(x, blockSize, hopSize, fs) This function serves as a wrapper for feature extraction. It will take a single-channel audio vector x as input, blocks the audio with the given block size and hop size using block_audio(), calls each of the feature extractor functions implemented above and returns a 5 X NumOfBlocks dimensional feature matrix."
   ]
  },
  {
   "cell_type": "code",
   "execution_count": 178,
   "metadata": {},
   "outputs": [],
   "source": [
    "def extract_features(x, blockSize, hopSize, fs):\n",
    "    xb,ts = block_audio(x,blockSize,hopSize,fs)\n",
    "    features=np.zeros((5,xb.shape[0]))\n",
    "    features[0] = extract_spectral_centroid(xb,fs)\n",
    "    features[1] = extract_rms(xb)\n",
    "    features[2] = extract_zerocrossingrate(xb)\n",
    "    features[3] = extract_spectral_crest(xb)\n",
    "    features[4] = extract_spectral_flux(xb)\n",
    "    return features"
   ]
  },
  {
   "cell_type": "code",
   "execution_count": 180,
   "metadata": {},
   "outputs": [
    {
     "data": {
      "text/plain": [
       "(5, 2224)"
      ]
     },
     "execution_count": 180,
     "metadata": {},
     "output_type": "execute_result"
    }
   ],
   "source": [
    "extract_features(x,blockSize,hopSize,fs).shape"
   ]
  },
  {
   "cell_type": "code",
   "execution_count": 183,
   "metadata": {},
   "outputs": [],
   "source": [
    "features = extract_features(x,blockSize,hopSize,fs)"
   ]
  },
  {
   "cell_type": "markdown",
   "metadata": {},
   "source": [
    "## Q3:\n",
    "### Implement a function: [aggFeatures] = aggregate_feature_per_file(features). This function aggregates the feature matrix returned by extract_features(), aggregates the features across blocks using mean and standard deviation and returns a  10x1 aggregated feature matrix"
   ]
  },
  {
   "cell_type": "code",
   "execution_count": 193,
   "metadata": {},
   "outputs": [],
   "source": [
    "def aggregate_feature_per_file(features):\n",
    "    agg_features = np.zeros((2*features.shape[0],1))\n",
    "    agg_features[0]= np.mean(features[0])\n",
    "    agg_features[1]= np.std(features[0])\n",
    "    agg_features[2]= np.mean(features[1])\n",
    "    agg_features[3]= np.std(features[1])\n",
    "    agg_features[4]= np.mean(features[2])\n",
    "    agg_features[5]= np.std(features[2])\n",
    "    agg_features[6]= np.mean(features[3])\n",
    "    agg_features[7]= np.std(features[3])\n",
    "    agg_features[8]= np.mean(features[4])\n",
    "    agg_features[9]= np.std(features[4])\n",
    "    return agg_features"
   ]
  },
  {
   "cell_type": "code",
   "execution_count": 195,
   "metadata": {},
   "outputs": [],
   "source": [
    "featureData=aggregate_feature_per_file(features)"
   ]
  },
  {
   "cell_type": "markdown",
   "metadata": {},
   "source": [
    "## Q4:\n",
    "### Implement a  function: [featureData] = get_feature_data(path, blockSize, hopSize) This function loops over all files contained within a folder that is pointed to by the path argument. The function will then successively call the extract_features() and aggregate_feature_per_file() functions and return a 10xN feature matrix of which contains the aggregated features for N audio files contained in the directory."
   ]
  },
  {
   "cell_type": "code",
   "execution_count": 208,
   "metadata": {},
   "outputs": [],
   "source": [
    "path='resources/music_speech/music_wav/'"
   ]
  },
  {
   "cell_type": "code",
   "execution_count": 245,
   "metadata": {},
   "outputs": [],
   "source": [
    "def get_feature_data(path, blockSize, hopSize):\n",
    "    N=0\n",
    "    i=0\n",
    "    for file_name in os.listdir(path):\n",
    "        if file_name.endswith(\".wav\"):\n",
    "            N+=1\n",
    "    featureData=np.zeros((10,N))\n",
    "    for file_name in os.listdir(path):\n",
    "        if file_name.endswith(\".wav\"):\n",
    "            #print(file_name)\n",
    "            fs,x = ToolReadAudio(path+file_name)\n",
    "            features = extract_features(x,blockSize,hopSize,fs)\n",
    "            aggFeatures = aggregate_feature_per_file(features)\n",
    "            for j in range(10):\n",
    "                featureData[j][i] = aggFeatures[j]\n",
    "            i+=1\n",
    "    return featureData\n"
   ]
  },
  {
   "cell_type": "code",
   "execution_count": 246,
   "metadata": {},
   "outputs": [],
   "source": [
    "featureData = get_feature_data(path, blockSize, hopSize)"
   ]
  },
  {
   "cell_type": "code",
   "execution_count": 247,
   "metadata": {},
   "outputs": [
    {
     "data": {
      "text/plain": [
       "array([[ 1.46042945e+03,  1.10109614e+03,  1.51342477e+03,\n",
       "         2.02543379e+03,  1.55959454e+03,  1.12495382e+03,\n",
       "         2.07627082e+03,  1.90005670e+03,  1.06971479e+03,\n",
       "         2.26449196e+03,  2.20108541e+03,  1.23613045e+03,\n",
       "         2.36225573e+03,  1.76201724e+03,  2.16335266e+03,\n",
       "         2.43245940e+03,  1.09006654e+03,  2.38672940e+03,\n",
       "         2.30350640e+03,  1.21007957e+03,  1.67500846e+03,\n",
       "         1.68356098e+03,  1.48551610e+03,  2.28859324e+03,\n",
       "         2.05071459e+03,  2.76194188e+03,  1.01568436e+03,\n",
       "         1.44900431e+03,  2.15271585e+03,  1.93484997e+03,\n",
       "         2.40243610e+03,  1.41456105e+03,  2.46659923e+03,\n",
       "         1.73790529e+03,  1.59049932e+03,  6.16894658e+02,\n",
       "         2.04761236e+03,  1.58741170e+03,  2.48097746e+03,\n",
       "         8.68837540e+02,  2.07443087e+03,  1.84334265e+03,\n",
       "         1.41483045e+03,  2.45539551e+03,  1.18633983e+03,\n",
       "         9.65370578e+02,  1.87267698e+03,  1.54848068e+03,\n",
       "         2.62812205e+03,  2.40717181e+03,  1.66949638e+03,\n",
       "         1.88889832e+03,  7.59239497e+02,  1.66908051e+03,\n",
       "         1.88464402e+03,  1.26610690e+03,  1.13304064e+03,\n",
       "         1.32028173e+03,  7.68258900e+02,  1.58127981e+03,\n",
       "         1.59979786e+03,  1.56960137e+03,  1.33188208e+03,\n",
       "         2.28689047e+03],\n",
       "       [ 8.14376141e+02,  2.19217065e+02,  8.64378356e+02,\n",
       "         6.48481136e+02,  4.31986394e+02,  7.37290375e+02,\n",
       "         6.99567890e+02,  7.89231731e+02,  4.21497730e+02,\n",
       "         7.18455293e+02,  3.48867882e+02,  4.90791156e+02,\n",
       "         4.63930530e+02,  6.94564689e+02,  8.20818569e+02,\n",
       "         5.38880896e+02,  3.61309946e+02,  6.87433297e+02,\n",
       "         5.91903335e+02,  4.16333013e+02,  1.77256562e+02,\n",
       "         3.80161181e+02,  5.02324755e+02,  4.80141956e+02,\n",
       "         3.28085169e+02,  2.84516138e+02,  5.23636721e+02,\n",
       "         3.70846264e+02,  4.83674384e+02,  4.14818402e+02,\n",
       "         9.62362549e+02,  5.17931568e+02,  7.60917612e+02,\n",
       "         2.34008955e+02,  4.87725574e+02,  1.42340269e+02,\n",
       "         7.60485091e+02,  4.02840695e+02,  6.35569155e+02,\n",
       "         2.49023487e+02,  1.88468963e+02,  6.21589627e+02,\n",
       "         4.26201331e+02,  8.54507077e+02,  2.17235567e+02,\n",
       "         1.66645924e+02,  9.60048880e+02,  3.59184032e+02,\n",
       "         1.67413614e+02,  4.89449660e+02,  7.31807889e+02,\n",
       "         4.87605795e+02,  1.19026076e+02,  4.47207472e+02,\n",
       "         5.19118893e+02,  2.92297325e+02,  3.81275566e+02,\n",
       "         3.64342448e+02,  4.47681732e+02,  3.86987776e+02,\n",
       "         1.61938476e+02,  3.06123950e+02,  5.68449403e+02,\n",
       "         4.96742299e+02],\n",
       "       [-2.11148010e+01, -3.07210385e+01, -2.66176522e+01,\n",
       "        -2.62307720e+01, -2.20909314e+01, -2.17922592e+01,\n",
       "        -2.54199109e+01, -2.64629256e+01, -2.86260379e+01,\n",
       "        -1.99568412e+01, -2.85741968e+01, -3.02528813e+01,\n",
       "        -2.53001853e+01, -3.32805461e+01, -1.85686774e+01,\n",
       "        -3.56647825e+01, -2.51040992e+01, -2.24192853e+01,\n",
       "        -1.99233140e+01, -3.00804106e+01, -2.45187329e+01,\n",
       "        -2.29678361e+01, -2.41219530e+01, -2.82746153e+01,\n",
       "        -2.61803805e+01, -2.67182137e+01, -2.94990226e+01,\n",
       "        -1.98246509e+01, -2.37329238e+01, -2.19541936e+01,\n",
       "        -2.31908348e+01, -2.93023348e+01, -2.31920463e+01,\n",
       "        -2.37660920e+01, -1.85253455e+01, -2.99868888e+01,\n",
       "        -2.45239013e+01, -2.32629510e+01, -2.69074892e+01,\n",
       "        -2.32359495e+01, -2.07611128e+01, -2.25201506e+01,\n",
       "        -1.99976630e+01, -1.74031233e+01, -2.41592140e+01,\n",
       "        -2.03252151e+01, -2.33720922e+01, -3.46329086e+01,\n",
       "        -2.05994226e+01, -2.98205992e+01, -2.45828588e+01,\n",
       "        -2.06577353e+01, -3.34201688e+01, -2.68020145e+01,\n",
       "        -2.65901829e+01, -2.31273791e+01, -2.67944680e+01,\n",
       "        -2.04872915e+01, -2.63659774e+01, -2.33822074e+01,\n",
       "        -2.21613611e+01, -2.59252395e+01, -2.64642077e+01,\n",
       "        -1.61172566e+01],\n",
       "       [ 2.43590813e+00,  4.04870177e+00,  4.85373867e+00,\n",
       "         1.56833958e+00,  2.08330087e+00,  3.99679150e+00,\n",
       "         4.86648463e+00,  4.23013210e+00,  3.15026931e+00,\n",
       "         3.98217602e+00,  5.65852666e+00,  4.98805900e+00,\n",
       "         1.45143371e+00,  2.77239752e+00,  4.27970422e+00,\n",
       "         3.49458654e+00,  4.65583267e+00,  2.68234445e+00,\n",
       "         2.89850346e+00,  6.20236813e+00,  3.55379289e+00,\n",
       "         4.36478638e+00,  4.06477227e+00,  2.13232284e+00,\n",
       "         5.21264169e+00,  3.87590495e+00,  5.21770277e+00,\n",
       "         6.20953457e+00,  3.21241570e+00,  1.93042183e+00,\n",
       "         4.84348697e+00,  2.52506529e+00,  2.38872005e+00,\n",
       "         3.71558122e+00,  2.74835760e+00,  3.46860213e+00,\n",
       "         2.74764300e+00,  3.75043347e+00,  3.38176159e+00,\n",
       "         3.03146362e+00,  5.66603546e+00,  3.57920021e+00,\n",
       "         4.49309300e+00,  2.30589268e+00,  3.37183071e+00,\n",
       "         3.92141009e+00,  3.69896801e+00,  2.51820929e+00,\n",
       "         1.60183859e+00,  1.90140993e+00,  5.69414302e+00,\n",
       "         6.83857744e+00,  3.83390455e+00,  3.58796485e+00,\n",
       "         3.07930358e+00,  4.58092009e+00,  5.22485980e+00,\n",
       "         2.41470252e+00,  5.01084400e+00,  5.09929782e+00,\n",
       "         2.85003648e+00,  2.92616830e+00,  5.81998235e+00,\n",
       "         3.42425994e+00],\n",
       "       [ 1.07908645e-01,  1.05769580e-01,  1.62447997e-01,\n",
       "         1.88048750e-01,  1.87793271e-01,  7.22777187e-02,\n",
       "         2.27006942e-01,  1.40501040e-01,  1.24254729e-01,\n",
       "         2.34239702e-01,  2.56036245e-01,  9.59820349e-02,\n",
       "         3.01077545e-01,  1.47145747e-01,  2.13127963e-01,\n",
       "         1.13771043e-01,  1.24861679e-01,  2.47319744e-01,\n",
       "         2.14158947e-01,  8.68664437e-02,  1.76402561e-01,\n",
       "         2.01812083e-01,  1.20681054e-01,  1.95360119e-01,\n",
       "         2.61276576e-01,  3.83284908e-01,  1.11084740e-01,\n",
       "         1.28092952e-01,  1.76004983e-01,  1.91699521e-01,\n",
       "         2.30146756e-01,  1.60214451e-01,  2.74542558e-01,\n",
       "         1.84877189e-01,  1.29276618e-01,  6.10003870e-02,\n",
       "         1.97322314e-01,  1.18699963e-01,  1.44045992e-01,\n",
       "         8.27719863e-02,  3.24069091e-01,  1.33176821e-01,\n",
       "         1.30021890e-01,  1.59740531e-01,  1.66948348e-01,\n",
       "         1.22113396e-01,  1.96019979e-01,  1.32445155e-01,\n",
       "         4.29903674e-01,  2.24561000e-01,  1.35435311e-01,\n",
       "         2.30384094e-01,  7.96004257e-02,  1.67005037e-01,\n",
       "         1.89575573e-01,  1.45591712e-01,  1.42914480e-01,\n",
       "         1.42448118e-01,  7.23215581e-02,  1.63613523e-01,\n",
       "         1.85359423e-01,  1.96749377e-01,  1.45514615e-01,\n",
       "         2.65067180e-01],\n",
       "       [ 5.47775681e-02,  4.37184699e-02,  1.32543975e-01,\n",
       "         8.38892772e-02,  1.02276039e-01,  8.63547565e-02,\n",
       "         1.44563504e-01,  1.11674738e-01,  6.37279009e-02,\n",
       "         1.08063459e-01,  8.36875808e-02,  6.09499248e-02,\n",
       "         5.31051687e-02,  9.51188811e-02,  1.32762776e-01,\n",
       "         7.75881768e-02,  7.02310573e-02,  8.96115250e-02,\n",
       "         6.49360280e-02,  5.08968507e-02,  4.96618266e-02,\n",
       "         1.17782082e-01,  5.67461589e-02,  8.01963193e-02,\n",
       "         9.57237858e-02,  7.30594091e-02,  8.23030408e-02,\n",
       "         8.65251675e-02,  7.23312226e-02,  5.37633920e-02,\n",
       "         1.57973135e-01,  6.37545868e-02,  1.23284923e-01,\n",
       "         6.90429331e-02,  4.47497048e-02,  1.54187879e-02,\n",
       "         1.27577710e-01,  4.22045894e-02,  7.55619938e-02,\n",
       "         3.94800939e-02,  5.92034717e-02,  7.51383771e-02,\n",
       "         7.22347295e-02,  1.01363049e-01,  4.45750404e-02,\n",
       "         3.11261073e-02,  1.48917838e-01,  4.64157677e-02,\n",
       "         3.96470000e-02,  7.31757573e-02,  1.01408765e-01,\n",
       "         7.47852695e-02,  3.11513335e-02,  6.72843744e-02,\n",
       "         7.33382674e-02,  4.94268651e-02,  5.60319797e-02,\n",
       "         5.42667003e-02,  5.92288888e-02,  1.03900341e-01,\n",
       "         5.62693161e-02,  4.13376674e-02,  5.59817345e-02,\n",
       "         1.07595034e-01],\n",
       "       [ 8.29920669e-02,  9.88029640e-02,  8.16207611e-02,\n",
       "         5.05076607e-02,  5.56215329e-02,  1.69620248e-01,\n",
       "         7.50167181e-02,  8.37080507e-02,  8.89173514e-02,\n",
       "         4.94275211e-02,  5.42258821e-02,  1.09452729e-01,\n",
       "         3.42191865e-02,  1.07172934e-01,  6.01644559e-02,\n",
       "         1.40904700e-01,  8.91070087e-02,  4.97924469e-02,\n",
       "         4.83240894e-02,  1.38957011e-01,  6.55499938e-02,\n",
       "         9.69965015e-02,  8.39127064e-02,  6.53268600e-02,\n",
       "         6.67676504e-02,  4.10187471e-02,  1.03188661e-01,\n",
       "         1.00420025e-01,  6.82012999e-02,  5.02533631e-02,\n",
       "         6.68569597e-02,  6.87568410e-02,  4.28934613e-02,\n",
       "         8.34441277e-02,  8.67242889e-02,  1.38424759e-01,\n",
       "         7.11922279e-02,  6.33408517e-02,  8.52315711e-02,\n",
       "         8.94719193e-02,  6.16535814e-02,  8.82602891e-02,\n",
       "         9.72407327e-02,  8.98771979e-02,  8.15698600e-02,\n",
       "         1.03429853e-01,  6.35427889e-02,  8.50341610e-02,\n",
       "         2.84330038e-02,  5.21512883e-02,  8.98909351e-02,\n",
       "         7.54768600e-02,  1.28784486e-01,  7.11205999e-02,\n",
       "         5.57947280e-02,  8.15890588e-02,  7.51126456e-02,\n",
       "         6.55565798e-02,  1.40147642e-01,  1.11441770e-01,\n",
       "         7.11822494e-02,  4.31114786e-02,  6.59949166e-02,\n",
       "         9.05312518e-02],\n",
       "       [ 3.58019912e-02,  3.01813137e-02,  4.99692833e-02,\n",
       "         1.71347055e-02,  1.99381129e-02,  7.04867485e-02,\n",
       "         4.28285784e-02,  3.22725904e-02,  3.92092026e-02,\n",
       "         2.46824067e-02,  2.51801217e-02,  5.20932841e-02,\n",
       "         8.64828696e-03,  9.41406279e-02,  2.90248303e-02,\n",
       "         5.53333455e-02,  4.07916218e-02,  2.02102863e-02,\n",
       "         1.67406905e-02,  1.00687102e-01,  2.33180269e-02,\n",
       "         4.82549347e-02,  2.39321615e-02,  2.59046924e-02,\n",
       "         3.49940064e-02,  1.20719699e-02,  5.36224282e-02,\n",
       "         5.20542525e-02,  2.34488807e-02,  1.67733018e-02,\n",
       "         3.41651846e-02,  2.23198775e-02,  1.71452162e-02,\n",
       "         3.14082546e-02,  3.49070572e-02,  4.18238850e-02,\n",
       "         3.78084766e-02,  2.19636910e-02,  2.81169805e-02,\n",
       "         3.77800246e-02,  2.84577488e-02,  3.86926581e-02,\n",
       "         3.53790005e-02,  3.82554037e-02,  3.46144357e-02,\n",
       "         5.19531241e-02,  2.53580254e-02,  3.51921499e-02,\n",
       "         7.46743359e-03,  1.67293182e-02,  3.71643355e-02,\n",
       "         4.34137404e-02,  5.82433923e-02,  2.91317439e-02,\n",
       "         1.95155537e-02,  3.31630311e-02,  2.96004067e-02,\n",
       "         2.41778956e-02,  5.32509439e-02,  5.54755158e-02,\n",
       "         2.34281671e-02,  1.25981839e-02,  3.31537131e-02,\n",
       "         4.11126420e-02],\n",
       "       [ 2.19582495e-02,  8.62013457e-03,  1.34774127e-02,\n",
       "         1.18995472e-02,  1.92944912e-02,  2.23833042e-02,\n",
       "         1.60059114e-02,  1.31057502e-02,  1.08508378e-02,\n",
       "         2.66308395e-02,  1.12416121e-02,  9.53353738e-03,\n",
       "         1.37530528e-02,  5.98613741e-03,  3.11774644e-02,\n",
       "         5.21217816e-03,  1.64634692e-02,  1.75217596e-02,\n",
       "         2.57207500e-02,  1.06294193e-02,  1.64251200e-02,\n",
       "         1.87795279e-02,  1.85369780e-02,  1.01540663e-02,\n",
       "         1.44512099e-02,  1.35523085e-02,  1.06628220e-02,\n",
       "         3.27150693e-02,  1.70394648e-02,  2.04574233e-02,\n",
       "         1.91654188e-02,  8.76829618e-03,  1.60259003e-02,\n",
       "         1.89687990e-02,  3.22309965e-02,  9.53403474e-03,\n",
       "         1.52745389e-02,  1.71173642e-02,  1.16680463e-02,\n",
       "         1.73874149e-02,  2.79044227e-02,  1.90727753e-02,\n",
       "         3.20504059e-02,  3.29225578e-02,  1.79646228e-02,\n",
       "         2.94554803e-02,  1.81792124e-02,  4.61167753e-03,\n",
       "         2.01653409e-02,  8.21814521e-03,  1.76438000e-02,\n",
       "         3.04244982e-02,  6.49742488e-03,  1.26981251e-02,\n",
       "         1.21357056e-02,  1.93086746e-02,  1.42863535e-02,\n",
       "         2.42400962e-02,  1.55016366e-02,  1.70284004e-02,\n",
       "         2.14062085e-02,  1.28951983e-02,  1.39436488e-02,\n",
       "         4.32470080e-02],\n",
       "       [ 6.82383235e-03,  4.79072265e-03,  6.13252233e-03,\n",
       "         2.26309748e-03,  5.01861077e-03,  8.72193528e-03,\n",
       "         1.08981793e-02,  6.81819021e-03,  4.20791928e-03,\n",
       "         1.24178085e-02,  6.97708739e-03,  5.39976090e-03,\n",
       "         2.45924164e-03,  1.66927851e-03,  1.31264501e-02,\n",
       "         2.93255925e-03,  9.00970650e-03,  4.97033536e-03,\n",
       "         9.44599239e-03,  7.85494277e-03,  8.66857792e-03,\n",
       "         1.08458207e-02,  9.37027597e-03,  2.95288464e-03,\n",
       "         1.01583999e-02,  6.56064760e-03,  7.58822185e-03,\n",
       "         1.88572543e-02,  6.36195211e-03,  4.19322391e-03,\n",
       "         9.73901816e-03,  2.96454408e-03,  6.48198393e-03,\n",
       "         9.77905968e-03,  1.08765751e-02,  4.27425878e-03,\n",
       "         5.30556519e-03,  7.74672743e-03,  4.37361951e-03,\n",
       "         7.79290341e-03,  1.83617642e-02,  8.15394762e-03,\n",
       "         1.78488702e-02,  9.53410926e-03,  7.81004396e-03,\n",
       "         1.38451344e-02,  8.40809003e-03,  1.31398087e-03,\n",
       "         4.24192547e-03,  1.93438644e-03,  1.15104946e-02,\n",
       "         1.74056333e-02,  3.28665618e-03,  5.16805992e-03,\n",
       "         4.65819853e-03,  1.03179202e-02,  8.35900858e-03,\n",
       "         7.92683701e-03,  8.01927771e-03,  1.18325124e-02,\n",
       "         8.22772407e-03,  4.71866350e-03,  8.66860185e-03,\n",
       "         1.46958762e-02]])"
      ]
     },
     "execution_count": 247,
     "metadata": {},
     "output_type": "execute_result"
    }
   ],
   "source": [
    "featureData"
   ]
  },
  {
   "cell_type": "markdown",
   "metadata": {},
   "source": [
    "# Section B:\n",
    "## Q1: \n",
    "### Implement a  function: [normFeatureMatrix] = normalize_zscore(featureData) This function applies the z-score normalization scheme to the input feature matrix. The z-score normalization normalizes each feature to a zero mean and unit standard deviation across the entire dataset. Be careful with the dimensions."
   ]
  },
  {
   "cell_type": "code",
   "execution_count": 258,
   "metadata": {},
   "outputs": [],
   "source": [
    "def normalize_zscore(featureData):\n",
    "    normalized_matrix = np.zeros((featureData.shape[0],featureData.shape[1]))\n",
    "    for i in range(featureData.shape[0]):\n",
    "        std = np.std(featureData[i])\n",
    "        mean = np.mean(featureData[i])\n",
    "        normalized_matrix[i] = (featureData[i]-mean)/std\n",
    "    return normalized_matrix"
   ]
  },
  {
   "cell_type": "code",
   "execution_count": 259,
   "metadata": {},
   "outputs": [
    {
     "data": {
      "text/plain": [
       "array([[-5.01611832e-01, -1.19604822e+00, -3.99194713e-01,\n",
       "         5.90298007e-01, -3.09968447e-01, -1.14994161e+00,\n",
       "         6.88544073e-01,  3.47998139e-01, -1.25669485e+00,\n",
       "         1.05229439e+00,  9.29756859e-01, -9.35085107e-01,\n",
       "         1.24122962e+00,  8.12273637e-02,  8.56835726e-01,\n",
       "         1.37690305e+00, -1.21736367e+00,  1.28852668e+00,\n",
       "         1.12769250e+00, -9.85430220e-01, -8.69231017e-02,\n",
       "        -7.03947681e-02, -4.53130139e-01,  1.09887179e+00,\n",
       "         6.39154893e-01,  2.01365066e+00, -1.36111237e+00,\n",
       "        -5.23691702e-01,  8.36279360e-01,  4.15238531e-01,\n",
       "         1.31888096e+00, -5.90255668e-01,  1.44288063e+00,\n",
       "         3.46293558e-02, -2.50242845e-01, -2.13180096e+00,\n",
       "         6.33159620e-01, -2.56209881e-01,  1.47066754e+00,\n",
       "        -1.64490397e+00,  6.84988230e-01,  2.38394321e-01,\n",
       "        -5.89735043e-01,  1.42122867e+00, -1.03130891e+00,\n",
       "        -1.45834722e+00,  2.95084946e-01, -3.31446751e-01,\n",
       "         1.75503461e+00,  1.32803304e+00, -9.75755769e-02,\n",
       "         3.26433794e-01, -1.85670974e+00, -9.83792733e-02,\n",
       "         3.18212073e-01, -8.77153554e-01, -1.13431328e+00,\n",
       "        -7.72456966e-01, -1.83927912e+00, -2.68060173e-01,\n",
       "        -2.32272771e-01, -2.90629573e-01, -7.50038476e-01,\n",
       "         1.09558106e+00],\n",
       "       [ 1.55487344e+00, -1.25191944e+00,  1.79068579e+00,\n",
       "         7.72506276e-01, -2.48491177e-01,  1.19133403e+00,\n",
       "         1.01343335e+00,  1.43629145e+00, -2.97956117e-01,\n",
       "         1.10250706e+00, -6.40481248e-01,  2.88343207e-02,\n",
       "        -9.78414138e-02,  9.89838068e-01,  1.58525618e+00,\n",
       "         2.55627368e-01, -5.81804000e-01,  9.56206152e-01,\n",
       "         5.05683210e-01, -3.22313116e-01, -1.44980677e+00,\n",
       "        -4.92900858e-01,  8.32272112e-02, -2.13877111e-02,\n",
       "        -7.38493313e-01, -9.43966522e-01,  1.83735258e-01,\n",
       "        -5.36830360e-01, -4.72864880e-03, -3.29456083e-01,\n",
       "         2.25278298e+00,  1.56829537e-01,  1.30276098e+00,\n",
       "        -1.18216032e+00,  1.43769198e-02, -1.61447334e+00,\n",
       "         1.30072120e+00, -3.85943405e-01,  7.11612882e-01,\n",
       "        -1.11135122e+00, -1.39692866e+00,  6.45684895e-01,\n",
       "        -2.75773756e-01,  1.74413246e+00, -1.26126426e+00,\n",
       "        -1.49984694e+00,  2.24187162e+00, -5.91829889e-01,\n",
       "        -1.49622649e+00,  2.25077730e-02,  1.16547841e+00,\n",
       "         1.38120355e-02, -1.72442396e+00, -1.76707991e-01,\n",
       "         1.62429007e-01, -9.07270149e-01, -4.87645376e-01,\n",
       "        -5.67502602e-01, -1.74471366e-01, -4.60706373e-01,\n",
       "        -1.52204745e+00, -8.42063260e-01,  3.95073573e-01,\n",
       "         5.69001394e-02],\n",
       "       [ 8.94065266e-01, -1.42511734e+00, -4.34458717e-01,\n",
       "        -3.41056299e-01,  6.58403313e-01,  7.30510153e-01,\n",
       "        -1.45294418e-01, -3.97103904e-01, -9.19332552e-01,\n",
       "         1.17362531e+00, -9.06816812e-01, -1.31209265e+00,\n",
       "        -1.16389708e-01, -2.04304559e+00,  1.50876228e+00,\n",
       "        -2.61865905e+00, -6.90497084e-02,  5.79130579e-01,\n",
       "         1.18171960e+00, -1.27045397e+00,  7.22721596e-02,\n",
       "         4.46696902e-01,  1.68064603e-01, -8.34490466e-01,\n",
       "        -3.28890541e-01, -4.58736745e-01, -1.13009257e+00,\n",
       "         1.20553932e+00,  2.61985864e-01,  6.91415194e-01,\n",
       "         3.92859502e-01, -1.08260728e+00,  3.92567014e-01,\n",
       "         2.53978232e-01,  1.51922367e+00, -1.24787551e+00,\n",
       "         7.10243711e-02,  3.75448879e-01, -5.04432514e-01,\n",
       "         3.81967713e-01,  9.79454307e-01,  5.54779206e-01,\n",
       "         1.16376992e+00,  1.79015579e+00,  1.59068893e-01,\n",
       "         1.08469076e+00,  3.49099513e-01, -2.36953926e+00,\n",
       "         1.01849030e+00, -1.20772910e+00,  5.67905867e-02,\n",
       "         1.00441220e+00, -2.07675395e+00, -4.78968308e-01,\n",
       "        -4.27826951e-01,  4.08179276e-01, -4.77146418e-01,\n",
       "         1.04556152e+00, -3.73698203e-01,  3.46657441e-01,\n",
       "         6.41399849e-01, -2.67293223e-01, -3.97413415e-01,\n",
       "         2.10059570e+00],\n",
       "       [-1.04666104e+00,  2.36115263e-01,  8.76421764e-01,\n",
       "        -1.73670368e+00, -1.32711617e+00,  1.94827109e-01,\n",
       "         8.86559591e-01,  3.80420470e-01, -4.78475774e-01,\n",
       "         1.83202316e-01,  1.51653029e+00,  9.83256843e-01,\n",
       "        -1.82968773e+00, -7.79025678e-01,  4.19848915e-01,\n",
       "        -2.04614338e-01,  7.19012213e-01, -8.50651666e-01,\n",
       "        -6.78724118e-01,  1.94908839e+00, -1.57523062e-01,\n",
       "         4.87521164e-01,  2.48897343e-01, -1.28812530e+00,\n",
       "         1.16188438e+00,  9.86769282e-02,  1.16590984e+00,\n",
       "         1.95478841e+00, -4.29046065e-01, -1.44871238e+00,\n",
       "         8.68267819e-01, -9.75747636e-01, -1.08419327e+00,\n",
       "        -2.88406112e-02, -7.98146439e-01, -2.25281696e-01,\n",
       "        -7.98714814e-01, -1.11999233e-03, -2.94352517e-01,\n",
       "        -5.72970889e-01,  1.52250261e+00, -1.37314707e-01,\n",
       "         5.89573089e-01, -1.15007213e+00, -3.02251297e-01,\n",
       "         1.34870595e-01, -4.20543505e-02, -9.81200731e-01,\n",
       "        -1.71005939e+00, -1.47178774e+00,  1.54485867e+00,\n",
       "         2.45511360e+00,  6.52708446e-02, -1.30343531e-01,\n",
       "        -5.34920166e-01,  6.59428592e-01,  1.17160236e+00,\n",
       "        -1.06352746e+00,  1.00137947e+00,  1.07173346e+00,\n",
       "        -7.17273559e-01, -6.56720186e-01,  1.64494817e+00,\n",
       "        -2.60550377e-01],\n",
       "       [-9.38526162e-01, -9.68732048e-01, -1.68372131e-01,\n",
       "         1.93137889e-01,  1.89530260e-01, -1.44167297e+00,\n",
       "         7.43269258e-01, -4.78286656e-01, -7.07701961e-01,\n",
       "         8.45403577e-01,  1.15319408e+00, -1.10694265e+00,\n",
       "         1.78922544e+00, -3.84456287e-01,  5.47283223e-01,\n",
       "        -8.55742822e-01, -6.99131174e-01,  1.03010777e+00,\n",
       "         5.61841820e-01, -1.23566456e+00,  2.86812492e-02,\n",
       "         3.87490885e-01, -7.58166070e-01,  2.96382248e-01,\n",
       "         1.22719317e+00,  2.95008140e+00, -8.93676292e-01,\n",
       "        -6.53502141e-01,  2.30670103e-02,  2.44690691e-01,\n",
       "         7.87606802e-01, -1.99912199e-01,  1.41452303e+00,\n",
       "         1.48352060e-01, -6.36787506e-01, -1.60092096e+00,\n",
       "         3.24090544e-01, -7.86141203e-01, -4.28228138e-01,\n",
       "        -1.29348268e+00,  2.11389069e+00, -5.81712463e-01,\n",
       "        -6.26263477e-01, -2.06604458e-01, -1.04822363e-01,\n",
       "        -7.37939867e-01,  3.05700176e-01, -5.92044370e-01,\n",
       "         3.60838826e+00,  7.08729948e-01, -5.49820171e-01,\n",
       "         7.90958268e-01, -1.33826851e+00, -1.04021853e-01,\n",
       "         2.14698274e-01, -4.06400917e-01, -4.44206305e-01,\n",
       "        -4.50791828e-01, -1.44105391e+00, -1.51913659e-01,\n",
       "         1.55161726e-01,  3.16000063e-01, -4.07489609e-01,\n",
       "         1.28072056e+00],\n",
       "       [-6.87664839e-01, -1.04669127e+00,  1.83697096e+00,\n",
       "         2.57427857e-01,  8.54342118e-01,  3.37468039e-01,\n",
       "         2.22717715e+00,  1.15946477e+00, -3.97098108e-01,\n",
       "         1.04222694e+00,  2.50879914e-01, -4.87283292e-01,\n",
       "        -7.41958198e-01,  6.21989643e-01,  1.84407419e+00,\n",
       "         5.28667331e-02, -1.85977366e-01,  4.43196908e-01,\n",
       "        -3.57877047e-01, -8.13649804e-01, -8.53744058e-01,\n",
       "         1.35773571e+00, -6.23755819e-01,  1.37538381e-01,\n",
       "         6.41627479e-01, -9.41567659e-02,  2.05931724e-01,\n",
       "         3.43000319e-01, -1.17796865e-01, -7.20589405e-01,\n",
       "         2.66251211e+00, -3.96231766e-01,  1.53638188e+00,\n",
       "        -2.24549043e-01, -1.01321290e+00, -1.96542203e+00,\n",
       "         1.67574441e+00, -1.09583841e+00, -1.29119805e-02,\n",
       "        -1.18428738e+00, -5.43980756e-01, -2.66644221e-02,\n",
       "        -1.20929451e-01,  8.24702493e-01, -1.01888326e+00,\n",
       "        -1.45549413e+00,  2.36853778e+00, -9.59125247e-01,\n",
       "        -1.17886889e+00, -9.03795953e-02,  8.26186638e-01,\n",
       "        -3.81278305e-02, -1.45467517e+00, -2.81639510e-01,\n",
       "        -8.51038097e-02, -8.61371929e-01, -6.46941181e-01,\n",
       "        -7.04249828e-01, -5.43155607e-01,  9.07074039e-01,\n",
       "        -6.39236211e-01, -1.12398247e+00, -6.48572358e-01,\n",
       "         1.02701981e+00],\n",
       "       [ 1.05422169e-01,  6.72740738e-01,  5.62176730e-02,\n",
       "        -1.06016677e+00, -8.76673412e-01,  3.21377053e+00,\n",
       "        -1.80745241e-01,  1.31112738e-01,  3.18030216e-01,\n",
       "        -1.09892380e+00, -9.26751442e-01,  1.05487021e+00,\n",
       "        -1.64462152e+00,  9.73067742e-01, -7.13666559e-01,\n",
       "         2.18341382e+00,  3.24835404e-01, -1.08582971e+00,\n",
       "        -1.13851657e+00,  2.11352784e+00, -5.20425425e-01,\n",
       "         6.07922170e-01,  1.38456090e-01, -5.28431801e-01,\n",
       "        -4.76734092e-01, -1.40064315e+00,  8.30106100e-01,\n",
       "         7.30763287e-01, -4.25292611e-01, -1.06929135e+00,\n",
       "        -4.73529540e-01, -4.05358968e-01, -1.33337560e+00,\n",
       "         1.21642786e-01,  2.39339861e-01,  2.09442985e+00,\n",
       "        -3.17973652e-01, -5.99692739e-01,  1.85778922e-01,\n",
       "         3.37928939e-01, -6.60234515e-01,  2.94453840e-01,\n",
       "         6.16685552e-01,  3.52470939e-01,  5.43912675e-02,\n",
       "         8.38760424e-01, -5.92446934e-01,  1.78695552e-01,\n",
       "        -1.85223839e+00, -1.00119096e+00,  3.52963852e-01,\n",
       "        -1.64234661e-01,  1.74852245e+00, -3.20543772e-01,\n",
       "        -8.70458913e-01,  5.50801488e-02, -1.77303219e-01,\n",
       "        -5.20189111e-01,  2.15624944e+00,  1.12623995e+00,\n",
       "        -3.18331695e-01, -1.32555282e+00, -5.04460933e-01,\n",
       "         3.75939369e-01],\n",
       "       [ 5.30256249e-02, -2.72309728e-01,  8.73055055e-01,\n",
       "        -1.02747188e+00, -8.65205399e-01,  2.06064441e+00,\n",
       "         4.59737664e-01, -1.51262713e-01,  2.50241406e-01,\n",
       "        -5.90596776e-01, -5.61788102e-01,  9.95996207e-01,\n",
       "        -1.51868170e+00,  3.42977531e+00, -3.39249156e-01,\n",
       "         1.18353704e+00,  3.41834797e-01, -8.49451492e-01,\n",
       "        -1.05027820e+00,  3.80869750e+00, -6.69569638e-01,\n",
       "         7.73825347e-01, -6.34022377e-01, -5.19848593e-01,\n",
       "         6.25794476e-03, -1.32051251e+00,  1.08450593e+00,\n",
       "         9.93736982e-01, -6.61995574e-01, -1.04839060e+00,\n",
       "        -4.17158149e-02, -7.27344401e-01, -1.02686350e+00,\n",
       "        -2.01292092e-01,  1.22516222e-03,  4.01584129e-01,\n",
       "         1.69164760e-01, -7.47961143e-01, -3.91797208e-01,\n",
       "         1.67517904e-01, -3.72072899e-01,  2.20342846e-01,\n",
       "         2.85421290e-02,  1.95033736e-01, -1.57123137e-02,\n",
       "         9.87883481e-01, -5.51490702e-01,  1.77268657e-02,\n",
       "        -1.58703170e+00, -1.05093646e+00,  1.31880666e-01,\n",
       "         4.93607938e-01,  1.35197600e+00, -3.33060801e-01,\n",
       "        -8.89663918e-01, -9.97223381e-02, -3.05933719e-01,\n",
       "        -6.19798829e-01,  1.06300372e+00,  1.19176612e+00,\n",
       "        -6.63194521e-01, -1.29005425e+00, -1.00261678e-01,\n",
       "         3.60416051e-01],\n",
       "       [ 5.68432240e-01, -1.14529961e+00, -5.21217997e-01,\n",
       "        -7.23948178e-01,  2.26182420e-01,  6.23044890e-01,\n",
       "        -1.96346855e-01, -5.68970621e-01, -8.58690358e-01,\n",
       "         1.16878441e+00, -8.08482181e-01, -1.02794213e+00,\n",
       "        -4.85802706e-01, -1.48372560e+00,  1.75295211e+00,\n",
       "        -1.58316684e+00, -1.37558077e-01, -1.58489829e-03,\n",
       "         1.05185264e+00, -8.87139050e-01, -1.42485327e-01,\n",
       "         1.60017970e-01,  1.28854232e-01, -9.48214210e-01,\n",
       "        -3.96100826e-01, -5.11595104e-01, -8.82847341e-01,\n",
       "         1.95050944e+00, -6.35519751e-02,  3.75600364e-01,\n",
       "         2.09598706e-01, -1.12626324e+00, -1.93778606e-01,\n",
       "         1.84336247e-01,  1.88831393e+00, -1.02787823e+00,\n",
       "        -2.90316381e-01, -5.35431606e-02, -7.53692293e-01,\n",
       "        -1.88460147e-02,  1.33241924e+00,  1.97695513e-01,\n",
       "         1.86511096e+00,  1.97716835e+00,  5.53158574e-02,\n",
       "         1.53170502e+00,  8.28871481e-02, -1.66032145e+00,\n",
       "         3.38072503e-01, -1.19694873e+00,  1.40953184e-02,\n",
       "         1.65620814e+00, -1.41803344e+00, -6.21343844e-01,\n",
       "        -6.93605637e-01,  2.28004758e-01, -4.17282204e-01,\n",
       "         8.61612603e-01, -2.61137993e-01, -6.49735702e-02,\n",
       "         4.97503907e-01, -5.96023123e-01, -4.61314206e-01,\n",
       "         3.30369307e+00],\n",
       "       [-2.55668168e-01, -7.57043032e-01, -4.26148624e-01,\n",
       "        -1.38036784e+00, -7.00844697e-01,  2.12413359e-01,\n",
       "         7.49085839e-01, -2.57059548e-01, -9.00765211e-01,\n",
       "         1.12383390e+00, -2.17874720e-01, -6.06851200e-01,\n",
       "        -1.33199773e+00, -1.52680653e+00,  1.29858841e+00,\n",
       "        -1.21527527e+00,  2.83379161e-01, -7.12749651e-01,\n",
       "         3.90969408e-01, -1.39126087e-03,  1.99255172e-01,\n",
       "         7.36173961e-01,  3.72297367e-01, -1.21026293e+00,\n",
       "         5.66652608e-01, -3.20570823e-01, -6.71659541e-02,\n",
       "         2.71183294e+00, -3.69570110e-01, -9.04389162e-01,\n",
       "         4.63231005e-01, -1.20738766e+00, -3.39969672e-01,\n",
       "         4.73105442e-01,  7.43758152e-01, -8.84405565e-01,\n",
       "        -6.30080326e-01, -2.80776976e-02, -8.59902719e-01,\n",
       "        -1.66904740e-02,  2.58964263e+00,  7.23448061e-02,\n",
       "         2.46316045e+00,  4.12699463e-01, -1.24635295e-02,\n",
       "         1.47581949e+00,  1.35017577e-01, -1.61442467e+00,\n",
       "        -8.92379119e-01, -1.46142960e+00,  9.00085809e-01,\n",
       "         2.35385605e+00, -1.12795323e+00, -6.63989801e-01,\n",
       "        -7.89724132e-01,  6.05991107e-01,  1.22913848e-01,\n",
       "         1.63382117e-02,  3.91345432e-02,  9.79497001e-01,\n",
       "         9.05384427e-02, -7.74813173e-01,  1.99261074e-01,\n",
       "         1.68561661e+00]])"
      ]
     },
     "execution_count": 259,
     "metadata": {},
     "output_type": "execute_result"
    }
   ],
   "source": [
    "normalize_zscore(featureData)"
   ]
  },
  {
   "cell_type": "markdown",
   "metadata": {},
   "source": [
    "# Section C\n",
    "## Q1\n",
    "Implement a function visualize_features(path_to_musicspeech) that extracts 2 separate feature matrices for the files in each of the folder (music and speech). You will call your get_feature_data() function for that with blockSize = 1024 and hopSize = 256. You will also normalize the feature matrices over the entire dataset. Note that this means you have to normalize both feature matrices with the same z-score. (hint: concatenate the two feature matrices appropriately before calling normalize_zscore())"
   ]
  },
  {
   "cell_type": "code",
   "execution_count": null,
   "metadata": {},
   "outputs": [],
   "source": [
    "# when passing location "
   ]
  },
  {
   "cell_type": "code",
   "execution_count": null,
   "metadata": {},
   "outputs": [],
   "source": []
  },
  {
   "cell_type": "markdown",
   "metadata": {},
   "source": [
    "# Q2\n",
    "Within the same function write code that generates plots to visualize the feature space of the following 5 pairs of features: [SC mean, SCR mean], [SF mean, ZCR mean], [RMS mean, RMS std], [ZCR std, SCR std], [SC std, SF std] Note that you want to plot the data points corresponding to music with a different color than the points that correspond to speech. Use red for music and blue for speech. This type of visualization is referred to as scatter plot. What can you infer from these scatter plots?"
   ]
  },
  {
   "cell_type": "markdown",
   "metadata": {},
   "source": []
  }
 ],
 "metadata": {
  "interpreter": {
   "hash": "aee8b7b246df8f9039afb4144a1f6fd8d2ca17a180786b69acc140d282b71a49"
  },
  "kernelspec": {
   "display_name": "Python 3.9.7 64-bit",
   "name": "python3"
  },
  "language_info": {
   "codemirror_mode": {
    "name": "ipython",
    "version": 3
   },
   "file_extension": ".py",
   "mimetype": "text/x-python",
   "name": "python",
   "nbconvert_exporter": "python",
   "pygments_lexer": "ipython3",
   "version": "3.9.7"
  },
  "orig_nbformat": 4
 },
 "nbformat": 4,
 "nbformat_minor": 2
}
